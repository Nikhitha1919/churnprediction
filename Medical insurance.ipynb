{
 "cells": [
  {
   "cell_type": "code",
   "execution_count": 85,
   "id": "ccfce0e1",
   "metadata": {
    "ExecuteTime": {
     "end_time": "2023-02-05T13:13:09.701317Z",
     "start_time": "2023-02-05T13:13:09.685321Z"
    }
   },
   "outputs": [],
   "source": [
    "import numpy as np\n",
    "import pandas as pd \n",
    "import seaborn as sns\n",
    "import matplotlib.pyplot as plt\n",
    "\n",
    "import warnings\n",
    "warnings.filterwarnings('ignore')\n",
    "\n",
    "from IPython.core.interactiveshell import InteractiveShell\n",
    "InteractiveShell.ast_node_interactivity = 'all'"
   ]
  },
  {
   "cell_type": "code",
   "execution_count": 2,
   "id": "4815a0ea",
   "metadata": {
    "ExecuteTime": {
     "end_time": "2023-02-05T10:32:01.938348Z",
     "start_time": "2023-02-05T10:32:01.913500Z"
    }
   },
   "outputs": [],
   "source": [
    "data=pd.read_csv(r\"C:\\Users\\Home\\Downloads\\insurance.csv\")"
   ]
  },
  {
   "cell_type": "code",
   "execution_count": 26,
   "id": "1f85e4f7",
   "metadata": {
    "ExecuteTime": {
     "end_time": "2023-02-05T11:30:05.457370Z",
     "start_time": "2023-02-05T11:30:05.433386Z"
    }
   },
   "outputs": [
    {
     "data": {
      "text/html": [
       "<div>\n",
       "<style scoped>\n",
       "    .dataframe tbody tr th:only-of-type {\n",
       "        vertical-align: middle;\n",
       "    }\n",
       "\n",
       "    .dataframe tbody tr th {\n",
       "        vertical-align: top;\n",
       "    }\n",
       "\n",
       "    .dataframe thead th {\n",
       "        text-align: right;\n",
       "    }\n",
       "</style>\n",
       "<table border=\"1\" class=\"dataframe\">\n",
       "  <thead>\n",
       "    <tr style=\"text-align: right;\">\n",
       "      <th></th>\n",
       "      <th>age</th>\n",
       "      <th>sex</th>\n",
       "      <th>bmi</th>\n",
       "      <th>children</th>\n",
       "      <th>smoker</th>\n",
       "      <th>region</th>\n",
       "      <th>charges</th>\n",
       "    </tr>\n",
       "  </thead>\n",
       "  <tbody>\n",
       "    <tr>\n",
       "      <th>0</th>\n",
       "      <td>19</td>\n",
       "      <td>female</td>\n",
       "      <td>27.900</td>\n",
       "      <td>0</td>\n",
       "      <td>yes</td>\n",
       "      <td>southwest</td>\n",
       "      <td>16884.92400</td>\n",
       "    </tr>\n",
       "    <tr>\n",
       "      <th>1</th>\n",
       "      <td>18</td>\n",
       "      <td>male</td>\n",
       "      <td>33.770</td>\n",
       "      <td>1</td>\n",
       "      <td>no</td>\n",
       "      <td>southeast</td>\n",
       "      <td>1725.55230</td>\n",
       "    </tr>\n",
       "    <tr>\n",
       "      <th>2</th>\n",
       "      <td>28</td>\n",
       "      <td>male</td>\n",
       "      <td>33.000</td>\n",
       "      <td>3</td>\n",
       "      <td>no</td>\n",
       "      <td>southeast</td>\n",
       "      <td>4449.46200</td>\n",
       "    </tr>\n",
       "    <tr>\n",
       "      <th>3</th>\n",
       "      <td>33</td>\n",
       "      <td>male</td>\n",
       "      <td>22.705</td>\n",
       "      <td>0</td>\n",
       "      <td>no</td>\n",
       "      <td>northwest</td>\n",
       "      <td>21984.47061</td>\n",
       "    </tr>\n",
       "    <tr>\n",
       "      <th>4</th>\n",
       "      <td>32</td>\n",
       "      <td>male</td>\n",
       "      <td>28.880</td>\n",
       "      <td>0</td>\n",
       "      <td>no</td>\n",
       "      <td>northwest</td>\n",
       "      <td>3866.85520</td>\n",
       "    </tr>\n",
       "    <tr>\n",
       "      <th>...</th>\n",
       "      <td>...</td>\n",
       "      <td>...</td>\n",
       "      <td>...</td>\n",
       "      <td>...</td>\n",
       "      <td>...</td>\n",
       "      <td>...</td>\n",
       "      <td>...</td>\n",
       "    </tr>\n",
       "    <tr>\n",
       "      <th>1333</th>\n",
       "      <td>50</td>\n",
       "      <td>male</td>\n",
       "      <td>30.970</td>\n",
       "      <td>3</td>\n",
       "      <td>no</td>\n",
       "      <td>northwest</td>\n",
       "      <td>10600.54830</td>\n",
       "    </tr>\n",
       "    <tr>\n",
       "      <th>1334</th>\n",
       "      <td>18</td>\n",
       "      <td>female</td>\n",
       "      <td>31.920</td>\n",
       "      <td>0</td>\n",
       "      <td>no</td>\n",
       "      <td>northeast</td>\n",
       "      <td>2205.98080</td>\n",
       "    </tr>\n",
       "    <tr>\n",
       "      <th>1335</th>\n",
       "      <td>18</td>\n",
       "      <td>female</td>\n",
       "      <td>36.850</td>\n",
       "      <td>0</td>\n",
       "      <td>no</td>\n",
       "      <td>southeast</td>\n",
       "      <td>1629.83350</td>\n",
       "    </tr>\n",
       "    <tr>\n",
       "      <th>1336</th>\n",
       "      <td>21</td>\n",
       "      <td>female</td>\n",
       "      <td>25.800</td>\n",
       "      <td>0</td>\n",
       "      <td>no</td>\n",
       "      <td>southwest</td>\n",
       "      <td>2007.94500</td>\n",
       "    </tr>\n",
       "    <tr>\n",
       "      <th>1337</th>\n",
       "      <td>61</td>\n",
       "      <td>female</td>\n",
       "      <td>29.070</td>\n",
       "      <td>0</td>\n",
       "      <td>yes</td>\n",
       "      <td>northwest</td>\n",
       "      <td>29141.36030</td>\n",
       "    </tr>\n",
       "  </tbody>\n",
       "</table>\n",
       "<p>1337 rows × 7 columns</p>\n",
       "</div>"
      ],
      "text/plain": [
       "      age     sex     bmi  children smoker     region      charges\n",
       "0      19  female  27.900         0    yes  southwest  16884.92400\n",
       "1      18    male  33.770         1     no  southeast   1725.55230\n",
       "2      28    male  33.000         3     no  southeast   4449.46200\n",
       "3      33    male  22.705         0     no  northwest  21984.47061\n",
       "4      32    male  28.880         0     no  northwest   3866.85520\n",
       "...   ...     ...     ...       ...    ...        ...          ...\n",
       "1333   50    male  30.970         3     no  northwest  10600.54830\n",
       "1334   18  female  31.920         0     no  northeast   2205.98080\n",
       "1335   18  female  36.850         0     no  southeast   1629.83350\n",
       "1336   21  female  25.800         0     no  southwest   2007.94500\n",
       "1337   61  female  29.070         0    yes  northwest  29141.36030\n",
       "\n",
       "[1337 rows x 7 columns]"
      ]
     },
     "execution_count": 26,
     "metadata": {},
     "output_type": "execute_result"
    }
   ],
   "source": [
    "data"
   ]
  },
  {
   "cell_type": "code",
   "execution_count": 3,
   "id": "2e2d548e",
   "metadata": {
    "ExecuteTime": {
     "end_time": "2023-02-05T10:32:01.970341Z",
     "start_time": "2023-02-05T10:32:01.938348Z"
    }
   },
   "outputs": [
    {
     "name": "stdout",
     "output_type": "stream",
     "text": [
      "<class 'pandas.core.frame.DataFrame'>\n",
      "RangeIndex: 1338 entries, 0 to 1337\n",
      "Data columns (total 7 columns):\n",
      " #   Column    Non-Null Count  Dtype  \n",
      "---  ------    --------------  -----  \n",
      " 0   age       1338 non-null   int64  \n",
      " 1   sex       1338 non-null   object \n",
      " 2   bmi       1338 non-null   float64\n",
      " 3   children  1338 non-null   int64  \n",
      " 4   smoker    1338 non-null   object \n",
      " 5   region    1338 non-null   object \n",
      " 6   charges   1338 non-null   float64\n",
      "dtypes: float64(2), int64(2), object(3)\n",
      "memory usage: 73.3+ KB\n"
     ]
    }
   ],
   "source": [
    "data.info() # information of dataframe,there are no nan values in the dataframe"
   ]
  },
  {
   "cell_type": "code",
   "execution_count": 4,
   "id": "ac107ee8",
   "metadata": {
    "ExecuteTime": {
     "end_time": "2023-02-05T10:32:02.002158Z",
     "start_time": "2023-02-05T10:32:01.970341Z"
    }
   },
   "outputs": [
    {
     "data": {
      "text/html": [
       "<div>\n",
       "<style scoped>\n",
       "    .dataframe tbody tr th:only-of-type {\n",
       "        vertical-align: middle;\n",
       "    }\n",
       "\n",
       "    .dataframe tbody tr th {\n",
       "        vertical-align: top;\n",
       "    }\n",
       "\n",
       "    .dataframe thead th {\n",
       "        text-align: right;\n",
       "    }\n",
       "</style>\n",
       "<table border=\"1\" class=\"dataframe\">\n",
       "  <thead>\n",
       "    <tr style=\"text-align: right;\">\n",
       "      <th></th>\n",
       "      <th>age</th>\n",
       "      <th>bmi</th>\n",
       "      <th>children</th>\n",
       "      <th>charges</th>\n",
       "    </tr>\n",
       "  </thead>\n",
       "  <tbody>\n",
       "    <tr>\n",
       "      <th>count</th>\n",
       "      <td>1338.000000</td>\n",
       "      <td>1338.000000</td>\n",
       "      <td>1338.000000</td>\n",
       "      <td>1338.000000</td>\n",
       "    </tr>\n",
       "    <tr>\n",
       "      <th>mean</th>\n",
       "      <td>39.207025</td>\n",
       "      <td>30.663397</td>\n",
       "      <td>1.094918</td>\n",
       "      <td>13270.422265</td>\n",
       "    </tr>\n",
       "    <tr>\n",
       "      <th>std</th>\n",
       "      <td>14.049960</td>\n",
       "      <td>6.098187</td>\n",
       "      <td>1.205493</td>\n",
       "      <td>12110.011237</td>\n",
       "    </tr>\n",
       "    <tr>\n",
       "      <th>min</th>\n",
       "      <td>18.000000</td>\n",
       "      <td>15.960000</td>\n",
       "      <td>0.000000</td>\n",
       "      <td>1121.873900</td>\n",
       "    </tr>\n",
       "    <tr>\n",
       "      <th>25%</th>\n",
       "      <td>27.000000</td>\n",
       "      <td>26.296250</td>\n",
       "      <td>0.000000</td>\n",
       "      <td>4740.287150</td>\n",
       "    </tr>\n",
       "    <tr>\n",
       "      <th>50%</th>\n",
       "      <td>39.000000</td>\n",
       "      <td>30.400000</td>\n",
       "      <td>1.000000</td>\n",
       "      <td>9382.033000</td>\n",
       "    </tr>\n",
       "    <tr>\n",
       "      <th>75%</th>\n",
       "      <td>51.000000</td>\n",
       "      <td>34.693750</td>\n",
       "      <td>2.000000</td>\n",
       "      <td>16639.912515</td>\n",
       "    </tr>\n",
       "    <tr>\n",
       "      <th>max</th>\n",
       "      <td>64.000000</td>\n",
       "      <td>53.130000</td>\n",
       "      <td>5.000000</td>\n",
       "      <td>63770.428010</td>\n",
       "    </tr>\n",
       "  </tbody>\n",
       "</table>\n",
       "</div>"
      ],
      "text/plain": [
       "               age          bmi     children       charges\n",
       "count  1338.000000  1338.000000  1338.000000   1338.000000\n",
       "mean     39.207025    30.663397     1.094918  13270.422265\n",
       "std      14.049960     6.098187     1.205493  12110.011237\n",
       "min      18.000000    15.960000     0.000000   1121.873900\n",
       "25%      27.000000    26.296250     0.000000   4740.287150\n",
       "50%      39.000000    30.400000     1.000000   9382.033000\n",
       "75%      51.000000    34.693750     2.000000  16639.912515\n",
       "max      64.000000    53.130000     5.000000  63770.428010"
      ]
     },
     "execution_count": 4,
     "metadata": {},
     "output_type": "execute_result"
    }
   ],
   "source": [
    "data.describe() "
   ]
  },
  {
   "cell_type": "code",
   "execution_count": 5,
   "id": "b295f8e5",
   "metadata": {
    "ExecuteTime": {
     "end_time": "2023-02-05T10:32:02.018114Z",
     "start_time": "2023-02-05T10:32:02.002158Z"
    }
   },
   "outputs": [
    {
     "data": {
      "text/plain": [
       "False    1337\n",
       "True        1\n",
       "dtype: int64"
      ]
     },
     "execution_count": 5,
     "metadata": {},
     "output_type": "execute_result"
    }
   ],
   "source": [
    "data.duplicated()\n",
    "data.duplicated().value_counts()"
   ]
  },
  {
   "cell_type": "code",
   "execution_count": 6,
   "id": "c033b0bd",
   "metadata": {
    "ExecuteTime": {
     "end_time": "2023-02-05T10:32:02.034103Z",
     "start_time": "2023-02-05T10:32:02.018114Z"
    }
   },
   "outputs": [
    {
     "data": {
      "text/html": [
       "<div>\n",
       "<style scoped>\n",
       "    .dataframe tbody tr th:only-of-type {\n",
       "        vertical-align: middle;\n",
       "    }\n",
       "\n",
       "    .dataframe tbody tr th {\n",
       "        vertical-align: top;\n",
       "    }\n",
       "\n",
       "    .dataframe thead th {\n",
       "        text-align: right;\n",
       "    }\n",
       "</style>\n",
       "<table border=\"1\" class=\"dataframe\">\n",
       "  <thead>\n",
       "    <tr style=\"text-align: right;\">\n",
       "      <th></th>\n",
       "      <th>age</th>\n",
       "      <th>sex</th>\n",
       "      <th>bmi</th>\n",
       "      <th>children</th>\n",
       "      <th>smoker</th>\n",
       "      <th>region</th>\n",
       "      <th>charges</th>\n",
       "    </tr>\n",
       "  </thead>\n",
       "  <tbody>\n",
       "    <tr>\n",
       "      <th>581</th>\n",
       "      <td>19</td>\n",
       "      <td>male</td>\n",
       "      <td>30.59</td>\n",
       "      <td>0</td>\n",
       "      <td>no</td>\n",
       "      <td>northwest</td>\n",
       "      <td>1639.5631</td>\n",
       "    </tr>\n",
       "  </tbody>\n",
       "</table>\n",
       "</div>"
      ],
      "text/plain": [
       "     age   sex    bmi  children smoker     region    charges\n",
       "581   19  male  30.59         0     no  northwest  1639.5631"
      ]
     },
     "execution_count": 6,
     "metadata": {},
     "output_type": "execute_result"
    }
   ],
   "source": [
    "data[data.duplicated()] # one duplicate value in  a dataframe "
   ]
  },
  {
   "cell_type": "code",
   "execution_count": 7,
   "id": "d5260058",
   "metadata": {
    "ExecuteTime": {
     "end_time": "2023-02-05T10:32:02.058849Z",
     "start_time": "2023-02-05T10:32:02.034103Z"
    }
   },
   "outputs": [],
   "source": [
    "data.drop_duplicates(inplace=True) # duplicated record is deleted  from the dataframe"
   ]
  },
  {
   "cell_type": "code",
   "execution_count": 8,
   "id": "6ff2b557",
   "metadata": {
    "ExecuteTime": {
     "end_time": "2023-02-05T10:32:03.422565Z",
     "start_time": "2023-02-05T10:32:03.398554Z"
    }
   },
   "outputs": [
    {
     "name": "stdout",
     "output_type": "stream",
     "text": [
      "<class 'pandas.core.frame.DataFrame'>\n",
      "Int64Index: 1337 entries, 0 to 1337\n",
      "Data columns (total 7 columns):\n",
      " #   Column    Non-Null Count  Dtype  \n",
      "---  ------    --------------  -----  \n",
      " 0   age       1337 non-null   int64  \n",
      " 1   sex       1337 non-null   object \n",
      " 2   bmi       1337 non-null   float64\n",
      " 3   children  1337 non-null   int64  \n",
      " 4   smoker    1337 non-null   object \n",
      " 5   region    1337 non-null   object \n",
      " 6   charges   1337 non-null   float64\n",
      "dtypes: float64(2), int64(2), object(3)\n",
      "memory usage: 83.6+ KB\n"
     ]
    }
   ],
   "source": [
    "data.info() # there are no missing values"
   ]
  },
  {
   "cell_type": "code",
   "execution_count": 9,
   "id": "90cb8bc9",
   "metadata": {
    "ExecuteTime": {
     "end_time": "2023-02-05T10:32:04.455716Z",
     "start_time": "2023-02-05T10:32:04.439692Z"
    }
   },
   "outputs": [],
   "source": [
    "X=data[[\"age\",\"sex\",\"bmi\",\"children\",\"smoker\",\"region\"]]\n",
    "y=data[\"charges\"]"
   ]
  },
  {
   "cell_type": "code",
   "execution_count": 42,
   "id": "f93b541b",
   "metadata": {
    "ExecuteTime": {
     "end_time": "2023-02-05T11:50:10.177398Z",
     "start_time": "2023-02-05T11:50:10.153384Z"
    }
   },
   "outputs": [],
   "source": [
    "from sklearn.model_selection import train_test_split\n",
    "X_train,X_test,y_train,y_test=train_test_split(X,y,test_size=0.30,random_state=1)"
   ]
  },
  {
   "cell_type": "code",
   "execution_count": 43,
   "id": "cabb6fab",
   "metadata": {
    "ExecuteTime": {
     "end_time": "2023-02-05T11:50:10.554151Z",
     "start_time": "2023-02-05T11:50:10.530170Z"
    }
   },
   "outputs": [],
   "source": [
    "X_train_num=X_train.select_dtypes(include=[\"int64\",\"float64\"])\n",
    "X_train_cat=X_train.select_dtypes(include=[\"object\"])"
   ]
  },
  {
   "cell_type": "code",
   "execution_count": 44,
   "id": "eb229615",
   "metadata": {
    "ExecuteTime": {
     "end_time": "2023-02-05T11:50:10.969907Z",
     "start_time": "2023-02-05T11:50:10.945926Z"
    }
   },
   "outputs": [],
   "source": [
    "from sklearn.preprocessing import StandardScaler\n",
    "classifier=StandardScaler()\n",
    "X_train_num_rescaled=pd.DataFrame(classifier.fit_transform(X_train_num),\n",
    "                                  columns=X_train_num.columns,\n",
    "                                  index=X_train_num.index)"
   ]
  },
  {
   "cell_type": "code",
   "execution_count": 45,
   "id": "df679221",
   "metadata": {
    "ExecuteTime": {
     "end_time": "2023-02-05T11:50:11.679466Z",
     "start_time": "2023-02-05T11:50:11.663475Z"
    }
   },
   "outputs": [
    {
     "data": {
      "text/html": [
       "<div>\n",
       "<style scoped>\n",
       "    .dataframe tbody tr th:only-of-type {\n",
       "        vertical-align: middle;\n",
       "    }\n",
       "\n",
       "    .dataframe tbody tr th {\n",
       "        vertical-align: top;\n",
       "    }\n",
       "\n",
       "    .dataframe thead th {\n",
       "        text-align: right;\n",
       "    }\n",
       "</style>\n",
       "<table border=\"1\" class=\"dataframe\">\n",
       "  <thead>\n",
       "    <tr style=\"text-align: right;\">\n",
       "      <th></th>\n",
       "      <th>age</th>\n",
       "      <th>bmi</th>\n",
       "      <th>children</th>\n",
       "    </tr>\n",
       "  </thead>\n",
       "  <tbody>\n",
       "    <tr>\n",
       "      <th>520</th>\n",
       "      <td>0.769359</td>\n",
       "      <td>-0.545848</td>\n",
       "      <td>-0.916777</td>\n",
       "    </tr>\n",
       "    <tr>\n",
       "      <th>575</th>\n",
       "      <td>1.341692</td>\n",
       "      <td>-0.577680</td>\n",
       "      <td>-0.916777</td>\n",
       "    </tr>\n",
       "    <tr>\n",
       "      <th>770</th>\n",
       "      <td>1.556317</td>\n",
       "      <td>0.918411</td>\n",
       "      <td>1.596967</td>\n",
       "    </tr>\n",
       "    <tr>\n",
       "      <th>314</th>\n",
       "      <td>-0.876098</td>\n",
       "      <td>0.130995</td>\n",
       "      <td>-0.916777</td>\n",
       "    </tr>\n",
       "    <tr>\n",
       "      <th>426</th>\n",
       "      <td>-0.089140</td>\n",
       "      <td>-0.561764</td>\n",
       "      <td>-0.078863</td>\n",
       "    </tr>\n",
       "    <tr>\n",
       "      <th>...</th>\n",
       "      <td>...</td>\n",
       "      <td>...</td>\n",
       "      <td>...</td>\n",
       "    </tr>\n",
       "    <tr>\n",
       "      <th>716</th>\n",
       "      <td>0.697817</td>\n",
       "      <td>-1.341642</td>\n",
       "      <td>-0.078863</td>\n",
       "    </tr>\n",
       "    <tr>\n",
       "      <th>906</th>\n",
       "      <td>-0.876098</td>\n",
       "      <td>0.329524</td>\n",
       "      <td>1.596967</td>\n",
       "    </tr>\n",
       "    <tr>\n",
       "      <th>1097</th>\n",
       "      <td>-1.233806</td>\n",
       "      <td>0.528054</td>\n",
       "      <td>-0.916777</td>\n",
       "    </tr>\n",
       "    <tr>\n",
       "      <th>235</th>\n",
       "      <td>0.053943</td>\n",
       "      <td>-1.406980</td>\n",
       "      <td>0.759052</td>\n",
       "    </tr>\n",
       "    <tr>\n",
       "      <th>1062</th>\n",
       "      <td>1.413233</td>\n",
       "      <td>1.762790</td>\n",
       "      <td>-0.078863</td>\n",
       "    </tr>\n",
       "  </tbody>\n",
       "</table>\n",
       "<p>935 rows × 3 columns</p>\n",
       "</div>"
      ],
      "text/plain": [
       "           age       bmi  children\n",
       "520   0.769359 -0.545848 -0.916777\n",
       "575   1.341692 -0.577680 -0.916777\n",
       "770   1.556317  0.918411  1.596967\n",
       "314  -0.876098  0.130995 -0.916777\n",
       "426  -0.089140 -0.561764 -0.078863\n",
       "...        ...       ...       ...\n",
       "716   0.697817 -1.341642 -0.078863\n",
       "906  -0.876098  0.329524  1.596967\n",
       "1097 -1.233806  0.528054 -0.916777\n",
       "235   0.053943 -1.406980  0.759052\n",
       "1062  1.413233  1.762790 -0.078863\n",
       "\n",
       "[935 rows x 3 columns]"
      ]
     },
     "execution_count": 45,
     "metadata": {},
     "output_type": "execute_result"
    }
   ],
   "source": [
    "X_train_num_rescaled"
   ]
  },
  {
   "cell_type": "code",
   "execution_count": 46,
   "id": "b09d46f0",
   "metadata": {
    "ExecuteTime": {
     "end_time": "2023-02-05T11:50:12.642303Z",
     "start_time": "2023-02-05T11:50:12.618290Z"
    }
   },
   "outputs": [],
   "source": [
    "from sklearn.preprocessing import OneHotEncoder\n",
    "encoder=OneHotEncoder(drop=\"first\",sparse=False)\n",
    "X_train_cat_encoder=pd.DataFrame(encoder.fit_transform(X_train_cat),\n",
    "                                 columns=encoder.get_feature_names_out(X_train_cat.columns),\n",
    "                                 index=X_train_cat.index)"
   ]
  },
  {
   "cell_type": "code",
   "execution_count": 47,
   "id": "880e51bf",
   "metadata": {
    "ExecuteTime": {
     "end_time": "2023-02-05T11:50:13.333215Z",
     "start_time": "2023-02-05T11:50:13.309461Z"
    }
   },
   "outputs": [],
   "source": [
    "X_train_trans=pd.concat([X_train_num_rescaled,X_train_cat_encoder],axis=1)"
   ]
  },
  {
   "cell_type": "code",
   "execution_count": 48,
   "id": "4f0b9a83",
   "metadata": {
    "ExecuteTime": {
     "end_time": "2023-02-05T11:50:14.281190Z",
     "start_time": "2023-02-05T11:50:14.249175Z"
    }
   },
   "outputs": [
    {
     "data": {
      "text/html": [
       "<div>\n",
       "<style scoped>\n",
       "    .dataframe tbody tr th:only-of-type {\n",
       "        vertical-align: middle;\n",
       "    }\n",
       "\n",
       "    .dataframe tbody tr th {\n",
       "        vertical-align: top;\n",
       "    }\n",
       "\n",
       "    .dataframe thead th {\n",
       "        text-align: right;\n",
       "    }\n",
       "</style>\n",
       "<table border=\"1\" class=\"dataframe\">\n",
       "  <thead>\n",
       "    <tr style=\"text-align: right;\">\n",
       "      <th></th>\n",
       "      <th>age</th>\n",
       "      <th>bmi</th>\n",
       "      <th>children</th>\n",
       "      <th>sex_male</th>\n",
       "      <th>smoker_yes</th>\n",
       "      <th>region_northwest</th>\n",
       "      <th>region_southeast</th>\n",
       "      <th>region_southwest</th>\n",
       "    </tr>\n",
       "  </thead>\n",
       "  <tbody>\n",
       "    <tr>\n",
       "      <th>520</th>\n",
       "      <td>0.769359</td>\n",
       "      <td>-0.545848</td>\n",
       "      <td>-0.916777</td>\n",
       "      <td>0.0</td>\n",
       "      <td>0.0</td>\n",
       "      <td>0.0</td>\n",
       "      <td>0.0</td>\n",
       "      <td>0.0</td>\n",
       "    </tr>\n",
       "    <tr>\n",
       "      <th>575</th>\n",
       "      <td>1.341692</td>\n",
       "      <td>-0.577680</td>\n",
       "      <td>-0.916777</td>\n",
       "      <td>0.0</td>\n",
       "      <td>0.0</td>\n",
       "      <td>1.0</td>\n",
       "      <td>0.0</td>\n",
       "      <td>0.0</td>\n",
       "    </tr>\n",
       "    <tr>\n",
       "      <th>770</th>\n",
       "      <td>1.556317</td>\n",
       "      <td>0.918411</td>\n",
       "      <td>1.596967</td>\n",
       "      <td>1.0</td>\n",
       "      <td>0.0</td>\n",
       "      <td>0.0</td>\n",
       "      <td>0.0</td>\n",
       "      <td>1.0</td>\n",
       "    </tr>\n",
       "    <tr>\n",
       "      <th>314</th>\n",
       "      <td>-0.876098</td>\n",
       "      <td>0.130995</td>\n",
       "      <td>-0.916777</td>\n",
       "      <td>0.0</td>\n",
       "      <td>1.0</td>\n",
       "      <td>0.0</td>\n",
       "      <td>0.0</td>\n",
       "      <td>1.0</td>\n",
       "    </tr>\n",
       "    <tr>\n",
       "      <th>426</th>\n",
       "      <td>-0.089140</td>\n",
       "      <td>-0.561764</td>\n",
       "      <td>-0.078863</td>\n",
       "      <td>0.0</td>\n",
       "      <td>0.0</td>\n",
       "      <td>0.0</td>\n",
       "      <td>0.0</td>\n",
       "      <td>0.0</td>\n",
       "    </tr>\n",
       "    <tr>\n",
       "      <th>...</th>\n",
       "      <td>...</td>\n",
       "      <td>...</td>\n",
       "      <td>...</td>\n",
       "      <td>...</td>\n",
       "      <td>...</td>\n",
       "      <td>...</td>\n",
       "      <td>...</td>\n",
       "      <td>...</td>\n",
       "    </tr>\n",
       "    <tr>\n",
       "      <th>716</th>\n",
       "      <td>0.697817</td>\n",
       "      <td>-1.341642</td>\n",
       "      <td>-0.078863</td>\n",
       "      <td>0.0</td>\n",
       "      <td>0.0</td>\n",
       "      <td>1.0</td>\n",
       "      <td>0.0</td>\n",
       "      <td>0.0</td>\n",
       "    </tr>\n",
       "    <tr>\n",
       "      <th>906</th>\n",
       "      <td>-0.876098</td>\n",
       "      <td>0.329524</td>\n",
       "      <td>1.596967</td>\n",
       "      <td>1.0</td>\n",
       "      <td>0.0</td>\n",
       "      <td>0.0</td>\n",
       "      <td>0.0</td>\n",
       "      <td>0.0</td>\n",
       "    </tr>\n",
       "    <tr>\n",
       "      <th>1097</th>\n",
       "      <td>-1.233806</td>\n",
       "      <td>0.528054</td>\n",
       "      <td>-0.916777</td>\n",
       "      <td>1.0</td>\n",
       "      <td>0.0</td>\n",
       "      <td>0.0</td>\n",
       "      <td>1.0</td>\n",
       "      <td>0.0</td>\n",
       "    </tr>\n",
       "    <tr>\n",
       "      <th>235</th>\n",
       "      <td>0.053943</td>\n",
       "      <td>-1.406980</td>\n",
       "      <td>0.759052</td>\n",
       "      <td>0.0</td>\n",
       "      <td>1.0</td>\n",
       "      <td>0.0</td>\n",
       "      <td>1.0</td>\n",
       "      <td>0.0</td>\n",
       "    </tr>\n",
       "    <tr>\n",
       "      <th>1062</th>\n",
       "      <td>1.413233</td>\n",
       "      <td>1.762790</td>\n",
       "      <td>-0.078863</td>\n",
       "      <td>1.0</td>\n",
       "      <td>1.0</td>\n",
       "      <td>0.0</td>\n",
       "      <td>1.0</td>\n",
       "      <td>0.0</td>\n",
       "    </tr>\n",
       "  </tbody>\n",
       "</table>\n",
       "<p>935 rows × 8 columns</p>\n",
       "</div>"
      ],
      "text/plain": [
       "           age       bmi  children  sex_male  smoker_yes  region_northwest  \\\n",
       "520   0.769359 -0.545848 -0.916777       0.0         0.0               0.0   \n",
       "575   1.341692 -0.577680 -0.916777       0.0         0.0               1.0   \n",
       "770   1.556317  0.918411  1.596967       1.0         0.0               0.0   \n",
       "314  -0.876098  0.130995 -0.916777       0.0         1.0               0.0   \n",
       "426  -0.089140 -0.561764 -0.078863       0.0         0.0               0.0   \n",
       "...        ...       ...       ...       ...         ...               ...   \n",
       "716   0.697817 -1.341642 -0.078863       0.0         0.0               1.0   \n",
       "906  -0.876098  0.329524  1.596967       1.0         0.0               0.0   \n",
       "1097 -1.233806  0.528054 -0.916777       1.0         0.0               0.0   \n",
       "235   0.053943 -1.406980  0.759052       0.0         1.0               0.0   \n",
       "1062  1.413233  1.762790 -0.078863       1.0         1.0               0.0   \n",
       "\n",
       "      region_southeast  region_southwest  \n",
       "520                0.0               0.0  \n",
       "575                0.0               0.0  \n",
       "770                0.0               1.0  \n",
       "314                0.0               1.0  \n",
       "426                0.0               0.0  \n",
       "...                ...               ...  \n",
       "716                0.0               0.0  \n",
       "906                0.0               0.0  \n",
       "1097               1.0               0.0  \n",
       "235                1.0               0.0  \n",
       "1062               1.0               0.0  \n",
       "\n",
       "[935 rows x 8 columns]"
      ]
     },
     "execution_count": 48,
     "metadata": {},
     "output_type": "execute_result"
    }
   ],
   "source": [
    "X_train_trans"
   ]
  },
  {
   "cell_type": "markdown",
   "id": "accc58eb",
   "metadata": {},
   "source": [
    "## X_TEST"
   ]
  },
  {
   "cell_type": "code",
   "execution_count": 49,
   "id": "5a2fb2c0",
   "metadata": {
    "ExecuteTime": {
     "end_time": "2023-02-05T11:50:17.788851Z",
     "start_time": "2023-02-05T11:50:17.772824Z"
    }
   },
   "outputs": [],
   "source": [
    "X_test_num=X_test.select_dtypes(include=[\"int64\",\"float64\"])\n",
    "X_test_cat=X_test.select_dtypes(include=[\"object\"])"
   ]
  },
  {
   "cell_type": "code",
   "execution_count": 50,
   "id": "4f5ca4e1",
   "metadata": {
    "ExecuteTime": {
     "end_time": "2023-02-05T11:50:18.719413Z",
     "start_time": "2023-02-05T11:50:18.711416Z"
    }
   },
   "outputs": [],
   "source": [
    "X_test_num_rescaled=pd.DataFrame(classifier.transform(X_test_num),\n",
    "                                 columns=X_test_num.columns,\n",
    "                                 index=X_test_num.index)"
   ]
  },
  {
   "cell_type": "code",
   "execution_count": 59,
   "id": "43370334",
   "metadata": {
    "ExecuteTime": {
     "end_time": "2023-02-05T12:06:31.144273Z",
     "start_time": "2023-02-05T12:06:31.128285Z"
    }
   },
   "outputs": [],
   "source": [
    "X_test_cat_encoder=pd.DataFrame(encoder.transform(X_test_cat),\n",
    "                                 columns=encoder.get_feature_names_out(X_test_cat.columns),\n",
    "                                 index=X_test_cat.index)"
   ]
  },
  {
   "cell_type": "code",
   "execution_count": 60,
   "id": "2bed5d3b",
   "metadata": {
    "ExecuteTime": {
     "end_time": "2023-02-05T12:06:32.222406Z",
     "start_time": "2023-02-05T12:06:32.214392Z"
    }
   },
   "outputs": [],
   "source": [
    "X_test_trans=pd.concat([X_test_num_rescaled,X_test_cat_encoder],axis=1)"
   ]
  },
  {
   "cell_type": "code",
   "execution_count": 61,
   "id": "92a11898",
   "metadata": {
    "ExecuteTime": {
     "end_time": "2023-02-05T12:06:32.927036Z",
     "start_time": "2023-02-05T12:06:32.886043Z"
    }
   },
   "outputs": [
    {
     "data": {
      "text/html": [
       "<div>\n",
       "<style scoped>\n",
       "    .dataframe tbody tr th:only-of-type {\n",
       "        vertical-align: middle;\n",
       "    }\n",
       "\n",
       "    .dataframe tbody tr th {\n",
       "        vertical-align: top;\n",
       "    }\n",
       "\n",
       "    .dataframe thead th {\n",
       "        text-align: right;\n",
       "    }\n",
       "</style>\n",
       "<table border=\"1\" class=\"dataframe\">\n",
       "  <thead>\n",
       "    <tr style=\"text-align: right;\">\n",
       "      <th></th>\n",
       "      <th>age</th>\n",
       "      <th>bmi</th>\n",
       "      <th>children</th>\n",
       "      <th>sex_male</th>\n",
       "      <th>smoker_yes</th>\n",
       "      <th>region_northwest</th>\n",
       "      <th>region_southeast</th>\n",
       "      <th>region_southwest</th>\n",
       "    </tr>\n",
       "  </thead>\n",
       "  <tbody>\n",
       "    <tr>\n",
       "      <th>629</th>\n",
       "      <td>0.340110</td>\n",
       "      <td>1.395887</td>\n",
       "      <td>-0.916777</td>\n",
       "      <td>0.0</td>\n",
       "      <td>1.0</td>\n",
       "      <td>1.0</td>\n",
       "      <td>0.0</td>\n",
       "      <td>0.0</td>\n",
       "    </tr>\n",
       "    <tr>\n",
       "      <th>1087</th>\n",
       "      <td>1.270150</td>\n",
       "      <td>0.154450</td>\n",
       "      <td>-0.916777</td>\n",
       "      <td>1.0</td>\n",
       "      <td>0.0</td>\n",
       "      <td>1.0</td>\n",
       "      <td>0.0</td>\n",
       "      <td>0.0</td>\n",
       "    </tr>\n",
       "    <tr>\n",
       "      <th>283</th>\n",
       "      <td>1.127067</td>\n",
       "      <td>0.297693</td>\n",
       "      <td>-0.078863</td>\n",
       "      <td>0.0</td>\n",
       "      <td>0.0</td>\n",
       "      <td>0.0</td>\n",
       "      <td>0.0</td>\n",
       "      <td>0.0</td>\n",
       "    </tr>\n",
       "    <tr>\n",
       "      <th>790</th>\n",
       "      <td>-0.017598</td>\n",
       "      <td>1.873363</td>\n",
       "      <td>-0.916777</td>\n",
       "      <td>0.0</td>\n",
       "      <td>0.0</td>\n",
       "      <td>0.0</td>\n",
       "      <td>1.0</td>\n",
       "      <td>0.0</td>\n",
       "    </tr>\n",
       "    <tr>\n",
       "      <th>594</th>\n",
       "      <td>0.125485</td>\n",
       "      <td>1.615359</td>\n",
       "      <td>-0.916777</td>\n",
       "      <td>1.0</td>\n",
       "      <td>0.0</td>\n",
       "      <td>0.0</td>\n",
       "      <td>1.0</td>\n",
       "      <td>0.0</td>\n",
       "    </tr>\n",
       "    <tr>\n",
       "      <th>...</th>\n",
       "      <td>...</td>\n",
       "      <td>...</td>\n",
       "      <td>...</td>\n",
       "      <td>...</td>\n",
       "      <td>...</td>\n",
       "      <td>...</td>\n",
       "      <td>...</td>\n",
       "      <td>...</td>\n",
       "    </tr>\n",
       "    <tr>\n",
       "      <th>924</th>\n",
       "      <td>0.268568</td>\n",
       "      <td>-1.242796</td>\n",
       "      <td>-0.916777</td>\n",
       "      <td>1.0</td>\n",
       "      <td>0.0</td>\n",
       "      <td>0.0</td>\n",
       "      <td>0.0</td>\n",
       "      <td>1.0</td>\n",
       "    </tr>\n",
       "    <tr>\n",
       "      <th>873</th>\n",
       "      <td>0.268568</td>\n",
       "      <td>-0.086801</td>\n",
       "      <td>-0.078863</td>\n",
       "      <td>1.0</td>\n",
       "      <td>0.0</td>\n",
       "      <td>0.0</td>\n",
       "      <td>0.0</td>\n",
       "      <td>1.0</td>\n",
       "    </tr>\n",
       "    <tr>\n",
       "      <th>731</th>\n",
       "      <td>0.983984</td>\n",
       "      <td>-1.544359</td>\n",
       "      <td>-0.078863</td>\n",
       "      <td>1.0</td>\n",
       "      <td>0.0</td>\n",
       "      <td>0.0</td>\n",
       "      <td>0.0</td>\n",
       "      <td>1.0</td>\n",
       "    </tr>\n",
       "    <tr>\n",
       "      <th>363</th>\n",
       "      <td>-1.305347</td>\n",
       "      <td>-0.706682</td>\n",
       "      <td>-0.078863</td>\n",
       "      <td>0.0</td>\n",
       "      <td>0.0</td>\n",
       "      <td>0.0</td>\n",
       "      <td>0.0</td>\n",
       "      <td>1.0</td>\n",
       "    </tr>\n",
       "    <tr>\n",
       "      <th>10</th>\n",
       "      <td>-1.019181</td>\n",
       "      <td>-0.736839</td>\n",
       "      <td>-0.916777</td>\n",
       "      <td>1.0</td>\n",
       "      <td>0.0</td>\n",
       "      <td>0.0</td>\n",
       "      <td>0.0</td>\n",
       "      <td>0.0</td>\n",
       "    </tr>\n",
       "  </tbody>\n",
       "</table>\n",
       "<p>402 rows × 8 columns</p>\n",
       "</div>"
      ],
      "text/plain": [
       "           age       bmi  children  sex_male  smoker_yes  region_northwest  \\\n",
       "629   0.340110  1.395887 -0.916777       0.0         1.0               1.0   \n",
       "1087  1.270150  0.154450 -0.916777       1.0         0.0               1.0   \n",
       "283   1.127067  0.297693 -0.078863       0.0         0.0               0.0   \n",
       "790  -0.017598  1.873363 -0.916777       0.0         0.0               0.0   \n",
       "594   0.125485  1.615359 -0.916777       1.0         0.0               0.0   \n",
       "...        ...       ...       ...       ...         ...               ...   \n",
       "924   0.268568 -1.242796 -0.916777       1.0         0.0               0.0   \n",
       "873   0.268568 -0.086801 -0.078863       1.0         0.0               0.0   \n",
       "731   0.983984 -1.544359 -0.078863       1.0         0.0               0.0   \n",
       "363  -1.305347 -0.706682 -0.078863       0.0         0.0               0.0   \n",
       "10   -1.019181 -0.736839 -0.916777       1.0         0.0               0.0   \n",
       "\n",
       "      region_southeast  region_southwest  \n",
       "629                0.0               0.0  \n",
       "1087               0.0               0.0  \n",
       "283                0.0               0.0  \n",
       "790                1.0               0.0  \n",
       "594                1.0               0.0  \n",
       "...                ...               ...  \n",
       "924                0.0               1.0  \n",
       "873                0.0               1.0  \n",
       "731                0.0               1.0  \n",
       "363                0.0               1.0  \n",
       "10                 0.0               0.0  \n",
       "\n",
       "[402 rows x 8 columns]"
      ]
     },
     "execution_count": 61,
     "metadata": {},
     "output_type": "execute_result"
    }
   ],
   "source": [
    "X_test_trans"
   ]
  },
  {
   "cell_type": "markdown",
   "id": "76cb551f",
   "metadata": {},
   "source": [
    "# Algorithms"
   ]
  },
  {
   "cell_type": "markdown",
   "id": "117a9774",
   "metadata": {},
   "source": [
    "## LinearRegression"
   ]
  },
  {
   "cell_type": "code",
   "execution_count": 95,
   "id": "50efb680",
   "metadata": {
    "ExecuteTime": {
     "end_time": "2023-02-05T13:20:48.398917Z",
     "start_time": "2023-02-05T13:20:48.366934Z"
    }
   },
   "outputs": [
    {
     "data": {
      "text/plain": [
       "LinearRegression()"
      ]
     },
     "execution_count": 95,
     "metadata": {},
     "output_type": "execute_result"
    }
   ],
   "source": [
    "from sklearn.linear_model import LinearRegression\n",
    "regressor=LinearRegression()\n",
    "regressor.fit(X_train_trans,y_train)"
   ]
  },
  {
   "cell_type": "code",
   "execution_count": 96,
   "id": "e2f2d76b",
   "metadata": {
    "ExecuteTime": {
     "end_time": "2023-02-05T13:20:49.836733Z",
     "start_time": "2023-02-05T13:20:49.812709Z"
    }
   },
   "outputs": [],
   "source": [
    "y_test_pred=regressor.predict(X_test_trans)"
   ]
  },
  {
   "cell_type": "code",
   "execution_count": 98,
   "id": "009b6994",
   "metadata": {
    "ExecuteTime": {
     "end_time": "2023-02-05T13:22:19.601066Z",
     "start_time": "2023-02-05T13:22:19.577044Z"
    }
   },
   "outputs": [],
   "source": [
    "from sklearn import metrics\n",
    "linear_abs=metrics.mean_absolute_error(y_test,y_test_pred)\n",
    "linear_squr=metrics.mean_squared_error(y_test,y_test_pred)\n",
    "linear_root=np.sqrt(metrics.mean_squared_error(y_test,y_test_pred))"
   ]
  },
  {
   "cell_type": "code",
   "execution_count": 99,
   "id": "9f51a213",
   "metadata": {
    "ExecuteTime": {
     "end_time": "2023-02-05T13:22:57.113313Z",
     "start_time": "2023-02-05T13:22:57.089370Z"
    }
   },
   "outputs": [
    {
     "data": {
      "text/plain": [
       "4207.799065841049"
      ]
     },
     "execution_count": 99,
     "metadata": {},
     "output_type": "execute_result"
    },
    {
     "data": {
      "text/plain": [
       "36527576.25870229"
      ]
     },
     "execution_count": 99,
     "metadata": {},
     "output_type": "execute_result"
    },
    {
     "data": {
      "text/plain": [
       "6043.804783305157"
      ]
     },
     "execution_count": 99,
     "metadata": {},
     "output_type": "execute_result"
    }
   ],
   "source": [
    "linear_abs\n",
    "linear_squr\n",
    "linear_root"
   ]
  },
  {
   "cell_type": "markdown",
   "id": "6a1c5e9f",
   "metadata": {},
   "source": [
    "## KNN Regression"
   ]
  },
  {
   "cell_type": "code",
   "execution_count": 64,
   "id": "5fec3507",
   "metadata": {
    "ExecuteTime": {
     "end_time": "2023-02-05T12:14:41.533798Z",
     "start_time": "2023-02-05T12:14:41.517848Z"
    }
   },
   "outputs": [
    {
     "data": {
      "text/plain": [
       "KNeighborsRegressor()"
      ]
     },
     "execution_count": 64,
     "metadata": {},
     "output_type": "execute_result"
    }
   ],
   "source": [
    "from sklearn.neighbors import KNeighborsRegressor\n",
    "neighbor=KNeighborsRegressor()\n",
    "neighbor.fit(X_train_trans,y_train)"
   ]
  },
  {
   "cell_type": "code",
   "execution_count": 65,
   "id": "503cf9a1",
   "metadata": {
    "ExecuteTime": {
     "end_time": "2023-02-05T12:15:09.390723Z",
     "start_time": "2023-02-05T12:15:09.358745Z"
    }
   },
   "outputs": [],
   "source": [
    "y_test_pred=neighbor.predict(X_test_trans)"
   ]
  },
  {
   "cell_type": "code",
   "execution_count": 100,
   "id": "f74125ca",
   "metadata": {
    "ExecuteTime": {
     "end_time": "2023-02-05T13:23:42.546323Z",
     "start_time": "2023-02-05T13:23:42.522297Z"
    }
   },
   "outputs": [],
   "source": [
    "from sklearn import metrics\n",
    "neighbor_abs=metrics.mean_absolute_error(y_test,y_test_pred)\n",
    "neighbor_squr=metrics.mean_squared_error(y_test,y_test_pred)\n",
    "neighbor_root=np.sqrt(metrics.mean_squared_error(y_test,y_test_pred))"
   ]
  },
  {
   "cell_type": "code",
   "execution_count": 101,
   "id": "ca8e4f75",
   "metadata": {
    "ExecuteTime": {
     "end_time": "2023-02-05T13:23:58.721680Z",
     "start_time": "2023-02-05T13:23:58.697660Z"
    }
   },
   "outputs": [
    {
     "data": {
      "text/plain": [
       "4207.799065841049"
      ]
     },
     "execution_count": 101,
     "metadata": {},
     "output_type": "execute_result"
    },
    {
     "data": {
      "text/plain": [
       "36527576.25870229"
      ]
     },
     "execution_count": 101,
     "metadata": {},
     "output_type": "execute_result"
    },
    {
     "data": {
      "text/plain": [
       "6043.804783305157"
      ]
     },
     "execution_count": 101,
     "metadata": {},
     "output_type": "execute_result"
    }
   ],
   "source": [
    "neighbor_abs\n",
    "neighbor_squr\n",
    "neighbor_root"
   ]
  },
  {
   "cell_type": "markdown",
   "id": "8e6bc891",
   "metadata": {},
   "source": [
    "## Decision tree"
   ]
  },
  {
   "cell_type": "code",
   "execution_count": 110,
   "id": "1306c0fd",
   "metadata": {
    "ExecuteTime": {
     "end_time": "2023-02-05T13:32:02.645887Z",
     "start_time": "2023-02-05T13:32:02.621862Z"
    }
   },
   "outputs": [
    {
     "data": {
      "text/plain": [
       "DecisionTreeRegressor()"
      ]
     },
     "execution_count": 110,
     "metadata": {},
     "output_type": "execute_result"
    }
   ],
   "source": [
    "from sklearn.tree import DecisionTreeRegressor\n",
    "tree=DecisionTreeRegressor()\n",
    "tree.fit(X_train_trans,y_train)"
   ]
  },
  {
   "cell_type": "code",
   "execution_count": 111,
   "id": "cbb41d55",
   "metadata": {
    "ExecuteTime": {
     "end_time": "2023-02-05T13:32:03.062510Z",
     "start_time": "2023-02-05T13:32:03.038524Z"
    }
   },
   "outputs": [],
   "source": [
    "y_test_pred=tree.predict(X_test_trans)"
   ]
  },
  {
   "cell_type": "code",
   "execution_count": 112,
   "id": "4c21d102",
   "metadata": {
    "ExecuteTime": {
     "end_time": "2023-02-05T13:32:03.832709Z",
     "start_time": "2023-02-05T13:32:03.816696Z"
    }
   },
   "outputs": [],
   "source": [
    "from sklearn import metrics\n",
    "tree_abs=metrics.mean_absolute_error(y_test,y_test_pred)\n",
    "tree_squr=metrics.mean_squared_error(y_test,y_test_pred)\n",
    "tree_root=np.sqrt(metrics.mean_squared_error(y_test,y_test_pred))"
   ]
  },
  {
   "cell_type": "code",
   "execution_count": 113,
   "id": "2a3192b8",
   "metadata": {
    "ExecuteTime": {
     "end_time": "2023-02-05T13:32:04.469011Z",
     "start_time": "2023-02-05T13:32:04.437029Z"
    }
   },
   "outputs": [
    {
     "data": {
      "text/plain": [
       "3289.286234154229"
      ]
     },
     "execution_count": 113,
     "metadata": {},
     "output_type": "execute_result"
    },
    {
     "data": {
      "text/plain": [
       "46698227.35389911"
      ]
     },
     "execution_count": 113,
     "metadata": {},
     "output_type": "execute_result"
    },
    {
     "data": {
      "text/plain": [
       "6833.610125980199"
      ]
     },
     "execution_count": 113,
     "metadata": {},
     "output_type": "execute_result"
    }
   ],
   "source": [
    "tree_abs\n",
    "tree_squr\n",
    "tree_root"
   ]
  },
  {
   "cell_type": "markdown",
   "id": "d9a0c5fd",
   "metadata": {},
   "source": [
    "## Ensemble"
   ]
  },
  {
   "cell_type": "markdown",
   "id": "1da39a56",
   "metadata": {},
   "source": [
    "### Randomforest"
   ]
  },
  {
   "cell_type": "code",
   "execution_count": 106,
   "id": "2206e2de",
   "metadata": {
    "ExecuteTime": {
     "end_time": "2023-02-05T13:31:54.792143Z",
     "start_time": "2023-02-05T13:31:54.517272Z"
    }
   },
   "outputs": [
    {
     "data": {
      "text/plain": [
       "RandomForestRegressor()"
      ]
     },
     "execution_count": 106,
     "metadata": {},
     "output_type": "execute_result"
    }
   ],
   "source": [
    "from sklearn.ensemble import RandomForestRegressor\n",
    "random_forest=RandomForestRegressor()\n",
    "random_forest.fit(X_train_trans,y_train)"
   ]
  },
  {
   "cell_type": "code",
   "execution_count": 107,
   "id": "2986ff65",
   "metadata": {
    "ExecuteTime": {
     "end_time": "2023-02-05T13:31:55.015774Z",
     "start_time": "2023-02-05T13:31:54.975801Z"
    }
   },
   "outputs": [],
   "source": [
    "y_test_pred=random_forest.predict(X_test_trans)"
   ]
  },
  {
   "cell_type": "code",
   "execution_count": 108,
   "id": "394638cb",
   "metadata": {
    "ExecuteTime": {
     "end_time": "2023-02-05T13:31:55.754109Z",
     "start_time": "2023-02-05T13:31:55.730085Z"
    }
   },
   "outputs": [],
   "source": [
    "from sklearn import metrics\n",
    "random_abs=metrics.mean_absolute_error(y_test,y_test_pred)\n",
    "random_squr=metrics.mean_squared_error(y_test,y_test_pred)\n",
    "random_root=np.sqrt(metrics.mean_squared_error(y_test,y_test_pred))"
   ]
  },
  {
   "cell_type": "code",
   "execution_count": 109,
   "id": "c34d70c2",
   "metadata": {
    "ExecuteTime": {
     "end_time": "2023-02-05T13:31:56.302137Z",
     "start_time": "2023-02-05T13:31:56.278116Z"
    }
   },
   "outputs": [
    {
     "data": {
      "text/plain": [
       "2741.8995435299503"
      ]
     },
     "execution_count": 109,
     "metadata": {},
     "output_type": "execute_result"
    },
    {
     "data": {
      "text/plain": [
       "22998829.347327705"
      ]
     },
     "execution_count": 109,
     "metadata": {},
     "output_type": "execute_result"
    },
    {
     "data": {
      "text/plain": [
       "4795.709472781656"
      ]
     },
     "execution_count": 109,
     "metadata": {},
     "output_type": "execute_result"
    }
   ],
   "source": [
    "random_abs\n",
    "random_squr\n",
    "random_root"
   ]
  },
  {
   "cell_type": "markdown",
   "id": "36895770",
   "metadata": {},
   "source": [
    "### Ada boost"
   ]
  },
  {
   "cell_type": "code",
   "execution_count": 119,
   "id": "0fd10e6f",
   "metadata": {
    "ExecuteTime": {
     "end_time": "2023-02-05T13:33:23.294852Z",
     "start_time": "2023-02-05T13:33:23.254877Z"
    }
   },
   "outputs": [
    {
     "data": {
      "text/plain": [
       "AdaBoostRegressor()"
      ]
     },
     "execution_count": 119,
     "metadata": {},
     "output_type": "execute_result"
    }
   ],
   "source": [
    "from sklearn.ensemble import AdaBoostRegressor\n",
    "ada_boost=AdaBoostRegressor()\n",
    "ada_boost.fit(X_train_trans,y_train)"
   ]
  },
  {
   "cell_type": "code",
   "execution_count": 120,
   "id": "04f4cf6a",
   "metadata": {
    "ExecuteTime": {
     "end_time": "2023-02-05T13:33:23.673145Z",
     "start_time": "2023-02-05T13:33:23.657161Z"
    }
   },
   "outputs": [],
   "source": [
    "y_test_pred=ada_boost.predict(X_test_trans)"
   ]
  },
  {
   "cell_type": "code",
   "execution_count": 123,
   "id": "6820d264",
   "metadata": {
    "ExecuteTime": {
     "end_time": "2023-02-05T13:33:30.493162Z",
     "start_time": "2023-02-05T13:33:30.469140Z"
    }
   },
   "outputs": [],
   "source": [
    "from sklearn import metrics\n",
    "ada_abs=metrics.mean_absolute_error(y_test,y_test_pred)\n",
    "ada_squr=metrics.mean_squared_error(y_test,y_test_pred)\n",
    "ada_root=np.sqrt(metrics.mean_squared_error(y_test,y_test_pred))"
   ]
  },
  {
   "cell_type": "code",
   "execution_count": 124,
   "id": "538fba69",
   "metadata": {
    "ExecuteTime": {
     "end_time": "2023-02-05T13:33:31.110409Z",
     "start_time": "2023-02-05T13:33:31.078431Z"
    }
   },
   "outputs": [
    {
     "data": {
      "text/plain": [
       "3815.4593139069034"
      ]
     },
     "execution_count": 124,
     "metadata": {},
     "output_type": "execute_result"
    },
    {
     "data": {
      "text/plain": [
       "24865518.201550167"
      ]
     },
     "execution_count": 124,
     "metadata": {},
     "output_type": "execute_result"
    },
    {
     "data": {
      "text/plain": [
       "4986.533685993725"
      ]
     },
     "execution_count": 124,
     "metadata": {},
     "output_type": "execute_result"
    }
   ],
   "source": [
    "ada_abs\n",
    "ada_squr\n",
    "ada_root"
   ]
  },
  {
   "cell_type": "markdown",
   "id": "53f9b03c",
   "metadata": {},
   "source": [
    "### XG boost"
   ]
  },
  {
   "cell_type": "code",
   "execution_count": 127,
   "id": "40a33436",
   "metadata": {
    "ExecuteTime": {
     "end_time": "2023-02-05T13:34:27.360457Z",
     "start_time": "2023-02-05T13:34:27.255501Z"
    }
   },
   "outputs": [
    {
     "data": {
      "text/plain": [
       "GradientBoostingRegressor()"
      ]
     },
     "execution_count": 127,
     "metadata": {},
     "output_type": "execute_result"
    }
   ],
   "source": [
    "from sklearn.ensemble import GradientBoostingRegressor\n",
    "gradient_boost=GradientBoostingRegressor()\n",
    "gradient_boost.fit(X_train_trans,y_train)"
   ]
  },
  {
   "cell_type": "code",
   "execution_count": 128,
   "id": "61efc5a6",
   "metadata": {
    "ExecuteTime": {
     "end_time": "2023-02-05T13:34:27.731511Z",
     "start_time": "2023-02-05T13:34:27.707535Z"
    }
   },
   "outputs": [],
   "source": [
    "y_test_pred=gradient_boost.predict(X_test_trans)"
   ]
  },
  {
   "cell_type": "code",
   "execution_count": 129,
   "id": "333fb031",
   "metadata": {
    "ExecuteTime": {
     "end_time": "2023-02-05T13:34:28.218058Z",
     "start_time": "2023-02-05T13:34:28.202071Z"
    }
   },
   "outputs": [],
   "source": [
    "from sklearn import metrics\n",
    "gra_abs=metrics.mean_absolute_error(y_test,y_test_pred)\n",
    "gra_squr=metrics.mean_squared_error(y_test,y_test_pred)\n",
    "gra_root=np.sqrt(metrics.mean_squared_error(y_test,y_test_pred))"
   ]
  },
  {
   "cell_type": "code",
   "execution_count": 130,
   "id": "5dfa0427",
   "metadata": {
    "ExecuteTime": {
     "end_time": "2023-02-05T13:34:28.886677Z",
     "start_time": "2023-02-05T13:34:28.854662Z"
    }
   },
   "outputs": [
    {
     "data": {
      "text/plain": [
       "2437.4120358240643"
      ]
     },
     "execution_count": 130,
     "metadata": {},
     "output_type": "execute_result"
    },
    {
     "data": {
      "text/plain": [
       "19596925.921596643"
      ]
     },
     "execution_count": 130,
     "metadata": {},
     "output_type": "execute_result"
    },
    {
     "data": {
      "text/plain": [
       "4426.841528855155"
      ]
     },
     "execution_count": 130,
     "metadata": {},
     "output_type": "execute_result"
    }
   ],
   "source": [
    "gra_abs\n",
    "gra_squr\n",
    "gra_root"
   ]
  },
  {
   "cell_type": "code",
   "execution_count": 139,
   "id": "ce4a0460",
   "metadata": {
    "ExecuteTime": {
     "end_time": "2023-02-05T14:07:48.737540Z",
     "start_time": "2023-02-05T14:07:48.721554Z"
    }
   },
   "outputs": [],
   "source": [
    "data_df=pd.DataFrame({\"Algorithms\":[\"Linearregression\",\"KNN\",\"Decisontree\",\"Randomforest\",\"Adaboost\",\"Gradient\"],\n",
    "    \"mean_absolute\":[linear_abs,neighbor_abs,tree_abs,random_abs,ada_abs,gra_abs],\n",
    "                     \"mean_square\":[linear_squr,neighbor_squr,tree_squr,random_squr,ada_squr,gra_squr],\n",
    "                     \"mean_root_square\":[linear_root,neighbor_root,tree_root,random_root,ada_root,gra_root]})"
   ]
  },
  {
   "cell_type": "code",
   "execution_count": 140,
   "id": "ba987265",
   "metadata": {
    "ExecuteTime": {
     "end_time": "2023-02-05T14:07:49.950009Z",
     "start_time": "2023-02-05T14:07:49.934065Z"
    }
   },
   "outputs": [
    {
     "data": {
      "text/html": [
       "<div>\n",
       "<style scoped>\n",
       "    .dataframe tbody tr th:only-of-type {\n",
       "        vertical-align: middle;\n",
       "    }\n",
       "\n",
       "    .dataframe tbody tr th {\n",
       "        vertical-align: top;\n",
       "    }\n",
       "\n",
       "    .dataframe thead th {\n",
       "        text-align: right;\n",
       "    }\n",
       "</style>\n",
       "<table border=\"1\" class=\"dataframe\">\n",
       "  <thead>\n",
       "    <tr style=\"text-align: right;\">\n",
       "      <th></th>\n",
       "      <th>Algorithms</th>\n",
       "      <th>mean_absolute</th>\n",
       "      <th>mean_square</th>\n",
       "      <th>mean_root_square</th>\n",
       "    </tr>\n",
       "  </thead>\n",
       "  <tbody>\n",
       "    <tr>\n",
       "      <th>0</th>\n",
       "      <td>Linearregression</td>\n",
       "      <td>4207.799066</td>\n",
       "      <td>3.652758e+07</td>\n",
       "      <td>6043.804783</td>\n",
       "    </tr>\n",
       "    <tr>\n",
       "      <th>1</th>\n",
       "      <td>KNN</td>\n",
       "      <td>4207.799066</td>\n",
       "      <td>3.652758e+07</td>\n",
       "      <td>6043.804783</td>\n",
       "    </tr>\n",
       "    <tr>\n",
       "      <th>2</th>\n",
       "      <td>Decisontree</td>\n",
       "      <td>3289.286234</td>\n",
       "      <td>4.669823e+07</td>\n",
       "      <td>6833.610126</td>\n",
       "    </tr>\n",
       "    <tr>\n",
       "      <th>3</th>\n",
       "      <td>Randomforest</td>\n",
       "      <td>2741.899544</td>\n",
       "      <td>2.299883e+07</td>\n",
       "      <td>4795.709473</td>\n",
       "    </tr>\n",
       "    <tr>\n",
       "      <th>4</th>\n",
       "      <td>Adaboost</td>\n",
       "      <td>3815.459314</td>\n",
       "      <td>2.486552e+07</td>\n",
       "      <td>4986.533686</td>\n",
       "    </tr>\n",
       "    <tr>\n",
       "      <th>5</th>\n",
       "      <td>Gradient</td>\n",
       "      <td>2437.412036</td>\n",
       "      <td>1.959693e+07</td>\n",
       "      <td>4426.841529</td>\n",
       "    </tr>\n",
       "  </tbody>\n",
       "</table>\n",
       "</div>"
      ],
      "text/plain": [
       "         Algorithms  mean_absolute   mean_square  mean_root_square\n",
       "0  Linearregression    4207.799066  3.652758e+07       6043.804783\n",
       "1               KNN    4207.799066  3.652758e+07       6043.804783\n",
       "2       Decisontree    3289.286234  4.669823e+07       6833.610126\n",
       "3      Randomforest    2741.899544  2.299883e+07       4795.709473\n",
       "4          Adaboost    3815.459314  2.486552e+07       4986.533686\n",
       "5          Gradient    2437.412036  1.959693e+07       4426.841529"
      ]
     },
     "execution_count": 140,
     "metadata": {},
     "output_type": "execute_result"
    }
   ],
   "source": [
    "data_df"
   ]
  },
  {
   "cell_type": "markdown",
   "id": "0e8ce7cf",
   "metadata": {},
   "source": [
    "# conclusion"
   ]
  },
  {
   "cell_type": "markdown",
   "id": "f016028f",
   "metadata": {},
   "source": [
    "gradient boost regression algorithm looks that it has low absolute error compare  to all the algorithms"
   ]
  },
  {
   "cell_type": "code",
   "execution_count": null,
   "id": "612df777",
   "metadata": {},
   "outputs": [],
   "source": []
  }
 ],
 "metadata": {
  "kernelspec": {
   "display_name": "Python 3 (ipykernel)",
   "language": "python",
   "name": "python3"
  },
  "language_info": {
   "codemirror_mode": {
    "name": "ipython",
    "version": 3
   },
   "file_extension": ".py",
   "mimetype": "text/x-python",
   "name": "python",
   "nbconvert_exporter": "python",
   "pygments_lexer": "ipython3",
   "version": "3.9.12"
  }
 },
 "nbformat": 4,
 "nbformat_minor": 5
}

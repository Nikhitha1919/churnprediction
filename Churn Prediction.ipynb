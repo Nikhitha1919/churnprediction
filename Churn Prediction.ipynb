{
 "cells": [
  {
   "cell_type": "code",
   "execution_count": 1,
   "id": "0499bb62",
   "metadata": {
    "ExecuteTime": {
     "end_time": "2023-02-09T08:41:22.385520Z",
     "start_time": "2023-02-09T08:41:16.816922Z"
    }
   },
   "outputs": [],
   "source": [
    "import numpy as np\n",
    "import pandas as pd\n",
    "import matplotlib.pyplot as plt\n",
    "import seaborn as sns\n",
    " \n",
    "import warnings\n",
    "warnings.filterwarnings('ignore')\n",
    "\n",
    "from IPython.core.interactiveshell import InteractiveShell\n",
    "InteractiveShell.ast_node_interactivity = 'all'"
   ]
  },
  {
   "cell_type": "code",
   "execution_count": 2,
   "id": "32c362a9",
   "metadata": {
    "ExecuteTime": {
     "end_time": "2023-02-09T08:41:22.445159Z",
     "start_time": "2023-02-09T08:41:22.385520Z"
    }
   },
   "outputs": [],
   "source": [
    "data=pd.read_csv(r\"C:\\Users\\Home\\Downloads\\churn_dataset.csv\",skipinitialspace=True)"
   ]
  },
  {
   "cell_type": "code",
   "execution_count": 3,
   "id": "76ad5a73",
   "metadata": {
    "ExecuteTime": {
     "end_time": "2023-02-09T08:41:22.509118Z",
     "start_time": "2023-02-09T08:41:22.445159Z"
    }
   },
   "outputs": [
    {
     "data": {
      "text/html": [
       "<div>\n",
       "<style scoped>\n",
       "    .dataframe tbody tr th:only-of-type {\n",
       "        vertical-align: middle;\n",
       "    }\n",
       "\n",
       "    .dataframe tbody tr th {\n",
       "        vertical-align: top;\n",
       "    }\n",
       "\n",
       "    .dataframe thead th {\n",
       "        text-align: right;\n",
       "    }\n",
       "</style>\n",
       "<table border=\"1\" class=\"dataframe\">\n",
       "  <thead>\n",
       "    <tr style=\"text-align: right;\">\n",
       "      <th></th>\n",
       "      <th>customerID</th>\n",
       "      <th>gender</th>\n",
       "      <th>SeniorCitizen</th>\n",
       "      <th>Partner</th>\n",
       "      <th>Dependents</th>\n",
       "      <th>tenure</th>\n",
       "      <th>PhoneService</th>\n",
       "      <th>MultipleLines</th>\n",
       "      <th>InternetService</th>\n",
       "      <th>OnlineSecurity</th>\n",
       "      <th>...</th>\n",
       "      <th>DeviceProtection</th>\n",
       "      <th>TechSupport</th>\n",
       "      <th>StreamingTV</th>\n",
       "      <th>StreamingMovies</th>\n",
       "      <th>Contract</th>\n",
       "      <th>PaperlessBilling</th>\n",
       "      <th>PaymentMethod</th>\n",
       "      <th>MonthlyCharges</th>\n",
       "      <th>TotalCharges</th>\n",
       "      <th>Churn</th>\n",
       "    </tr>\n",
       "  </thead>\n",
       "  <tbody>\n",
       "    <tr>\n",
       "      <th>0</th>\n",
       "      <td>7590-VHVEG</td>\n",
       "      <td>Female</td>\n",
       "      <td>0</td>\n",
       "      <td>Yes</td>\n",
       "      <td>No</td>\n",
       "      <td>1</td>\n",
       "      <td>No</td>\n",
       "      <td>No phone service</td>\n",
       "      <td>DSL</td>\n",
       "      <td>No</td>\n",
       "      <td>...</td>\n",
       "      <td>No</td>\n",
       "      <td>No</td>\n",
       "      <td>No</td>\n",
       "      <td>No</td>\n",
       "      <td>Month-to-month</td>\n",
       "      <td>Yes</td>\n",
       "      <td>Electronic check</td>\n",
       "      <td>29.85</td>\n",
       "      <td>29.85</td>\n",
       "      <td>No</td>\n",
       "    </tr>\n",
       "    <tr>\n",
       "      <th>1</th>\n",
       "      <td>5575-GNVDE</td>\n",
       "      <td>Male</td>\n",
       "      <td>0</td>\n",
       "      <td>No</td>\n",
       "      <td>No</td>\n",
       "      <td>34</td>\n",
       "      <td>Yes</td>\n",
       "      <td>No</td>\n",
       "      <td>DSL</td>\n",
       "      <td>Yes</td>\n",
       "      <td>...</td>\n",
       "      <td>Yes</td>\n",
       "      <td>No</td>\n",
       "      <td>No</td>\n",
       "      <td>No</td>\n",
       "      <td>One year</td>\n",
       "      <td>No</td>\n",
       "      <td>Mailed check</td>\n",
       "      <td>56.95</td>\n",
       "      <td>1889.50</td>\n",
       "      <td>No</td>\n",
       "    </tr>\n",
       "    <tr>\n",
       "      <th>2</th>\n",
       "      <td>3668-QPYBK</td>\n",
       "      <td>Male</td>\n",
       "      <td>0</td>\n",
       "      <td>No</td>\n",
       "      <td>No</td>\n",
       "      <td>2</td>\n",
       "      <td>Yes</td>\n",
       "      <td>No</td>\n",
       "      <td>DSL</td>\n",
       "      <td>Yes</td>\n",
       "      <td>...</td>\n",
       "      <td>No</td>\n",
       "      <td>No</td>\n",
       "      <td>No</td>\n",
       "      <td>No</td>\n",
       "      <td>Month-to-month</td>\n",
       "      <td>Yes</td>\n",
       "      <td>Mailed check</td>\n",
       "      <td>53.85</td>\n",
       "      <td>108.15</td>\n",
       "      <td>Yes</td>\n",
       "    </tr>\n",
       "    <tr>\n",
       "      <th>3</th>\n",
       "      <td>7795-CFOCW</td>\n",
       "      <td>Male</td>\n",
       "      <td>0</td>\n",
       "      <td>No</td>\n",
       "      <td>No</td>\n",
       "      <td>45</td>\n",
       "      <td>No</td>\n",
       "      <td>No phone service</td>\n",
       "      <td>DSL</td>\n",
       "      <td>Yes</td>\n",
       "      <td>...</td>\n",
       "      <td>Yes</td>\n",
       "      <td>Yes</td>\n",
       "      <td>No</td>\n",
       "      <td>No</td>\n",
       "      <td>One year</td>\n",
       "      <td>No</td>\n",
       "      <td>Bank transfer (automatic)</td>\n",
       "      <td>42.30</td>\n",
       "      <td>1840.75</td>\n",
       "      <td>No</td>\n",
       "    </tr>\n",
       "    <tr>\n",
       "      <th>4</th>\n",
       "      <td>9237-HQITU</td>\n",
       "      <td>Female</td>\n",
       "      <td>0</td>\n",
       "      <td>No</td>\n",
       "      <td>No</td>\n",
       "      <td>2</td>\n",
       "      <td>Yes</td>\n",
       "      <td>No</td>\n",
       "      <td>Fiber optic</td>\n",
       "      <td>No</td>\n",
       "      <td>...</td>\n",
       "      <td>No</td>\n",
       "      <td>No</td>\n",
       "      <td>No</td>\n",
       "      <td>No</td>\n",
       "      <td>Month-to-month</td>\n",
       "      <td>Yes</td>\n",
       "      <td>Electronic check</td>\n",
       "      <td>70.70</td>\n",
       "      <td>151.65</td>\n",
       "      <td>Yes</td>\n",
       "    </tr>\n",
       "    <tr>\n",
       "      <th>...</th>\n",
       "      <td>...</td>\n",
       "      <td>...</td>\n",
       "      <td>...</td>\n",
       "      <td>...</td>\n",
       "      <td>...</td>\n",
       "      <td>...</td>\n",
       "      <td>...</td>\n",
       "      <td>...</td>\n",
       "      <td>...</td>\n",
       "      <td>...</td>\n",
       "      <td>...</td>\n",
       "      <td>...</td>\n",
       "      <td>...</td>\n",
       "      <td>...</td>\n",
       "      <td>...</td>\n",
       "      <td>...</td>\n",
       "      <td>...</td>\n",
       "      <td>...</td>\n",
       "      <td>...</td>\n",
       "      <td>...</td>\n",
       "      <td>...</td>\n",
       "    </tr>\n",
       "    <tr>\n",
       "      <th>7038</th>\n",
       "      <td>6840-RESVB</td>\n",
       "      <td>Male</td>\n",
       "      <td>0</td>\n",
       "      <td>Yes</td>\n",
       "      <td>Yes</td>\n",
       "      <td>24</td>\n",
       "      <td>Yes</td>\n",
       "      <td>Yes</td>\n",
       "      <td>DSL</td>\n",
       "      <td>Yes</td>\n",
       "      <td>...</td>\n",
       "      <td>Yes</td>\n",
       "      <td>Yes</td>\n",
       "      <td>Yes</td>\n",
       "      <td>Yes</td>\n",
       "      <td>One year</td>\n",
       "      <td>Yes</td>\n",
       "      <td>Mailed check</td>\n",
       "      <td>84.80</td>\n",
       "      <td>1990.50</td>\n",
       "      <td>No</td>\n",
       "    </tr>\n",
       "    <tr>\n",
       "      <th>7039</th>\n",
       "      <td>2234-XADUH</td>\n",
       "      <td>Female</td>\n",
       "      <td>0</td>\n",
       "      <td>Yes</td>\n",
       "      <td>Yes</td>\n",
       "      <td>72</td>\n",
       "      <td>Yes</td>\n",
       "      <td>Yes</td>\n",
       "      <td>Fiber optic</td>\n",
       "      <td>No</td>\n",
       "      <td>...</td>\n",
       "      <td>Yes</td>\n",
       "      <td>No</td>\n",
       "      <td>Yes</td>\n",
       "      <td>Yes</td>\n",
       "      <td>One year</td>\n",
       "      <td>Yes</td>\n",
       "      <td>Credit card (automatic)</td>\n",
       "      <td>103.20</td>\n",
       "      <td>7362.90</td>\n",
       "      <td>No</td>\n",
       "    </tr>\n",
       "    <tr>\n",
       "      <th>7040</th>\n",
       "      <td>4801-JZAZL</td>\n",
       "      <td>Female</td>\n",
       "      <td>0</td>\n",
       "      <td>Yes</td>\n",
       "      <td>Yes</td>\n",
       "      <td>11</td>\n",
       "      <td>No</td>\n",
       "      <td>No phone service</td>\n",
       "      <td>DSL</td>\n",
       "      <td>Yes</td>\n",
       "      <td>...</td>\n",
       "      <td>No</td>\n",
       "      <td>No</td>\n",
       "      <td>No</td>\n",
       "      <td>No</td>\n",
       "      <td>Month-to-month</td>\n",
       "      <td>Yes</td>\n",
       "      <td>Electronic check</td>\n",
       "      <td>29.60</td>\n",
       "      <td>346.45</td>\n",
       "      <td>No</td>\n",
       "    </tr>\n",
       "    <tr>\n",
       "      <th>7041</th>\n",
       "      <td>8361-LTMKD</td>\n",
       "      <td>Male</td>\n",
       "      <td>1</td>\n",
       "      <td>Yes</td>\n",
       "      <td>No</td>\n",
       "      <td>4</td>\n",
       "      <td>Yes</td>\n",
       "      <td>Yes</td>\n",
       "      <td>Fiber optic</td>\n",
       "      <td>No</td>\n",
       "      <td>...</td>\n",
       "      <td>No</td>\n",
       "      <td>No</td>\n",
       "      <td>No</td>\n",
       "      <td>No</td>\n",
       "      <td>Month-to-month</td>\n",
       "      <td>Yes</td>\n",
       "      <td>Mailed check</td>\n",
       "      <td>74.40</td>\n",
       "      <td>306.60</td>\n",
       "      <td>Yes</td>\n",
       "    </tr>\n",
       "    <tr>\n",
       "      <th>7042</th>\n",
       "      <td>3186-AJIEK</td>\n",
       "      <td>Male</td>\n",
       "      <td>0</td>\n",
       "      <td>No</td>\n",
       "      <td>No</td>\n",
       "      <td>66</td>\n",
       "      <td>Yes</td>\n",
       "      <td>No</td>\n",
       "      <td>Fiber optic</td>\n",
       "      <td>Yes</td>\n",
       "      <td>...</td>\n",
       "      <td>Yes</td>\n",
       "      <td>Yes</td>\n",
       "      <td>Yes</td>\n",
       "      <td>Yes</td>\n",
       "      <td>Two year</td>\n",
       "      <td>Yes</td>\n",
       "      <td>Bank transfer (automatic)</td>\n",
       "      <td>105.65</td>\n",
       "      <td>6844.50</td>\n",
       "      <td>No</td>\n",
       "    </tr>\n",
       "  </tbody>\n",
       "</table>\n",
       "<p>7043 rows × 21 columns</p>\n",
       "</div>"
      ],
      "text/plain": [
       "      customerID  gender  SeniorCitizen Partner Dependents  tenure  \\\n",
       "0     7590-VHVEG  Female              0     Yes         No       1   \n",
       "1     5575-GNVDE    Male              0      No         No      34   \n",
       "2     3668-QPYBK    Male              0      No         No       2   \n",
       "3     7795-CFOCW    Male              0      No         No      45   \n",
       "4     9237-HQITU  Female              0      No         No       2   \n",
       "...          ...     ...            ...     ...        ...     ...   \n",
       "7038  6840-RESVB    Male              0     Yes        Yes      24   \n",
       "7039  2234-XADUH  Female              0     Yes        Yes      72   \n",
       "7040  4801-JZAZL  Female              0     Yes        Yes      11   \n",
       "7041  8361-LTMKD    Male              1     Yes         No       4   \n",
       "7042  3186-AJIEK    Male              0      No         No      66   \n",
       "\n",
       "     PhoneService     MultipleLines InternetService OnlineSecurity  ...  \\\n",
       "0              No  No phone service             DSL             No  ...   \n",
       "1             Yes                No             DSL            Yes  ...   \n",
       "2             Yes                No             DSL            Yes  ...   \n",
       "3              No  No phone service             DSL            Yes  ...   \n",
       "4             Yes                No     Fiber optic             No  ...   \n",
       "...           ...               ...             ...            ...  ...   \n",
       "7038          Yes               Yes             DSL            Yes  ...   \n",
       "7039          Yes               Yes     Fiber optic             No  ...   \n",
       "7040           No  No phone service             DSL            Yes  ...   \n",
       "7041          Yes               Yes     Fiber optic             No  ...   \n",
       "7042          Yes                No     Fiber optic            Yes  ...   \n",
       "\n",
       "     DeviceProtection TechSupport StreamingTV StreamingMovies        Contract  \\\n",
       "0                  No          No          No              No  Month-to-month   \n",
       "1                 Yes          No          No              No        One year   \n",
       "2                  No          No          No              No  Month-to-month   \n",
       "3                 Yes         Yes          No              No        One year   \n",
       "4                  No          No          No              No  Month-to-month   \n",
       "...               ...         ...         ...             ...             ...   \n",
       "7038              Yes         Yes         Yes             Yes        One year   \n",
       "7039              Yes          No         Yes             Yes        One year   \n",
       "7040               No          No          No              No  Month-to-month   \n",
       "7041               No          No          No              No  Month-to-month   \n",
       "7042              Yes         Yes         Yes             Yes        Two year   \n",
       "\n",
       "     PaperlessBilling              PaymentMethod MonthlyCharges  TotalCharges  \\\n",
       "0                 Yes           Electronic check          29.85         29.85   \n",
       "1                  No               Mailed check          56.95       1889.50   \n",
       "2                 Yes               Mailed check          53.85        108.15   \n",
       "3                  No  Bank transfer (automatic)          42.30       1840.75   \n",
       "4                 Yes           Electronic check          70.70        151.65   \n",
       "...               ...                        ...            ...           ...   \n",
       "7038              Yes               Mailed check          84.80       1990.50   \n",
       "7039              Yes    Credit card (automatic)         103.20       7362.90   \n",
       "7040              Yes           Electronic check          29.60        346.45   \n",
       "7041              Yes               Mailed check          74.40        306.60   \n",
       "7042              Yes  Bank transfer (automatic)         105.65       6844.50   \n",
       "\n",
       "      Churn  \n",
       "0        No  \n",
       "1        No  \n",
       "2       Yes  \n",
       "3        No  \n",
       "4       Yes  \n",
       "...     ...  \n",
       "7038     No  \n",
       "7039     No  \n",
       "7040     No  \n",
       "7041    Yes  \n",
       "7042     No  \n",
       "\n",
       "[7043 rows x 21 columns]"
      ]
     },
     "execution_count": 3,
     "metadata": {},
     "output_type": "execute_result"
    }
   ],
   "source": [
    "data"
   ]
  },
  {
   "cell_type": "code",
   "execution_count": 4,
   "id": "c8a302da",
   "metadata": {
    "ExecuteTime": {
     "end_time": "2023-02-09T08:41:22.525105Z",
     "start_time": "2023-02-09T08:41:22.509118Z"
    }
   },
   "outputs": [
    {
     "data": {
      "text/plain": [
       "(7043, 21)"
      ]
     },
     "execution_count": 4,
     "metadata": {},
     "output_type": "execute_result"
    }
   ],
   "source": [
    "data.shape"
   ]
  },
  {
   "cell_type": "code",
   "execution_count": 5,
   "id": "9a00ce7a",
   "metadata": {
    "ExecuteTime": {
     "end_time": "2023-02-09T08:41:22.581105Z",
     "start_time": "2023-02-09T08:41:22.525105Z"
    }
   },
   "outputs": [
    {
     "name": "stdout",
     "output_type": "stream",
     "text": [
      "<class 'pandas.core.frame.DataFrame'>\n",
      "RangeIndex: 7043 entries, 0 to 7042\n",
      "Data columns (total 21 columns):\n",
      " #   Column            Non-Null Count  Dtype  \n",
      "---  ------            --------------  -----  \n",
      " 0   customerID        7043 non-null   object \n",
      " 1   gender            7043 non-null   object \n",
      " 2   SeniorCitizen     7043 non-null   int64  \n",
      " 3   Partner           7043 non-null   object \n",
      " 4   Dependents        7043 non-null   object \n",
      " 5   tenure            7043 non-null   int64  \n",
      " 6   PhoneService      7043 non-null   object \n",
      " 7   MultipleLines     7043 non-null   object \n",
      " 8   InternetService   7043 non-null   object \n",
      " 9   OnlineSecurity    7043 non-null   object \n",
      " 10  OnlineBackup      7043 non-null   object \n",
      " 11  DeviceProtection  7043 non-null   object \n",
      " 12  TechSupport       7043 non-null   object \n",
      " 13  StreamingTV       7043 non-null   object \n",
      " 14  StreamingMovies   7043 non-null   object \n",
      " 15  Contract          7043 non-null   object \n",
      " 16  PaperlessBilling  7043 non-null   object \n",
      " 17  PaymentMethod     7043 non-null   object \n",
      " 18  MonthlyCharges    7043 non-null   float64\n",
      " 19  TotalCharges      7032 non-null   float64\n",
      " 20  Churn             7043 non-null   object \n",
      "dtypes: float64(2), int64(2), object(17)\n",
      "memory usage: 1.1+ MB\n"
     ]
    }
   ],
   "source": [
    "data.info()"
   ]
  },
  {
   "cell_type": "markdown",
   "id": "9f79dd95",
   "metadata": {},
   "source": [
    "# Checking Duplicates"
   ]
  },
  {
   "cell_type": "code",
   "execution_count": 6,
   "id": "acc299ab",
   "metadata": {
    "ExecuteTime": {
     "end_time": "2023-02-09T08:41:22.629075Z",
     "start_time": "2023-02-09T08:41:22.581105Z"
    }
   },
   "outputs": [
    {
     "data": {
      "text/html": [
       "<div>\n",
       "<style scoped>\n",
       "    .dataframe tbody tr th:only-of-type {\n",
       "        vertical-align: middle;\n",
       "    }\n",
       "\n",
       "    .dataframe tbody tr th {\n",
       "        vertical-align: top;\n",
       "    }\n",
       "\n",
       "    .dataframe thead th {\n",
       "        text-align: right;\n",
       "    }\n",
       "</style>\n",
       "<table border=\"1\" class=\"dataframe\">\n",
       "  <thead>\n",
       "    <tr style=\"text-align: right;\">\n",
       "      <th></th>\n",
       "      <th>customerID</th>\n",
       "      <th>gender</th>\n",
       "      <th>SeniorCitizen</th>\n",
       "      <th>Partner</th>\n",
       "      <th>Dependents</th>\n",
       "      <th>tenure</th>\n",
       "      <th>PhoneService</th>\n",
       "      <th>MultipleLines</th>\n",
       "      <th>InternetService</th>\n",
       "      <th>OnlineSecurity</th>\n",
       "      <th>...</th>\n",
       "      <th>DeviceProtection</th>\n",
       "      <th>TechSupport</th>\n",
       "      <th>StreamingTV</th>\n",
       "      <th>StreamingMovies</th>\n",
       "      <th>Contract</th>\n",
       "      <th>PaperlessBilling</th>\n",
       "      <th>PaymentMethod</th>\n",
       "      <th>MonthlyCharges</th>\n",
       "      <th>TotalCharges</th>\n",
       "      <th>Churn</th>\n",
       "    </tr>\n",
       "  </thead>\n",
       "  <tbody>\n",
       "  </tbody>\n",
       "</table>\n",
       "<p>0 rows × 21 columns</p>\n",
       "</div>"
      ],
      "text/plain": [
       "Empty DataFrame\n",
       "Columns: [customerID, gender, SeniorCitizen, Partner, Dependents, tenure, PhoneService, MultipleLines, InternetService, OnlineSecurity, OnlineBackup, DeviceProtection, TechSupport, StreamingTV, StreamingMovies, Contract, PaperlessBilling, PaymentMethod, MonthlyCharges, TotalCharges, Churn]\n",
       "Index: []\n",
       "\n",
       "[0 rows x 21 columns]"
      ]
     },
     "execution_count": 6,
     "metadata": {},
     "output_type": "execute_result"
    }
   ],
   "source": [
    "data[data.duplicated()]"
   ]
  },
  {
   "cell_type": "code",
   "execution_count": 7,
   "id": "cf573dd9",
   "metadata": {
    "ExecuteTime": {
     "end_time": "2023-02-09T08:41:22.653020Z",
     "start_time": "2023-02-09T08:41:22.629075Z"
    }
   },
   "outputs": [
    {
     "data": {
      "text/plain": [
       "0"
      ]
     },
     "execution_count": 7,
     "metadata": {},
     "output_type": "execute_result"
    }
   ],
   "source": [
    "data.duplicated().sum() # there is no duplicate data in the data set"
   ]
  },
  {
   "cell_type": "markdown",
   "id": "83a8173d",
   "metadata": {},
   "source": [
    "# Checking the missing values"
   ]
  },
  {
   "cell_type": "code",
   "execution_count": 8,
   "id": "2a726eea",
   "metadata": {
    "ExecuteTime": {
     "end_time": "2023-02-09T08:41:22.669046Z",
     "start_time": "2023-02-09T08:41:22.653020Z"
    }
   },
   "outputs": [
    {
     "data": {
      "text/plain": [
       "11"
      ]
     },
     "execution_count": 8,
     "metadata": {},
     "output_type": "execute_result"
    }
   ],
   "source": [
    "data.TotalCharges.isna().sum() # total charges column as 11 nan values"
   ]
  },
  {
   "cell_type": "code",
   "execution_count": 9,
   "id": "50e03893",
   "metadata": {
    "ExecuteTime": {
     "end_time": "2023-02-09T08:41:22.685036Z",
     "start_time": "2023-02-09T08:41:22.669046Z"
    }
   },
   "outputs": [
    {
     "data": {
      "text/plain": [
       "488    NaN\n",
       "753    NaN\n",
       "936    NaN\n",
       "1082   NaN\n",
       "1340   NaN\n",
       "3331   NaN\n",
       "3826   NaN\n",
       "4380   NaN\n",
       "5218   NaN\n",
       "6670   NaN\n",
       "6754   NaN\n",
       "Name: TotalCharges, dtype: float64"
      ]
     },
     "execution_count": 9,
     "metadata": {},
     "output_type": "execute_result"
    }
   ],
   "source": [
    "data.TotalCharges[data.TotalCharges.isna()]"
   ]
  },
  {
   "cell_type": "code",
   "execution_count": 10,
   "id": "b0036217",
   "metadata": {
    "ExecuteTime": {
     "end_time": "2023-02-09T08:41:22.717017Z",
     "start_time": "2023-02-09T08:41:22.685036Z"
    }
   },
   "outputs": [
    {
     "data": {
      "text/plain": [
       "2283.3004408418656"
      ]
     },
     "execution_count": 10,
     "metadata": {},
     "output_type": "execute_result"
    },
    {
     "data": {
      "text/plain": [
       "1397.475"
      ]
     },
     "execution_count": 10,
     "metadata": {},
     "output_type": "execute_result"
    },
    {
     "data": {
      "text/plain": [
       "20.2"
      ]
     },
     "execution_count": 10,
     "metadata": {},
     "output_type": "execute_result"
    }
   ],
   "source": [
    "data.TotalCharges.mean()\n",
    "data.TotalCharges.median()\n",
    "data.TotalCharges.mode()[0]"
   ]
  },
  {
   "cell_type": "code",
   "execution_count": 11,
   "id": "ae429905",
   "metadata": {
    "ExecuteTime": {
     "end_time": "2023-02-09T08:41:23.843958Z",
     "start_time": "2023-02-09T08:41:23.835965Z"
    }
   },
   "outputs": [],
   "source": [
    "x=data.TotalCharges.median()\n",
    "data.TotalCharges.fillna(x,inplace=True) \n",
    "# replacing the nan with median because mean will be affected by the outliers"
   ]
  },
  {
   "cell_type": "code",
   "execution_count": 12,
   "id": "d70bd09c",
   "metadata": {
    "ExecuteTime": {
     "end_time": "2023-02-09T08:41:24.696246Z",
     "start_time": "2023-02-09T08:41:24.680220Z"
    }
   },
   "outputs": [
    {
     "data": {
      "text/plain": [
       "0.0"
      ]
     },
     "execution_count": 12,
     "metadata": {},
     "output_type": "execute_result"
    }
   ],
   "source": [
    "data.TotalCharges[data.TotalCharges.isna()].sum()"
   ]
  },
  {
   "cell_type": "code",
   "execution_count": 13,
   "id": "a6db8ff7",
   "metadata": {
    "ExecuteTime": {
     "end_time": "2023-02-09T08:41:25.116043Z",
     "start_time": "2023-02-09T08:41:25.092025Z"
    }
   },
   "outputs": [
    {
     "data": {
      "text/plain": [
       "customerID          0\n",
       "gender              0\n",
       "SeniorCitizen       0\n",
       "Partner             0\n",
       "Dependents          0\n",
       "tenure              0\n",
       "PhoneService        0\n",
       "MultipleLines       0\n",
       "InternetService     0\n",
       "OnlineSecurity      0\n",
       "OnlineBackup        0\n",
       "DeviceProtection    0\n",
       "TechSupport         0\n",
       "StreamingTV         0\n",
       "StreamingMovies     0\n",
       "Contract            0\n",
       "PaperlessBilling    0\n",
       "PaymentMethod       0\n",
       "MonthlyCharges      0\n",
       "TotalCharges        0\n",
       "Churn               0\n",
       "dtype: int64"
      ]
     },
     "execution_count": 13,
     "metadata": {},
     "output_type": "execute_result"
    }
   ],
   "source": [
    "data.isna().sum()"
   ]
  },
  {
   "cell_type": "code",
   "execution_count": 14,
   "id": "fbe55e62",
   "metadata": {
    "ExecuteTime": {
     "end_time": "2023-02-09T08:41:25.494210Z",
     "start_time": "2023-02-09T08:41:25.454238Z"
    }
   },
   "outputs": [
    {
     "data": {
      "text/html": [
       "<div>\n",
       "<style scoped>\n",
       "    .dataframe tbody tr th:only-of-type {\n",
       "        vertical-align: middle;\n",
       "    }\n",
       "\n",
       "    .dataframe tbody tr th {\n",
       "        vertical-align: top;\n",
       "    }\n",
       "\n",
       "    .dataframe thead th {\n",
       "        text-align: right;\n",
       "    }\n",
       "</style>\n",
       "<table border=\"1\" class=\"dataframe\">\n",
       "  <thead>\n",
       "    <tr style=\"text-align: right;\">\n",
       "      <th></th>\n",
       "      <th>SeniorCitizen</th>\n",
       "      <th>tenure</th>\n",
       "      <th>MonthlyCharges</th>\n",
       "      <th>TotalCharges</th>\n",
       "    </tr>\n",
       "  </thead>\n",
       "  <tbody>\n",
       "    <tr>\n",
       "      <th>count</th>\n",
       "      <td>7043.000000</td>\n",
       "      <td>7043.000000</td>\n",
       "      <td>7043.000000</td>\n",
       "      <td>7043.000000</td>\n",
       "    </tr>\n",
       "    <tr>\n",
       "      <th>mean</th>\n",
       "      <td>0.162147</td>\n",
       "      <td>32.371149</td>\n",
       "      <td>64.761692</td>\n",
       "      <td>2281.916928</td>\n",
       "    </tr>\n",
       "    <tr>\n",
       "      <th>std</th>\n",
       "      <td>0.368612</td>\n",
       "      <td>24.559481</td>\n",
       "      <td>30.090047</td>\n",
       "      <td>2265.270398</td>\n",
       "    </tr>\n",
       "    <tr>\n",
       "      <th>min</th>\n",
       "      <td>0.000000</td>\n",
       "      <td>0.000000</td>\n",
       "      <td>18.250000</td>\n",
       "      <td>18.800000</td>\n",
       "    </tr>\n",
       "    <tr>\n",
       "      <th>25%</th>\n",
       "      <td>0.000000</td>\n",
       "      <td>9.000000</td>\n",
       "      <td>35.500000</td>\n",
       "      <td>402.225000</td>\n",
       "    </tr>\n",
       "    <tr>\n",
       "      <th>50%</th>\n",
       "      <td>0.000000</td>\n",
       "      <td>29.000000</td>\n",
       "      <td>70.350000</td>\n",
       "      <td>1397.475000</td>\n",
       "    </tr>\n",
       "    <tr>\n",
       "      <th>75%</th>\n",
       "      <td>0.000000</td>\n",
       "      <td>55.000000</td>\n",
       "      <td>89.850000</td>\n",
       "      <td>3786.600000</td>\n",
       "    </tr>\n",
       "    <tr>\n",
       "      <th>max</th>\n",
       "      <td>1.000000</td>\n",
       "      <td>72.000000</td>\n",
       "      <td>118.750000</td>\n",
       "      <td>8684.800000</td>\n",
       "    </tr>\n",
       "  </tbody>\n",
       "</table>\n",
       "</div>"
      ],
      "text/plain": [
       "       SeniorCitizen       tenure  MonthlyCharges  TotalCharges\n",
       "count    7043.000000  7043.000000     7043.000000   7043.000000\n",
       "mean        0.162147    32.371149       64.761692   2281.916928\n",
       "std         0.368612    24.559481       30.090047   2265.270398\n",
       "min         0.000000     0.000000       18.250000     18.800000\n",
       "25%         0.000000     9.000000       35.500000    402.225000\n",
       "50%         0.000000    29.000000       70.350000   1397.475000\n",
       "75%         0.000000    55.000000       89.850000   3786.600000\n",
       "max         1.000000    72.000000      118.750000   8684.800000"
      ]
     },
     "execution_count": 14,
     "metadata": {},
     "output_type": "execute_result"
    }
   ],
   "source": [
    "data.describe()"
   ]
  },
  {
   "cell_type": "markdown",
   "id": "dc3f53da",
   "metadata": {
    "ExecuteTime": {
     "end_time": "2023-02-08T13:43:46.199330Z",
     "start_time": "2023-02-08T13:43:46.191238Z"
    }
   },
   "source": [
    "# outliers"
   ]
  },
  {
   "cell_type": "code",
   "execution_count": 15,
   "id": "ac569b84",
   "metadata": {
    "ExecuteTime": {
     "end_time": "2023-02-09T08:41:26.174456Z",
     "start_time": "2023-02-09T08:41:26.166462Z"
    }
   },
   "outputs": [
    {
     "name": "stdout",
     "output_type": "stream",
     "text": [
      "9.0 29.0 55.0\n"
     ]
    }
   ],
   "source": [
    " Q1,Q2,Q3=tuple(data.tenure.quantile(q=[0.25,0.50,0.75]).values)\n",
    "print( Q1,Q2,Q3)"
   ]
  },
  {
   "cell_type": "code",
   "execution_count": 16,
   "id": "de62ecfd",
   "metadata": {
    "ExecuteTime": {
     "end_time": "2023-02-09T08:41:26.582221Z",
     "start_time": "2023-02-09T08:41:26.558201Z"
    }
   },
   "outputs": [
    {
     "name": "stdout",
     "output_type": "stream",
     "text": [
      "46.0 124.0 -60.0\n"
     ]
    }
   ],
   "source": [
    "IQR = Q3-Q1\n",
    "UL = Q3 + 1.5*IQR\n",
    "LL = Q1-1.5*IQR\n",
    "\n",
    "print(IQR, UL, LL)"
   ]
  },
  {
   "cell_type": "code",
   "execution_count": 17,
   "id": "047d9fb3",
   "metadata": {
    "ExecuteTime": {
     "end_time": "2023-02-09T08:41:26.925023Z",
     "start_time": "2023-02-09T08:41:26.909042Z"
    }
   },
   "outputs": [
    {
     "data": {
      "text/plain": [
       "array([], shape=(0, 21), dtype=object)"
      ]
     },
     "execution_count": 17,
     "metadata": {},
     "output_type": "execute_result"
    }
   ],
   "source": [
    "data[(data.tenure<LL)|(data.tenure>UL)].values# there is no outlier in the tenure column"
   ]
  },
  {
   "cell_type": "code",
   "execution_count": 18,
   "id": "2d49d38e",
   "metadata": {
    "ExecuteTime": {
     "end_time": "2023-02-09T08:41:27.490378Z",
     "start_time": "2023-02-09T08:41:27.284057Z"
    }
   },
   "outputs": [
    {
     "data": {
      "image/png": "[encoded data removed]",
      "text/plain": [
       "<Figure size 360x504 with 1 Axes>"
      ]
     },
     "metadata": {
      "needs_background": "light"
     },
     "output_type": "display_data"
    }
   ],
   "source": [
    "plt.figure(figsize=(5,7))\n",
    "sns.boxplot(data.tenure);"
   ]
  },
  {
   "cell_type": "code",
   "execution_count": 19,
   "id": "fffd1e41",
   "metadata": {
    "ExecuteTime": {
     "end_time": "2023-02-09T08:41:27.634285Z",
     "start_time": "2023-02-09T08:41:27.610307Z"
    }
   },
   "outputs": [
    {
     "name": "stdout",
     "output_type": "stream",
     "text": [
      "35.5 70.35 89.85\n"
     ]
    }
   ],
   "source": [
    " Q1,Q2,Q3=tuple(data.MonthlyCharges.quantile(q=[0.25,0.50,0.75]).values)\n",
    "print( Q1,Q2,Q3)"
   ]
  },
  {
   "cell_type": "code",
   "execution_count": 20,
   "id": "c2088728",
   "metadata": {
    "ExecuteTime": {
     "end_time": "2023-02-09T08:41:27.978015Z",
     "start_time": "2023-02-09T08:41:27.962070Z"
    }
   },
   "outputs": [
    {
     "name": "stdout",
     "output_type": "stream",
     "text": [
      "54.349999999999994 171.375 -46.02499999999999\n"
     ]
    }
   ],
   "source": [
    "IQR = Q3-Q1\n",
    "UL = Q3 + 1.5*IQR\n",
    "LL = Q1-1.5*IQR\n",
    "\n",
    "print(IQR, UL, LL)"
   ]
  },
  {
   "cell_type": "code",
   "execution_count": 21,
   "id": "87c80682",
   "metadata": {
    "ExecuteTime": {
     "end_time": "2023-02-09T08:41:28.330363Z",
     "start_time": "2023-02-09T08:41:28.306880Z"
    }
   },
   "outputs": [
    {
     "data": {
      "text/plain": [
       "array([], shape=(0, 21), dtype=object)"
      ]
     },
     "execution_count": 21,
     "metadata": {},
     "output_type": "execute_result"
    }
   ],
   "source": [
    "data[(data.MonthlyCharges<LL)|(data.MonthlyCharges>UL)].values # there is no outliers in the monthly charges"
   ]
  },
  {
   "cell_type": "code",
   "execution_count": 22,
   "id": "a60fc28b",
   "metadata": {
    "ExecuteTime": {
     "end_time": "2023-02-09T08:41:28.743653Z",
     "start_time": "2023-02-09T08:41:28.631146Z"
    }
   },
   "outputs": [
    {
     "data": {
      "image/png": "[encoded data removed]",
      "text/plain": [
       "<Figure size 360x504 with 1 Axes>"
      ]
     },
     "metadata": {
      "needs_background": "light"
     },
     "output_type": "display_data"
    }
   ],
   "source": [
    "plt.figure(figsize=(5,7))\n",
    "sns.boxplot(data.MonthlyCharges);"
   ]
  },
  {
   "cell_type": "code",
   "execution_count": 23,
   "id": "91179705",
   "metadata": {
    "ExecuteTime": {
     "end_time": "2023-02-09T08:41:28.967512Z",
     "start_time": "2023-02-09T08:41:28.935531Z"
    }
   },
   "outputs": [
    {
     "name": "stdout",
     "output_type": "stream",
     "text": [
      "402.225 1397.475 3786.6\n"
     ]
    }
   ],
   "source": [
    "Q1,Q2,Q3=tuple(data.TotalCharges.quantile(q=[0.25,0.50,0.75]).values)\n",
    "print( Q1,Q2,Q3)"
   ]
  },
  {
   "cell_type": "code",
   "execution_count": 24,
   "id": "20d3a7a8",
   "metadata": {
    "ExecuteTime": {
     "end_time": "2023-02-09T08:41:29.335775Z",
     "start_time": "2023-02-09T08:41:29.319790Z"
    }
   },
   "outputs": [
    {
     "name": "stdout",
     "output_type": "stream",
     "text": [
      "3384.375 8863.1625 -4674.3375\n"
     ]
    }
   ],
   "source": [
    "IQR = Q3-Q1\n",
    "UL = Q3 + 1.5*IQR\n",
    "LL = Q1-1.5*IQR\n",
    "\n",
    "print(IQR, UL, LL)"
   ]
  },
  {
   "cell_type": "code",
   "execution_count": 25,
   "id": "982a40c9",
   "metadata": {
    "ExecuteTime": {
     "end_time": "2023-02-09T08:41:29.703525Z",
     "start_time": "2023-02-09T08:41:29.679504Z"
    }
   },
   "outputs": [
    {
     "data": {
      "text/plain": [
       "array([], shape=(0, 21), dtype=object)"
      ]
     },
     "execution_count": 25,
     "metadata": {},
     "output_type": "execute_result"
    }
   ],
   "source": [
    "data[(data.TotalCharges<LL)|(data.TotalCharges>UL)].values # there is no outliers in the total charges column"
   ]
  },
  {
   "cell_type": "code",
   "execution_count": 26,
   "id": "46330e6e",
   "metadata": {
    "ExecuteTime": {
     "end_time": "2023-02-09T08:41:30.140816Z",
     "start_time": "2023-02-09T08:41:30.036292Z"
    }
   },
   "outputs": [
    {
     "data": {
      "image/png": "[encoded data removed]",
      "text/plain": [
       "<Figure size 360x504 with 1 Axes>"
      ]
     },
     "metadata": {
      "needs_background": "light"
     },
     "output_type": "display_data"
    }
   ],
   "source": [
    "plt.figure(figsize=(5,7))\n",
    "sns.boxplot(data.TotalCharges);"
   ]
  },
  {
   "cell_type": "code",
   "execution_count": 27,
   "id": "77a343e9",
   "metadata": {
    "ExecuteTime": {
     "end_time": "2023-02-09T08:41:30.404083Z",
     "start_time": "2023-02-09T08:41:30.388060Z"
    }
   },
   "outputs": [
    {
     "name": "stdout",
     "output_type": "stream",
     "text": [
      "0.0 0.0 0.0\n"
     ]
    }
   ],
   "source": [
    " Q1,Q2,Q3=tuple(data.SeniorCitizen.quantile(q=[0.25,0.50,0.75]).values)\n",
    "print( Q1,Q2,Q3)"
   ]
  },
  {
   "cell_type": "code",
   "execution_count": 28,
   "id": "ac23cd82",
   "metadata": {
    "ExecuteTime": {
     "end_time": "2023-02-09T08:41:30.792502Z",
     "start_time": "2023-02-09T08:41:30.776511Z"
    }
   },
   "outputs": [
    {
     "name": "stdout",
     "output_type": "stream",
     "text": [
      "0.0 0.0 0.0\n"
     ]
    }
   ],
   "source": [
    "IQR = Q3-Q1\n",
    "UL = Q3 + 1.5*IQR\n",
    "LL = Q1-1.5*IQR\n",
    "\n",
    "print(IQR, UL, LL)"
   ]
  },
  {
   "cell_type": "code",
   "execution_count": 29,
   "id": "1b20ff14",
   "metadata": {
    "ExecuteTime": {
     "end_time": "2023-02-09T08:41:31.229222Z",
     "start_time": "2023-02-09T08:41:31.165299Z"
    }
   },
   "outputs": [
    {
     "data": {
      "text/html": [
       "<div>\n",
       "<style scoped>\n",
       "    .dataframe tbody tr th:only-of-type {\n",
       "        vertical-align: middle;\n",
       "    }\n",
       "\n",
       "    .dataframe tbody tr th {\n",
       "        vertical-align: top;\n",
       "    }\n",
       "\n",
       "    .dataframe thead th {\n",
       "        text-align: right;\n",
       "    }\n",
       "</style>\n",
       "<table border=\"1\" class=\"dataframe\">\n",
       "  <thead>\n",
       "    <tr style=\"text-align: right;\">\n",
       "      <th></th>\n",
       "      <th>customerID</th>\n",
       "      <th>gender</th>\n",
       "      <th>SeniorCitizen</th>\n",
       "      <th>Partner</th>\n",
       "      <th>Dependents</th>\n",
       "      <th>tenure</th>\n",
       "      <th>PhoneService</th>\n",
       "      <th>MultipleLines</th>\n",
       "      <th>InternetService</th>\n",
       "      <th>OnlineSecurity</th>\n",
       "      <th>...</th>\n",
       "      <th>DeviceProtection</th>\n",
       "      <th>TechSupport</th>\n",
       "      <th>StreamingTV</th>\n",
       "      <th>StreamingMovies</th>\n",
       "      <th>Contract</th>\n",
       "      <th>PaperlessBilling</th>\n",
       "      <th>PaymentMethod</th>\n",
       "      <th>MonthlyCharges</th>\n",
       "      <th>TotalCharges</th>\n",
       "      <th>Churn</th>\n",
       "    </tr>\n",
       "  </thead>\n",
       "  <tbody>\n",
       "    <tr>\n",
       "      <th>20</th>\n",
       "      <td>8779-QRDMV</td>\n",
       "      <td>Male</td>\n",
       "      <td>1</td>\n",
       "      <td>No</td>\n",
       "      <td>No</td>\n",
       "      <td>1</td>\n",
       "      <td>No</td>\n",
       "      <td>No phone service</td>\n",
       "      <td>DSL</td>\n",
       "      <td>No</td>\n",
       "      <td>...</td>\n",
       "      <td>Yes</td>\n",
       "      <td>No</td>\n",
       "      <td>No</td>\n",
       "      <td>Yes</td>\n",
       "      <td>Month-to-month</td>\n",
       "      <td>Yes</td>\n",
       "      <td>Electronic check</td>\n",
       "      <td>39.65</td>\n",
       "      <td>39.65</td>\n",
       "      <td>Yes</td>\n",
       "    </tr>\n",
       "    <tr>\n",
       "      <th>30</th>\n",
       "      <td>3841-NFECX</td>\n",
       "      <td>Female</td>\n",
       "      <td>1</td>\n",
       "      <td>Yes</td>\n",
       "      <td>No</td>\n",
       "      <td>71</td>\n",
       "      <td>Yes</td>\n",
       "      <td>Yes</td>\n",
       "      <td>Fiber optic</td>\n",
       "      <td>Yes</td>\n",
       "      <td>...</td>\n",
       "      <td>Yes</td>\n",
       "      <td>Yes</td>\n",
       "      <td>No</td>\n",
       "      <td>No</td>\n",
       "      <td>Two year</td>\n",
       "      <td>Yes</td>\n",
       "      <td>Credit card (automatic)</td>\n",
       "      <td>96.35</td>\n",
       "      <td>6766.95</td>\n",
       "      <td>No</td>\n",
       "    </tr>\n",
       "    <tr>\n",
       "      <th>31</th>\n",
       "      <td>4929-XIHVW</td>\n",
       "      <td>Male</td>\n",
       "      <td>1</td>\n",
       "      <td>Yes</td>\n",
       "      <td>No</td>\n",
       "      <td>2</td>\n",
       "      <td>Yes</td>\n",
       "      <td>No</td>\n",
       "      <td>Fiber optic</td>\n",
       "      <td>No</td>\n",
       "      <td>...</td>\n",
       "      <td>Yes</td>\n",
       "      <td>No</td>\n",
       "      <td>Yes</td>\n",
       "      <td>Yes</td>\n",
       "      <td>Month-to-month</td>\n",
       "      <td>Yes</td>\n",
       "      <td>Credit card (automatic)</td>\n",
       "      <td>95.50</td>\n",
       "      <td>181.65</td>\n",
       "      <td>No</td>\n",
       "    </tr>\n",
       "    <tr>\n",
       "      <th>34</th>\n",
       "      <td>3413-BMNZE</td>\n",
       "      <td>Male</td>\n",
       "      <td>1</td>\n",
       "      <td>No</td>\n",
       "      <td>No</td>\n",
       "      <td>1</td>\n",
       "      <td>Yes</td>\n",
       "      <td>No</td>\n",
       "      <td>DSL</td>\n",
       "      <td>No</td>\n",
       "      <td>...</td>\n",
       "      <td>No</td>\n",
       "      <td>No</td>\n",
       "      <td>No</td>\n",
       "      <td>No</td>\n",
       "      <td>Month-to-month</td>\n",
       "      <td>No</td>\n",
       "      <td>Bank transfer (automatic)</td>\n",
       "      <td>45.25</td>\n",
       "      <td>45.25</td>\n",
       "      <td>No</td>\n",
       "    </tr>\n",
       "    <tr>\n",
       "      <th>50</th>\n",
       "      <td>8012-SOUDQ</td>\n",
       "      <td>Female</td>\n",
       "      <td>1</td>\n",
       "      <td>No</td>\n",
       "      <td>No</td>\n",
       "      <td>43</td>\n",
       "      <td>Yes</td>\n",
       "      <td>Yes</td>\n",
       "      <td>Fiber optic</td>\n",
       "      <td>No</td>\n",
       "      <td>...</td>\n",
       "      <td>No</td>\n",
       "      <td>No</td>\n",
       "      <td>Yes</td>\n",
       "      <td>No</td>\n",
       "      <td>Month-to-month</td>\n",
       "      <td>Yes</td>\n",
       "      <td>Electronic check</td>\n",
       "      <td>90.25</td>\n",
       "      <td>3838.75</td>\n",
       "      <td>No</td>\n",
       "    </tr>\n",
       "    <tr>\n",
       "      <th>...</th>\n",
       "      <td>...</td>\n",
       "      <td>...</td>\n",
       "      <td>...</td>\n",
       "      <td>...</td>\n",
       "      <td>...</td>\n",
       "      <td>...</td>\n",
       "      <td>...</td>\n",
       "      <td>...</td>\n",
       "      <td>...</td>\n",
       "      <td>...</td>\n",
       "      <td>...</td>\n",
       "      <td>...</td>\n",
       "      <td>...</td>\n",
       "      <td>...</td>\n",
       "      <td>...</td>\n",
       "      <td>...</td>\n",
       "      <td>...</td>\n",
       "      <td>...</td>\n",
       "      <td>...</td>\n",
       "      <td>...</td>\n",
       "      <td>...</td>\n",
       "    </tr>\n",
       "    <tr>\n",
       "      <th>7023</th>\n",
       "      <td>1035-IPQPU</td>\n",
       "      <td>Female</td>\n",
       "      <td>1</td>\n",
       "      <td>Yes</td>\n",
       "      <td>No</td>\n",
       "      <td>63</td>\n",
       "      <td>Yes</td>\n",
       "      <td>Yes</td>\n",
       "      <td>Fiber optic</td>\n",
       "      <td>No</td>\n",
       "      <td>...</td>\n",
       "      <td>Yes</td>\n",
       "      <td>No</td>\n",
       "      <td>Yes</td>\n",
       "      <td>Yes</td>\n",
       "      <td>Month-to-month</td>\n",
       "      <td>Yes</td>\n",
       "      <td>Electronic check</td>\n",
       "      <td>103.50</td>\n",
       "      <td>6479.40</td>\n",
       "      <td>No</td>\n",
       "    </tr>\n",
       "    <tr>\n",
       "      <th>7029</th>\n",
       "      <td>2235-DWLJU</td>\n",
       "      <td>Female</td>\n",
       "      <td>1</td>\n",
       "      <td>No</td>\n",
       "      <td>No</td>\n",
       "      <td>6</td>\n",
       "      <td>No</td>\n",
       "      <td>No phone service</td>\n",
       "      <td>DSL</td>\n",
       "      <td>No</td>\n",
       "      <td>...</td>\n",
       "      <td>No</td>\n",
       "      <td>No</td>\n",
       "      <td>Yes</td>\n",
       "      <td>Yes</td>\n",
       "      <td>Month-to-month</td>\n",
       "      <td>Yes</td>\n",
       "      <td>Electronic check</td>\n",
       "      <td>44.40</td>\n",
       "      <td>263.05</td>\n",
       "      <td>No</td>\n",
       "    </tr>\n",
       "    <tr>\n",
       "      <th>7031</th>\n",
       "      <td>3605-JISKB</td>\n",
       "      <td>Male</td>\n",
       "      <td>1</td>\n",
       "      <td>Yes</td>\n",
       "      <td>No</td>\n",
       "      <td>55</td>\n",
       "      <td>Yes</td>\n",
       "      <td>Yes</td>\n",
       "      <td>DSL</td>\n",
       "      <td>Yes</td>\n",
       "      <td>...</td>\n",
       "      <td>No</td>\n",
       "      <td>No</td>\n",
       "      <td>No</td>\n",
       "      <td>No</td>\n",
       "      <td>One year</td>\n",
       "      <td>No</td>\n",
       "      <td>Credit card (automatic)</td>\n",
       "      <td>60.00</td>\n",
       "      <td>3316.10</td>\n",
       "      <td>No</td>\n",
       "    </tr>\n",
       "    <tr>\n",
       "      <th>7032</th>\n",
       "      <td>6894-LFHLY</td>\n",
       "      <td>Male</td>\n",
       "      <td>1</td>\n",
       "      <td>No</td>\n",
       "      <td>No</td>\n",
       "      <td>1</td>\n",
       "      <td>Yes</td>\n",
       "      <td>Yes</td>\n",
       "      <td>Fiber optic</td>\n",
       "      <td>No</td>\n",
       "      <td>...</td>\n",
       "      <td>No</td>\n",
       "      <td>No</td>\n",
       "      <td>No</td>\n",
       "      <td>No</td>\n",
       "      <td>Month-to-month</td>\n",
       "      <td>Yes</td>\n",
       "      <td>Electronic check</td>\n",
       "      <td>75.75</td>\n",
       "      <td>75.75</td>\n",
       "      <td>Yes</td>\n",
       "    </tr>\n",
       "    <tr>\n",
       "      <th>7041</th>\n",
       "      <td>8361-LTMKD</td>\n",
       "      <td>Male</td>\n",
       "      <td>1</td>\n",
       "      <td>Yes</td>\n",
       "      <td>No</td>\n",
       "      <td>4</td>\n",
       "      <td>Yes</td>\n",
       "      <td>Yes</td>\n",
       "      <td>Fiber optic</td>\n",
       "      <td>No</td>\n",
       "      <td>...</td>\n",
       "      <td>No</td>\n",
       "      <td>No</td>\n",
       "      <td>No</td>\n",
       "      <td>No</td>\n",
       "      <td>Month-to-month</td>\n",
       "      <td>Yes</td>\n",
       "      <td>Mailed check</td>\n",
       "      <td>74.40</td>\n",
       "      <td>306.60</td>\n",
       "      <td>Yes</td>\n",
       "    </tr>\n",
       "  </tbody>\n",
       "</table>\n",
       "<p>1142 rows × 21 columns</p>\n",
       "</div>"
      ],
      "text/plain": [
       "      customerID  gender  SeniorCitizen Partner Dependents  tenure  \\\n",
       "20    8779-QRDMV    Male              1      No         No       1   \n",
       "30    3841-NFECX  Female              1     Yes         No      71   \n",
       "31    4929-XIHVW    Male              1     Yes         No       2   \n",
       "34    3413-BMNZE    Male              1      No         No       1   \n",
       "50    8012-SOUDQ  Female              1      No         No      43   \n",
       "...          ...     ...            ...     ...        ...     ...   \n",
       "7023  1035-IPQPU  Female              1     Yes         No      63   \n",
       "7029  2235-DWLJU  Female              1      No         No       6   \n",
       "7031  3605-JISKB    Male              1     Yes         No      55   \n",
       "7032  6894-LFHLY    Male              1      No         No       1   \n",
       "7041  8361-LTMKD    Male              1     Yes         No       4   \n",
       "\n",
       "     PhoneService     MultipleLines InternetService OnlineSecurity  ...  \\\n",
       "20             No  No phone service             DSL             No  ...   \n",
       "30            Yes               Yes     Fiber optic            Yes  ...   \n",
       "31            Yes                No     Fiber optic             No  ...   \n",
       "34            Yes                No             DSL             No  ...   \n",
       "50            Yes               Yes     Fiber optic             No  ...   \n",
       "...           ...               ...             ...            ...  ...   \n",
       "7023          Yes               Yes     Fiber optic             No  ...   \n",
       "7029           No  No phone service             DSL             No  ...   \n",
       "7031          Yes               Yes             DSL            Yes  ...   \n",
       "7032          Yes               Yes     Fiber optic             No  ...   \n",
       "7041          Yes               Yes     Fiber optic             No  ...   \n",
       "\n",
       "     DeviceProtection TechSupport StreamingTV StreamingMovies        Contract  \\\n",
       "20                Yes          No          No             Yes  Month-to-month   \n",
       "30                Yes         Yes          No              No        Two year   \n",
       "31                Yes          No         Yes             Yes  Month-to-month   \n",
       "34                 No          No          No              No  Month-to-month   \n",
       "50                 No          No         Yes              No  Month-to-month   \n",
       "...               ...         ...         ...             ...             ...   \n",
       "7023              Yes          No         Yes             Yes  Month-to-month   \n",
       "7029               No          No         Yes             Yes  Month-to-month   \n",
       "7031               No          No          No              No        One year   \n",
       "7032               No          No          No              No  Month-to-month   \n",
       "7041               No          No          No              No  Month-to-month   \n",
       "\n",
       "     PaperlessBilling              PaymentMethod MonthlyCharges  TotalCharges  \\\n",
       "20                Yes           Electronic check          39.65         39.65   \n",
       "30                Yes    Credit card (automatic)          96.35       6766.95   \n",
       "31                Yes    Credit card (automatic)          95.50        181.65   \n",
       "34                 No  Bank transfer (automatic)          45.25         45.25   \n",
       "50                Yes           Electronic check          90.25       3838.75   \n",
       "...               ...                        ...            ...           ...   \n",
       "7023              Yes           Electronic check         103.50       6479.40   \n",
       "7029              Yes           Electronic check          44.40        263.05   \n",
       "7031               No    Credit card (automatic)          60.00       3316.10   \n",
       "7032              Yes           Electronic check          75.75         75.75   \n",
       "7041              Yes               Mailed check          74.40        306.60   \n",
       "\n",
       "      Churn  \n",
       "20      Yes  \n",
       "30       No  \n",
       "31       No  \n",
       "34       No  \n",
       "50       No  \n",
       "...     ...  \n",
       "7023     No  \n",
       "7029     No  \n",
       "7031     No  \n",
       "7032    Yes  \n",
       "7041    Yes  \n",
       "\n",
       "[1142 rows x 21 columns]"
      ]
     },
     "execution_count": 29,
     "metadata": {},
     "output_type": "execute_result"
    },
    {
     "data": {
      "text/plain": [
       "' the senior citizen column is not a outlier .\\nin seniorcitizon column there are only two values 0 and 1 computer takes 1 as the outlier'"
      ]
     },
     "execution_count": 29,
     "metadata": {},
     "output_type": "execute_result"
    }
   ],
   "source": [
    "data[(data.SeniorCitizen<LL)|(data.SeniorCitizen>UL)]\n",
    "\"\"\" the senior citizen column is not a outlier .\n",
    "in seniorcitizon column there are only two values 0 and 1 computer takes 1 as the outlier\"\"\""
   ]
  },
  {
   "cell_type": "code",
   "execution_count": 30,
   "id": "61bac1a9",
   "metadata": {
    "ExecuteTime": {
     "end_time": "2023-02-09T08:41:31.683823Z",
     "start_time": "2023-02-09T08:41:31.579937Z"
    }
   },
   "outputs": [
    {
     "data": {
      "image/png": "[encoded data removed]",
      "text/plain": [
       "<Figure size 360x504 with 1 Axes>"
      ]
     },
     "metadata": {
      "needs_background": "light"
     },
     "output_type": "display_data"
    }
   ],
   "source": [
    "plt.figure(figsize=(5,7))\n",
    "sns.boxplot(data.SeniorCitizen);"
   ]
  },
  {
   "cell_type": "code",
   "execution_count": 31,
   "id": "760aeb8f",
   "metadata": {
    "ExecuteTime": {
     "end_time": "2023-02-09T08:41:32.033946Z",
     "start_time": "2023-02-09T08:41:31.977567Z"
    }
   },
   "outputs": [
    {
     "name": "stdout",
     "output_type": "stream",
     "text": [
      "<class 'pandas.core.frame.DataFrame'>\n",
      "RangeIndex: 7043 entries, 0 to 7042\n",
      "Data columns (total 21 columns):\n",
      " #   Column            Non-Null Count  Dtype  \n",
      "---  ------            --------------  -----  \n",
      " 0   customerID        7043 non-null   object \n",
      " 1   gender            7043 non-null   object \n",
      " 2   SeniorCitizen     7043 non-null   int64  \n",
      " 3   Partner           7043 non-null   object \n",
      " 4   Dependents        7043 non-null   object \n",
      " 5   tenure            7043 non-null   int64  \n",
      " 6   PhoneService      7043 non-null   object \n",
      " 7   MultipleLines     7043 non-null   object \n",
      " 8   InternetService   7043 non-null   object \n",
      " 9   OnlineSecurity    7043 non-null   object \n",
      " 10  OnlineBackup      7043 non-null   object \n",
      " 11  DeviceProtection  7043 non-null   object \n",
      " 12  TechSupport       7043 non-null   object \n",
      " 13  StreamingTV       7043 non-null   object \n",
      " 14  StreamingMovies   7043 non-null   object \n",
      " 15  Contract          7043 non-null   object \n",
      " 16  PaperlessBilling  7043 non-null   object \n",
      " 17  PaymentMethod     7043 non-null   object \n",
      " 18  MonthlyCharges    7043 non-null   float64\n",
      " 19  TotalCharges      7043 non-null   float64\n",
      " 20  Churn             7043 non-null   object \n",
      "dtypes: float64(2), int64(2), object(17)\n",
      "memory usage: 1.1+ MB\n"
     ]
    }
   ],
   "source": [
    "data.info()"
   ]
  },
  {
   "cell_type": "code",
   "execution_count": 32,
   "id": "e1928708",
   "metadata": {
    "ExecuteTime": {
     "end_time": "2023-02-09T08:41:32.348262Z",
     "start_time": "2023-02-09T08:41:32.324294Z"
    }
   },
   "outputs": [],
   "source": [
    "X=data[[\"gender\",\"SeniorCitizen\",\"Partner\",\"Dependents\",\"tenure\",\"PhoneService\",\"MultipleLines\",\"InternetService\",\"OnlineSecurity\",\"OnlineBackup\",\"DeviceProtection\",\"TechSupport\",\"StreamingTV\",\"StreamingMovies\",\"Contract\",\"PaperlessBilling\",\"PaymentMethod\",\"MonthlyCharges\",\"TotalCharges\"]]\n",
    "y=data[\"Churn\"]"
   ]
  },
  {
   "cell_type": "code",
   "execution_count": 33,
   "id": "b7076582",
   "metadata": {
    "ExecuteTime": {
     "end_time": "2023-02-09T08:41:33.184357Z",
     "start_time": "2023-02-09T08:41:32.682609Z"
    }
   },
   "outputs": [],
   "source": [
    "from sklearn.model_selection import train_test_split\n",
    "X_train,X_test,y_train,y_test=train_test_split(X,y,test_size=0.30,random_state=1)"
   ]
  },
  {
   "cell_type": "code",
   "execution_count": 34,
   "id": "a8ececfe",
   "metadata": {
    "ExecuteTime": {
     "end_time": "2023-02-09T08:41:33.210406Z",
     "start_time": "2023-02-09T08:41:33.184357Z"
    }
   },
   "outputs": [],
   "source": [
    "X_train_num=X_train.select_dtypes(include=[\"int64\",\"float64\"])\n",
    "X_train_cat=X_train.select_dtypes(include=[\"object\"])"
   ]
  },
  {
   "cell_type": "code",
   "execution_count": 35,
   "id": "b56f5756",
   "metadata": {
    "ExecuteTime": {
     "end_time": "2023-02-09T08:41:33.522514Z",
     "start_time": "2023-02-09T08:41:33.506567Z"
    }
   },
   "outputs": [],
   "source": [
    "from sklearn.preprocessing import StandardScaler\n",
    "scaler=StandardScaler()\n",
    "X_train_ntran=pd.DataFrame(scaler.fit_transform(X_train_num),columns=X_train_num.columns,index=X_train_num.index)"
   ]
  },
  {
   "cell_type": "code",
   "execution_count": 36,
   "id": "80582925",
   "metadata": {
    "ExecuteTime": {
     "end_time": "2023-02-09T08:41:34.257431Z",
     "start_time": "2023-02-09T08:41:34.217423Z"
    }
   },
   "outputs": [
    {
     "data": {
      "text/html": [
       "<div>\n",
       "<style scoped>\n",
       "    .dataframe tbody tr th:only-of-type {\n",
       "        vertical-align: middle;\n",
       "    }\n",
       "\n",
       "    .dataframe tbody tr th {\n",
       "        vertical-align: top;\n",
       "    }\n",
       "\n",
       "    .dataframe thead th {\n",
       "        text-align: right;\n",
       "    }\n",
       "</style>\n",
       "<table border=\"1\" class=\"dataframe\">\n",
       "  <thead>\n",
       "    <tr style=\"text-align: right;\">\n",
       "      <th></th>\n",
       "      <th>gender</th>\n",
       "      <th>Partner</th>\n",
       "      <th>Dependents</th>\n",
       "      <th>PhoneService</th>\n",
       "      <th>MultipleLines</th>\n",
       "      <th>InternetService</th>\n",
       "      <th>OnlineSecurity</th>\n",
       "      <th>OnlineBackup</th>\n",
       "      <th>DeviceProtection</th>\n",
       "      <th>TechSupport</th>\n",
       "      <th>StreamingTV</th>\n",
       "      <th>StreamingMovies</th>\n",
       "      <th>Contract</th>\n",
       "      <th>PaperlessBilling</th>\n",
       "      <th>PaymentMethod</th>\n",
       "    </tr>\n",
       "  </thead>\n",
       "  <tbody>\n",
       "    <tr>\n",
       "      <th>5925</th>\n",
       "      <td>Male</td>\n",
       "      <td>No</td>\n",
       "      <td>No</td>\n",
       "      <td>Yes</td>\n",
       "      <td>Yes</td>\n",
       "      <td>DSL</td>\n",
       "      <td>No</td>\n",
       "      <td>Yes</td>\n",
       "      <td>No</td>\n",
       "      <td>Yes</td>\n",
       "      <td>Yes</td>\n",
       "      <td>No</td>\n",
       "      <td>One year</td>\n",
       "      <td>Yes</td>\n",
       "      <td>Electronic check</td>\n",
       "    </tr>\n",
       "    <tr>\n",
       "      <th>4395</th>\n",
       "      <td>Female</td>\n",
       "      <td>Yes</td>\n",
       "      <td>Yes</td>\n",
       "      <td>Yes</td>\n",
       "      <td>Yes</td>\n",
       "      <td>Fiber optic</td>\n",
       "      <td>No</td>\n",
       "      <td>Yes</td>\n",
       "      <td>Yes</td>\n",
       "      <td>No</td>\n",
       "      <td>Yes</td>\n",
       "      <td>Yes</td>\n",
       "      <td>Month-to-month</td>\n",
       "      <td>Yes</td>\n",
       "      <td>Electronic check</td>\n",
       "    </tr>\n",
       "    <tr>\n",
       "      <th>1579</th>\n",
       "      <td>Male</td>\n",
       "      <td>Yes</td>\n",
       "      <td>No</td>\n",
       "      <td>Yes</td>\n",
       "      <td>No</td>\n",
       "      <td>Fiber optic</td>\n",
       "      <td>No</td>\n",
       "      <td>No</td>\n",
       "      <td>No</td>\n",
       "      <td>No</td>\n",
       "      <td>No</td>\n",
       "      <td>Yes</td>\n",
       "      <td>Month-to-month</td>\n",
       "      <td>Yes</td>\n",
       "      <td>Electronic check</td>\n",
       "    </tr>\n",
       "    <tr>\n",
       "      <th>1040</th>\n",
       "      <td>Male</td>\n",
       "      <td>No</td>\n",
       "      <td>No</td>\n",
       "      <td>Yes</td>\n",
       "      <td>No</td>\n",
       "      <td>Fiber optic</td>\n",
       "      <td>No</td>\n",
       "      <td>No</td>\n",
       "      <td>No</td>\n",
       "      <td>No</td>\n",
       "      <td>Yes</td>\n",
       "      <td>Yes</td>\n",
       "      <td>Month-to-month</td>\n",
       "      <td>No</td>\n",
       "      <td>Credit card (automatic)</td>\n",
       "    </tr>\n",
       "    <tr>\n",
       "      <th>1074</th>\n",
       "      <td>Male</td>\n",
       "      <td>No</td>\n",
       "      <td>No</td>\n",
       "      <td>Yes</td>\n",
       "      <td>No</td>\n",
       "      <td>No</td>\n",
       "      <td>No internet service</td>\n",
       "      <td>No internet service</td>\n",
       "      <td>No internet service</td>\n",
       "      <td>No internet service</td>\n",
       "      <td>No internet service</td>\n",
       "      <td>No internet service</td>\n",
       "      <td>Month-to-month</td>\n",
       "      <td>No</td>\n",
       "      <td>Mailed check</td>\n",
       "    </tr>\n",
       "    <tr>\n",
       "      <th>...</th>\n",
       "      <td>...</td>\n",
       "      <td>...</td>\n",
       "      <td>...</td>\n",
       "      <td>...</td>\n",
       "      <td>...</td>\n",
       "      <td>...</td>\n",
       "      <td>...</td>\n",
       "      <td>...</td>\n",
       "      <td>...</td>\n",
       "      <td>...</td>\n",
       "      <td>...</td>\n",
       "      <td>...</td>\n",
       "      <td>...</td>\n",
       "      <td>...</td>\n",
       "      <td>...</td>\n",
       "    </tr>\n",
       "    <tr>\n",
       "      <th>905</th>\n",
       "      <td>Male</td>\n",
       "      <td>No</td>\n",
       "      <td>No</td>\n",
       "      <td>Yes</td>\n",
       "      <td>Yes</td>\n",
       "      <td>Fiber optic</td>\n",
       "      <td>No</td>\n",
       "      <td>No</td>\n",
       "      <td>Yes</td>\n",
       "      <td>No</td>\n",
       "      <td>Yes</td>\n",
       "      <td>Yes</td>\n",
       "      <td>Month-to-month</td>\n",
       "      <td>Yes</td>\n",
       "      <td>Electronic check</td>\n",
       "    </tr>\n",
       "    <tr>\n",
       "      <th>5192</th>\n",
       "      <td>Male</td>\n",
       "      <td>No</td>\n",
       "      <td>Yes</td>\n",
       "      <td>Yes</td>\n",
       "      <td>No</td>\n",
       "      <td>No</td>\n",
       "      <td>No internet service</td>\n",
       "      <td>No internet service</td>\n",
       "      <td>No internet service</td>\n",
       "      <td>No internet service</td>\n",
       "      <td>No internet service</td>\n",
       "      <td>No internet service</td>\n",
       "      <td>Two year</td>\n",
       "      <td>No</td>\n",
       "      <td>Mailed check</td>\n",
       "    </tr>\n",
       "    <tr>\n",
       "      <th>3980</th>\n",
       "      <td>Male</td>\n",
       "      <td>No</td>\n",
       "      <td>No</td>\n",
       "      <td>Yes</td>\n",
       "      <td>Yes</td>\n",
       "      <td>Fiber optic</td>\n",
       "      <td>No</td>\n",
       "      <td>Yes</td>\n",
       "      <td>Yes</td>\n",
       "      <td>No</td>\n",
       "      <td>Yes</td>\n",
       "      <td>Yes</td>\n",
       "      <td>Month-to-month</td>\n",
       "      <td>Yes</td>\n",
       "      <td>Electronic check</td>\n",
       "    </tr>\n",
       "    <tr>\n",
       "      <th>235</th>\n",
       "      <td>Male</td>\n",
       "      <td>No</td>\n",
       "      <td>No</td>\n",
       "      <td>Yes</td>\n",
       "      <td>Yes</td>\n",
       "      <td>DSL</td>\n",
       "      <td>No</td>\n",
       "      <td>Yes</td>\n",
       "      <td>No</td>\n",
       "      <td>No</td>\n",
       "      <td>No</td>\n",
       "      <td>No</td>\n",
       "      <td>Month-to-month</td>\n",
       "      <td>Yes</td>\n",
       "      <td>Mailed check</td>\n",
       "    </tr>\n",
       "    <tr>\n",
       "      <th>5157</th>\n",
       "      <td>Female</td>\n",
       "      <td>Yes</td>\n",
       "      <td>Yes</td>\n",
       "      <td>Yes</td>\n",
       "      <td>No</td>\n",
       "      <td>DSL</td>\n",
       "      <td>Yes</td>\n",
       "      <td>Yes</td>\n",
       "      <td>No</td>\n",
       "      <td>Yes</td>\n",
       "      <td>No</td>\n",
       "      <td>Yes</td>\n",
       "      <td>Two year</td>\n",
       "      <td>No</td>\n",
       "      <td>Bank transfer (automatic)</td>\n",
       "    </tr>\n",
       "  </tbody>\n",
       "</table>\n",
       "<p>4930 rows × 15 columns</p>\n",
       "</div>"
      ],
      "text/plain": [
       "      gender Partner Dependents PhoneService MultipleLines InternetService  \\\n",
       "5925    Male      No         No          Yes           Yes             DSL   \n",
       "4395  Female     Yes        Yes          Yes           Yes     Fiber optic   \n",
       "1579    Male     Yes         No          Yes            No     Fiber optic   \n",
       "1040    Male      No         No          Yes            No     Fiber optic   \n",
       "1074    Male      No         No          Yes            No              No   \n",
       "...      ...     ...        ...          ...           ...             ...   \n",
       "905     Male      No         No          Yes           Yes     Fiber optic   \n",
       "5192    Male      No        Yes          Yes            No              No   \n",
       "3980    Male      No         No          Yes           Yes     Fiber optic   \n",
       "235     Male      No         No          Yes           Yes             DSL   \n",
       "5157  Female     Yes        Yes          Yes            No             DSL   \n",
       "\n",
       "           OnlineSecurity         OnlineBackup     DeviceProtection  \\\n",
       "5925                   No                  Yes                   No   \n",
       "4395                   No                  Yes                  Yes   \n",
       "1579                   No                   No                   No   \n",
       "1040                   No                   No                   No   \n",
       "1074  No internet service  No internet service  No internet service   \n",
       "...                   ...                  ...                  ...   \n",
       "905                    No                   No                  Yes   \n",
       "5192  No internet service  No internet service  No internet service   \n",
       "3980                   No                  Yes                  Yes   \n",
       "235                    No                  Yes                   No   \n",
       "5157                  Yes                  Yes                   No   \n",
       "\n",
       "              TechSupport          StreamingTV      StreamingMovies  \\\n",
       "5925                  Yes                  Yes                   No   \n",
       "4395                   No                  Yes                  Yes   \n",
       "1579                   No                   No                  Yes   \n",
       "1040                   No                  Yes                  Yes   \n",
       "1074  No internet service  No internet service  No internet service   \n",
       "...                   ...                  ...                  ...   \n",
       "905                    No                  Yes                  Yes   \n",
       "5192  No internet service  No internet service  No internet service   \n",
       "3980                   No                  Yes                  Yes   \n",
       "235                    No                   No                   No   \n",
       "5157                  Yes                   No                  Yes   \n",
       "\n",
       "            Contract PaperlessBilling              PaymentMethod  \n",
       "5925        One year              Yes           Electronic check  \n",
       "4395  Month-to-month              Yes           Electronic check  \n",
       "1579  Month-to-month              Yes           Electronic check  \n",
       "1040  Month-to-month               No    Credit card (automatic)  \n",
       "1074  Month-to-month               No               Mailed check  \n",
       "...              ...              ...                        ...  \n",
       "905   Month-to-month              Yes           Electronic check  \n",
       "5192        Two year               No               Mailed check  \n",
       "3980  Month-to-month              Yes           Electronic check  \n",
       "235   Month-to-month              Yes               Mailed check  \n",
       "5157        Two year               No  Bank transfer (automatic)  \n",
       "\n",
       "[4930 rows x 15 columns]"
      ]
     },
     "execution_count": 36,
     "metadata": {},
     "output_type": "execute_result"
    }
   ],
   "source": [
    "X_train_cat"
   ]
  },
  {
   "cell_type": "code",
   "execution_count": 41,
   "id": "0b654bdf",
   "metadata": {
    "ExecuteTime": {
     "end_time": "2023-02-09T08:41:46.790617Z",
     "start_time": "2023-02-09T08:41:46.734354Z"
    }
   },
   "outputs": [],
   "source": [
    "from sklearn.preprocessing import OneHotEncoder\n",
    "encoder=OneHotEncoder(drop=\"first\",sparse=False)\n",
    "X_train_ctran=pd.DataFrame(encoder.fit_transform(X_train_cat),columns=encoder.get_feature_names_out(X_train_cat.columns),\n",
    "                           index=X_train_cat.index)"
   ]
  },
  {
   "cell_type": "code",
   "execution_count": 42,
   "id": "f3bdd296",
   "metadata": {
    "ExecuteTime": {
     "end_time": "2023-02-09T08:41:47.456038Z",
     "start_time": "2023-02-09T08:41:47.440011Z"
    }
   },
   "outputs": [],
   "source": [
    "X_train_trans=pd.concat([X_train_ntran,X_train_ctran],axis=1)"
   ]
  },
  {
   "cell_type": "code",
   "execution_count": 45,
   "id": "2d9af251",
   "metadata": {
    "ExecuteTime": {
     "end_time": "2023-02-09T08:42:13.746334Z",
     "start_time": "2023-02-09T08:42:13.658351Z"
    }
   },
   "outputs": [
    {
     "data": {
      "text/html": [
       "<div>\n",
       "<style scoped>\n",
       "    .dataframe tbody tr th:only-of-type {\n",
       "        vertical-align: middle;\n",
       "    }\n",
       "\n",
       "    .dataframe tbody tr th {\n",
       "        vertical-align: top;\n",
       "    }\n",
       "\n",
       "    .dataframe thead th {\n",
       "        text-align: right;\n",
       "    }\n",
       "</style>\n",
       "<table border=\"1\" class=\"dataframe\">\n",
       "  <thead>\n",
       "    <tr style=\"text-align: right;\">\n",
       "      <th></th>\n",
       "      <th>SeniorCitizen</th>\n",
       "      <th>tenure</th>\n",
       "      <th>MonthlyCharges</th>\n",
       "      <th>TotalCharges</th>\n",
       "      <th>gender_Male</th>\n",
       "      <th>Partner_Yes</th>\n",
       "      <th>Dependents_Yes</th>\n",
       "      <th>PhoneService_Yes</th>\n",
       "      <th>MultipleLines_No phone service</th>\n",
       "      <th>MultipleLines_Yes</th>\n",
       "      <th>...</th>\n",
       "      <th>StreamingTV_No internet service</th>\n",
       "      <th>StreamingTV_Yes</th>\n",
       "      <th>StreamingMovies_No internet service</th>\n",
       "      <th>StreamingMovies_Yes</th>\n",
       "      <th>Contract_One year</th>\n",
       "      <th>Contract_Two year</th>\n",
       "      <th>PaperlessBilling_Yes</th>\n",
       "      <th>PaymentMethod_Credit card (automatic)</th>\n",
       "      <th>PaymentMethod_Electronic check</th>\n",
       "      <th>PaymentMethod_Mailed check</th>\n",
       "    </tr>\n",
       "  </thead>\n",
       "  <tbody>\n",
       "    <tr>\n",
       "      <th>5925</th>\n",
       "      <td>-0.43979</td>\n",
       "      <td>-0.497482</td>\n",
       "      <td>0.129755</td>\n",
       "      <td>-0.379352</td>\n",
       "      <td>1.0</td>\n",
       "      <td>0.0</td>\n",
       "      <td>0.0</td>\n",
       "      <td>1.0</td>\n",
       "      <td>0.0</td>\n",
       "      <td>1.0</td>\n",
       "      <td>...</td>\n",
       "      <td>0.0</td>\n",
       "      <td>1.0</td>\n",
       "      <td>0.0</td>\n",
       "      <td>0.0</td>\n",
       "      <td>1.0</td>\n",
       "      <td>0.0</td>\n",
       "      <td>1.0</td>\n",
       "      <td>0.0</td>\n",
       "      <td>1.0</td>\n",
       "      <td>0.0</td>\n",
       "    </tr>\n",
       "    <tr>\n",
       "      <th>4395</th>\n",
       "      <td>-0.43979</td>\n",
       "      <td>1.498180</td>\n",
       "      <td>1.299897</td>\n",
       "      <td>2.278741</td>\n",
       "      <td>0.0</td>\n",
       "      <td>1.0</td>\n",
       "      <td>1.0</td>\n",
       "      <td>1.0</td>\n",
       "      <td>0.0</td>\n",
       "      <td>1.0</td>\n",
       "      <td>...</td>\n",
       "      <td>0.0</td>\n",
       "      <td>1.0</td>\n",
       "      <td>0.0</td>\n",
       "      <td>1.0</td>\n",
       "      <td>0.0</td>\n",
       "      <td>0.0</td>\n",
       "      <td>1.0</td>\n",
       "      <td>0.0</td>\n",
       "      <td>1.0</td>\n",
       "      <td>0.0</td>\n",
       "    </tr>\n",
       "    <tr>\n",
       "      <th>1579</th>\n",
       "      <td>2.27381</td>\n",
       "      <td>-0.823305</td>\n",
       "      <td>0.519802</td>\n",
       "      <td>-0.584746</td>\n",
       "      <td>1.0</td>\n",
       "      <td>1.0</td>\n",
       "      <td>0.0</td>\n",
       "      <td>1.0</td>\n",
       "      <td>0.0</td>\n",
       "      <td>0.0</td>\n",
       "      <td>...</td>\n",
       "      <td>0.0</td>\n",
       "      <td>0.0</td>\n",
       "      <td>0.0</td>\n",
       "      <td>1.0</td>\n",
       "      <td>0.0</td>\n",
       "      <td>0.0</td>\n",
       "      <td>1.0</td>\n",
       "      <td>0.0</td>\n",
       "      <td>1.0</td>\n",
       "      <td>0.0</td>\n",
       "    </tr>\n",
       "    <tr>\n",
       "      <th>1040</th>\n",
       "      <td>2.27381</td>\n",
       "      <td>-0.741849</td>\n",
       "      <td>0.851757</td>\n",
       "      <td>-0.445510</td>\n",
       "      <td>1.0</td>\n",
       "      <td>0.0</td>\n",
       "      <td>0.0</td>\n",
       "      <td>1.0</td>\n",
       "      <td>0.0</td>\n",
       "      <td>0.0</td>\n",
       "      <td>...</td>\n",
       "      <td>0.0</td>\n",
       "      <td>1.0</td>\n",
       "      <td>0.0</td>\n",
       "      <td>1.0</td>\n",
       "      <td>0.0</td>\n",
       "      <td>0.0</td>\n",
       "      <td>0.0</td>\n",
       "      <td>1.0</td>\n",
       "      <td>0.0</td>\n",
       "      <td>0.0</td>\n",
       "    </tr>\n",
       "    <tr>\n",
       "      <th>1074</th>\n",
       "      <td>-0.43979</td>\n",
       "      <td>-1.271311</td>\n",
       "      <td>-1.450350</td>\n",
       "      <td>-0.994256</td>\n",
       "      <td>1.0</td>\n",
       "      <td>0.0</td>\n",
       "      <td>0.0</td>\n",
       "      <td>1.0</td>\n",
       "      <td>0.0</td>\n",
       "      <td>0.0</td>\n",
       "      <td>...</td>\n",
       "      <td>1.0</td>\n",
       "      <td>0.0</td>\n",
       "      <td>1.0</td>\n",
       "      <td>0.0</td>\n",
       "      <td>0.0</td>\n",
       "      <td>0.0</td>\n",
       "      <td>0.0</td>\n",
       "      <td>0.0</td>\n",
       "      <td>0.0</td>\n",
       "      <td>1.0</td>\n",
       "    </tr>\n",
       "    <tr>\n",
       "      <th>...</th>\n",
       "      <td>...</td>\n",
       "      <td>...</td>\n",
       "      <td>...</td>\n",
       "      <td>...</td>\n",
       "      <td>...</td>\n",
       "      <td>...</td>\n",
       "      <td>...</td>\n",
       "      <td>...</td>\n",
       "      <td>...</td>\n",
       "      <td>...</td>\n",
       "      <td>...</td>\n",
       "      <td>...</td>\n",
       "      <td>...</td>\n",
       "      <td>...</td>\n",
       "      <td>...</td>\n",
       "      <td>...</td>\n",
       "      <td>...</td>\n",
       "      <td>...</td>\n",
       "      <td>...</td>\n",
       "      <td>...</td>\n",
       "      <td>...</td>\n",
       "    </tr>\n",
       "    <tr>\n",
       "      <th>905</th>\n",
       "      <td>2.27381</td>\n",
       "      <td>-0.945488</td>\n",
       "      <td>1.185372</td>\n",
       "      <td>-0.598674</td>\n",
       "      <td>1.0</td>\n",
       "      <td>0.0</td>\n",
       "      <td>0.0</td>\n",
       "      <td>1.0</td>\n",
       "      <td>0.0</td>\n",
       "      <td>1.0</td>\n",
       "      <td>...</td>\n",
       "      <td>0.0</td>\n",
       "      <td>1.0</td>\n",
       "      <td>0.0</td>\n",
       "      <td>1.0</td>\n",
       "      <td>0.0</td>\n",
       "      <td>0.0</td>\n",
       "      <td>1.0</td>\n",
       "      <td>0.0</td>\n",
       "      <td>1.0</td>\n",
       "      <td>0.0</td>\n",
       "    </tr>\n",
       "    <tr>\n",
       "      <th>5192</th>\n",
       "      <td>-0.43979</td>\n",
       "      <td>1.131630</td>\n",
       "      <td>-1.488525</td>\n",
       "      <td>-0.479096</td>\n",
       "      <td>1.0</td>\n",
       "      <td>0.0</td>\n",
       "      <td>1.0</td>\n",
       "      <td>1.0</td>\n",
       "      <td>0.0</td>\n",
       "      <td>0.0</td>\n",
       "      <td>...</td>\n",
       "      <td>1.0</td>\n",
       "      <td>0.0</td>\n",
       "      <td>1.0</td>\n",
       "      <td>0.0</td>\n",
       "      <td>0.0</td>\n",
       "      <td>1.0</td>\n",
       "      <td>0.0</td>\n",
       "      <td>0.0</td>\n",
       "      <td>0.0</td>\n",
       "      <td>1.0</td>\n",
       "    </tr>\n",
       "    <tr>\n",
       "      <th>3980</th>\n",
       "      <td>-0.43979</td>\n",
       "      <td>-0.171660</td>\n",
       "      <td>1.357989</td>\n",
       "      <td>0.309689</td>\n",
       "      <td>1.0</td>\n",
       "      <td>0.0</td>\n",
       "      <td>0.0</td>\n",
       "      <td>1.0</td>\n",
       "      <td>0.0</td>\n",
       "      <td>1.0</td>\n",
       "      <td>...</td>\n",
       "      <td>0.0</td>\n",
       "      <td>1.0</td>\n",
       "      <td>0.0</td>\n",
       "      <td>1.0</td>\n",
       "      <td>0.0</td>\n",
       "      <td>0.0</td>\n",
       "      <td>1.0</td>\n",
       "      <td>0.0</td>\n",
       "      <td>1.0</td>\n",
       "      <td>0.0</td>\n",
       "    </tr>\n",
       "    <tr>\n",
       "      <th>235</th>\n",
       "      <td>-0.43979</td>\n",
       "      <td>-1.230583</td>\n",
       "      <td>-0.344940</td>\n",
       "      <td>-0.953266</td>\n",
       "      <td>1.0</td>\n",
       "      <td>0.0</td>\n",
       "      <td>0.0</td>\n",
       "      <td>1.0</td>\n",
       "      <td>0.0</td>\n",
       "      <td>1.0</td>\n",
       "      <td>...</td>\n",
       "      <td>0.0</td>\n",
       "      <td>0.0</td>\n",
       "      <td>0.0</td>\n",
       "      <td>0.0</td>\n",
       "      <td>0.0</td>\n",
       "      <td>0.0</td>\n",
       "      <td>1.0</td>\n",
       "      <td>0.0</td>\n",
       "      <td>0.0</td>\n",
       "      <td>1.0</td>\n",
       "    </tr>\n",
       "    <tr>\n",
       "      <th>5157</th>\n",
       "      <td>-0.43979</td>\n",
       "      <td>-0.660394</td>\n",
       "      <td>0.114817</td>\n",
       "      <td>-0.512175</td>\n",
       "      <td>0.0</td>\n",
       "      <td>1.0</td>\n",
       "      <td>1.0</td>\n",
       "      <td>1.0</td>\n",
       "      <td>0.0</td>\n",
       "      <td>0.0</td>\n",
       "      <td>...</td>\n",
       "      <td>0.0</td>\n",
       "      <td>0.0</td>\n",
       "      <td>0.0</td>\n",
       "      <td>1.0</td>\n",
       "      <td>0.0</td>\n",
       "      <td>1.0</td>\n",
       "      <td>0.0</td>\n",
       "      <td>0.0</td>\n",
       "      <td>0.0</td>\n",
       "      <td>0.0</td>\n",
       "    </tr>\n",
       "  </tbody>\n",
       "</table>\n",
       "<p>4930 rows × 30 columns</p>\n",
       "</div>"
      ],
      "text/plain": [
       "      SeniorCitizen    tenure  MonthlyCharges  TotalCharges  gender_Male  \\\n",
       "5925       -0.43979 -0.497482        0.129755     -0.379352          1.0   \n",
       "4395       -0.43979  1.498180        1.299897      2.278741          0.0   \n",
       "1579        2.27381 -0.823305        0.519802     -0.584746          1.0   \n",
       "1040        2.27381 -0.741849        0.851757     -0.445510          1.0   \n",
       "1074       -0.43979 -1.271311       -1.450350     -0.994256          1.0   \n",
       "...             ...       ...             ...           ...          ...   \n",
       "905         2.27381 -0.945488        1.185372     -0.598674          1.0   \n",
       "5192       -0.43979  1.131630       -1.488525     -0.479096          1.0   \n",
       "3980       -0.43979 -0.171660        1.357989      0.309689          1.0   \n",
       "235        -0.43979 -1.230583       -0.344940     -0.953266          1.0   \n",
       "5157       -0.43979 -0.660394        0.114817     -0.512175          0.0   \n",
       "\n",
       "      Partner_Yes  Dependents_Yes  PhoneService_Yes  \\\n",
       "5925          0.0             0.0               1.0   \n",
       "4395          1.0             1.0               1.0   \n",
       "1579          1.0             0.0               1.0   \n",
       "1040          0.0             0.0               1.0   \n",
       "1074          0.0             0.0               1.0   \n",
       "...           ...             ...               ...   \n",
       "905           0.0             0.0               1.0   \n",
       "5192          0.0             1.0               1.0   \n",
       "3980          0.0             0.0               1.0   \n",
       "235           0.0             0.0               1.0   \n",
       "5157          1.0             1.0               1.0   \n",
       "\n",
       "      MultipleLines_No phone service  MultipleLines_Yes  ...  \\\n",
       "5925                             0.0                1.0  ...   \n",
       "4395                             0.0                1.0  ...   \n",
       "1579                             0.0                0.0  ...   \n",
       "1040                             0.0                0.0  ...   \n",
       "1074                             0.0                0.0  ...   \n",
       "...                              ...                ...  ...   \n",
       "905                              0.0                1.0  ...   \n",
       "5192                             0.0                0.0  ...   \n",
       "3980                             0.0                1.0  ...   \n",
       "235                              0.0                1.0  ...   \n",
       "5157                             0.0                0.0  ...   \n",
       "\n",
       "      StreamingTV_No internet service  StreamingTV_Yes  \\\n",
       "5925                              0.0              1.0   \n",
       "4395                              0.0              1.0   \n",
       "1579                              0.0              0.0   \n",
       "1040                              0.0              1.0   \n",
       "1074                              1.0              0.0   \n",
       "...                               ...              ...   \n",
       "905                               0.0              1.0   \n",
       "5192                              1.0              0.0   \n",
       "3980                              0.0              1.0   \n",
       "235                               0.0              0.0   \n",
       "5157                              0.0              0.0   \n",
       "\n",
       "      StreamingMovies_No internet service  StreamingMovies_Yes  \\\n",
       "5925                                  0.0                  0.0   \n",
       "4395                                  0.0                  1.0   \n",
       "1579                                  0.0                  1.0   \n",
       "1040                                  0.0                  1.0   \n",
       "1074                                  1.0                  0.0   \n",
       "...                                   ...                  ...   \n",
       "905                                   0.0                  1.0   \n",
       "5192                                  1.0                  0.0   \n",
       "3980                                  0.0                  1.0   \n",
       "235                                   0.0                  0.0   \n",
       "5157                                  0.0                  1.0   \n",
       "\n",
       "      Contract_One year  Contract_Two year  PaperlessBilling_Yes  \\\n",
       "5925                1.0                0.0                   1.0   \n",
       "4395                0.0                0.0                   1.0   \n",
       "1579                0.0                0.0                   1.0   \n",
       "1040                0.0                0.0                   0.0   \n",
       "1074                0.0                0.0                   0.0   \n",
       "...                 ...                ...                   ...   \n",
       "905                 0.0                0.0                   1.0   \n",
       "5192                0.0                1.0                   0.0   \n",
       "3980                0.0                0.0                   1.0   \n",
       "235                 0.0                0.0                   1.0   \n",
       "5157                0.0                1.0                   0.0   \n",
       "\n",
       "      PaymentMethod_Credit card (automatic)  PaymentMethod_Electronic check  \\\n",
       "5925                                    0.0                             1.0   \n",
       "4395                                    0.0                             1.0   \n",
       "1579                                    0.0                             1.0   \n",
       "1040                                    1.0                             0.0   \n",
       "1074                                    0.0                             0.0   \n",
       "...                                     ...                             ...   \n",
       "905                                     0.0                             1.0   \n",
       "5192                                    0.0                             0.0   \n",
       "3980                                    0.0                             1.0   \n",
       "235                                     0.0                             0.0   \n",
       "5157                                    0.0                             0.0   \n",
       "\n",
       "      PaymentMethod_Mailed check  \n",
       "5925                         0.0  \n",
       "4395                         0.0  \n",
       "1579                         0.0  \n",
       "1040                         0.0  \n",
       "1074                         1.0  \n",
       "...                          ...  \n",
       "905                          0.0  \n",
       "5192                         1.0  \n",
       "3980                         0.0  \n",
       "235                          1.0  \n",
       "5157                         0.0  \n",
       "\n",
       "[4930 rows x 30 columns]"
      ]
     },
     "execution_count": 45,
     "metadata": {},
     "output_type": "execute_result"
    }
   ],
   "source": [
    "X_train_trans"
   ]
  },
  {
   "cell_type": "markdown",
   "id": "70c9b65c",
   "metadata": {},
   "source": [
    "## X_test"
   ]
  },
  {
   "cell_type": "code",
   "execution_count": 46,
   "id": "d92d3531",
   "metadata": {
    "ExecuteTime": {
     "end_time": "2023-02-09T08:42:20.942309Z",
     "start_time": "2023-02-09T08:42:20.934315Z"
    }
   },
   "outputs": [],
   "source": [
    "X_test_num=X_test.select_dtypes(include=[\"int64\",\"float64\"])\n",
    "X_test_cat=X_test.select_dtypes(include=[\"object\"])"
   ]
  },
  {
   "cell_type": "code",
   "execution_count": 47,
   "id": "e07392bc",
   "metadata": {
    "ExecuteTime": {
     "end_time": "2023-02-09T08:42:21.302069Z",
     "start_time": "2023-02-09T08:42:21.278083Z"
    }
   },
   "outputs": [],
   "source": [
    "X_test_ntran=pd.DataFrame(scaler.transform(X_test_num),columns=X_test_num.columns,index=X_test_num.index)"
   ]
  },
  {
   "cell_type": "code",
   "execution_count": 48,
   "id": "2abb6881",
   "metadata": {
    "ExecuteTime": {
     "end_time": "2023-02-09T08:42:21.734455Z",
     "start_time": "2023-02-09T08:42:21.710512Z"
    }
   },
   "outputs": [],
   "source": [
    "X_test_ctran=pd.DataFrame(encoder.transform(X_test_cat),columns=encoder.get_feature_names_out(X_test_cat.columns),\n",
    "                          index=X_test_cat.index)"
   ]
  },
  {
   "cell_type": "code",
   "execution_count": 54,
   "id": "536d7531",
   "metadata": {
    "ExecuteTime": {
     "end_time": "2023-02-09T08:42:56.147153Z",
     "start_time": "2023-02-09T08:42:56.123134Z"
    }
   },
   "outputs": [],
   "source": [
    "X_test_trans=pd.concat([X_test_ntran,X_test_ctran],axis=1)"
   ]
  },
  {
   "cell_type": "markdown",
   "id": "6b020956",
   "metadata": {},
   "source": [
    "## Logistic regrression"
   ]
  },
  {
   "cell_type": "code",
   "execution_count": 84,
   "id": "62a9c537",
   "metadata": {
    "ExecuteTime": {
     "end_time": "2023-02-09T09:27:45.193052Z",
     "start_time": "2023-02-09T09:27:44.989670Z"
    }
   },
   "outputs": [
    {
     "data": {
      "text/plain": [
       "LogisticRegression()"
      ]
     },
     "execution_count": 84,
     "metadata": {},
     "output_type": "execute_result"
    }
   ],
   "source": [
    "from sklearn.linear_model import LogisticRegression\n",
    "linear=LogisticRegression()\n",
    "linear.fit(X_train_trans,y_train)"
   ]
  },
  {
   "cell_type": "code",
   "execution_count": 85,
   "id": "7ae6de21",
   "metadata": {
    "ExecuteTime": {
     "end_time": "2023-02-09T09:27:45.416942Z",
     "start_time": "2023-02-09T09:27:45.392917Z"
    }
   },
   "outputs": [],
   "source": [
    "y_test_pred=linear.predict(X_test_trans)"
   ]
  },
  {
   "cell_type": "code",
   "execution_count": 86,
   "id": "ac9b782b",
   "metadata": {
    "ExecuteTime": {
     "end_time": "2023-02-09T09:27:45.868798Z",
     "start_time": "2023-02-09T09:27:45.844812Z"
    }
   },
   "outputs": [
    {
     "data": {
      "text/plain": [
       "0.8097491717936584"
      ]
     },
     "execution_count": 86,
     "metadata": {},
     "output_type": "execute_result"
    }
   ],
   "source": [
    "from sklearn import metrics\n",
    "linear_acc=metrics.accuracy_score(y_test,y_test_pred)\n",
    "linear_acc"
   ]
  },
  {
   "cell_type": "code",
   "execution_count": 87,
   "id": "ab9003e9",
   "metadata": {
    "ExecuteTime": {
     "end_time": "2023-02-09T09:27:46.640602Z",
     "start_time": "2023-02-09T09:27:46.405701Z"
    }
   },
   "outputs": [
    {
     "data": {
      "image/png": "[encoded data removed]",
      "text/plain": [
       "<Figure size 432x288 with 1 Axes>"
      ]
     },
     "metadata": {
      "needs_background": "light"
     },
     "output_type": "display_data"
    }
   ],
   "source": [
    "sns.histplot(y_test)\n",
    "sns.histplot(y_test_pred,color=\"yellow\");"
   ]
  },
  {
   "cell_type": "markdown",
   "id": "9666788b",
   "metadata": {},
   "source": [
    "## KNN"
   ]
  },
  {
   "cell_type": "code",
   "execution_count": 88,
   "id": "a1eba70f",
   "metadata": {
    "ExecuteTime": {
     "end_time": "2023-02-09T09:27:50.926611Z",
     "start_time": "2023-02-09T09:27:50.902588Z"
    }
   },
   "outputs": [
    {
     "data": {
      "text/plain": [
       "KNeighborsClassifier()"
      ]
     },
     "execution_count": 88,
     "metadata": {},
     "output_type": "execute_result"
    }
   ],
   "source": [
    "from sklearn.neighbors import KNeighborsClassifier\n",
    "neighbour=KNeighborsClassifier()\n",
    "neighbour.fit(X_train_trans,y_train)"
   ]
  },
  {
   "cell_type": "code",
   "execution_count": 89,
   "id": "247414b6",
   "metadata": {
    "ExecuteTime": {
     "end_time": "2023-02-09T09:27:51.801186Z",
     "start_time": "2023-02-09T09:27:51.319213Z"
    }
   },
   "outputs": [],
   "source": [
    "y_test_pred=neighbour.predict(X_test_trans)"
   ]
  },
  {
   "cell_type": "code",
   "execution_count": 90,
   "id": "a8b40377",
   "metadata": {
    "ExecuteTime": {
     "end_time": "2023-02-09T09:27:52.331080Z",
     "start_time": "2023-02-09T09:27:52.307094Z"
    }
   },
   "outputs": [
    {
     "data": {
      "text/plain": [
       "0.7799337434926644"
      ]
     },
     "execution_count": 90,
     "metadata": {},
     "output_type": "execute_result"
    }
   ],
   "source": [
    "neighbour_acc=metrics.accuracy_score(y_test,y_test_pred)\n",
    "neighbour_acc"
   ]
  },
  {
   "cell_type": "code",
   "execution_count": 91,
   "id": "cedd2022",
   "metadata": {
    "ExecuteTime": {
     "end_time": "2023-02-09T09:28:01.502695Z",
     "start_time": "2023-02-09T09:28:01.277302Z"
    }
   },
   "outputs": [
    {
     "data": {
      "image/png": "[encoded data removed]",
      "text/plain": [
       "<Figure size 432x288 with 1 Axes>"
      ]
     },
     "metadata": {
      "needs_background": "light"
     },
     "output_type": "display_data"
    }
   ],
   "source": [
    "sns.histplot(y_test)\n",
    "sns.histplot(y_test_pred,color=\"yellow\");"
   ]
  },
  {
   "cell_type": "markdown",
   "id": "3de22f82",
   "metadata": {},
   "source": [
    "## Decision tree"
   ]
  },
  {
   "cell_type": "code",
   "execution_count": 92,
   "id": "c6c296a2",
   "metadata": {
    "ExecuteTime": {
     "end_time": "2023-02-09T09:28:08.200444Z",
     "start_time": "2023-02-09T09:28:08.120460Z"
    }
   },
   "outputs": [
    {
     "data": {
      "text/plain": [
       "DecisionTreeClassifier()"
      ]
     },
     "execution_count": 92,
     "metadata": {},
     "output_type": "execute_result"
    }
   ],
   "source": [
    "from sklearn.tree import DecisionTreeClassifier\n",
    "tree=DecisionTreeClassifier()\n",
    "tree.fit(X_train_trans,y_train)"
   ]
  },
  {
   "cell_type": "code",
   "execution_count": 93,
   "id": "12766cde",
   "metadata": {
    "ExecuteTime": {
     "end_time": "2023-02-09T09:28:08.640111Z",
     "start_time": "2023-02-09T09:28:08.624162Z"
    }
   },
   "outputs": [],
   "source": [
    "y_test_pred=tree.predict(X_test_trans)"
   ]
  },
  {
   "cell_type": "code",
   "execution_count": 94,
   "id": "3e2ef76a",
   "metadata": {
    "ExecuteTime": {
     "end_time": "2023-02-09T09:28:09.366835Z",
     "start_time": "2023-02-09T09:28:09.342847Z"
    }
   },
   "outputs": [
    {
     "data": {
      "text/plain": [
       "0.7420728821580691"
      ]
     },
     "execution_count": 94,
     "metadata": {},
     "output_type": "execute_result"
    }
   ],
   "source": [
    "tree_Acc=metrics.accuracy_score(y_test,y_test_pred)\n",
    "tree_Acc"
   ]
  },
  {
   "cell_type": "code",
   "execution_count": 95,
   "id": "2ea2e92d",
   "metadata": {
    "ExecuteTime": {
     "end_time": "2023-02-09T09:28:15.120912Z",
     "start_time": "2023-02-09T09:28:14.850801Z"
    }
   },
   "outputs": [
    {
     "data": {
      "image/png": "[encoded data removed]",
      "text/plain": [
       "<Figure size 432x288 with 1 Axes>"
      ]
     },
     "metadata": {
      "needs_background": "light"
     },
     "output_type": "display_data"
    }
   ],
   "source": [
    "sns.histplot(y_test)\n",
    "sns.histplot(y_test_pred,color=\"yellow\");"
   ]
  },
  {
   "cell_type": "markdown",
   "id": "efeecff8",
   "metadata": {},
   "source": [
    "## Random Forest"
   ]
  },
  {
   "cell_type": "code",
   "execution_count": 96,
   "id": "b8be2fa2",
   "metadata": {
    "ExecuteTime": {
     "end_time": "2023-02-09T09:28:19.733532Z",
     "start_time": "2023-02-09T09:28:18.727084Z"
    }
   },
   "outputs": [
    {
     "data": {
      "text/plain": [
       "RandomForestClassifier()"
      ]
     },
     "execution_count": 96,
     "metadata": {},
     "output_type": "execute_result"
    }
   ],
   "source": [
    "from sklearn.ensemble import RandomForestClassifier\n",
    "ensemble=RandomForestClassifier()\n",
    "ensemble.fit(X_train_trans,y_train)"
   ]
  },
  {
   "cell_type": "code",
   "execution_count": 97,
   "id": "ac93fb40",
   "metadata": {
    "ExecuteTime": {
     "end_time": "2023-02-09T09:28:19.861580Z",
     "start_time": "2023-02-09T09:28:19.733532Z"
    }
   },
   "outputs": [],
   "source": [
    "y_test_pred=ensemble.predict(X_test_trans)"
   ]
  },
  {
   "cell_type": "code",
   "execution_count": 98,
   "id": "d4fd8de6",
   "metadata": {
    "ExecuteTime": {
     "end_time": "2023-02-09T09:28:20.882018Z",
     "start_time": "2023-02-09T09:28:20.850040Z"
    }
   },
   "outputs": [
    {
     "data": {
      "text/plain": [
       "0.7969711310932324"
      ]
     },
     "execution_count": 98,
     "metadata": {},
     "output_type": "execute_result"
    }
   ],
   "source": [
    "ensemble_acc=metrics.accuracy_score(y_test,y_test_pred)\n",
    "ensemble_acc"
   ]
  },
  {
   "cell_type": "code",
   "execution_count": 99,
   "id": "2b0ea6ad",
   "metadata": {
    "ExecuteTime": {
     "end_time": "2023-02-09T09:28:28.057096Z",
     "start_time": "2023-02-09T09:28:27.830331Z"
    }
   },
   "outputs": [
    {
     "data": {
      "image/png": "[encoded data removed]",
      "text/plain": [
       "<Figure size 432x288 with 1 Axes>"
      ]
     },
     "metadata": {
      "needs_background": "light"
     },
     "output_type": "display_data"
    }
   ],
   "source": [
    "sns.histplot(y_test)\n",
    "sns.histplot(y_test_pred,color=\"yellow\");"
   ]
  },
  {
   "cell_type": "markdown",
   "id": "0e77f7cd",
   "metadata": {},
   "source": [
    "## Support vector machines"
   ]
  },
  {
   "cell_type": "code",
   "execution_count": 100,
   "id": "6e5572c6",
   "metadata": {
    "ExecuteTime": {
     "end_time": "2023-02-09T09:28:33.430470Z",
     "start_time": "2023-02-09T09:28:31.665655Z"
    }
   },
   "outputs": [
    {
     "data": {
      "text/plain": [
       "SVC()"
      ]
     },
     "execution_count": 100,
     "metadata": {},
     "output_type": "execute_result"
    }
   ],
   "source": [
    "from sklearn.svm import SVC\n",
    "svm=SVC()\n",
    "svm.fit(X_train_trans,y_train)"
   ]
  },
  {
   "cell_type": "code",
   "execution_count": 101,
   "id": "eb4c573d",
   "metadata": {
    "ExecuteTime": {
     "end_time": "2023-02-09T09:28:34.656400Z",
     "start_time": "2023-02-09T09:28:33.430470Z"
    }
   },
   "outputs": [],
   "source": [
    "y_test_pred=svm.predict(X_test_trans)"
   ]
  },
  {
   "cell_type": "code",
   "execution_count": 102,
   "id": "5118629e",
   "metadata": {
    "ExecuteTime": {
     "end_time": "2023-02-09T09:28:34.684067Z",
     "start_time": "2023-02-09T09:28:34.656400Z"
    }
   },
   "outputs": [
    {
     "data": {
      "text/plain": [
       "0.804070042593469"
      ]
     },
     "execution_count": 102,
     "metadata": {},
     "output_type": "execute_result"
    }
   ],
   "source": [
    "svm_acc=metrics.accuracy_score(y_test,y_test_pred)\n",
    "svm_acc"
   ]
  },
  {
   "cell_type": "code",
   "execution_count": 103,
   "id": "01822949",
   "metadata": {
    "ExecuteTime": {
     "end_time": "2023-02-09T09:28:44.540362Z",
     "start_time": "2023-02-09T09:28:44.303154Z"
    }
   },
   "outputs": [
    {
     "data": {
      "image/png": "[encoded data removed]",
      "text/plain": [
       "<Figure size 432x288 with 1 Axes>"
      ]
     },
     "metadata": {
      "needs_background": "light"
     },
     "output_type": "display_data"
    }
   ],
   "source": [
    "sns.histplot(y_test)\n",
    "sns.histplot(y_test_pred,color=\"yellow\");"
   ]
  },
  {
   "cell_type": "code",
   "execution_count": 77,
   "id": "fa717c01",
   "metadata": {
    "ExecuteTime": {
     "end_time": "2023-02-09T09:25:20.863079Z",
     "start_time": "2023-02-09T09:25:20.852110Z"
    }
   },
   "outputs": [],
   "source": [
    "data_df=pd.DataFrame({\"Algorithms\":[\"Logisticregression\",\"KNN\",\"Decisontree\",\"Randomforest\",\"Supportvectormachine\"],\n",
    "                     \"Accuracy_score\":[linear_acc,neighbour_acc,tree_Acc,ensemble_acc,svm_acc]})"
   ]
  },
  {
   "cell_type": "code",
   "execution_count": 78,
   "id": "6d619c6e",
   "metadata": {
    "ExecuteTime": {
     "end_time": "2023-02-09T09:25:26.236237Z",
     "start_time": "2023-02-09T09:25:26.215293Z"
    }
   },
   "outputs": [
    {
     "data": {
      "text/html": [
       "<div>\n",
       "<style scoped>\n",
       "    .dataframe tbody tr th:only-of-type {\n",
       "        vertical-align: middle;\n",
       "    }\n",
       "\n",
       "    .dataframe tbody tr th {\n",
       "        vertical-align: top;\n",
       "    }\n",
       "\n",
       "    .dataframe thead th {\n",
       "        text-align: right;\n",
       "    }\n",
       "</style>\n",
       "<table border=\"1\" class=\"dataframe\">\n",
       "  <thead>\n",
       "    <tr style=\"text-align: right;\">\n",
       "      <th></th>\n",
       "      <th>Algorithms</th>\n",
       "      <th>Accuracy_score</th>\n",
       "    </tr>\n",
       "  </thead>\n",
       "  <tbody>\n",
       "    <tr>\n",
       "      <th>0</th>\n",
       "      <td>Logisticregression</td>\n",
       "      <td>0.779934</td>\n",
       "    </tr>\n",
       "    <tr>\n",
       "      <th>1</th>\n",
       "      <td>KNN</td>\n",
       "      <td>0.779934</td>\n",
       "    </tr>\n",
       "    <tr>\n",
       "      <th>2</th>\n",
       "      <td>Decisontree</td>\n",
       "      <td>0.744439</td>\n",
       "    </tr>\n",
       "    <tr>\n",
       "      <th>3</th>\n",
       "      <td>Randomforest</td>\n",
       "      <td>0.800284</td>\n",
       "    </tr>\n",
       "    <tr>\n",
       "      <th>4</th>\n",
       "      <td>Supportvectormachine</td>\n",
       "      <td>0.804070</td>\n",
       "    </tr>\n",
       "  </tbody>\n",
       "</table>\n",
       "</div>"
      ],
      "text/plain": [
       "             Algorithms  Accuracy_score\n",
       "0    Logisticregression        0.779934\n",
       "1                   KNN        0.779934\n",
       "2           Decisontree        0.744439\n",
       "3          Randomforest        0.800284\n",
       "4  Supportvectormachine        0.804070"
      ]
     },
     "execution_count": 78,
     "metadata": {},
     "output_type": "execute_result"
    }
   ],
   "source": [
    "data_df"
   ]
  },
  {
   "cell_type": "code",
   "execution_count": null,
   "id": "617716b7",
   "metadata": {},
   "outputs": [],
   "source": []
  }
 ],
 "metadata": {
  "kernelspec": {
   "display_name": "Python 3 (ipykernel)",
   "language": "python",
   "name": "python3"
  },
  "language_info": {
   "codemirror_mode": {
    "name": "ipython",
    "version": 3
   },
   "file_extension": ".py",
   "mimetype": "text/x-python",
   "name": "python",
   "nbconvert_exporter": "python",
   "pygments_lexer": "ipython3",
   "version": "3.9.12"
  }
 },
 "nbformat": 4,
 "nbformat_minor": 5
}

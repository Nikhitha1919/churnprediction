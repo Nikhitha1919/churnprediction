{
 "cells": [
  {
   "cell_type": "code",
   "execution_count": 1,
   "id": "0b0510c5",
   "metadata": {
    "ExecuteTime": {
     "end_time": "2023-02-14T05:44:01.830998Z",
     "start_time": "2023-02-14T05:43:58.753384Z"
    }
   },
   "outputs": [],
   "source": [
    "import numpy as np \n",
    "import pandas as pd\n",
    "import matplotlib.pyplot as plt\n",
    "import seaborn as sns\n",
    "\n",
    "\n",
    "\n",
    "import warnings\n",
    "warnings.filterwarnings(\"ignore\")\n",
    "\n",
    "from IPython.core.interactiveshell import InteractiveShell\n",
    "InteractiveShell.ast_node_interactivity = 'all'"
   ]
  },
  {
   "cell_type": "code",
   "execution_count": 2,
   "id": "02329eeb",
   "metadata": {
    "ExecuteTime": {
     "end_time": "2023-02-14T05:44:01.928862Z",
     "start_time": "2023-02-14T05:44:01.830998Z"
    }
   },
   "outputs": [],
   "source": [
    "data=pd.read_csv(r\"C:\\Users\\Home\\Downloads\\credit_risk_dataset.csv\",skipinitialspace=True)"
   ]
  },
  {
   "cell_type": "code",
   "execution_count": 3,
   "id": "05b3a4a3",
   "metadata": {
    "ExecuteTime": {
     "end_time": "2023-02-14T05:44:01.994625Z",
     "start_time": "2023-02-14T05:44:01.928862Z"
    }
   },
   "outputs": [
    {
     "data": {
      "text/html": [
       "<div>\n",
       "<style scoped>\n",
       "    .dataframe tbody tr th:only-of-type {\n",
       "        vertical-align: middle;\n",
       "    }\n",
       "\n",
       "    .dataframe tbody tr th {\n",
       "        vertical-align: top;\n",
       "    }\n",
       "\n",
       "    .dataframe thead th {\n",
       "        text-align: right;\n",
       "    }\n",
       "</style>\n",
       "<table border=\"1\" class=\"dataframe\">\n",
       "  <thead>\n",
       "    <tr style=\"text-align: right;\">\n",
       "      <th></th>\n",
       "      <th>person_age</th>\n",
       "      <th>person_income</th>\n",
       "      <th>person_home_ownership</th>\n",
       "      <th>person_emp_length</th>\n",
       "      <th>loan_intent</th>\n",
       "      <th>loan_grade</th>\n",
       "      <th>loan_amnt</th>\n",
       "      <th>loan_int_rate</th>\n",
       "      <th>loan_status</th>\n",
       "      <th>loan_percent_income</th>\n",
       "      <th>cb_person_default_on_file</th>\n",
       "      <th>cb_person_cred_hist_length</th>\n",
       "    </tr>\n",
       "  </thead>\n",
       "  <tbody>\n",
       "    <tr>\n",
       "      <th>0</th>\n",
       "      <td>22</td>\n",
       "      <td>59000</td>\n",
       "      <td>RENT</td>\n",
       "      <td>123.0</td>\n",
       "      <td>PERSONAL</td>\n",
       "      <td>D</td>\n",
       "      <td>35000</td>\n",
       "      <td>16.02</td>\n",
       "      <td>1</td>\n",
       "      <td>0.59</td>\n",
       "      <td>Y</td>\n",
       "      <td>3</td>\n",
       "    </tr>\n",
       "    <tr>\n",
       "      <th>1</th>\n",
       "      <td>21</td>\n",
       "      <td>9600</td>\n",
       "      <td>OWN</td>\n",
       "      <td>5.0</td>\n",
       "      <td>EDUCATION</td>\n",
       "      <td>B</td>\n",
       "      <td>1000</td>\n",
       "      <td>11.14</td>\n",
       "      <td>0</td>\n",
       "      <td>0.10</td>\n",
       "      <td>N</td>\n",
       "      <td>2</td>\n",
       "    </tr>\n",
       "    <tr>\n",
       "      <th>2</th>\n",
       "      <td>25</td>\n",
       "      <td>9600</td>\n",
       "      <td>MORTGAGE</td>\n",
       "      <td>1.0</td>\n",
       "      <td>MEDICAL</td>\n",
       "      <td>C</td>\n",
       "      <td>5500</td>\n",
       "      <td>12.87</td>\n",
       "      <td>1</td>\n",
       "      <td>0.57</td>\n",
       "      <td>N</td>\n",
       "      <td>3</td>\n",
       "    </tr>\n",
       "    <tr>\n",
       "      <th>3</th>\n",
       "      <td>23</td>\n",
       "      <td>65500</td>\n",
       "      <td>RENT</td>\n",
       "      <td>4.0</td>\n",
       "      <td>MEDICAL</td>\n",
       "      <td>C</td>\n",
       "      <td>35000</td>\n",
       "      <td>15.23</td>\n",
       "      <td>1</td>\n",
       "      <td>0.53</td>\n",
       "      <td>N</td>\n",
       "      <td>2</td>\n",
       "    </tr>\n",
       "    <tr>\n",
       "      <th>4</th>\n",
       "      <td>24</td>\n",
       "      <td>54400</td>\n",
       "      <td>RENT</td>\n",
       "      <td>8.0</td>\n",
       "      <td>MEDICAL</td>\n",
       "      <td>C</td>\n",
       "      <td>35000</td>\n",
       "      <td>14.27</td>\n",
       "      <td>1</td>\n",
       "      <td>0.55</td>\n",
       "      <td>Y</td>\n",
       "      <td>4</td>\n",
       "    </tr>\n",
       "    <tr>\n",
       "      <th>...</th>\n",
       "      <td>...</td>\n",
       "      <td>...</td>\n",
       "      <td>...</td>\n",
       "      <td>...</td>\n",
       "      <td>...</td>\n",
       "      <td>...</td>\n",
       "      <td>...</td>\n",
       "      <td>...</td>\n",
       "      <td>...</td>\n",
       "      <td>...</td>\n",
       "      <td>...</td>\n",
       "      <td>...</td>\n",
       "    </tr>\n",
       "    <tr>\n",
       "      <th>32576</th>\n",
       "      <td>57</td>\n",
       "      <td>53000</td>\n",
       "      <td>MORTGAGE</td>\n",
       "      <td>1.0</td>\n",
       "      <td>PERSONAL</td>\n",
       "      <td>C</td>\n",
       "      <td>5800</td>\n",
       "      <td>13.16</td>\n",
       "      <td>0</td>\n",
       "      <td>0.11</td>\n",
       "      <td>N</td>\n",
       "      <td>30</td>\n",
       "    </tr>\n",
       "    <tr>\n",
       "      <th>32577</th>\n",
       "      <td>54</td>\n",
       "      <td>120000</td>\n",
       "      <td>MORTGAGE</td>\n",
       "      <td>4.0</td>\n",
       "      <td>PERSONAL</td>\n",
       "      <td>A</td>\n",
       "      <td>17625</td>\n",
       "      <td>7.49</td>\n",
       "      <td>0</td>\n",
       "      <td>0.15</td>\n",
       "      <td>N</td>\n",
       "      <td>19</td>\n",
       "    </tr>\n",
       "    <tr>\n",
       "      <th>32578</th>\n",
       "      <td>65</td>\n",
       "      <td>76000</td>\n",
       "      <td>RENT</td>\n",
       "      <td>3.0</td>\n",
       "      <td>HOMEIMPROVEMENT</td>\n",
       "      <td>B</td>\n",
       "      <td>35000</td>\n",
       "      <td>10.99</td>\n",
       "      <td>1</td>\n",
       "      <td>0.46</td>\n",
       "      <td>N</td>\n",
       "      <td>28</td>\n",
       "    </tr>\n",
       "    <tr>\n",
       "      <th>32579</th>\n",
       "      <td>56</td>\n",
       "      <td>150000</td>\n",
       "      <td>MORTGAGE</td>\n",
       "      <td>5.0</td>\n",
       "      <td>PERSONAL</td>\n",
       "      <td>B</td>\n",
       "      <td>15000</td>\n",
       "      <td>11.48</td>\n",
       "      <td>0</td>\n",
       "      <td>0.10</td>\n",
       "      <td>N</td>\n",
       "      <td>26</td>\n",
       "    </tr>\n",
       "    <tr>\n",
       "      <th>32580</th>\n",
       "      <td>66</td>\n",
       "      <td>42000</td>\n",
       "      <td>RENT</td>\n",
       "      <td>2.0</td>\n",
       "      <td>MEDICAL</td>\n",
       "      <td>B</td>\n",
       "      <td>6475</td>\n",
       "      <td>9.99</td>\n",
       "      <td>0</td>\n",
       "      <td>0.15</td>\n",
       "      <td>N</td>\n",
       "      <td>30</td>\n",
       "    </tr>\n",
       "  </tbody>\n",
       "</table>\n",
       "<p>32581 rows × 12 columns</p>\n",
       "</div>"
      ],
      "text/plain": [
       "       person_age  person_income person_home_ownership  person_emp_length  \\\n",
       "0              22          59000                  RENT              123.0   \n",
       "1              21           9600                   OWN                5.0   \n",
       "2              25           9600              MORTGAGE                1.0   \n",
       "3              23          65500                  RENT                4.0   \n",
       "4              24          54400                  RENT                8.0   \n",
       "...           ...            ...                   ...                ...   \n",
       "32576          57          53000              MORTGAGE                1.0   \n",
       "32577          54         120000              MORTGAGE                4.0   \n",
       "32578          65          76000                  RENT                3.0   \n",
       "32579          56         150000              MORTGAGE                5.0   \n",
       "32580          66          42000                  RENT                2.0   \n",
       "\n",
       "           loan_intent loan_grade  loan_amnt  loan_int_rate  loan_status  \\\n",
       "0             PERSONAL          D      35000          16.02            1   \n",
       "1            EDUCATION          B       1000          11.14            0   \n",
       "2              MEDICAL          C       5500          12.87            1   \n",
       "3              MEDICAL          C      35000          15.23            1   \n",
       "4              MEDICAL          C      35000          14.27            1   \n",
       "...                ...        ...        ...            ...          ...   \n",
       "32576         PERSONAL          C       5800          13.16            0   \n",
       "32577         PERSONAL          A      17625           7.49            0   \n",
       "32578  HOMEIMPROVEMENT          B      35000          10.99            1   \n",
       "32579         PERSONAL          B      15000          11.48            0   \n",
       "32580          MEDICAL          B       6475           9.99            0   \n",
       "\n",
       "       loan_percent_income cb_person_default_on_file  \\\n",
       "0                     0.59                         Y   \n",
       "1                     0.10                         N   \n",
       "2                     0.57                         N   \n",
       "3                     0.53                         N   \n",
       "4                     0.55                         Y   \n",
       "...                    ...                       ...   \n",
       "32576                 0.11                         N   \n",
       "32577                 0.15                         N   \n",
       "32578                 0.46                         N   \n",
       "32579                 0.10                         N   \n",
       "32580                 0.15                         N   \n",
       "\n",
       "       cb_person_cred_hist_length  \n",
       "0                               3  \n",
       "1                               2  \n",
       "2                               3  \n",
       "3                               2  \n",
       "4                               4  \n",
       "...                           ...  \n",
       "32576                          30  \n",
       "32577                          19  \n",
       "32578                          28  \n",
       "32579                          26  \n",
       "32580                          30  \n",
       "\n",
       "[32581 rows x 12 columns]"
      ]
     },
     "execution_count": 3,
     "metadata": {},
     "output_type": "execute_result"
    }
   ],
   "source": [
    "data"
   ]
  },
  {
   "cell_type": "code",
   "execution_count": 4,
   "id": "c8338414",
   "metadata": {
    "ExecuteTime": {
     "end_time": "2023-02-14T05:44:02.010548Z",
     "start_time": "2023-02-14T05:44:01.994625Z"
    }
   },
   "outputs": [
    {
     "data": {
      "text/plain": [
       "(32581, 12)"
      ]
     },
     "execution_count": 4,
     "metadata": {},
     "output_type": "execute_result"
    }
   ],
   "source": [
    "data.shape"
   ]
  },
  {
   "cell_type": "code",
   "execution_count": 5,
   "id": "59252edc",
   "metadata": {
    "ExecuteTime": {
     "end_time": "2023-02-14T05:44:02.074502Z",
     "start_time": "2023-02-14T05:44:02.010548Z"
    }
   },
   "outputs": [
    {
     "name": "stdout",
     "output_type": "stream",
     "text": [
      "<class 'pandas.core.frame.DataFrame'>\n",
      "RangeIndex: 32581 entries, 0 to 32580\n",
      "Data columns (total 12 columns):\n",
      " #   Column                      Non-Null Count  Dtype  \n",
      "---  ------                      --------------  -----  \n",
      " 0   person_age                  32581 non-null  int64  \n",
      " 1   person_income               32581 non-null  int64  \n",
      " 2   person_home_ownership       32581 non-null  object \n",
      " 3   person_emp_length           31686 non-null  float64\n",
      " 4   loan_intent                 32581 non-null  object \n",
      " 5   loan_grade                  32581 non-null  object \n",
      " 6   loan_amnt                   32581 non-null  int64  \n",
      " 7   loan_int_rate               29465 non-null  float64\n",
      " 8   loan_status                 32581 non-null  int64  \n",
      " 9   loan_percent_income         32581 non-null  float64\n",
      " 10  cb_person_default_on_file   32581 non-null  object \n",
      " 11  cb_person_cred_hist_length  32581 non-null  int64  \n",
      "dtypes: float64(3), int64(5), object(4)\n",
      "memory usage: 3.0+ MB\n"
     ]
    }
   ],
   "source": [
    "data.info()"
   ]
  },
  {
   "cell_type": "markdown",
   "id": "d6c339c2",
   "metadata": {},
   "source": [
    "# checking for duplicates"
   ]
  },
  {
   "cell_type": "code",
   "execution_count": 6,
   "id": "eb607d05",
   "metadata": {
    "ExecuteTime": {
     "end_time": "2023-02-14T05:44:02.154487Z",
     "start_time": "2023-02-14T05:44:02.074502Z"
    }
   },
   "outputs": [
    {
     "data": {
      "text/html": [
       "<div>\n",
       "<style scoped>\n",
       "    .dataframe tbody tr th:only-of-type {\n",
       "        vertical-align: middle;\n",
       "    }\n",
       "\n",
       "    .dataframe tbody tr th {\n",
       "        vertical-align: top;\n",
       "    }\n",
       "\n",
       "    .dataframe thead th {\n",
       "        text-align: right;\n",
       "    }\n",
       "</style>\n",
       "<table border=\"1\" class=\"dataframe\">\n",
       "  <thead>\n",
       "    <tr style=\"text-align: right;\">\n",
       "      <th></th>\n",
       "      <th>person_age</th>\n",
       "      <th>person_income</th>\n",
       "      <th>person_home_ownership</th>\n",
       "      <th>person_emp_length</th>\n",
       "      <th>loan_intent</th>\n",
       "      <th>loan_grade</th>\n",
       "      <th>loan_amnt</th>\n",
       "      <th>loan_int_rate</th>\n",
       "      <th>loan_status</th>\n",
       "      <th>loan_percent_income</th>\n",
       "      <th>cb_person_default_on_file</th>\n",
       "      <th>cb_person_cred_hist_length</th>\n",
       "    </tr>\n",
       "  </thead>\n",
       "  <tbody>\n",
       "    <tr>\n",
       "      <th>15975</th>\n",
       "      <td>23</td>\n",
       "      <td>42000</td>\n",
       "      <td>RENT</td>\n",
       "      <td>5.0</td>\n",
       "      <td>VENTURE</td>\n",
       "      <td>B</td>\n",
       "      <td>6000</td>\n",
       "      <td>9.99</td>\n",
       "      <td>0</td>\n",
       "      <td>0.14</td>\n",
       "      <td>N</td>\n",
       "      <td>4</td>\n",
       "    </tr>\n",
       "    <tr>\n",
       "      <th>15989</th>\n",
       "      <td>23</td>\n",
       "      <td>90000</td>\n",
       "      <td>MORTGAGE</td>\n",
       "      <td>7.0</td>\n",
       "      <td>EDUCATION</td>\n",
       "      <td>B</td>\n",
       "      <td>8000</td>\n",
       "      <td>10.36</td>\n",
       "      <td>0</td>\n",
       "      <td>0.09</td>\n",
       "      <td>N</td>\n",
       "      <td>3</td>\n",
       "    </tr>\n",
       "    <tr>\n",
       "      <th>15995</th>\n",
       "      <td>24</td>\n",
       "      <td>48000</td>\n",
       "      <td>MORTGAGE</td>\n",
       "      <td>4.0</td>\n",
       "      <td>MEDICAL</td>\n",
       "      <td>A</td>\n",
       "      <td>4000</td>\n",
       "      <td>5.42</td>\n",
       "      <td>0</td>\n",
       "      <td>0.08</td>\n",
       "      <td>N</td>\n",
       "      <td>4</td>\n",
       "    </tr>\n",
       "    <tr>\n",
       "      <th>16025</th>\n",
       "      <td>24</td>\n",
       "      <td>10000</td>\n",
       "      <td>RENT</td>\n",
       "      <td>8.0</td>\n",
       "      <td>PERSONAL</td>\n",
       "      <td>A</td>\n",
       "      <td>3000</td>\n",
       "      <td>7.90</td>\n",
       "      <td>1</td>\n",
       "      <td>0.30</td>\n",
       "      <td>N</td>\n",
       "      <td>3</td>\n",
       "    </tr>\n",
       "    <tr>\n",
       "      <th>16028</th>\n",
       "      <td>23</td>\n",
       "      <td>100000</td>\n",
       "      <td>MORTGAGE</td>\n",
       "      <td>7.0</td>\n",
       "      <td>EDUCATION</td>\n",
       "      <td>A</td>\n",
       "      <td>15000</td>\n",
       "      <td>7.88</td>\n",
       "      <td>0</td>\n",
       "      <td>0.15</td>\n",
       "      <td>N</td>\n",
       "      <td>4</td>\n",
       "    </tr>\n",
       "    <tr>\n",
       "      <th>...</th>\n",
       "      <td>...</td>\n",
       "      <td>...</td>\n",
       "      <td>...</td>\n",
       "      <td>...</td>\n",
       "      <td>...</td>\n",
       "      <td>...</td>\n",
       "      <td>...</td>\n",
       "      <td>...</td>\n",
       "      <td>...</td>\n",
       "      <td>...</td>\n",
       "      <td>...</td>\n",
       "      <td>...</td>\n",
       "    </tr>\n",
       "    <tr>\n",
       "      <th>32010</th>\n",
       "      <td>42</td>\n",
       "      <td>39996</td>\n",
       "      <td>MORTGAGE</td>\n",
       "      <td>2.0</td>\n",
       "      <td>HOMEIMPROVEMENT</td>\n",
       "      <td>A</td>\n",
       "      <td>2500</td>\n",
       "      <td>5.42</td>\n",
       "      <td>0</td>\n",
       "      <td>0.06</td>\n",
       "      <td>N</td>\n",
       "      <td>12</td>\n",
       "    </tr>\n",
       "    <tr>\n",
       "      <th>32047</th>\n",
       "      <td>36</td>\n",
       "      <td>250000</td>\n",
       "      <td>RENT</td>\n",
       "      <td>2.0</td>\n",
       "      <td>DEBTCONSOLIDATION</td>\n",
       "      <td>A</td>\n",
       "      <td>20000</td>\n",
       "      <td>7.88</td>\n",
       "      <td>0</td>\n",
       "      <td>0.08</td>\n",
       "      <td>N</td>\n",
       "      <td>17</td>\n",
       "    </tr>\n",
       "    <tr>\n",
       "      <th>32172</th>\n",
       "      <td>49</td>\n",
       "      <td>120000</td>\n",
       "      <td>MORTGAGE</td>\n",
       "      <td>12.0</td>\n",
       "      <td>MEDICAL</td>\n",
       "      <td>B</td>\n",
       "      <td>12000</td>\n",
       "      <td>10.99</td>\n",
       "      <td>0</td>\n",
       "      <td>0.10</td>\n",
       "      <td>N</td>\n",
       "      <td>12</td>\n",
       "    </tr>\n",
       "    <tr>\n",
       "      <th>32259</th>\n",
       "      <td>39</td>\n",
       "      <td>40000</td>\n",
       "      <td>OWN</td>\n",
       "      <td>4.0</td>\n",
       "      <td>VENTURE</td>\n",
       "      <td>B</td>\n",
       "      <td>1000</td>\n",
       "      <td>10.37</td>\n",
       "      <td>0</td>\n",
       "      <td>0.03</td>\n",
       "      <td>N</td>\n",
       "      <td>16</td>\n",
       "    </tr>\n",
       "    <tr>\n",
       "      <th>32279</th>\n",
       "      <td>43</td>\n",
       "      <td>11340</td>\n",
       "      <td>RENT</td>\n",
       "      <td>4.0</td>\n",
       "      <td>EDUCATION</td>\n",
       "      <td>C</td>\n",
       "      <td>1950</td>\n",
       "      <td>NaN</td>\n",
       "      <td>1</td>\n",
       "      <td>0.17</td>\n",
       "      <td>N</td>\n",
       "      <td>11</td>\n",
       "    </tr>\n",
       "  </tbody>\n",
       "</table>\n",
       "<p>165 rows × 12 columns</p>\n",
       "</div>"
      ],
      "text/plain": [
       "       person_age  person_income person_home_ownership  person_emp_length  \\\n",
       "15975          23          42000                  RENT                5.0   \n",
       "15989          23          90000              MORTGAGE                7.0   \n",
       "15995          24          48000              MORTGAGE                4.0   \n",
       "16025          24          10000                  RENT                8.0   \n",
       "16028          23         100000              MORTGAGE                7.0   \n",
       "...           ...            ...                   ...                ...   \n",
       "32010          42          39996              MORTGAGE                2.0   \n",
       "32047          36         250000                  RENT                2.0   \n",
       "32172          49         120000              MORTGAGE               12.0   \n",
       "32259          39          40000                   OWN                4.0   \n",
       "32279          43          11340                  RENT                4.0   \n",
       "\n",
       "             loan_intent loan_grade  loan_amnt  loan_int_rate  loan_status  \\\n",
       "15975            VENTURE          B       6000           9.99            0   \n",
       "15989          EDUCATION          B       8000          10.36            0   \n",
       "15995            MEDICAL          A       4000           5.42            0   \n",
       "16025           PERSONAL          A       3000           7.90            1   \n",
       "16028          EDUCATION          A      15000           7.88            0   \n",
       "...                  ...        ...        ...            ...          ...   \n",
       "32010    HOMEIMPROVEMENT          A       2500           5.42            0   \n",
       "32047  DEBTCONSOLIDATION          A      20000           7.88            0   \n",
       "32172            MEDICAL          B      12000          10.99            0   \n",
       "32259            VENTURE          B       1000          10.37            0   \n",
       "32279          EDUCATION          C       1950            NaN            1   \n",
       "\n",
       "       loan_percent_income cb_person_default_on_file  \\\n",
       "15975                 0.14                         N   \n",
       "15989                 0.09                         N   \n",
       "15995                 0.08                         N   \n",
       "16025                 0.30                         N   \n",
       "16028                 0.15                         N   \n",
       "...                    ...                       ...   \n",
       "32010                 0.06                         N   \n",
       "32047                 0.08                         N   \n",
       "32172                 0.10                         N   \n",
       "32259                 0.03                         N   \n",
       "32279                 0.17                         N   \n",
       "\n",
       "       cb_person_cred_hist_length  \n",
       "15975                           4  \n",
       "15989                           3  \n",
       "15995                           4  \n",
       "16025                           3  \n",
       "16028                           4  \n",
       "...                           ...  \n",
       "32010                          12  \n",
       "32047                          17  \n",
       "32172                          12  \n",
       "32259                          16  \n",
       "32279                          11  \n",
       "\n",
       "[165 rows x 12 columns]"
      ]
     },
     "execution_count": 6,
     "metadata": {},
     "output_type": "execute_result"
    }
   ],
   "source": [
    "data[data.duplicated()]"
   ]
  },
  {
   "cell_type": "code",
   "execution_count": 7,
   "id": "a62bb535",
   "metadata": {
    "ExecuteTime": {
     "end_time": "2023-02-14T05:44:02.210534Z",
     "start_time": "2023-02-14T05:44:02.154487Z"
    }
   },
   "outputs": [],
   "source": [
    "data.drop_duplicates(inplace=True)# dropping the duplicates"
   ]
  },
  {
   "cell_type": "markdown",
   "id": "4148b9aa",
   "metadata": {},
   "source": [
    "# Checking for missing values"
   ]
  },
  {
   "cell_type": "code",
   "execution_count": 8,
   "id": "9df1ba73",
   "metadata": {
    "ExecuteTime": {
     "end_time": "2023-02-14T05:44:02.277970Z",
     "start_time": "2023-02-14T05:44:02.211876Z"
    }
   },
   "outputs": [
    {
     "name": "stdout",
     "output_type": "stream",
     "text": [
      "<class 'pandas.core.frame.DataFrame'>\n",
      "Int64Index: 32416 entries, 0 to 32580\n",
      "Data columns (total 12 columns):\n",
      " #   Column                      Non-Null Count  Dtype  \n",
      "---  ------                      --------------  -----  \n",
      " 0   person_age                  32416 non-null  int64  \n",
      " 1   person_income               32416 non-null  int64  \n",
      " 2   person_home_ownership       32416 non-null  object \n",
      " 3   person_emp_length           31529 non-null  float64\n",
      " 4   loan_intent                 32416 non-null  object \n",
      " 5   loan_grade                  32416 non-null  object \n",
      " 6   loan_amnt                   32416 non-null  int64  \n",
      " 7   loan_int_rate               29321 non-null  float64\n",
      " 8   loan_status                 32416 non-null  int64  \n",
      " 9   loan_percent_income         32416 non-null  float64\n",
      " 10  cb_person_default_on_file   32416 non-null  object \n",
      " 11  cb_person_cred_hist_length  32416 non-null  int64  \n",
      "dtypes: float64(3), int64(5), object(4)\n",
      "memory usage: 3.2+ MB\n"
     ]
    }
   ],
   "source": [
    "data.info()"
   ]
  },
  {
   "cell_type": "code",
   "execution_count": 9,
   "id": "f2f6c7b1",
   "metadata": {
    "ExecuteTime": {
     "end_time": "2023-02-14T05:44:02.311657Z",
     "start_time": "2023-02-14T05:44:02.279681Z"
    }
   },
   "outputs": [
    {
     "data": {
      "text/plain": [
       "4.7905103238288556"
      ]
     },
     "execution_count": 9,
     "metadata": {},
     "output_type": "execute_result"
    },
    {
     "data": {
      "text/plain": [
       "4.0"
      ]
     },
     "execution_count": 9,
     "metadata": {},
     "output_type": "execute_result"
    }
   ],
   "source": [
    "#filling nan values in the person_emp_length\n",
    "data.person_emp_length.mean()\n",
    "data.person_emp_length.median()"
   ]
  },
  {
   "cell_type": "code",
   "execution_count": 10,
   "id": "4ef15117",
   "metadata": {
    "ExecuteTime": {
     "end_time": "2023-02-14T05:44:02.327646Z",
     "start_time": "2023-02-14T05:44:02.311657Z"
    }
   },
   "outputs": [],
   "source": [
    "x=data.person_emp_length.median()\n",
    "data.person_emp_length.fillna(x,inplace=True)"
   ]
  },
  {
   "cell_type": "code",
   "execution_count": 11,
   "id": "0ef8f9ae",
   "metadata": {
    "ExecuteTime": {
     "end_time": "2023-02-14T05:44:02.361205Z",
     "start_time": "2023-02-14T05:44:02.327646Z"
    }
   },
   "outputs": [
    {
     "data": {
      "text/plain": [
       "11.017265100098905"
      ]
     },
     "execution_count": 11,
     "metadata": {},
     "output_type": "execute_result"
    },
    {
     "data": {
      "text/plain": [
       "10.99"
      ]
     },
     "execution_count": 11,
     "metadata": {},
     "output_type": "execute_result"
    }
   ],
   "source": [
    "#filling nan values in the loan_int_rate column\n",
    "data.loan_int_rate.mean()\n",
    "data.loan_int_rate.median()"
   ]
  },
  {
   "cell_type": "code",
   "execution_count": 12,
   "id": "85dd8a6f",
   "metadata": {
    "ExecuteTime": {
     "end_time": "2023-02-14T05:44:02.377795Z",
     "start_time": "2023-02-14T05:44:02.361806Z"
    }
   },
   "outputs": [],
   "source": [
    "x=data.loan_int_rate.median()\n",
    "data.loan_int_rate.fillna(x,inplace=True)"
   ]
  },
  {
   "cell_type": "code",
   "execution_count": 13,
   "id": "01788839",
   "metadata": {
    "ExecuteTime": {
     "end_time": "2023-02-14T05:44:02.441758Z",
     "start_time": "2023-02-14T05:44:02.377795Z"
    }
   },
   "outputs": [
    {
     "name": "stdout",
     "output_type": "stream",
     "text": [
      "<class 'pandas.core.frame.DataFrame'>\n",
      "Int64Index: 32416 entries, 0 to 32580\n",
      "Data columns (total 12 columns):\n",
      " #   Column                      Non-Null Count  Dtype  \n",
      "---  ------                      --------------  -----  \n",
      " 0   person_age                  32416 non-null  int64  \n",
      " 1   person_income               32416 non-null  int64  \n",
      " 2   person_home_ownership       32416 non-null  object \n",
      " 3   person_emp_length           32416 non-null  float64\n",
      " 4   loan_intent                 32416 non-null  object \n",
      " 5   loan_grade                  32416 non-null  object \n",
      " 6   loan_amnt                   32416 non-null  int64  \n",
      " 7   loan_int_rate               32416 non-null  float64\n",
      " 8   loan_status                 32416 non-null  int64  \n",
      " 9   loan_percent_income         32416 non-null  float64\n",
      " 10  cb_person_default_on_file   32416 non-null  object \n",
      " 11  cb_person_cred_hist_length  32416 non-null  int64  \n",
      "dtypes: float64(3), int64(5), object(4)\n",
      "memory usage: 3.2+ MB\n"
     ]
    }
   ],
   "source": [
    "data.info()"
   ]
  },
  {
   "cell_type": "markdown",
   "id": "617151ae",
   "metadata": {
    "ExecuteTime": {
     "end_time": "2023-02-09T12:47:51.195001Z",
     "start_time": "2023-02-09T12:47:51.187005Z"
    }
   },
   "source": [
    "# outliers"
   ]
  },
  {
   "cell_type": "code",
   "execution_count": 14,
   "id": "4453b022",
   "metadata": {
    "ExecuteTime": {
     "end_time": "2023-02-14T05:44:02.505748Z",
     "start_time": "2023-02-14T05:44:02.441758Z"
    }
   },
   "outputs": [
    {
     "data": {
      "text/plain": [
       "person_age                     2.580490\n",
       "person_income                 32.958748\n",
       "person_emp_length              2.668217\n",
       "loan_amnt                      1.191944\n",
       "loan_int_rate                  0.220183\n",
       "loan_status                    1.361172\n",
       "loan_percent_income            1.063811\n",
       "cb_person_cred_hist_length     1.659369\n",
       "dtype: float64"
      ]
     },
     "execution_count": 14,
     "metadata": {},
     "output_type": "execute_result"
    }
   ],
   "source": [
    "data.skew()"
   ]
  },
  {
   "cell_type": "markdown",
   "id": "cfb9dc65",
   "metadata": {
    "ExecuteTime": {
     "end_time": "2023-02-10T14:08:04.813379Z",
     "start_time": "2023-02-10T14:08:04.808433Z"
    }
   },
   "source": [
    "## outliers detection for person_income column"
   ]
  },
  {
   "cell_type": "code",
   "execution_count": 15,
   "id": "8012a8a2",
   "metadata": {
    "ExecuteTime": {
     "end_time": "2023-02-14T05:44:02.521704Z",
     "start_time": "2023-02-14T05:44:02.505748Z"
    }
   },
   "outputs": [
    {
     "name": "stdout",
     "output_type": "stream",
     "text": [
      "38542.0 55000.0 79218.0\n"
     ]
    }
   ],
   "source": [
    "Q1,Q2,Q3=tuple(data.person_income.quantile(q=[0.25,0.50,0.75]))\n",
    "print(Q1,Q2,Q3)"
   ]
  },
  {
   "cell_type": "code",
   "execution_count": 16,
   "id": "f358beb6",
   "metadata": {
    "ExecuteTime": {
     "end_time": "2023-02-14T05:44:02.537690Z",
     "start_time": "2023-02-14T05:44:02.521704Z"
    }
   },
   "outputs": [
    {
     "name": "stdout",
     "output_type": "stream",
     "text": [
      "40676.0 140232.0 -22472.0\n"
     ]
    }
   ],
   "source": [
    "IQR=Q3-Q1\n",
    "UL=Q3+1.5*(IQR)\n",
    "LL=Q1-1.5*(IQR)\n",
    "print(IQR,UL,LL)"
   ]
  },
  {
   "cell_type": "markdown",
   "id": "47d6bd68",
   "metadata": {},
   "source": [
    "### Normalization"
   ]
  },
  {
   "cell_type": "code",
   "execution_count": 17,
   "id": "337618fa",
   "metadata": {
    "ExecuteTime": {
     "end_time": "2023-02-14T05:44:02.742233Z",
     "start_time": "2023-02-14T05:44:02.537690Z"
    }
   },
   "outputs": [],
   "source": [
    "from sklearn.preprocessing import MinMaxScaler,StandardScaler\n",
    "mm=MinMaxScaler()\n",
    "data_Norm=mm.fit_transform(data.person_income.values.reshape(-1,1))"
   ]
  },
  {
   "cell_type": "code",
   "execution_count": 18,
   "id": "7d533ff0",
   "metadata": {
    "ExecuteTime": {
     "end_time": "2023-02-14T05:44:02.950515Z",
     "start_time": "2023-02-14T05:44:02.742233Z"
    }
   },
   "outputs": [
    {
     "data": {
      "text/plain": [
       "<AxesSubplot:>"
      ]
     },
     "execution_count": 18,
     "metadata": {},
     "output_type": "execute_result"
    },
    {
     "data": {
      "image/png": "[encoded data removed]",
      "text/plain": [
       "<Figure size 432x288 with 1 Axes>"
      ]
     },
     "metadata": {
      "needs_background": "light"
     },
     "output_type": "display_data"
    }
   ],
   "source": [
    "sns.boxplot(data_Norm)"
   ]
  },
  {
   "cell_type": "markdown",
   "id": "467147ec",
   "metadata": {
    "ExecuteTime": {
     "end_time": "2023-02-13T18:41:47.307149Z",
     "start_time": "2023-02-13T18:41:47.298175Z"
    }
   },
   "source": [
    "### Standardization"
   ]
  },
  {
   "cell_type": "code",
   "execution_count": 19,
   "id": "6a7fd279",
   "metadata": {
    "ExecuteTime": {
     "end_time": "2023-02-14T05:44:02.966540Z",
     "start_time": "2023-02-14T05:44:02.950515Z"
    }
   },
   "outputs": [],
   "source": [
    "from sklearn.preprocessing import StandardScaler\n",
    "ss=StandardScaler()\n",
    "data_Stand=mm.fit_transform(data.person_income.values.reshape(-1,1))"
   ]
  },
  {
   "cell_type": "code",
   "execution_count": 20,
   "id": "136ac24a",
   "metadata": {
    "ExecuteTime": {
     "end_time": "2023-02-14T05:44:03.159612Z",
     "start_time": "2023-02-14T05:44:02.966540Z"
    }
   },
   "outputs": [
    {
     "data": {
      "text/plain": [
       "<AxesSubplot:>"
      ]
     },
     "execution_count": 20,
     "metadata": {},
     "output_type": "execute_result"
    },
    {
     "data": {
      "image/png": "[encoded data removed]",
      "text/plain": [
       "<Figure size 432x288 with 1 Axes>"
      ]
     },
     "metadata": {
      "needs_background": "light"
     },
     "output_type": "display_data"
    }
   ],
   "source": [
    "sns.boxplot(data_Stand)"
   ]
  },
  {
   "cell_type": "markdown",
   "id": "ca93f599",
   "metadata": {},
   "source": [
    "### log transformation"
   ]
  },
  {
   "cell_type": "code",
   "execution_count": 21,
   "id": "5d32bf4e",
   "metadata": {
    "ExecuteTime": {
     "end_time": "2023-02-14T05:44:03.175644Z",
     "start_time": "2023-02-14T05:44:03.159612Z"
    }
   },
   "outputs": [],
   "source": [
    "Q1,Q2,Q3=(np.log(data.person_income).quantile(q = [0.25,0.5,0.75]))"
   ]
  },
  {
   "cell_type": "code",
   "execution_count": 22,
   "id": "b56d3eab",
   "metadata": {
    "ExecuteTime": {
     "end_time": "2023-02-14T05:44:03.191591Z",
     "start_time": "2023-02-14T05:44:03.175644Z"
    }
   },
   "outputs": [
    {
     "name": "stdout",
     "output_type": "stream",
     "text": [
      "0.7204551105397066 12.36064141309613 9.478820970937305\n"
     ]
    }
   ],
   "source": [
    "IQR=Q3-Q1\n",
    "UL=Q3+1.5*(IQR)\n",
    "LL=Q1-1.5*(IQR)\n",
    "print(IQR,UL,LL)"
   ]
  },
  {
   "cell_type": "code",
   "execution_count": 23,
   "id": "2c6ef271",
   "metadata": {
    "ExecuteTime": {
     "end_time": "2023-02-14T05:44:03.207580Z",
     "start_time": "2023-02-14T05:44:03.191591Z"
    }
   },
   "outputs": [
    {
     "data": {
      "text/plain": [
       "1        1\n",
       "27846    1\n",
       "27838    1\n",
       "27839    1\n",
       "27840    1\n",
       "        ..\n",
       "15944    1\n",
       "15943    1\n",
       "15942    1\n",
       "15941    1\n",
       "32551    1\n",
       "Length: 571, dtype: int64"
      ]
     },
     "execution_count": 23,
     "metadata": {},
     "output_type": "execute_result"
    }
   ],
   "source": [
    "data[(np.log(data.person_income) > UL) | (np.log(data.person_income)< LL)].index.value_counts()\n",
    "# In logtransformation there are less outlier detection  compared to cube root transformation"
   ]
  },
  {
   "cell_type": "code",
   "execution_count": 24,
   "id": "f8dd2ef2",
   "metadata": {
    "ExecuteTime": {
     "end_time": "2023-02-14T05:44:03.327579Z",
     "start_time": "2023-02-14T05:44:03.207580Z"
    }
   },
   "outputs": [
    {
     "data": {
      "text/plain": [
       "<AxesSubplot:xlabel='person_income'>"
      ]
     },
     "execution_count": 24,
     "metadata": {},
     "output_type": "execute_result"
    },
    {
     "data": {
      "image/png": "[encoded data removed]",
      "text/plain": [
       "<Figure size 432x288 with 1 Axes>"
      ]
     },
     "metadata": {
      "needs_background": "light"
     },
     "output_type": "display_data"
    }
   ],
   "source": [
    "sns.boxplot(np.log(data.person_income)) ## logtransformation as 571 outliiers"
   ]
  },
  {
   "cell_type": "markdown",
   "id": "05396de8",
   "metadata": {},
   "source": [
    "### Cube root transformation"
   ]
  },
  {
   "cell_type": "code",
   "execution_count": 25,
   "id": "c7f07dd2",
   "metadata": {
    "ExecuteTime": {
     "end_time": "2023-02-14T05:44:03.345035Z",
     "start_time": "2023-02-14T05:44:03.328379Z"
    }
   },
   "outputs": [],
   "source": [
    "Q1, Q2,Q3= (((data.person_income)**(1/3)).quantile(q = [0.25,0.5,0.75]))"
   ]
  },
  {
   "cell_type": "code",
   "execution_count": 26,
   "id": "8ed95518",
   "metadata": {
    "ExecuteTime": {
     "end_time": "2023-02-14T05:44:03.353415Z",
     "start_time": "2023-02-14T05:44:03.345420Z"
    }
   },
   "outputs": [
    {
     "name": "stdout",
     "output_type": "stream",
     "text": [
      "9.168995885925483 56.70132960142149 20.02534605771956\n"
     ]
    }
   ],
   "source": [
    "IQR=Q3-Q1\n",
    "UL=Q3+1.5*(IQR)\n",
    "LL=Q1-1.5*(IQR)\n",
    "print(IQR,UL,LL)"
   ]
  },
  {
   "cell_type": "code",
   "execution_count": 27,
   "id": "66001294",
   "metadata": {
    "ExecuteTime": {
     "end_time": "2023-02-14T05:44:03.369444Z",
     "start_time": "2023-02-14T05:44:03.353415Z"
    }
   },
   "outputs": [
    {
     "data": {
      "text/plain": [
       "15       1\n",
       "27854    1\n",
       "27846    1\n",
       "27847    1\n",
       "27848    1\n",
       "        ..\n",
       "17905    1\n",
       "17906    1\n",
       "17907    1\n",
       "17910    1\n",
       "32551    1\n",
       "Length: 678, dtype: int64"
      ]
     },
     "execution_count": 27,
     "metadata": {},
     "output_type": "execute_result"
    }
   ],
   "source": [
    "data[( ((data.person_income)**(1/3))> UL) | (((data.person_income)**(1/3))< LL)].index.value_counts()"
   ]
  },
  {
   "cell_type": "code",
   "execution_count": 28,
   "id": "a2714070",
   "metadata": {
    "ExecuteTime": {
     "end_time": "2023-02-14T05:44:03.502470Z",
     "start_time": "2023-02-14T05:44:03.369444Z"
    }
   },
   "outputs": [
    {
     "data": {
      "text/plain": [
       "<AxesSubplot:xlabel='person_income'>"
      ]
     },
     "execution_count": 28,
     "metadata": {},
     "output_type": "execute_result"
    },
    {
     "data": {
      "image/png": "[encoded data removed]",
      "text/plain": [
       "<Figure size 432x288 with 1 Axes>"
      ]
     },
     "metadata": {
      "needs_background": "light"
     },
     "output_type": "display_data"
    }
   ],
   "source": [
    "sns.boxplot((data.person_income)**(1/3)) ## cuberoot transformation as 678 ouutliers"
   ]
  },
  {
   "cell_type": "markdown",
   "id": "a5cb645a",
   "metadata": {},
   "source": [
    "### Boxcox transformation"
   ]
  },
  {
   "cell_type": "code",
   "execution_count": 29,
   "id": "1c78e88f",
   "metadata": {
    "ExecuteTime": {
     "end_time": "2023-02-14T05:44:03.518460Z",
     "start_time": "2023-02-14T05:44:03.502470Z"
    }
   },
   "outputs": [],
   "source": [
    "from scipy import stats"
   ]
  },
  {
   "cell_type": "code",
   "execution_count": 30,
   "id": "e0f2a912",
   "metadata": {
    "ExecuteTime": {
     "end_time": "2023-02-14T05:44:03.593849Z",
     "start_time": "2023-02-14T05:44:03.518460Z"
    }
   },
   "outputs": [],
   "source": [
    "x=stats.boxcox(data.person_income)[0] \n",
    "y=pd.Series(x)"
   ]
  },
  {
   "cell_type": "code",
   "execution_count": 31,
   "id": "e5688fb6",
   "metadata": {
    "ExecuteTime": {
     "end_time": "2023-02-14T05:44:03.689574Z",
     "start_time": "2023-02-14T05:44:03.593849Z"
    }
   },
   "outputs": [
    {
     "data": {
      "text/plain": [
       "<AxesSubplot:>"
      ]
     },
     "execution_count": 31,
     "metadata": {},
     "output_type": "execute_result"
    },
    {
     "data": {
      "image/png": "[encoded data removed]",
      "text/plain": [
       "<Figure size 432x288 with 1 Axes>"
      ]
     },
     "metadata": {
      "needs_background": "light"
     },
     "output_type": "display_data"
    }
   ],
   "source": [
    "sns.boxplot(y)"
   ]
  },
  {
   "cell_type": "code",
   "execution_count": 32,
   "id": "48cee3ae",
   "metadata": {
    "ExecuteTime": {
     "end_time": "2023-02-14T05:44:03.873943Z",
     "start_time": "2023-02-14T05:44:03.689574Z"
    }
   },
   "outputs": [
    {
     "data": {
      "image/png": "[encoded data removed]",
      "text/plain": [
       "<Figure size 432x288 with 1 Axes>"
      ]
     },
     "metadata": {
      "needs_background": "light"
     },
     "output_type": "display_data"
    }
   ],
   "source": [
    "stats.probplot(y, dist=\"norm\", plot=plt)\n",
    "\n",
    "plt.grid();"
   ]
  },
  {
   "cell_type": "code",
   "execution_count": 33,
   "id": "3b710a52",
   "metadata": {
    "ExecuteTime": {
     "end_time": "2023-02-14T05:44:03.889440Z",
     "start_time": "2023-02-14T05:44:03.873943Z"
    }
   },
   "outputs": [
    {
     "name": "stdout",
     "output_type": "stream",
     "text": [
      "7.673482269071922 7.8522146585716 8.031430423565453\n"
     ]
    }
   ],
   "source": [
    "Q1, Q2,Q3= (y.quantile(q = [0.25,0.5,0.75]))\n",
    "print(Q1,Q2,Q3)"
   ]
  },
  {
   "cell_type": "code",
   "execution_count": 34,
   "id": "42547fdb",
   "metadata": {
    "ExecuteTime": {
     "end_time": "2023-02-14T05:44:03.905394Z",
     "start_time": "2023-02-14T05:44:03.889440Z"
    }
   },
   "outputs": [
    {
     "name": "stdout",
     "output_type": "stream",
     "text": [
      "0.35794815449353123 8.56835265530575 7.136560037331625\n"
     ]
    }
   ],
   "source": [
    "IQR=Q3-Q1\n",
    "UL=Q3+1.5*(IQR)\n",
    "LL=Q1-1.5*(IQR)\n",
    "print(IQR,UL,LL)"
   ]
  },
  {
   "cell_type": "code",
   "execution_count": 35,
   "id": "8beffa72",
   "metadata": {
    "ExecuteTime": {
     "end_time": "2023-02-14T05:44:04.042248Z",
     "start_time": "2023-02-14T05:44:03.905394Z"
    }
   },
   "outputs": [
    {
     "data": {
      "text/plain": [
       "1        1\n",
       "27848    1\n",
       "27840    1\n",
       "27842    1\n",
       "27843    1\n",
       "        ..\n",
       "15932    1\n",
       "15931    1\n",
       "15930    1\n",
       "15929    1\n",
       "32551    1\n",
       "Length: 561, dtype: int64"
      ]
     },
     "execution_count": 35,
     "metadata": {},
     "output_type": "execute_result"
    }
   ],
   "source": [
    "data[((stats.boxcox(data.person_income)[0])> UL) | ((stats.boxcox(data.person_income)[0])< LL)].index.value_counts()"
   ]
  },
  {
   "cell_type": "code",
   "execution_count": 36,
   "id": "2752f321",
   "metadata": {
    "ExecuteTime": {
     "end_time": "2023-02-14T05:44:04.122176Z",
     "start_time": "2023-02-14T05:44:04.042248Z"
    }
   },
   "outputs": [],
   "source": [
    "person_income_tran=stats.boxcox(data.person_income)[0]"
   ]
  },
  {
   "cell_type": "code",
   "execution_count": 37,
   "id": "43badce1",
   "metadata": {
    "ExecuteTime": {
     "end_time": "2023-02-14T05:44:04.185932Z",
     "start_time": "2023-02-14T05:44:04.122176Z"
    }
   },
   "outputs": [],
   "source": [
    "data[\"person_income_tran\"]=stats.boxcox(data.person_income)[0]"
   ]
  },
  {
   "cell_type": "code",
   "execution_count": 38,
   "id": "1a42d0bd",
   "metadata": {
    "ExecuteTime": {
     "end_time": "2023-02-14T05:44:04.201568Z",
     "start_time": "2023-02-14T05:44:04.185932Z"
    }
   },
   "outputs": [],
   "source": [
    "### boxcox transformation as 561 outliers where the logtransformation as  571 outliers "
   ]
  },
  {
   "cell_type": "markdown",
   "id": "8fdb4569",
   "metadata": {},
   "source": [
    "## outlier detection for the person age column"
   ]
  },
  {
   "cell_type": "code",
   "execution_count": 39,
   "id": "e0c96863",
   "metadata": {
    "ExecuteTime": {
     "end_time": "2023-02-14T05:44:04.233575Z",
     "start_time": "2023-02-14T05:44:04.201568Z"
    }
   },
   "outputs": [
    {
     "name": "stdout",
     "output_type": "stream",
     "text": [
      "23.0 26.0 30.0\n"
     ]
    }
   ],
   "source": [
    "Q1,Q2,Q3=tuple(data.person_age.quantile(q=[0.25,0.50,0.75]))\n",
    "print(Q1,Q2,Q3)"
   ]
  },
  {
   "cell_type": "code",
   "execution_count": 40,
   "id": "6dd80d3c",
   "metadata": {
    "ExecuteTime": {
     "end_time": "2023-02-14T05:44:04.241536Z",
     "start_time": "2023-02-14T05:44:04.233575Z"
    }
   },
   "outputs": [
    {
     "name": "stdout",
     "output_type": "stream",
     "text": [
      "7.0 40.5 12.5\n"
     ]
    }
   ],
   "source": [
    "IQR=Q3-Q1\n",
    "UL=Q3+1.5*(IQR)\n",
    "LL=Q1-1.5*(IQR)\n",
    "print(IQR,UL,LL)"
   ]
  },
  {
   "cell_type": "markdown",
   "id": "3078a792",
   "metadata": {},
   "source": [
    "### logtransformation"
   ]
  },
  {
   "cell_type": "code",
   "execution_count": 41,
   "id": "c8dd21f4",
   "metadata": {
    "ExecuteTime": {
     "end_time": "2023-02-14T05:44:04.257525Z",
     "start_time": "2023-02-14T05:44:04.241536Z"
    }
   },
   "outputs": [
    {
     "name": "stdout",
     "output_type": "stream",
     "text": [
      "3.1354942159291497 3.258096538021482 3.4011973816621555\n"
     ]
    }
   ],
   "source": [
    "Q1,Q2,Q3=(np.log(data.person_age.quantile(q=[0.25,0.50,0.75])))\n",
    "print(Q1,Q2,Q3)"
   ]
  },
  {
   "cell_type": "code",
   "execution_count": 42,
   "id": "e1b4adbd",
   "metadata": {
    "ExecuteTime": {
     "end_time": "2023-02-14T05:44:04.273515Z",
     "start_time": "2023-02-14T05:44:04.257525Z"
    }
   },
   "outputs": [
    {
     "name": "stdout",
     "output_type": "stream",
     "text": [
      "0.2657031657330058 3.7997521302616644 2.736939467329641\n"
     ]
    }
   ],
   "source": [
    "IQR=Q3-Q1\n",
    "UL=Q3+1.5*(IQR)\n",
    "LL=Q1-1.5*(IQR)\n",
    "print(IQR,UL,LL)"
   ]
  },
  {
   "cell_type": "code",
   "execution_count": 43,
   "id": "86e94900",
   "metadata": {
    "ExecuteTime": {
     "end_time": "2023-02-14T05:44:04.289506Z",
     "start_time": "2023-02-14T05:44:04.273515Z"
    }
   },
   "outputs": [
    {
     "data": {
      "text/plain": [
       "81       1\n",
       "32332    1\n",
       "32323    1\n",
       "32324    1\n",
       "32325    1\n",
       "        ..\n",
       "30862    1\n",
       "30864    1\n",
       "30884    1\n",
       "30886    1\n",
       "32580    1\n",
       "Length: 759, dtype: int64"
      ]
     },
     "execution_count": 43,
     "metadata": {},
     "output_type": "execute_result"
    }
   ],
   "source": [
    "data[(np.log(data.person_age) > UL) | (np.log(data.person_age)< LL)].index.value_counts()"
   ]
  },
  {
   "cell_type": "code",
   "execution_count": 44,
   "id": "b280fa1c",
   "metadata": {
    "ExecuteTime": {
     "end_time": "2023-02-14T05:44:04.483001Z",
     "start_time": "2023-02-14T05:44:04.289506Z"
    }
   },
   "outputs": [
    {
     "data": {
      "text/plain": [
       "<AxesSubplot:xlabel='person_age'>"
      ]
     },
     "execution_count": 44,
     "metadata": {},
     "output_type": "execute_result"
    },
    {
     "data": {
      "image/png": "[encoded data removed]",
      "text/plain": [
       "<Figure size 432x288 with 1 Axes>"
      ]
     },
     "metadata": {
      "needs_background": "light"
     },
     "output_type": "display_data"
    }
   ],
   "source": [
    "sns.boxplot(np.log(data.person_age))## logtransformation as 759 outliers"
   ]
  },
  {
   "cell_type": "markdown",
   "id": "302e06e2",
   "metadata": {},
   "source": [
    "### cube root transformation"
   ]
  },
  {
   "cell_type": "code",
   "execution_count": 45,
   "id": "d1b23fac",
   "metadata": {
    "ExecuteTime": {
     "end_time": "2023-02-14T05:44:04.499026Z",
     "start_time": "2023-02-14T05:44:04.483001Z"
    }
   },
   "outputs": [
    {
     "name": "stdout",
     "output_type": "stream",
     "text": [
      "2.8438669798515654 2.9624960684073702 3.1072325059538586\n"
     ]
    }
   ],
   "source": [
    "Q1,Q2,Q3=((data.person_age)**(1/3)).quantile(q=[0.25,0.50,0.75])\n",
    "print(Q1,Q2,Q3)"
   ]
  },
  {
   "cell_type": "code",
   "execution_count": 46,
   "id": "db4f029a",
   "metadata": {
    "ExecuteTime": {
     "end_time": "2023-02-14T05:44:04.514979Z",
     "start_time": "2023-02-14T05:44:04.499026Z"
    }
   },
   "outputs": [
    {
     "name": "stdout",
     "output_type": "stream",
     "text": [
      "0.26336552610229313 3.502280795107298 2.4488186906981255\n"
     ]
    }
   ],
   "source": [
    "IQR=Q3-Q1\n",
    "UL=Q3+1.5*(IQR)\n",
    "LL=Q1-1.5*(IQR)\n",
    "print(IQR,UL,LL)"
   ]
  },
  {
   "cell_type": "code",
   "execution_count": 47,
   "id": "5fe191de",
   "metadata": {
    "ExecuteTime": {
     "end_time": "2023-02-14T05:44:04.546993Z",
     "start_time": "2023-02-14T05:44:04.514979Z"
    }
   },
   "outputs": [
    {
     "data": {
      "text/plain": [
       "81       1\n",
       "31982    1\n",
       "31933    1\n",
       "31934    1\n",
       "31935    1\n",
       "        ..\n",
       "30574    1\n",
       "30580    1\n",
       "30587    1\n",
       "30592    1\n",
       "32580    1\n",
       "Length: 1063, dtype: int64"
      ]
     },
     "execution_count": 47,
     "metadata": {},
     "output_type": "execute_result"
    }
   ],
   "source": [
    "data[((data.person_age)**(1/3) > UL) | ((data.person_age)**(1/3)< LL)].index.value_counts()"
   ]
  },
  {
   "cell_type": "code",
   "execution_count": 48,
   "id": "10a8c445",
   "metadata": {
    "ExecuteTime": {
     "end_time": "2023-02-14T05:44:04.676826Z",
     "start_time": "2023-02-14T05:44:04.546993Z"
    }
   },
   "outputs": [
    {
     "data": {
      "text/plain": [
       "<AxesSubplot:xlabel='person_age'>"
      ]
     },
     "execution_count": 48,
     "metadata": {},
     "output_type": "execute_result"
    },
    {
     "data": {
      "image/png": "[encoded data removed]",
      "text/plain": [
       "<Figure size 432x288 with 1 Axes>"
      ]
     },
     "metadata": {
      "needs_background": "light"
     },
     "output_type": "display_data"
    }
   ],
   "source": [
    "sns.boxplot((data.person_age)**(1/3)) ## cube root transformation as 1063 outliers"
   ]
  },
  {
   "cell_type": "code",
   "execution_count": 49,
   "id": "a2a58d7f",
   "metadata": {
    "ExecuteTime": {
     "end_time": "2023-02-14T05:44:04.692330Z",
     "start_time": "2023-02-14T05:44:04.676826Z"
    }
   },
   "outputs": [],
   "source": [
    "person_age_tran=np.log(data.person_age)"
   ]
  },
  {
   "cell_type": "code",
   "execution_count": 50,
   "id": "4cac524c",
   "metadata": {
    "ExecuteTime": {
     "end_time": "2023-02-14T05:44:04.708285Z",
     "start_time": "2023-02-14T05:44:04.692330Z"
    }
   },
   "outputs": [],
   "source": [
    "data[\"person_age_tran\"]=np.log(data.person_age)"
   ]
  },
  {
   "cell_type": "markdown",
   "id": "1c2c02c3",
   "metadata": {},
   "source": [
    "### Boxcox transformation"
   ]
  },
  {
   "cell_type": "code",
   "execution_count": 51,
   "id": "47cabe14",
   "metadata": {
    "ExecuteTime": {
     "end_time": "2023-02-14T05:44:04.756773Z",
     "start_time": "2023-02-14T05:44:04.708285Z"
    }
   },
   "outputs": [],
   "source": [
    "x=stats.boxcox(data.person_age)[0] \n",
    "y=pd.Series(x)"
   ]
  },
  {
   "cell_type": "code",
   "execution_count": 52,
   "id": "598346ea",
   "metadata": {
    "ExecuteTime": {
     "end_time": "2023-02-14T05:44:04.861677Z",
     "start_time": "2023-02-14T05:44:04.756773Z"
    }
   },
   "outputs": [
    {
     "data": {
      "text/plain": [
       "<AxesSubplot:>"
      ]
     },
     "execution_count": 52,
     "metadata": {},
     "output_type": "execute_result"
    },
    {
     "data": {
      "image/png": "[encoded data removed]",
      "text/plain": [
       "<Figure size 432x288 with 1 Axes>"
      ]
     },
     "metadata": {
      "needs_background": "light"
     },
     "output_type": "display_data"
    }
   ],
   "source": [
    "sns.boxplot(y)"
   ]
  },
  {
   "cell_type": "code",
   "execution_count": 53,
   "id": "0f6cfdcc",
   "metadata": {
    "ExecuteTime": {
     "end_time": "2023-02-14T05:44:05.055814Z",
     "start_time": "2023-02-14T05:44:04.862045Z"
    }
   },
   "outputs": [
    {
     "data": {
      "image/png": "[encoded data removed]",
      "text/plain": [
       "<Figure size 432x288 with 1 Axes>"
      ]
     },
     "metadata": {
      "needs_background": "light"
     },
     "output_type": "display_data"
    }
   ],
   "source": [
    "stats.probplot(y, dist=\"norm\", plot=plt)\n",
    "\n",
    "plt.grid();"
   ]
  },
  {
   "cell_type": "code",
   "execution_count": 54,
   "id": "a6046edf",
   "metadata": {
    "ExecuteTime": {
     "end_time": "2023-02-14T05:44:05.071801Z",
     "start_time": "2023-02-14T05:44:05.055814Z"
    }
   },
   "outputs": [
    {
     "name": "stdout",
     "output_type": "stream",
     "text": [
      "0.4150567062354287 0.4151125362646422 0.4151599217970655\n"
     ]
    }
   ],
   "source": [
    "Q1, Q2,Q3= (y.quantile(q = [0.25,0.5,0.75]))\n",
    "print(Q1,Q2,Q3)"
   ]
  },
  {
   "cell_type": "code",
   "execution_count": 55,
   "id": "648e9c3e",
   "metadata": {
    "ExecuteTime": {
     "end_time": "2023-02-14T05:44:05.087758Z",
     "start_time": "2023-02-14T05:44:05.071801Z"
    }
   },
   "outputs": [
    {
     "name": "stdout",
     "output_type": "stream",
     "text": [
      "0.00010321556163683798 0.41531474513952077 0.4149018828929734\n"
     ]
    }
   ],
   "source": [
    "IQR=Q3-Q1\n",
    "UL=Q3+1.5*(IQR)\n",
    "LL=Q1-1.5*(IQR)\n",
    "print(IQR,UL,LL)"
   ]
  },
  {
   "cell_type": "code",
   "execution_count": 56,
   "id": "eab7af27",
   "metadata": {
    "ExecuteTime": {
     "end_time": "2023-02-14T05:44:05.160451Z",
     "start_time": "2023-02-14T05:44:05.087758Z"
    }
   },
   "outputs": [
    {
     "data": {
      "text/plain": [
       "Series([], dtype: int64)"
      ]
     },
     "execution_count": 56,
     "metadata": {},
     "output_type": "execute_result"
    }
   ],
   "source": [
    "data[((stats.boxcox(data.person_age)[0])> UL) | ((stats.boxcox(data.person_age)[0])< LL)].index.value_counts()"
   ]
  },
  {
   "cell_type": "code",
   "execution_count": 57,
   "id": "3562f1fd",
   "metadata": {
    "ExecuteTime": {
     "end_time": "2023-02-14T05:44:05.203507Z",
     "start_time": "2023-02-14T05:44:05.161616Z"
    }
   },
   "outputs": [],
   "source": [
    "person_age_tran=stats.boxcox(data.person_age)[0]"
   ]
  },
  {
   "cell_type": "code",
   "execution_count": 58,
   "id": "b26fa921",
   "metadata": {
    "ExecuteTime": {
     "end_time": "2023-02-14T05:44:05.252729Z",
     "start_time": "2023-02-14T05:44:05.203507Z"
    }
   },
   "outputs": [],
   "source": [
    "data[\"person_age_tran\"]=stats.boxcox(data.person_age)[0]"
   ]
  },
  {
   "cell_type": "code",
   "execution_count": 59,
   "id": "1aab2133",
   "metadata": {
    "ExecuteTime": {
     "end_time": "2023-02-14T05:44:05.268167Z",
     "start_time": "2023-02-14T05:44:05.252729Z"
    }
   },
   "outputs": [],
   "source": [
    "## person age column as no outliers if we use boxcox transformation"
   ]
  },
  {
   "cell_type": "markdown",
   "id": "90e08105",
   "metadata": {
    "ExecuteTime": {
     "end_time": "2023-02-10T14:35:01.595020Z",
     "start_time": "2023-02-10T14:35:01.558120Z"
    }
   },
   "source": [
    "## outlier detection for the person_emp_length "
   ]
  },
  {
   "cell_type": "markdown",
   "id": "ced3f709",
   "metadata": {},
   "source": [
    "### logtransformation"
   ]
  },
  {
   "cell_type": "code",
   "execution_count": 60,
   "id": "1324adfb",
   "metadata": {
    "ExecuteTime": {
     "end_time": "2023-02-14T05:44:05.284191Z",
     "start_time": "2023-02-14T05:44:05.268167Z"
    }
   },
   "outputs": [
    {
     "name": "stdout",
     "output_type": "stream",
     "text": [
      "0.6931471805599453 1.3862943611198906 1.9459101490553132\n"
     ]
    }
   ],
   "source": [
    "Q1,Q2,Q3=(np.log(data.person_emp_length.quantile(q=[0.25,0.50,0.75])))\n",
    "print(Q1,Q2,Q3)"
   ]
  },
  {
   "cell_type": "code",
   "execution_count": 61,
   "id": "24ba452a",
   "metadata": {
    "ExecuteTime": {
     "end_time": "2023-02-14T05:44:05.300182Z",
     "start_time": "2023-02-14T05:44:05.284191Z"
    }
   },
   "outputs": [
    {
     "name": "stdout",
     "output_type": "stream",
     "text": [
      "1.252762968495368 3.8250546017983655 -1.1859972721831067\n"
     ]
    }
   ],
   "source": [
    "IQR=Q3-Q1\n",
    "UL=Q3+1.5*(IQR)\n",
    "LL=Q1-1.5*(IQR)\n",
    "print(IQR,UL,LL)"
   ]
  },
  {
   "cell_type": "code",
   "execution_count": 62,
   "id": "a969c131",
   "metadata": {
    "ExecuteTime": {
     "end_time": "2023-02-14T05:44:05.316135Z",
     "start_time": "2023-02-14T05:44:05.300182Z"
    }
   },
   "outputs": [
    {
     "data": {
      "text/plain": [
       "0        1\n",
       "21094    1\n",
       "20994    1\n",
       "20996    1\n",
       "20998    1\n",
       "        ..\n",
       "9736     1\n",
       "9763     1\n",
       "9766     1\n",
       "9771     1\n",
       "32575    1\n",
       "Length: 4088, dtype: int64"
      ]
     },
     "execution_count": 62,
     "metadata": {},
     "output_type": "execute_result"
    }
   ],
   "source": [
    "data[(np.log(data.person_emp_length) > UL) | (np.log(data.person_emp_length)< LL)].index.value_counts()"
   ]
  },
  {
   "cell_type": "code",
   "execution_count": 63,
   "id": "114f103d",
   "metadata": {
    "ExecuteTime": {
     "end_time": "2023-02-14T05:44:05.436911Z",
     "start_time": "2023-02-14T05:44:05.316135Z"
    }
   },
   "outputs": [
    {
     "data": {
      "text/plain": [
       "<AxesSubplot:xlabel='person_emp_length'>"
      ]
     },
     "execution_count": 63,
     "metadata": {},
     "output_type": "execute_result"
    },
    {
     "data": {
      "image/png": "[encoded data removed]",
      "text/plain": [
       "<Figure size 432x288 with 1 Axes>"
      ]
     },
     "metadata": {
      "needs_background": "light"
     },
     "output_type": "display_data"
    }
   ],
   "source": [
    "sns.boxplot(np.log(data.person_emp_length))"
   ]
  },
  {
   "cell_type": "markdown",
   "id": "4845c28b",
   "metadata": {},
   "source": [
    "### cube root transformation"
   ]
  },
  {
   "cell_type": "code",
   "execution_count": 64,
   "id": "2f69bb53",
   "metadata": {
    "ExecuteTime": {
     "end_time": "2023-02-14T05:44:05.452863Z",
     "start_time": "2023-02-14T05:44:05.436911Z"
    }
   },
   "outputs": [
    {
     "name": "stdout",
     "output_type": "stream",
     "text": [
      "1.2599210498948732 1.5874010519681994 1.912931182772389\n"
     ]
    }
   ],
   "source": [
    "Q1,Q2,Q3=((data.person_emp_length)**(1/3)).quantile(q=[0.25,0.50,0.75])\n",
    "print(Q1,Q2,Q3)"
   ]
  },
  {
   "cell_type": "code",
   "execution_count": 65,
   "id": "b62128db",
   "metadata": {
    "ExecuteTime": {
     "end_time": "2023-02-14T05:44:05.470600Z",
     "start_time": "2023-02-14T05:44:05.452863Z"
    }
   },
   "outputs": [
    {
     "name": "stdout",
     "output_type": "stream",
     "text": [
      "0.6530101328775157 2.8924463820886626 0.28040585057859957\n"
     ]
    }
   ],
   "source": [
    "IQR=Q3-Q1\n",
    "UL=Q3+1.5*(IQR)\n",
    "LL=Q1-1.5*(IQR)\n",
    "print(IQR,UL,LL)"
   ]
  },
  {
   "cell_type": "code",
   "execution_count": 66,
   "id": "85c7edd2",
   "metadata": {
    "ExecuteTime": {
     "end_time": "2023-02-14T05:44:05.503025Z",
     "start_time": "2023-02-14T05:44:05.470600Z"
    }
   },
   "outputs": [
    {
     "data": {
      "text/plain": [
       "0        1\n",
       "20897    1\n",
       "21161    1\n",
       "21165    1\n",
       "21169    1\n",
       "        ..\n",
       "9840     1\n",
       "9841     1\n",
       "9843     1\n",
       "9857     1\n",
       "32575    1\n",
       "Length: 4120, dtype: int64"
      ]
     },
     "execution_count": 66,
     "metadata": {},
     "output_type": "execute_result"
    }
   ],
   "source": [
    "data[((data.person_emp_length)**(1/3) > UL) | ((data.person_emp_length)**(1/3)< LL)].index.value_counts()"
   ]
  },
  {
   "cell_type": "code",
   "execution_count": 67,
   "id": "37207844",
   "metadata": {
    "ExecuteTime": {
     "end_time": "2023-02-14T05:44:05.634925Z",
     "start_time": "2023-02-14T05:44:05.503025Z"
    }
   },
   "outputs": [
    {
     "data": {
      "text/plain": [
       "<AxesSubplot:xlabel='person_emp_length'>"
      ]
     },
     "execution_count": 67,
     "metadata": {},
     "output_type": "execute_result"
    },
    {
     "data": {
      "image/png": "[encoded data removed]",
      "text/plain": [
       "<Figure size 432x288 with 1 Axes>"
      ]
     },
     "metadata": {
      "needs_background": "light"
     },
     "output_type": "display_data"
    }
   ],
   "source": [
    "sns.boxplot((data.person_emp_length)**(1/3))"
   ]
  },
  {
   "cell_type": "code",
   "execution_count": 68,
   "id": "43229e50",
   "metadata": {
    "ExecuteTime": {
     "end_time": "2023-02-14T05:44:05.650878Z",
     "start_time": "2023-02-14T05:44:05.634925Z"
    }
   },
   "outputs": [],
   "source": [
    "person_emp_tran=np.log(data.person_emp_length)"
   ]
  },
  {
   "cell_type": "code",
   "execution_count": 69,
   "id": "f33138a1",
   "metadata": {
    "ExecuteTime": {
     "end_time": "2023-02-14T05:44:05.666867Z",
     "start_time": "2023-02-14T05:44:05.650878Z"
    }
   },
   "outputs": [],
   "source": [
    "data[\"person_emp_tran\"]=np.log(data.person_emp_length)#logtransformation shows the less outliers than the cube root transformation"
   ]
  },
  {
   "cell_type": "code",
   "execution_count": null,
   "id": "607cca5e",
   "metadata": {},
   "outputs": [],
   "source": []
  },
  {
   "cell_type": "code",
   "execution_count": null,
   "id": "7d33a163",
   "metadata": {},
   "outputs": [],
   "source": []
  },
  {
   "cell_type": "code",
   "execution_count": null,
   "id": "1b32b94b",
   "metadata": {},
   "outputs": [],
   "source": []
  },
  {
   "cell_type": "code",
   "execution_count": null,
   "id": "ae116f66",
   "metadata": {},
   "outputs": [],
   "source": []
  },
  {
   "cell_type": "markdown",
   "id": "202d5715",
   "metadata": {},
   "source": [
    "## outliers detection for loan_amount"
   ]
  },
  {
   "cell_type": "markdown",
   "id": "60273916",
   "metadata": {},
   "source": [
    "### logtransformation"
   ]
  },
  {
   "cell_type": "code",
   "execution_count": 70,
   "id": "3e552daa",
   "metadata": {
    "ExecuteTime": {
     "end_time": "2023-02-14T05:44:05.682891Z",
     "start_time": "2023-02-14T05:44:05.666867Z"
    }
   },
   "outputs": [
    {
     "name": "stdout",
     "output_type": "stream",
     "text": [
      "8.517193191416238 8.987196820661973 9.413281215972873\n"
     ]
    }
   ],
   "source": [
    "Q1,Q2,Q3=(np.log(data.loan_amnt.quantile(q=[0.25,0.50,0.75])))\n",
    "print(Q1,Q2,Q3)"
   ]
  },
  {
   "cell_type": "code",
   "execution_count": 71,
   "id": "e2cb9036",
   "metadata": {
    "ExecuteTime": {
     "end_time": "2023-02-14T05:44:05.698849Z",
     "start_time": "2023-02-14T05:44:05.682891Z"
    }
   },
   "outputs": [
    {
     "name": "stdout",
     "output_type": "stream",
     "text": [
      "0.8960880245566347 10.757413252807826 7.173061154581286\n"
     ]
    }
   ],
   "source": [
    "IQR=Q3-Q1\n",
    "UL=Q3+1.5*(IQR)\n",
    "LL=Q1-1.5*(IQR)\n",
    "print(IQR,UL,LL)"
   ]
  },
  {
   "cell_type": "code",
   "execution_count": 72,
   "id": "c80d7165",
   "metadata": {
    "ExecuteTime": {
     "end_time": "2023-02-14T05:44:05.714834Z",
     "start_time": "2023-02-14T05:44:05.698849Z"
    }
   },
   "outputs": [
    {
     "data": {
      "text/plain": [
       "1        1\n",
       "18605    1\n",
       "18763    1\n",
       "18762    1\n",
       "18760    1\n",
       "        ..\n",
       "1499     1\n",
       "1498     1\n",
       "1497     1\n",
       "1496     1\n",
       "32425    1\n",
       "Length: 509, dtype: int64"
      ]
     },
     "execution_count": 72,
     "metadata": {},
     "output_type": "execute_result"
    }
   ],
   "source": [
    "data[(np.log(data.loan_amnt) > UL) | (np.log(data.loan_amnt)< LL)].index.value_counts()"
   ]
  },
  {
   "cell_type": "code",
   "execution_count": 73,
   "id": "efab0409",
   "metadata": {
    "ExecuteTime": {
     "end_time": "2023-02-14T05:44:05.828308Z",
     "start_time": "2023-02-14T05:44:05.714834Z"
    }
   },
   "outputs": [
    {
     "data": {
      "text/plain": [
       "<AxesSubplot:xlabel='loan_amnt'>"
      ]
     },
     "execution_count": 73,
     "metadata": {},
     "output_type": "execute_result"
    },
    {
     "data": {
      "image/png": "[encoded data removed]",
      "text/plain": [
       "<Figure size 432x288 with 1 Axes>"
      ]
     },
     "metadata": {
      "needs_background": "light"
     },
     "output_type": "display_data"
    }
   ],
   "source": [
    "sns.boxplot(np.log(data.loan_amnt) )"
   ]
  },
  {
   "cell_type": "markdown",
   "id": "73049e9d",
   "metadata": {},
   "source": [
    "### cuberoot transformation"
   ]
  },
  {
   "cell_type": "code",
   "execution_count": 74,
   "id": "a475728c",
   "metadata": {
    "ExecuteTime": {
     "end_time": "2023-02-14T05:44:05.844643Z",
     "start_time": "2023-02-14T05:44:05.828617Z"
    }
   },
   "outputs": [
    {
     "name": "stdout",
     "output_type": "stream",
     "text": [
      "17.09975946676697 19.999999999999996 23.05218146029223\n"
     ]
    }
   ],
   "source": [
    "Q1,Q2,Q3=((data.loan_amnt)**(1/3)).quantile(q=[0.25,0.50,0.75])\n",
    "print(Q1,Q2,Q3)"
   ]
  },
  {
   "cell_type": "code",
   "execution_count": 75,
   "id": "c18b0c59",
   "metadata": {
    "ExecuteTime": {
     "end_time": "2023-02-14T05:44:05.860651Z",
     "start_time": "2023-02-14T05:44:05.844643Z"
    }
   },
   "outputs": [
    {
     "name": "stdout",
     "output_type": "stream",
     "text": [
      "5.95242199352526 31.98081445058012 8.17112647647908\n"
     ]
    }
   ],
   "source": [
    "IQR=Q3-Q1\n",
    "UL=Q3+1.5*(IQR)\n",
    "LL=Q1-1.5*(IQR)\n",
    "print(IQR,UL,LL)"
   ]
  },
  {
   "cell_type": "code",
   "execution_count": 76,
   "id": "eb0bd94e",
   "metadata": {
    "ExecuteTime": {
     "end_time": "2023-02-14T05:44:05.886571Z",
     "start_time": "2023-02-14T05:44:05.862553Z"
    }
   },
   "outputs": [
    {
     "data": {
      "text/plain": [
       "0        1\n",
       "26932    1\n",
       "26311    1\n",
       "26444    1\n",
       "26491    1\n",
       "        ..\n",
       "15792    1\n",
       "15852    1\n",
       "15866    1\n",
       "15900    1\n",
       "32578    1\n",
       "Length: 203, dtype: int64"
      ]
     },
     "execution_count": 76,
     "metadata": {},
     "output_type": "execute_result"
    }
   ],
   "source": [
    "data[((data.loan_amnt)**(1/3) > UL) | ((data.loan_amnt)**(1/3)< LL)].index.value_counts()"
   ]
  },
  {
   "cell_type": "code",
   "execution_count": 77,
   "id": "db888a45",
   "metadata": {
    "ExecuteTime": {
     "end_time": "2023-02-14T05:44:06.002323Z",
     "start_time": "2023-02-14T05:44:05.886571Z"
    }
   },
   "outputs": [
    {
     "data": {
      "text/plain": [
       "<AxesSubplot:xlabel='loan_amnt'>"
      ]
     },
     "execution_count": 77,
     "metadata": {},
     "output_type": "execute_result"
    },
    {
     "data": {
      "image/png": "[encoded data removed]",
      "text/plain": [
       "<Figure size 432x288 with 1 Axes>"
      ]
     },
     "metadata": {
      "needs_background": "light"
     },
     "output_type": "display_data"
    }
   ],
   "source": [
    "sns.boxplot((data.loan_amnt)**(1/3))"
   ]
  },
  {
   "cell_type": "markdown",
   "id": "15a6c830",
   "metadata": {},
   "source": [
    "### Boxcox transformation"
   ]
  },
  {
   "cell_type": "code",
   "execution_count": 78,
   "id": "1f22a960",
   "metadata": {
    "ExecuteTime": {
     "end_time": "2023-02-14T05:44:06.066244Z",
     "start_time": "2023-02-14T05:44:06.002323Z"
    }
   },
   "outputs": [],
   "source": [
    "x=stats.boxcox(data.loan_amnt)[0]\n",
    "y=pd.Series(x)"
   ]
  },
  {
   "cell_type": "code",
   "execution_count": 79,
   "id": "c8e47de5",
   "metadata": {
    "ExecuteTime": {
     "end_time": "2023-02-14T05:44:06.162180Z",
     "start_time": "2023-02-14T05:44:06.066244Z"
    }
   },
   "outputs": [
    {
     "data": {
      "text/plain": [
       "<AxesSubplot:>"
      ]
     },
     "execution_count": 79,
     "metadata": {},
     "output_type": "execute_result"
    },
    {
     "data": {
      "image/png": "[encoded data removed]",
      "text/plain": [
       "<Figure size 432x288 with 1 Axes>"
      ]
     },
     "metadata": {
      "needs_background": "light"
     },
     "output_type": "display_data"
    }
   ],
   "source": [
    "sns.boxplot(y)"
   ]
  },
  {
   "cell_type": "code",
   "execution_count": 80,
   "id": "545ac954",
   "metadata": {
    "ExecuteTime": {
     "end_time": "2023-02-14T05:44:06.331557Z",
     "start_time": "2023-02-14T05:44:06.162180Z"
    }
   },
   "outputs": [
    {
     "data": {
      "image/png": "[encoded data removed]",
      "text/plain": [
       "<Figure size 432x288 with 1 Axes>"
      ]
     },
     "metadata": {
      "needs_background": "light"
     },
     "output_type": "display_data"
    }
   ],
   "source": [
    "stats.probplot(y, dist=\"norm\", plot=plt)\n",
    "\n",
    "plt.grid();"
   ]
  },
  {
   "cell_type": "code",
   "execution_count": 81,
   "id": "e8ced362",
   "metadata": {
    "ExecuteTime": {
     "end_time": "2023-02-14T05:44:06.347545Z",
     "start_time": "2023-02-14T05:44:06.331557Z"
    }
   },
   "outputs": [
    {
     "name": "stdout",
     "output_type": "stream",
     "text": [
      "27.406569824005185 31.12028449453712 34.862316083910095\n"
     ]
    }
   ],
   "source": [
    "Q1,Q2,Q3=(y.quantile([0.25,0.50,0.75]))\n",
    "print(Q1,Q2,Q3)"
   ]
  },
  {
   "cell_type": "code",
   "execution_count": 82,
   "id": "e3361d25",
   "metadata": {
    "ExecuteTime": {
     "end_time": "2023-02-14T05:44:06.363501Z",
     "start_time": "2023-02-14T05:44:06.355504Z"
    }
   },
   "outputs": [
    {
     "name": "stdout",
     "output_type": "stream",
     "text": [
      "7.45574625990491 46.04593547376746 16.22295043414782\n"
     ]
    }
   ],
   "source": [
    "IQR=Q3-Q1\n",
    "UL=Q3+1.5*(IQR)\n",
    "LL=Q1-1.5*(IQR)\n",
    "print(IQR,UL,LL)"
   ]
  },
  {
   "cell_type": "code",
   "execution_count": 83,
   "id": "bbd527d7",
   "metadata": {
    "ExecuteTime": {
     "end_time": "2023-02-14T05:44:06.539383Z",
     "start_time": "2023-02-14T05:44:06.363501Z"
    }
   },
   "outputs": [
    {
     "data": {
      "text/plain": [
       "871      1\n",
       "873      1\n",
       "875      1\n",
       "1355     1\n",
       "8607     1\n",
       "15951    1\n",
       "18502    1\n",
       "18503    1\n",
       "dtype: int64"
      ]
     },
     "execution_count": 83,
     "metadata": {},
     "output_type": "execute_result"
    }
   ],
   "source": [
    "data[(stats.boxcox(data.loan_amnt)[0]>UL)|(stats.boxcox(data.loan_amnt)[0]<LL)].index.value_counts()"
   ]
  },
  {
   "cell_type": "code",
   "execution_count": 84,
   "id": "b1112d51",
   "metadata": {
    "ExecuteTime": {
     "end_time": "2023-02-14T05:44:06.636488Z",
     "start_time": "2023-02-14T05:44:06.539383Z"
    }
   },
   "outputs": [],
   "source": [
    "loan_amt_tran=stats.boxcox(data.loan_amnt)[0]"
   ]
  },
  {
   "cell_type": "code",
   "execution_count": 85,
   "id": "d6706456",
   "metadata": {
    "ExecuteTime": {
     "end_time": "2023-02-14T05:44:06.734385Z",
     "start_time": "2023-02-14T05:44:06.636488Z"
    }
   },
   "outputs": [],
   "source": [
    "data[\"loan_amt_tran\"]=stats.boxcox(data.loan_amnt)[0]"
   ]
  },
  {
   "cell_type": "code",
   "execution_count": 86,
   "id": "ba777c3e",
   "metadata": {
    "ExecuteTime": {
     "end_time": "2023-02-14T05:44:06.750351Z",
     "start_time": "2023-02-14T05:44:06.734385Z"
    }
   },
   "outputs": [],
   "source": [
    "## in loan amount boxcox as 8 outliers and cube root as 203 outliers"
   ]
  },
  {
   "cell_type": "markdown",
   "id": "bc0ff521",
   "metadata": {},
   "source": [
    "## Outlier detection for the loan_status"
   ]
  },
  {
   "cell_type": "markdown",
   "id": "8a1dadcd",
   "metadata": {},
   "source": [
    "### logtransformation"
   ]
  },
  {
   "cell_type": "code",
   "execution_count": 87,
   "id": "e975411a",
   "metadata": {
    "ExecuteTime": {
     "end_time": "2023-02-14T05:44:06.782290Z",
     "start_time": "2023-02-14T05:44:06.750351Z"
    }
   },
   "outputs": [
    {
     "name": "stdout",
     "output_type": "stream",
     "text": [
      "2.138889000323256 2.39698576841553 2.5733752977756086\n"
     ]
    }
   ],
   "source": [
    "Q1,Q2,Q3=(np.log(data.loan_int_rate.quantile(q=[0.25,0.50,0.75])))\n",
    "print(Q1,Q2,Q3)"
   ]
  },
  {
   "cell_type": "code",
   "execution_count": 88,
   "id": "ecc4d01f",
   "metadata": {
    "ExecuteTime": {
     "end_time": "2023-02-14T05:44:06.798275Z",
     "start_time": "2023-02-14T05:44:06.782290Z"
    }
   },
   "outputs": [
    {
     "name": "stdout",
     "output_type": "stream",
     "text": [
      "0.4344862974523527 3.2251047439541374 1.487159554144727\n"
     ]
    }
   ],
   "source": [
    "IQR=Q3-Q1\n",
    "UL=Q3+1.5*(IQR)\n",
    "LL=Q1-1.5*(IQR)\n",
    "print(IQR,UL,LL)"
   ]
  },
  {
   "cell_type": "code",
   "execution_count": 89,
   "id": "0f0d0935",
   "metadata": {
    "ExecuteTime": {
     "end_time": "2023-02-14T05:44:06.838288Z",
     "start_time": "2023-02-14T05:44:06.798275Z"
    }
   },
   "outputs": [
    {
     "data": {
      "text/plain": [
       "0        1\n",
       "21727    1\n",
       "21740    1\n",
       "21739    1\n",
       "21738    1\n",
       "        ..\n",
       "10801    1\n",
       "10800    1\n",
       "10799    1\n",
       "10798    1\n",
       "32580    1\n",
       "Length: 32416, dtype: int64"
      ]
     },
     "execution_count": 89,
     "metadata": {},
     "output_type": "execute_result"
    }
   ],
   "source": [
    "data[(np.log(data.loan_amnt) > UL) | (np.log(data.loan_amnt)< LL)].index.value_counts()"
   ]
  },
  {
   "cell_type": "markdown",
   "id": "87ccdde9",
   "metadata": {},
   "source": [
    "### cube root transformation"
   ]
  },
  {
   "cell_type": "code",
   "execution_count": 90,
   "id": "600b118c",
   "metadata": {
    "ExecuteTime": {
     "end_time": "2023-02-14T05:44:06.870226Z",
     "start_time": "2023-02-14T05:44:06.838288Z"
    }
   },
   "outputs": [
    {
     "name": "stdout",
     "output_type": "stream",
     "text": [
      "2.040026912370836 2.223305952883101 2.3579480392365464\n"
     ]
    }
   ],
   "source": [
    "Q1,Q2,Q3=((data.loan_int_rate)**(1/3)).quantile(q=[0.25,0.50,0.75])\n",
    "print(Q1,Q2,Q3)"
   ]
  },
  {
   "cell_type": "code",
   "execution_count": 91,
   "id": "2d87c44c",
   "metadata": {
    "ExecuteTime": {
     "end_time": "2023-02-14T05:44:06.886218Z",
     "start_time": "2023-02-14T05:44:06.870226Z"
    }
   },
   "outputs": [
    {
     "name": "stdout",
     "output_type": "stream",
     "text": [
      "0.3179211268657105 2.8348297295351124 1.5631452220722701\n"
     ]
    }
   ],
   "source": [
    "IQR=Q3-Q1\n",
    "UL=Q3+1.5*(IQR)\n",
    "LL=Q1-1.5*(IQR)\n",
    "print(IQR,UL,LL)"
   ]
  },
  {
   "cell_type": "code",
   "execution_count": 92,
   "id": "c59081e8",
   "metadata": {
    "ExecuteTime": {
     "end_time": "2023-02-14T05:44:06.920879Z",
     "start_time": "2023-02-14T05:44:06.886218Z"
    }
   },
   "outputs": [
    {
     "data": {
      "text/plain": [
       "29277    1\n",
       "dtype: int64"
      ]
     },
     "execution_count": 92,
     "metadata": {},
     "output_type": "execute_result"
    }
   ],
   "source": [
    "data[((data.loan_int_rate)**(1/3) > UL) | ((data.loan_int_rate)**(1/3)< LL)].index.value_counts()"
   ]
  },
  {
   "cell_type": "code",
   "execution_count": 93,
   "id": "68a18aef",
   "metadata": {
    "ExecuteTime": {
     "end_time": "2023-02-14T05:44:06.936867Z",
     "start_time": "2023-02-14T05:44:06.920879Z"
    }
   },
   "outputs": [],
   "source": [
    "loan_int_tran=(data.loan_int_rate)**(1/3)"
   ]
  },
  {
   "cell_type": "code",
   "execution_count": 94,
   "id": "1396fc26",
   "metadata": {
    "ExecuteTime": {
     "end_time": "2023-02-14T05:44:06.952945Z",
     "start_time": "2023-02-14T05:44:06.936867Z"
    }
   },
   "outputs": [],
   "source": [
    "data[\"loan_int_tran\"]=(data.loan_int_rate)**(1/3) #cuberoot transformation has less outliers than the logtransformation"
   ]
  },
  {
   "cell_type": "markdown",
   "id": "7af7cb24",
   "metadata": {},
   "source": [
    "### Boxcox transformamtion"
   ]
  },
  {
   "cell_type": "code",
   "execution_count": 95,
   "id": "a3e09f37",
   "metadata": {
    "ExecuteTime": {
     "end_time": "2023-02-14T05:44:07.036323Z",
     "start_time": "2023-02-14T05:44:06.952945Z"
    }
   },
   "outputs": [],
   "source": [
    "x=stats.boxcox(data.loan_int_rate)[0]\n",
    "y=pd.Series(x)"
   ]
  },
  {
   "cell_type": "code",
   "execution_count": 96,
   "id": "0a6cebda",
   "metadata": {
    "ExecuteTime": {
     "end_time": "2023-02-14T05:44:07.215168Z",
     "start_time": "2023-02-14T05:44:07.036323Z"
    }
   },
   "outputs": [
    {
     "data": {
      "text/plain": [
       "<AxesSubplot:>"
      ]
     },
     "execution_count": 96,
     "metadata": {},
     "output_type": "execute_result"
    },
    {
     "data": {
      "image/png": "[encoded data removed]",
      "text/plain": [
       "<Figure size 432x288 with 1 Axes>"
      ]
     },
     "metadata": {
      "needs_background": "light"
     },
     "output_type": "display_data"
    }
   ],
   "source": [
    "sns.boxplot(y)"
   ]
  },
  {
   "cell_type": "code",
   "execution_count": 97,
   "id": "2f9036d4",
   "metadata": {
    "ExecuteTime": {
     "end_time": "2023-02-14T05:44:07.550946Z",
     "start_time": "2023-02-14T05:44:07.215168Z"
    }
   },
   "outputs": [
    {
     "data": {
      "image/png": "[encoded data removed]",
      "text/plain": [
       "<Figure size 432x288 with 1 Axes>"
      ]
     },
     "metadata": {
      "needs_background": "light"
     },
     "output_type": "display_data"
    }
   ],
   "source": [
    "stats.probplot(y, dist=\"norm\", plot=plt)\n",
    "\n",
    "plt.grid();"
   ]
  },
  {
   "cell_type": "code",
   "execution_count": 98,
   "id": "6c652176",
   "metadata": {
    "ExecuteTime": {
     "end_time": "2023-02-14T05:44:07.566899Z",
     "start_time": "2023-02-14T05:44:07.550946Z"
    }
   },
   "outputs": [
    {
     "name": "stdout",
     "output_type": "stream",
     "text": [
      "4.214819209156517 5.168507733588348 5.9067817216676275\n"
     ]
    }
   ],
   "source": [
    "Q1,Q2,Q3=(y.quantile([0.25,0.50,0.75]))\n",
    "print(Q1,Q2,Q3)"
   ]
  },
  {
   "cell_type": "code",
   "execution_count": 99,
   "id": "68385aab",
   "metadata": {
    "ExecuteTime": {
     "end_time": "2023-02-14T05:44:07.590922Z",
     "start_time": "2023-02-14T05:44:07.566899Z"
    }
   },
   "outputs": [
    {
     "name": "stdout",
     "output_type": "stream",
     "text": [
      "1.6919625125111102 8.444725490434292 1.676875440389852\n"
     ]
    }
   ],
   "source": [
    "IQR=Q3-Q1\n",
    "UL=Q3+1.5*(IQR)\n",
    "LL=Q1-1.5*(IQR)\n",
    "print(IQR,UL,LL)"
   ]
  },
  {
   "cell_type": "code",
   "execution_count": 100,
   "id": "aaddef27",
   "metadata": {
    "ExecuteTime": {
     "end_time": "2023-02-14T05:44:07.743239Z",
     "start_time": "2023-02-14T05:44:07.590922Z"
    }
   },
   "outputs": [
    {
     "data": {
      "text/plain": [
       "2436     1\n",
       "6449     1\n",
       "7470     1\n",
       "13499    1\n",
       "15744    1\n",
       "17103    1\n",
       "17989    1\n",
       "18829    1\n",
       "27425    1\n",
       "27633    1\n",
       "27851    1\n",
       "29277    1\n",
       "dtype: int64"
      ]
     },
     "execution_count": 100,
     "metadata": {},
     "output_type": "execute_result"
    }
   ],
   "source": [
    "data[(stats.boxcox(data.loan_int_rate)[0]>UL)|(stats.boxcox(data.loan_int_rate)[0]<LL)].index.value_counts()"
   ]
  },
  {
   "cell_type": "code",
   "execution_count": 101,
   "id": "82aef546",
   "metadata": {
    "ExecuteTime": {
     "end_time": "2023-02-14T05:44:07.758809Z",
     "start_time": "2023-02-14T05:44:07.743239Z"
    }
   },
   "outputs": [],
   "source": [
    "#cube root looks betteer for loan_int_rate column   cube root shows 1 outlier compared to boxcox transformatiom"
   ]
  },
  {
   "cell_type": "markdown",
   "id": "9b3175dc",
   "metadata": {},
   "source": [
    "## Outlier detection fot loan_percent_income"
   ]
  },
  {
   "cell_type": "markdown",
   "id": "a6f3f8f8",
   "metadata": {},
   "source": [
    "### log transformation"
   ]
  },
  {
   "cell_type": "code",
   "execution_count": 102,
   "id": "d5ab6596",
   "metadata": {
    "ExecuteTime": {
     "end_time": "2023-02-14T05:44:07.774761Z",
     "start_time": "2023-02-14T05:44:07.758809Z"
    }
   },
   "outputs": [
    {
     "name": "stdout",
     "output_type": "stream",
     "text": [
      "-2.4079456086518722 -1.8971199848858813 -1.4696759700589417\n"
     ]
    }
   ],
   "source": [
    "Q1,Q2,Q3=(np.log(data.loan_percent_income.quantile(q=[0.25,0.50,0.75])))\n",
    "print(Q1,Q2,Q3)"
   ]
  },
  {
   "cell_type": "code",
   "execution_count": 103,
   "id": "762a9d10",
   "metadata": {
    "ExecuteTime": {
     "end_time": "2023-02-14T05:44:07.790751Z",
     "start_time": "2023-02-14T05:44:07.774761Z"
    }
   },
   "outputs": [
    {
     "name": "stdout",
     "output_type": "stream",
     "text": [
      "0.9382696385929306 -0.06227151216954585 -3.815350066541268\n"
     ]
    }
   ],
   "source": [
    "IQR=Q3-Q1\n",
    "UL=Q3+1.5*(IQR)\n",
    "LL=Q1-1.5*(IQR)\n",
    "print(IQR,UL,LL)"
   ]
  },
  {
   "cell_type": "code",
   "execution_count": 104,
   "id": "f3f0bb84",
   "metadata": {
    "ExecuteTime": {
     "end_time": "2023-02-14T05:44:07.814732Z",
     "start_time": "2023-02-14T05:44:07.790751Z"
    }
   },
   "outputs": [
    {
     "data": {
      "text/plain": [
       "81       1\n",
       "22355    1\n",
       "25688    1\n",
       "25559    1\n",
       "25356    1\n",
       "        ..\n",
       "13516    1\n",
       "13505    1\n",
       "13502    1\n",
       "13450    1\n",
       "32551    1\n",
       "Length: 516, dtype: int64"
      ]
     },
     "execution_count": 104,
     "metadata": {},
     "output_type": "execute_result"
    }
   ],
   "source": [
    "data[(np.log(data.loan_percent_income) > UL) | (np.log(data.loan_percent_income)< LL)].index.value_counts()"
   ]
  },
  {
   "cell_type": "markdown",
   "id": "a1016912",
   "metadata": {},
   "source": [
    "### cube root transformation"
   ]
  },
  {
   "cell_type": "code",
   "execution_count": 105,
   "id": "52a8c4de",
   "metadata": {
    "ExecuteTime": {
     "end_time": "2023-02-14T05:44:07.846748Z",
     "start_time": "2023-02-14T05:44:07.814732Z"
    }
   },
   "outputs": [
    {
     "name": "stdout",
     "output_type": "stream",
     "text": [
      "0.4481404746557165 0.5313292845913056 0.6126925675228417\n"
     ]
    }
   ],
   "source": [
    "Q1,Q2,Q3=((data.loan_percent_income)**(1/3)).quantile(q=[0.25,0.50,0.75])\n",
    "print(Q1,Q2,Q3)"
   ]
  },
  {
   "cell_type": "code",
   "execution_count": 106,
   "id": "5298542c",
   "metadata": {
    "ExecuteTime": {
     "end_time": "2023-02-14T05:44:07.862697Z",
     "start_time": "2023-02-14T05:44:07.846748Z"
    }
   },
   "outputs": [
    {
     "name": "stdout",
     "output_type": "stream",
     "text": [
      "0.16455209286712524 0.8595207068235295 0.20131233535502863\n"
     ]
    }
   ],
   "source": [
    "IQR=Q3-Q1\n",
    "UL=Q3+1.5*(IQR)\n",
    "LL=Q1-1.5*(IQR)\n",
    "print(IQR,UL,LL)"
   ]
  },
  {
   "cell_type": "code",
   "execution_count": 107,
   "id": "954c4d31",
   "metadata": {
    "ExecuteTime": {
     "end_time": "2023-02-14T05:44:07.902991Z",
     "start_time": "2023-02-14T05:44:07.862697Z"
    }
   },
   "outputs": [
    {
     "data": {
      "text/plain": [
       "460      1\n",
       "493      1\n",
       "17938    1\n",
       "18082    1\n",
       "18203    1\n",
       "18204    1\n",
       "18322    1\n",
       "18672    1\n",
       "18917    1\n",
       "19657    1\n",
       "23727    1\n",
       "27877    1\n",
       "27878    1\n",
       "28724    1\n",
       "30049    1\n",
       "31916    1\n",
       "31922    1\n",
       "31924    1\n",
       "32297    1\n",
       "17834    1\n",
       "15963    1\n",
       "15950    1\n",
       "1773     1\n",
       "535      1\n",
       "571      1\n",
       "577      1\n",
       "640      1\n",
       "894      1\n",
       "962      1\n",
       "1348     1\n",
       "2452     1\n",
       "15921    1\n",
       "2829     1\n",
       "3535     1\n",
       "5590     1\n",
       "6758     1\n",
       "10007    1\n",
       "15044    1\n",
       "15877    1\n",
       "32546    1\n",
       "dtype: int64"
      ]
     },
     "execution_count": 107,
     "metadata": {},
     "output_type": "execute_result"
    }
   ],
   "source": [
    "data[((data.loan_percent_income)**(1/3) > UL) | ((data.loan_percent_income)**(1/3)< LL)].index.value_counts()"
   ]
  },
  {
   "cell_type": "code",
   "execution_count": 108,
   "id": "c8943a7f",
   "metadata": {
    "ExecuteTime": {
     "end_time": "2023-02-14T05:44:07.927013Z",
     "start_time": "2023-02-14T05:44:07.910985Z"
    }
   },
   "outputs": [],
   "source": [
    "loan_percent_tran=(data.loan_percent_income)**(1/3)"
   ]
  },
  {
   "cell_type": "code",
   "execution_count": 109,
   "id": "6422241f",
   "metadata": {
    "ExecuteTime": {
     "end_time": "2023-02-14T05:44:07.952878Z",
     "start_time": "2023-02-14T05:44:07.928481Z"
    }
   },
   "outputs": [],
   "source": [
    "data[\"loan_percent_tran\"]=(data.loan_percent_income)**(1/3)"
   ]
  },
  {
   "cell_type": "markdown",
   "id": "d4ae1c8d",
   "metadata": {},
   "source": [
    "### Boxcox transformation"
   ]
  },
  {
   "cell_type": "code",
   "execution_count": 110,
   "id": "cf69e12b",
   "metadata": {
    "ExecuteTime": {
     "end_time": "2023-02-14T05:44:07.976862Z",
     "start_time": "2023-02-14T05:44:07.952878Z"
    }
   },
   "outputs": [],
   "source": [
    "np.random.seed(2)\n",
    "data.loan_percent_income = np.random.gamma(1, 1, size=32416)\n",
    "data.loan_percent_income[100] = 0"
   ]
  },
  {
   "cell_type": "code",
   "execution_count": 111,
   "id": "6c5c583a",
   "metadata": {
    "ExecuteTime": {
     "end_time": "2023-02-14T05:44:07.992916Z",
     "start_time": "2023-02-14T05:44:07.976862Z"
    }
   },
   "outputs": [],
   "source": [
    "posdata = data.loan_percent_income[data.loan_percent_income > 0]"
   ]
  },
  {
   "cell_type": "markdown",
   "id": "456fd959",
   "metadata": {},
   "source": [
    "## Outlier detection cred_hist_length"
   ]
  },
  {
   "cell_type": "markdown",
   "id": "9b829dd4",
   "metadata": {},
   "source": [
    "### log transformation"
   ]
  },
  {
   "cell_type": "code",
   "execution_count": 112,
   "id": "b84bbd1e",
   "metadata": {
    "ExecuteTime": {
     "end_time": "2023-02-14T05:44:08.010891Z",
     "start_time": "2023-02-14T05:44:07.994874Z"
    }
   },
   "outputs": [
    {
     "name": "stdout",
     "output_type": "stream",
     "text": [
      "1.0986122886681098 1.3862943611198906 2.0794415416798357\n"
     ]
    }
   ],
   "source": [
    "Q1,Q2,Q3=(np.log(data.cb_person_cred_hist_length.quantile(q=[0.25,0.50,0.75])))\n",
    "print(Q1,Q2,Q3)"
   ]
  },
  {
   "cell_type": "code",
   "execution_count": 113,
   "id": "6e75838e",
   "metadata": {
    "ExecuteTime": {
     "end_time": "2023-02-14T05:44:08.026860Z",
     "start_time": "2023-02-14T05:44:08.010891Z"
    }
   },
   "outputs": [
    {
     "name": "stdout",
     "output_type": "stream",
     "text": [
      "0.980829253011726 3.5506854211974246 -0.37263159084947906\n"
     ]
    }
   ],
   "source": [
    "IQR=Q3-Q1\n",
    "UL=Q3+1.5*(IQR)\n",
    "LL=Q1-1.5*(IQR)\n",
    "print(IQR,UL,LL)"
   ]
  },
  {
   "cell_type": "code",
   "execution_count": 114,
   "id": "9394d09a",
   "metadata": {
    "ExecuteTime": {
     "end_time": "2023-02-14T05:44:08.058871Z",
     "start_time": "2023-02-14T05:44:08.026860Z"
    }
   },
   "outputs": [
    {
     "data": {
      "text/plain": [
       "Series([], dtype: int64)"
      ]
     },
     "execution_count": 114,
     "metadata": {},
     "output_type": "execute_result"
    }
   ],
   "source": [
    "data[(np.log(data.cb_person_cred_hist_length) > UL) | (np.log(data.cb_person_cred_hist_length) < LL)].index.value_counts()"
   ]
  },
  {
   "cell_type": "code",
   "execution_count": 115,
   "id": "eabc06fd",
   "metadata": {
    "ExecuteTime": {
     "end_time": "2023-02-14T05:44:08.074826Z",
     "start_time": "2023-02-14T05:44:08.058871Z"
    }
   },
   "outputs": [],
   "source": [
    "cred_hist_tran=np.log(data.cb_person_cred_hist_length)"
   ]
  },
  {
   "cell_type": "code",
   "execution_count": 116,
   "id": "c267c93e",
   "metadata": {
    "ExecuteTime": {
     "end_time": "2023-02-14T05:44:08.090850Z",
     "start_time": "2023-02-14T05:44:08.074826Z"
    }
   },
   "outputs": [],
   "source": [
    "data[\"cred_hist_tran\"]=np.log(data.cb_person_cred_hist_length)"
   ]
  },
  {
   "cell_type": "code",
   "execution_count": 117,
   "id": "cd550785",
   "metadata": {
    "ExecuteTime": {
     "end_time": "2023-02-14T05:44:08.106840Z",
     "start_time": "2023-02-14T05:44:08.090850Z"
    }
   },
   "outputs": [],
   "source": [
    "##log transformation looks better for the credit history length"
   ]
  },
  {
   "cell_type": "code",
   "execution_count": 118,
   "id": "e8cdb346",
   "metadata": {
    "ExecuteTime": {
     "end_time": "2023-02-14T05:44:08.170797Z",
     "start_time": "2023-02-14T05:44:08.106840Z"
    }
   },
   "outputs": [
    {
     "data": {
      "text/html": [
       "<div>\n",
       "<style scoped>\n",
       "    .dataframe tbody tr th:only-of-type {\n",
       "        vertical-align: middle;\n",
       "    }\n",
       "\n",
       "    .dataframe tbody tr th {\n",
       "        vertical-align: top;\n",
       "    }\n",
       "\n",
       "    .dataframe thead th {\n",
       "        text-align: right;\n",
       "    }\n",
       "</style>\n",
       "<table border=\"1\" class=\"dataframe\">\n",
       "  <thead>\n",
       "    <tr style=\"text-align: right;\">\n",
       "      <th></th>\n",
       "      <th>person_age</th>\n",
       "      <th>person_income</th>\n",
       "      <th>person_home_ownership</th>\n",
       "      <th>person_emp_length</th>\n",
       "      <th>loan_intent</th>\n",
       "      <th>loan_grade</th>\n",
       "      <th>loan_amnt</th>\n",
       "      <th>loan_int_rate</th>\n",
       "      <th>loan_status</th>\n",
       "      <th>loan_percent_income</th>\n",
       "      <th>cb_person_default_on_file</th>\n",
       "      <th>cb_person_cred_hist_length</th>\n",
       "      <th>person_income_tran</th>\n",
       "      <th>person_age_tran</th>\n",
       "      <th>person_emp_tran</th>\n",
       "      <th>loan_amt_tran</th>\n",
       "      <th>loan_int_tran</th>\n",
       "      <th>loan_percent_tran</th>\n",
       "      <th>cred_hist_tran</th>\n",
       "    </tr>\n",
       "  </thead>\n",
       "  <tbody>\n",
       "    <tr>\n",
       "      <th>0</th>\n",
       "      <td>22</td>\n",
       "      <td>59000</td>\n",
       "      <td>RENT</td>\n",
       "      <td>123.0</td>\n",
       "      <td>PERSONAL</td>\n",
       "      <td>D</td>\n",
       "      <td>35000</td>\n",
       "      <td>16.02</td>\n",
       "      <td>1</td>\n",
       "      <td>0.572692</td>\n",
       "      <td>Y</td>\n",
       "      <td>3</td>\n",
       "      <td>7.887024</td>\n",
       "      <td>0.415032</td>\n",
       "      <td>4.812184</td>\n",
       "      <td>45.860686</td>\n",
       "      <td>2.520892</td>\n",
       "      <td>0.838721</td>\n",
       "      <td>1.098612</td>\n",
       "    </tr>\n",
       "    <tr>\n",
       "      <th>1</th>\n",
       "      <td>21</td>\n",
       "      <td>9600</td>\n",
       "      <td>OWN</td>\n",
       "      <td>5.0</td>\n",
       "      <td>EDUCATION</td>\n",
       "      <td>B</td>\n",
       "      <td>1000</td>\n",
       "      <td>11.14</td>\n",
       "      <td>0</td>\n",
       "      <td>0.026268</td>\n",
       "      <td>N</td>\n",
       "      <td>2</td>\n",
       "      <td>6.934408</td>\n",
       "      <td>0.415003</td>\n",
       "      <td>1.609438</td>\n",
       "      <td>17.403076</td>\n",
       "      <td>2.233375</td>\n",
       "      <td>0.464159</td>\n",
       "      <td>0.693147</td>\n",
       "    </tr>\n",
       "    <tr>\n",
       "      <th>2</th>\n",
       "      <td>25</td>\n",
       "      <td>9600</td>\n",
       "      <td>MORTGAGE</td>\n",
       "      <td>1.0</td>\n",
       "      <td>MEDICAL</td>\n",
       "      <td>C</td>\n",
       "      <td>5500</td>\n",
       "      <td>12.87</td>\n",
       "      <td>1</td>\n",
       "      <td>0.797758</td>\n",
       "      <td>N</td>\n",
       "      <td>3</td>\n",
       "      <td>6.934408</td>\n",
       "      <td>0.415096</td>\n",
       "      <td>0.000000</td>\n",
       "      <td>28.126718</td>\n",
       "      <td>2.343471</td>\n",
       "      <td>0.829134</td>\n",
       "      <td>1.098612</td>\n",
       "    </tr>\n",
       "    <tr>\n",
       "      <th>3</th>\n",
       "      <td>23</td>\n",
       "      <td>65500</td>\n",
       "      <td>RENT</td>\n",
       "      <td>4.0</td>\n",
       "      <td>MEDICAL</td>\n",
       "      <td>C</td>\n",
       "      <td>35000</td>\n",
       "      <td>15.23</td>\n",
       "      <td>1</td>\n",
       "      <td>0.571500</td>\n",
       "      <td>N</td>\n",
       "      <td>2</td>\n",
       "      <td>7.938554</td>\n",
       "      <td>0.415057</td>\n",
       "      <td>1.386294</td>\n",
       "      <td>45.860686</td>\n",
       "      <td>2.478753</td>\n",
       "      <td>0.809267</td>\n",
       "      <td>0.693147</td>\n",
       "    </tr>\n",
       "    <tr>\n",
       "      <th>4</th>\n",
       "      <td>24</td>\n",
       "      <td>54400</td>\n",
       "      <td>RENT</td>\n",
       "      <td>8.0</td>\n",
       "      <td>MEDICAL</td>\n",
       "      <td>C</td>\n",
       "      <td>35000</td>\n",
       "      <td>14.27</td>\n",
       "      <td>1</td>\n",
       "      <td>0.545362</td>\n",
       "      <td>Y</td>\n",
       "      <td>4</td>\n",
       "      <td>7.846762</td>\n",
       "      <td>0.415078</td>\n",
       "      <td>2.079442</td>\n",
       "      <td>45.860686</td>\n",
       "      <td>2.425537</td>\n",
       "      <td>0.819321</td>\n",
       "      <td>1.386294</td>\n",
       "    </tr>\n",
       "    <tr>\n",
       "      <th>...</th>\n",
       "      <td>...</td>\n",
       "      <td>...</td>\n",
       "      <td>...</td>\n",
       "      <td>...</td>\n",
       "      <td>...</td>\n",
       "      <td>...</td>\n",
       "      <td>...</td>\n",
       "      <td>...</td>\n",
       "      <td>...</td>\n",
       "      <td>...</td>\n",
       "      <td>...</td>\n",
       "      <td>...</td>\n",
       "      <td>...</td>\n",
       "      <td>...</td>\n",
       "      <td>...</td>\n",
       "      <td>...</td>\n",
       "      <td>...</td>\n",
       "      <td>...</td>\n",
       "      <td>...</td>\n",
       "    </tr>\n",
       "    <tr>\n",
       "      <th>32576</th>\n",
       "      <td>57</td>\n",
       "      <td>53000</td>\n",
       "      <td>MORTGAGE</td>\n",
       "      <td>1.0</td>\n",
       "      <td>PERSONAL</td>\n",
       "      <td>C</td>\n",
       "      <td>5800</td>\n",
       "      <td>13.16</td>\n",
       "      <td>0</td>\n",
       "      <td>0.667276</td>\n",
       "      <td>N</td>\n",
       "      <td>30</td>\n",
       "      <td>7.833786</td>\n",
       "      <td>0.415251</td>\n",
       "      <td>0.000000</td>\n",
       "      <td>28.535094</td>\n",
       "      <td>2.360942</td>\n",
       "      <td>0.479142</td>\n",
       "      <td>3.401197</td>\n",
       "    </tr>\n",
       "    <tr>\n",
       "      <th>32577</th>\n",
       "      <td>54</td>\n",
       "      <td>120000</td>\n",
       "      <td>MORTGAGE</td>\n",
       "      <td>4.0</td>\n",
       "      <td>PERSONAL</td>\n",
       "      <td>A</td>\n",
       "      <td>17625</td>\n",
       "      <td>7.49</td>\n",
       "      <td>0</td>\n",
       "      <td>0.194163</td>\n",
       "      <td>N</td>\n",
       "      <td>19</td>\n",
       "      <td>8.230377</td>\n",
       "      <td>0.415247</td>\n",
       "      <td>1.386294</td>\n",
       "      <td>38.369143</td>\n",
       "      <td>1.956563</td>\n",
       "      <td>0.531329</td>\n",
       "      <td>2.944439</td>\n",
       "    </tr>\n",
       "    <tr>\n",
       "      <th>32578</th>\n",
       "      <td>65</td>\n",
       "      <td>76000</td>\n",
       "      <td>RENT</td>\n",
       "      <td>3.0</td>\n",
       "      <td>HOMEIMPROVEMENT</td>\n",
       "      <td>B</td>\n",
       "      <td>35000</td>\n",
       "      <td>10.99</td>\n",
       "      <td>1</td>\n",
       "      <td>0.474657</td>\n",
       "      <td>N</td>\n",
       "      <td>28</td>\n",
       "      <td>8.011272</td>\n",
       "      <td>0.415257</td>\n",
       "      <td>1.098612</td>\n",
       "      <td>45.860686</td>\n",
       "      <td>2.223306</td>\n",
       "      <td>0.771944</td>\n",
       "      <td>3.332205</td>\n",
       "    </tr>\n",
       "    <tr>\n",
       "      <th>32579</th>\n",
       "      <td>56</td>\n",
       "      <td>150000</td>\n",
       "      <td>MORTGAGE</td>\n",
       "      <td>5.0</td>\n",
       "      <td>PERSONAL</td>\n",
       "      <td>B</td>\n",
       "      <td>15000</td>\n",
       "      <td>11.48</td>\n",
       "      <td>0</td>\n",
       "      <td>3.273055</td>\n",
       "      <td>N</td>\n",
       "      <td>26</td>\n",
       "      <td>8.335110</td>\n",
       "      <td>0.415249</td>\n",
       "      <td>1.609438</td>\n",
       "      <td>36.777353</td>\n",
       "      <td>2.255869</td>\n",
       "      <td>0.464159</td>\n",
       "      <td>3.258097</td>\n",
       "    </tr>\n",
       "    <tr>\n",
       "      <th>32580</th>\n",
       "      <td>66</td>\n",
       "      <td>42000</td>\n",
       "      <td>RENT</td>\n",
       "      <td>2.0</td>\n",
       "      <td>MEDICAL</td>\n",
       "      <td>B</td>\n",
       "      <td>6475</td>\n",
       "      <td>9.99</td>\n",
       "      <td>0</td>\n",
       "      <td>2.130821</td>\n",
       "      <td>N</td>\n",
       "      <td>30</td>\n",
       "      <td>7.717044</td>\n",
       "      <td>0.415258</td>\n",
       "      <td>0.693147</td>\n",
       "      <td>29.398099</td>\n",
       "      <td>2.153716</td>\n",
       "      <td>0.531329</td>\n",
       "      <td>3.401197</td>\n",
       "    </tr>\n",
       "  </tbody>\n",
       "</table>\n",
       "<p>32416 rows × 19 columns</p>\n",
       "</div>"
      ],
      "text/plain": [
       "       person_age  person_income person_home_ownership  person_emp_length  \\\n",
       "0              22          59000                  RENT              123.0   \n",
       "1              21           9600                   OWN                5.0   \n",
       "2              25           9600              MORTGAGE                1.0   \n",
       "3              23          65500                  RENT                4.0   \n",
       "4              24          54400                  RENT                8.0   \n",
       "...           ...            ...                   ...                ...   \n",
       "32576          57          53000              MORTGAGE                1.0   \n",
       "32577          54         120000              MORTGAGE                4.0   \n",
       "32578          65          76000                  RENT                3.0   \n",
       "32579          56         150000              MORTGAGE                5.0   \n",
       "32580          66          42000                  RENT                2.0   \n",
       "\n",
       "           loan_intent loan_grade  loan_amnt  loan_int_rate  loan_status  \\\n",
       "0             PERSONAL          D      35000          16.02            1   \n",
       "1            EDUCATION          B       1000          11.14            0   \n",
       "2              MEDICAL          C       5500          12.87            1   \n",
       "3              MEDICAL          C      35000          15.23            1   \n",
       "4              MEDICAL          C      35000          14.27            1   \n",
       "...                ...        ...        ...            ...          ...   \n",
       "32576         PERSONAL          C       5800          13.16            0   \n",
       "32577         PERSONAL          A      17625           7.49            0   \n",
       "32578  HOMEIMPROVEMENT          B      35000          10.99            1   \n",
       "32579         PERSONAL          B      15000          11.48            0   \n",
       "32580          MEDICAL          B       6475           9.99            0   \n",
       "\n",
       "       loan_percent_income cb_person_default_on_file  \\\n",
       "0                 0.572692                         Y   \n",
       "1                 0.026268                         N   \n",
       "2                 0.797758                         N   \n",
       "3                 0.571500                         N   \n",
       "4                 0.545362                         Y   \n",
       "...                    ...                       ...   \n",
       "32576             0.667276                         N   \n",
       "32577             0.194163                         N   \n",
       "32578             0.474657                         N   \n",
       "32579             3.273055                         N   \n",
       "32580             2.130821                         N   \n",
       "\n",
       "       cb_person_cred_hist_length  person_income_tran  person_age_tran  \\\n",
       "0                               3            7.887024         0.415032   \n",
       "1                               2            6.934408         0.415003   \n",
       "2                               3            6.934408         0.415096   \n",
       "3                               2            7.938554         0.415057   \n",
       "4                               4            7.846762         0.415078   \n",
       "...                           ...                 ...              ...   \n",
       "32576                          30            7.833786         0.415251   \n",
       "32577                          19            8.230377         0.415247   \n",
       "32578                          28            8.011272         0.415257   \n",
       "32579                          26            8.335110         0.415249   \n",
       "32580                          30            7.717044         0.415258   \n",
       "\n",
       "       person_emp_tran  loan_amt_tran  loan_int_tran  loan_percent_tran  \\\n",
       "0             4.812184      45.860686       2.520892           0.838721   \n",
       "1             1.609438      17.403076       2.233375           0.464159   \n",
       "2             0.000000      28.126718       2.343471           0.829134   \n",
       "3             1.386294      45.860686       2.478753           0.809267   \n",
       "4             2.079442      45.860686       2.425537           0.819321   \n",
       "...                ...            ...            ...                ...   \n",
       "32576         0.000000      28.535094       2.360942           0.479142   \n",
       "32577         1.386294      38.369143       1.956563           0.531329   \n",
       "32578         1.098612      45.860686       2.223306           0.771944   \n",
       "32579         1.609438      36.777353       2.255869           0.464159   \n",
       "32580         0.693147      29.398099       2.153716           0.531329   \n",
       "\n",
       "       cred_hist_tran  \n",
       "0            1.098612  \n",
       "1            0.693147  \n",
       "2            1.098612  \n",
       "3            0.693147  \n",
       "4            1.386294  \n",
       "...               ...  \n",
       "32576        3.401197  \n",
       "32577        2.944439  \n",
       "32578        3.332205  \n",
       "32579        3.258097  \n",
       "32580        3.401197  \n",
       "\n",
       "[32416 rows x 19 columns]"
      ]
     },
     "execution_count": 118,
     "metadata": {},
     "output_type": "execute_result"
    }
   ],
   "source": [
    "data"
   ]
  },
  {
   "cell_type": "code",
   "execution_count": 119,
   "id": "4fa12500",
   "metadata": {
    "ExecuteTime": {
     "end_time": "2023-02-14T05:44:08.234909Z",
     "start_time": "2023-02-14T05:44:08.170797Z"
    }
   },
   "outputs": [
    {
     "name": "stdout",
     "output_type": "stream",
     "text": [
      "<class 'pandas.core.frame.DataFrame'>\n",
      "Int64Index: 32416 entries, 0 to 32580\n",
      "Data columns (total 19 columns):\n",
      " #   Column                      Non-Null Count  Dtype  \n",
      "---  ------                      --------------  -----  \n",
      " 0   person_age                  32416 non-null  int64  \n",
      " 1   person_income               32416 non-null  int64  \n",
      " 2   person_home_ownership       32416 non-null  object \n",
      " 3   person_emp_length           32416 non-null  float64\n",
      " 4   loan_intent                 32416 non-null  object \n",
      " 5   loan_grade                  32416 non-null  object \n",
      " 6   loan_amnt                   32416 non-null  int64  \n",
      " 7   loan_int_rate               32416 non-null  float64\n",
      " 8   loan_status                 32416 non-null  int64  \n",
      " 9   loan_percent_income         32416 non-null  float64\n",
      " 10  cb_person_default_on_file   32416 non-null  object \n",
      " 11  cb_person_cred_hist_length  32416 non-null  int64  \n",
      " 12  person_income_tran          32416 non-null  float64\n",
      " 13  person_age_tran             32416 non-null  float64\n",
      " 14  person_emp_tran             32416 non-null  float64\n",
      " 15  loan_amt_tran               32416 non-null  float64\n",
      " 16  loan_int_tran               32416 non-null  float64\n",
      " 17  loan_percent_tran           32416 non-null  float64\n",
      " 18  cred_hist_tran              32416 non-null  float64\n",
      "dtypes: float64(10), int64(5), object(4)\n",
      "memory usage: 6.0+ MB\n"
     ]
    }
   ],
   "source": [
    "data.info()"
   ]
  },
  {
   "cell_type": "code",
   "execution_count": 120,
   "id": "e8b64794",
   "metadata": {
    "ExecuteTime": {
     "end_time": "2023-02-14T05:44:08.269665Z",
     "start_time": "2023-02-14T05:44:08.234909Z"
    }
   },
   "outputs": [],
   "source": [
    "X=data[[\"person_age_tran\",\"person_income_tran\",\"person_home_ownership\",\"loan_intent\",\"loan_grade\",\"person_emp_length\",\"loan_int_tran\",\"loan_amt_tran\",\"loan_percent_tran\",\"cb_person_default_on_file\",\"cred_hist_tran\"]]\n",
    "y=data[\"loan_status\"]"
   ]
  },
  {
   "cell_type": "code",
   "execution_count": 121,
   "id": "79ef3b8f",
   "metadata": {
    "ExecuteTime": {
     "end_time": "2023-02-14T05:44:08.368929Z",
     "start_time": "2023-02-14T05:44:08.269665Z"
    }
   },
   "outputs": [],
   "source": [
    "from sklearn.model_selection import train_test_split\n",
    "X_train,X_test,y_train,y_test=train_test_split(X,y,test_size=0.20,random_state=100)"
   ]
  },
  {
   "cell_type": "markdown",
   "id": "9df90ebf",
   "metadata": {},
   "source": [
    "### TRAIN DATASET"
   ]
  },
  {
   "cell_type": "code",
   "execution_count": 122,
   "id": "5ae7d830",
   "metadata": {
    "ExecuteTime": {
     "end_time": "2023-02-14T05:44:08.384917Z",
     "start_time": "2023-02-14T05:44:08.368929Z"
    }
   },
   "outputs": [],
   "source": [
    "X_train_num=X_train.select_dtypes(include=[\"int64\",\"float64\"])\n",
    "X_train_cat=X_train.select_dtypes(include=[\"object\"])"
   ]
  },
  {
   "cell_type": "code",
   "execution_count": 123,
   "id": "7f021c7d",
   "metadata": {
    "ExecuteTime": {
     "end_time": "2023-02-14T05:44:08.420364Z",
     "start_time": "2023-02-14T05:44:08.384917Z"
    }
   },
   "outputs": [],
   "source": [
    "from sklearn.preprocessing import StandardScaler\n",
    "scaler=StandardScaler()\n",
    "X_train_ntran=pd.DataFrame(scaler.fit_transform(X_train_num),columns=X_train_num.columns,index=X_train_num.index)"
   ]
  },
  {
   "cell_type": "code",
   "execution_count": 124,
   "id": "0c9bac0e",
   "metadata": {
    "ExecuteTime": {
     "end_time": "2023-02-14T05:44:08.454419Z",
     "start_time": "2023-02-14T05:44:08.420364Z"
    }
   },
   "outputs": [
    {
     "data": {
      "text/html": [
       "<div>\n",
       "<style scoped>\n",
       "    .dataframe tbody tr th:only-of-type {\n",
       "        vertical-align: middle;\n",
       "    }\n",
       "\n",
       "    .dataframe tbody tr th {\n",
       "        vertical-align: top;\n",
       "    }\n",
       "\n",
       "    .dataframe thead th {\n",
       "        text-align: right;\n",
       "    }\n",
       "</style>\n",
       "<table border=\"1\" class=\"dataframe\">\n",
       "  <thead>\n",
       "    <tr style=\"text-align: right;\">\n",
       "      <th></th>\n",
       "      <th>person_age_tran</th>\n",
       "      <th>person_income_tran</th>\n",
       "      <th>person_emp_length</th>\n",
       "      <th>loan_int_tran</th>\n",
       "      <th>loan_amt_tran</th>\n",
       "      <th>loan_percent_tran</th>\n",
       "      <th>cred_hist_tran</th>\n",
       "    </tr>\n",
       "  </thead>\n",
       "  <tbody>\n",
       "    <tr>\n",
       "      <th>533</th>\n",
       "      <td>-0.589172</td>\n",
       "      <td>1.284901</td>\n",
       "      <td>0.054592</td>\n",
       "      <td>1.316540</td>\n",
       "      <td>1.600607</td>\n",
       "      <td>0.392800</td>\n",
       "      <td>-0.718479</td>\n",
       "    </tr>\n",
       "    <tr>\n",
       "      <th>5603</th>\n",
       "      <td>-1.807254</td>\n",
       "      <td>-0.350797</td>\n",
       "      <td>-1.179233</td>\n",
       "      <td>0.010275</td>\n",
       "      <td>0.562778</td>\n",
       "      <td>0.933175</td>\n",
       "      <td>-1.361317</td>\n",
       "    </tr>\n",
       "    <tr>\n",
       "      <th>14046</th>\n",
       "      <td>-1.337804</td>\n",
       "      <td>-1.021627</td>\n",
       "      <td>-1.179233</td>\n",
       "      <td>1.164748</td>\n",
       "      <td>-0.940956</td>\n",
       "      <td>-0.189785</td>\n",
       "      <td>-1.361317</td>\n",
       "    </tr>\n",
       "    <tr>\n",
       "      <th>23911</th>\n",
       "      <td>1.234256</td>\n",
       "      <td>-1.429764</td>\n",
       "      <td>-1.179233</td>\n",
       "      <td>-1.246522</td>\n",
       "      <td>0.318319</td>\n",
       "      <td>1.773713</td>\n",
       "      <td>1.023298</td>\n",
       "    </tr>\n",
       "    <tr>\n",
       "      <th>1243</th>\n",
       "      <td>-1.337804</td>\n",
       "      <td>-0.643536</td>\n",
       "      <td>-0.192173</td>\n",
       "      <td>0.261679</td>\n",
       "      <td>1.078020</td>\n",
       "      <td>1.876746</td>\n",
       "      <td>-0.718479</td>\n",
       "    </tr>\n",
       "    <tr>\n",
       "      <th>...</th>\n",
       "      <td>...</td>\n",
       "      <td>...</td>\n",
       "      <td>...</td>\n",
       "      <td>...</td>\n",
       "      <td>...</td>\n",
       "      <td>...</td>\n",
       "      <td>...</td>\n",
       "    </tr>\n",
       "    <tr>\n",
       "      <th>12119</th>\n",
       "      <td>-0.589172</td>\n",
       "      <td>0.651942</td>\n",
       "      <td>0.794888</td>\n",
       "      <td>-0.999041</td>\n",
       "      <td>1.281984</td>\n",
       "      <td>0.715204</td>\n",
       "      <td>-1.361317</td>\n",
       "    </tr>\n",
       "    <tr>\n",
       "      <th>24545</th>\n",
       "      <td>1.327857</td>\n",
       "      <td>0.151421</td>\n",
       "      <td>0.548123</td>\n",
       "      <td>0.128048</td>\n",
       "      <td>0.318319</td>\n",
       "      <td>0.214350</td>\n",
       "      <td>1.023298</td>\n",
       "    </tr>\n",
       "    <tr>\n",
       "      <th>14147</th>\n",
       "      <td>-0.935783</td>\n",
       "      <td>1.033873</td>\n",
       "      <td>-1.179233</td>\n",
       "      <td>-0.734009</td>\n",
       "      <td>-0.204479</td>\n",
       "      <td>-0.995316</td>\n",
       "      <td>-0.718479</td>\n",
       "    </tr>\n",
       "    <tr>\n",
       "      <th>23442</th>\n",
       "      <td>0.888408</td>\n",
       "      <td>0.223008</td>\n",
       "      <td>-1.179233</td>\n",
       "      <td>0.946901</td>\n",
       "      <td>-1.283335</td>\n",
       "      <td>-1.368230</td>\n",
       "      <td>0.091401</td>\n",
       "    </tr>\n",
       "    <tr>\n",
       "      <th>5640</th>\n",
       "      <td>-0.589172</td>\n",
       "      <td>0.854219</td>\n",
       "      <td>0.054592</td>\n",
       "      <td>-0.237024</td>\n",
       "      <td>-0.658900</td>\n",
       "      <td>-1.171360</td>\n",
       "      <td>-0.718479</td>\n",
       "    </tr>\n",
       "  </tbody>\n",
       "</table>\n",
       "<p>25932 rows × 7 columns</p>\n",
       "</div>"
      ],
      "text/plain": [
       "       person_age_tran  person_income_tran  person_emp_length  loan_int_tran  \\\n",
       "533          -0.589172            1.284901           0.054592       1.316540   \n",
       "5603         -1.807254           -0.350797          -1.179233       0.010275   \n",
       "14046        -1.337804           -1.021627          -1.179233       1.164748   \n",
       "23911         1.234256           -1.429764          -1.179233      -1.246522   \n",
       "1243         -1.337804           -0.643536          -0.192173       0.261679   \n",
       "...                ...                 ...                ...            ...   \n",
       "12119        -0.589172            0.651942           0.794888      -0.999041   \n",
       "24545         1.327857            0.151421           0.548123       0.128048   \n",
       "14147        -0.935783            1.033873          -1.179233      -0.734009   \n",
       "23442         0.888408            0.223008          -1.179233       0.946901   \n",
       "5640         -0.589172            0.854219           0.054592      -0.237024   \n",
       "\n",
       "       loan_amt_tran  loan_percent_tran  cred_hist_tran  \n",
       "533         1.600607           0.392800       -0.718479  \n",
       "5603        0.562778           0.933175       -1.361317  \n",
       "14046      -0.940956          -0.189785       -1.361317  \n",
       "23911       0.318319           1.773713        1.023298  \n",
       "1243        1.078020           1.876746       -0.718479  \n",
       "...              ...                ...             ...  \n",
       "12119       1.281984           0.715204       -1.361317  \n",
       "24545       0.318319           0.214350        1.023298  \n",
       "14147      -0.204479          -0.995316       -0.718479  \n",
       "23442      -1.283335          -1.368230        0.091401  \n",
       "5640       -0.658900          -1.171360       -0.718479  \n",
       "\n",
       "[25932 rows x 7 columns]"
      ]
     },
     "execution_count": 124,
     "metadata": {},
     "output_type": "execute_result"
    }
   ],
   "source": [
    "X_train_ntran"
   ]
  },
  {
   "cell_type": "code",
   "execution_count": 125,
   "id": "217ccfcd",
   "metadata": {
    "ExecuteTime": {
     "end_time": "2023-02-14T05:44:08.478401Z",
     "start_time": "2023-02-14T05:44:08.454419Z"
    }
   },
   "outputs": [
    {
     "data": {
      "text/html": [
       "<div>\n",
       "<style scoped>\n",
       "    .dataframe tbody tr th:only-of-type {\n",
       "        vertical-align: middle;\n",
       "    }\n",
       "\n",
       "    .dataframe tbody tr th {\n",
       "        vertical-align: top;\n",
       "    }\n",
       "\n",
       "    .dataframe thead th {\n",
       "        text-align: right;\n",
       "    }\n",
       "</style>\n",
       "<table border=\"1\" class=\"dataframe\">\n",
       "  <thead>\n",
       "    <tr style=\"text-align: right;\">\n",
       "      <th></th>\n",
       "      <th>person_home_ownership</th>\n",
       "      <th>loan_intent</th>\n",
       "      <th>loan_grade</th>\n",
       "      <th>cb_person_default_on_file</th>\n",
       "    </tr>\n",
       "  </thead>\n",
       "  <tbody>\n",
       "    <tr>\n",
       "      <th>533</th>\n",
       "      <td>RENT</td>\n",
       "      <td>EDUCATION</td>\n",
       "      <td>D</td>\n",
       "      <td>Y</td>\n",
       "    </tr>\n",
       "    <tr>\n",
       "      <th>5603</th>\n",
       "      <td>MORTGAGE</td>\n",
       "      <td>PERSONAL</td>\n",
       "      <td>B</td>\n",
       "      <td>N</td>\n",
       "    </tr>\n",
       "    <tr>\n",
       "      <th>14046</th>\n",
       "      <td>OWN</td>\n",
       "      <td>DEBTCONSOLIDATION</td>\n",
       "      <td>D</td>\n",
       "      <td>Y</td>\n",
       "    </tr>\n",
       "    <tr>\n",
       "      <th>23911</th>\n",
       "      <td>RENT</td>\n",
       "      <td>MEDICAL</td>\n",
       "      <td>A</td>\n",
       "      <td>N</td>\n",
       "    </tr>\n",
       "    <tr>\n",
       "      <th>1243</th>\n",
       "      <td>RENT</td>\n",
       "      <td>VENTURE</td>\n",
       "      <td>C</td>\n",
       "      <td>Y</td>\n",
       "    </tr>\n",
       "    <tr>\n",
       "      <th>...</th>\n",
       "      <td>...</td>\n",
       "      <td>...</td>\n",
       "      <td>...</td>\n",
       "      <td>...</td>\n",
       "    </tr>\n",
       "    <tr>\n",
       "      <th>12119</th>\n",
       "      <td>MORTGAGE</td>\n",
       "      <td>HOMEIMPROVEMENT</td>\n",
       "      <td>A</td>\n",
       "      <td>N</td>\n",
       "    </tr>\n",
       "    <tr>\n",
       "      <th>24545</th>\n",
       "      <td>RENT</td>\n",
       "      <td>PERSONAL</td>\n",
       "      <td>B</td>\n",
       "      <td>N</td>\n",
       "    </tr>\n",
       "    <tr>\n",
       "      <th>14147</th>\n",
       "      <td>MORTGAGE</td>\n",
       "      <td>PERSONAL</td>\n",
       "      <td>A</td>\n",
       "      <td>N</td>\n",
       "    </tr>\n",
       "    <tr>\n",
       "      <th>23442</th>\n",
       "      <td>OWN</td>\n",
       "      <td>VENTURE</td>\n",
       "      <td>C</td>\n",
       "      <td>Y</td>\n",
       "    </tr>\n",
       "    <tr>\n",
       "      <th>5640</th>\n",
       "      <td>RENT</td>\n",
       "      <td>VENTURE</td>\n",
       "      <td>B</td>\n",
       "      <td>N</td>\n",
       "    </tr>\n",
       "  </tbody>\n",
       "</table>\n",
       "<p>25932 rows × 4 columns</p>\n",
       "</div>"
      ],
      "text/plain": [
       "      person_home_ownership        loan_intent loan_grade  \\\n",
       "533                    RENT          EDUCATION          D   \n",
       "5603               MORTGAGE           PERSONAL          B   \n",
       "14046                   OWN  DEBTCONSOLIDATION          D   \n",
       "23911                  RENT            MEDICAL          A   \n",
       "1243                   RENT            VENTURE          C   \n",
       "...                     ...                ...        ...   \n",
       "12119              MORTGAGE    HOMEIMPROVEMENT          A   \n",
       "24545                  RENT           PERSONAL          B   \n",
       "14147              MORTGAGE           PERSONAL          A   \n",
       "23442                   OWN            VENTURE          C   \n",
       "5640                   RENT            VENTURE          B   \n",
       "\n",
       "      cb_person_default_on_file  \n",
       "533                           Y  \n",
       "5603                          N  \n",
       "14046                         Y  \n",
       "23911                         N  \n",
       "1243                          Y  \n",
       "...                         ...  \n",
       "12119                         N  \n",
       "24545                         N  \n",
       "14147                         N  \n",
       "23442                         Y  \n",
       "5640                          N  \n",
       "\n",
       "[25932 rows x 4 columns]"
      ]
     },
     "execution_count": 125,
     "metadata": {},
     "output_type": "execute_result"
    }
   ],
   "source": [
    "X_train_cat"
   ]
  },
  {
   "cell_type": "markdown",
   "id": "88bb1ec8",
   "metadata": {},
   "source": [
    "### One Hot encoding(train data)"
   ]
  },
  {
   "cell_type": "code",
   "execution_count": 126,
   "id": "c0303e69",
   "metadata": {
    "ExecuteTime": {
     "end_time": "2023-02-14T05:44:08.510493Z",
     "start_time": "2023-02-14T05:44:08.478401Z"
    }
   },
   "outputs": [
    {
     "data": {
      "text/html": [
       "<div>\n",
       "<style scoped>\n",
       "    .dataframe tbody tr th:only-of-type {\n",
       "        vertical-align: middle;\n",
       "    }\n",
       "\n",
       "    .dataframe tbody tr th {\n",
       "        vertical-align: top;\n",
       "    }\n",
       "\n",
       "    .dataframe thead th {\n",
       "        text-align: right;\n",
       "    }\n",
       "</style>\n",
       "<table border=\"1\" class=\"dataframe\">\n",
       "  <thead>\n",
       "    <tr style=\"text-align: right;\">\n",
       "      <th></th>\n",
       "    </tr>\n",
       "  </thead>\n",
       "  <tbody>\n",
       "    <tr>\n",
       "      <th>533</th>\n",
       "    </tr>\n",
       "    <tr>\n",
       "      <th>5603</th>\n",
       "    </tr>\n",
       "    <tr>\n",
       "      <th>14046</th>\n",
       "    </tr>\n",
       "    <tr>\n",
       "      <th>23911</th>\n",
       "    </tr>\n",
       "    <tr>\n",
       "      <th>1243</th>\n",
       "    </tr>\n",
       "    <tr>\n",
       "      <th>...</th>\n",
       "    </tr>\n",
       "    <tr>\n",
       "      <th>12119</th>\n",
       "    </tr>\n",
       "    <tr>\n",
       "      <th>24545</th>\n",
       "    </tr>\n",
       "    <tr>\n",
       "      <th>14147</th>\n",
       "    </tr>\n",
       "    <tr>\n",
       "      <th>23442</th>\n",
       "    </tr>\n",
       "    <tr>\n",
       "      <th>5640</th>\n",
       "    </tr>\n",
       "  </tbody>\n",
       "</table>\n",
       "<p>25932 rows × 0 columns</p>\n",
       "</div>"
      ],
      "text/plain": [
       "Empty DataFrame\n",
       "Columns: []\n",
       "Index: [533, 5603, 14046, 23911, 1243, 5746, 28915, 18141, 6353, 4433, 29352, 27046, 10740, 22346, 29140, 21706, 17201, 2555, 19316, 28819, 16037, 31324, 16046, 7023, 10781, 18231, 14836, 31872, 25605, 18096, 4480, 19726, 2007, 28080, 4696, 3053, 21354, 10041, 4770, 6386, 13981, 1990, 15716, 22112, 14755, 2003, 22293, 20671, 6672, 10479, 92, 22573, 6409, 26062, 25193, 20303, 27119, 12072, 12213, 28372, 12409, 8893, 6958, 29102, 15488, 11468, 27424, 5905, 15310, 4896, 30540, 24079, 5702, 7434, 4464, 16154, 11209, 31645, 29799, 9828, 5155, 578, 28309, 11754, 21941, 10877, 19854, 11107, 15276, 16030, 12813, 26091, 7899, 32414, 2644, 172, 29300, 10033, 13514, 4562, ...]\n",
       "\n",
       "[25932 rows x 0 columns]"
      ]
     },
     "execution_count": 126,
     "metadata": {},
     "output_type": "execute_result"
    }
   ],
   "source": [
    "X_train_cat_one=pd.DataFrame(index=X_train_cat.index)\n",
    "X_train_cat_one"
   ]
  },
  {
   "cell_type": "code",
   "execution_count": 127,
   "id": "aafd3acf",
   "metadata": {
    "ExecuteTime": {
     "end_time": "2023-02-14T05:44:08.544186Z",
     "start_time": "2023-02-14T05:44:08.511491Z"
    }
   },
   "outputs": [],
   "source": [
    "X_train_cat_one[\"person_home_ownership\"]=data.person_home_ownership\n",
    "X_train_cat_one[\"loan_intent\"]=data.loan_intent\n",
    "X_train_cat_one[\"cb_person_default_on_file\"]=data.cb_person_default_on_file"
   ]
  },
  {
   "cell_type": "code",
   "execution_count": 128,
   "id": "d2314a7b",
   "metadata": {
    "ExecuteTime": {
     "end_time": "2023-02-14T05:44:08.576234Z",
     "start_time": "2023-02-14T05:44:08.544186Z"
    }
   },
   "outputs": [
    {
     "data": {
      "text/html": [
       "<div>\n",
       "<style scoped>\n",
       "    .dataframe tbody tr th:only-of-type {\n",
       "        vertical-align: middle;\n",
       "    }\n",
       "\n",
       "    .dataframe tbody tr th {\n",
       "        vertical-align: top;\n",
       "    }\n",
       "\n",
       "    .dataframe thead th {\n",
       "        text-align: right;\n",
       "    }\n",
       "</style>\n",
       "<table border=\"1\" class=\"dataframe\">\n",
       "  <thead>\n",
       "    <tr style=\"text-align: right;\">\n",
       "      <th></th>\n",
       "      <th>person_home_ownership</th>\n",
       "      <th>loan_intent</th>\n",
       "      <th>cb_person_default_on_file</th>\n",
       "    </tr>\n",
       "  </thead>\n",
       "  <tbody>\n",
       "    <tr>\n",
       "      <th>533</th>\n",
       "      <td>RENT</td>\n",
       "      <td>EDUCATION</td>\n",
       "      <td>Y</td>\n",
       "    </tr>\n",
       "    <tr>\n",
       "      <th>5603</th>\n",
       "      <td>MORTGAGE</td>\n",
       "      <td>PERSONAL</td>\n",
       "      <td>N</td>\n",
       "    </tr>\n",
       "    <tr>\n",
       "      <th>14046</th>\n",
       "      <td>OWN</td>\n",
       "      <td>DEBTCONSOLIDATION</td>\n",
       "      <td>Y</td>\n",
       "    </tr>\n",
       "    <tr>\n",
       "      <th>23911</th>\n",
       "      <td>RENT</td>\n",
       "      <td>MEDICAL</td>\n",
       "      <td>N</td>\n",
       "    </tr>\n",
       "    <tr>\n",
       "      <th>1243</th>\n",
       "      <td>RENT</td>\n",
       "      <td>VENTURE</td>\n",
       "      <td>Y</td>\n",
       "    </tr>\n",
       "    <tr>\n",
       "      <th>...</th>\n",
       "      <td>...</td>\n",
       "      <td>...</td>\n",
       "      <td>...</td>\n",
       "    </tr>\n",
       "    <tr>\n",
       "      <th>12119</th>\n",
       "      <td>MORTGAGE</td>\n",
       "      <td>HOMEIMPROVEMENT</td>\n",
       "      <td>N</td>\n",
       "    </tr>\n",
       "    <tr>\n",
       "      <th>24545</th>\n",
       "      <td>RENT</td>\n",
       "      <td>PERSONAL</td>\n",
       "      <td>N</td>\n",
       "    </tr>\n",
       "    <tr>\n",
       "      <th>14147</th>\n",
       "      <td>MORTGAGE</td>\n",
       "      <td>PERSONAL</td>\n",
       "      <td>N</td>\n",
       "    </tr>\n",
       "    <tr>\n",
       "      <th>23442</th>\n",
       "      <td>OWN</td>\n",
       "      <td>VENTURE</td>\n",
       "      <td>Y</td>\n",
       "    </tr>\n",
       "    <tr>\n",
       "      <th>5640</th>\n",
       "      <td>RENT</td>\n",
       "      <td>VENTURE</td>\n",
       "      <td>N</td>\n",
       "    </tr>\n",
       "  </tbody>\n",
       "</table>\n",
       "<p>25932 rows × 3 columns</p>\n",
       "</div>"
      ],
      "text/plain": [
       "      person_home_ownership        loan_intent cb_person_default_on_file\n",
       "533                    RENT          EDUCATION                         Y\n",
       "5603               MORTGAGE           PERSONAL                         N\n",
       "14046                   OWN  DEBTCONSOLIDATION                         Y\n",
       "23911                  RENT            MEDICAL                         N\n",
       "1243                   RENT            VENTURE                         Y\n",
       "...                     ...                ...                       ...\n",
       "12119              MORTGAGE    HOMEIMPROVEMENT                         N\n",
       "24545                  RENT           PERSONAL                         N\n",
       "14147              MORTGAGE           PERSONAL                         N\n",
       "23442                   OWN            VENTURE                         Y\n",
       "5640                   RENT            VENTURE                         N\n",
       "\n",
       "[25932 rows x 3 columns]"
      ]
     },
     "execution_count": 128,
     "metadata": {},
     "output_type": "execute_result"
    }
   ],
   "source": [
    "X_train_cat_one"
   ]
  },
  {
   "cell_type": "code",
   "execution_count": 129,
   "id": "b5cf670b",
   "metadata": {
    "ExecuteTime": {
     "end_time": "2023-02-14T05:44:08.652959Z",
     "start_time": "2023-02-14T05:44:08.578191Z"
    }
   },
   "outputs": [],
   "source": [
    "from sklearn.preprocessing import OneHotEncoder\n",
    "encoder=OneHotEncoder(drop=\"first\", sparse=False)\n",
    "X_train_cat_one_tran=pd.DataFrame(encoder.fit_transform(X_train_cat_one),columns=encoder.get_feature_names_out(X_train_cat_one.columns),\n",
    "                                  index=X_train_cat.index)\n"
   ]
  },
  {
   "cell_type": "code",
   "execution_count": 130,
   "id": "fb68d538",
   "metadata": {
    "ExecuteTime": {
     "end_time": "2023-02-14T05:44:08.701562Z",
     "start_time": "2023-02-14T05:44:08.652959Z"
    }
   },
   "outputs": [
    {
     "data": {
      "text/html": [
       "<div>\n",
       "<style scoped>\n",
       "    .dataframe tbody tr th:only-of-type {\n",
       "        vertical-align: middle;\n",
       "    }\n",
       "\n",
       "    .dataframe tbody tr th {\n",
       "        vertical-align: top;\n",
       "    }\n",
       "\n",
       "    .dataframe thead th {\n",
       "        text-align: right;\n",
       "    }\n",
       "</style>\n",
       "<table border=\"1\" class=\"dataframe\">\n",
       "  <thead>\n",
       "    <tr style=\"text-align: right;\">\n",
       "      <th></th>\n",
       "      <th>person_home_ownership_OTHER</th>\n",
       "      <th>person_home_ownership_OWN</th>\n",
       "      <th>person_home_ownership_RENT</th>\n",
       "      <th>loan_intent_EDUCATION</th>\n",
       "      <th>loan_intent_HOMEIMPROVEMENT</th>\n",
       "      <th>loan_intent_MEDICAL</th>\n",
       "      <th>loan_intent_PERSONAL</th>\n",
       "      <th>loan_intent_VENTURE</th>\n",
       "      <th>cb_person_default_on_file_Y</th>\n",
       "    </tr>\n",
       "  </thead>\n",
       "  <tbody>\n",
       "    <tr>\n",
       "      <th>533</th>\n",
       "      <td>0.0</td>\n",
       "      <td>0.0</td>\n",
       "      <td>1.0</td>\n",
       "      <td>1.0</td>\n",
       "      <td>0.0</td>\n",
       "      <td>0.0</td>\n",
       "      <td>0.0</td>\n",
       "      <td>0.0</td>\n",
       "      <td>1.0</td>\n",
       "    </tr>\n",
       "    <tr>\n",
       "      <th>5603</th>\n",
       "      <td>0.0</td>\n",
       "      <td>0.0</td>\n",
       "      <td>0.0</td>\n",
       "      <td>0.0</td>\n",
       "      <td>0.0</td>\n",
       "      <td>0.0</td>\n",
       "      <td>1.0</td>\n",
       "      <td>0.0</td>\n",
       "      <td>0.0</td>\n",
       "    </tr>\n",
       "    <tr>\n",
       "      <th>14046</th>\n",
       "      <td>0.0</td>\n",
       "      <td>1.0</td>\n",
       "      <td>0.0</td>\n",
       "      <td>0.0</td>\n",
       "      <td>0.0</td>\n",
       "      <td>0.0</td>\n",
       "      <td>0.0</td>\n",
       "      <td>0.0</td>\n",
       "      <td>1.0</td>\n",
       "    </tr>\n",
       "    <tr>\n",
       "      <th>23911</th>\n",
       "      <td>0.0</td>\n",
       "      <td>0.0</td>\n",
       "      <td>1.0</td>\n",
       "      <td>0.0</td>\n",
       "      <td>0.0</td>\n",
       "      <td>1.0</td>\n",
       "      <td>0.0</td>\n",
       "      <td>0.0</td>\n",
       "      <td>0.0</td>\n",
       "    </tr>\n",
       "    <tr>\n",
       "      <th>1243</th>\n",
       "      <td>0.0</td>\n",
       "      <td>0.0</td>\n",
       "      <td>1.0</td>\n",
       "      <td>0.0</td>\n",
       "      <td>0.0</td>\n",
       "      <td>0.0</td>\n",
       "      <td>0.0</td>\n",
       "      <td>1.0</td>\n",
       "      <td>1.0</td>\n",
       "    </tr>\n",
       "    <tr>\n",
       "      <th>...</th>\n",
       "      <td>...</td>\n",
       "      <td>...</td>\n",
       "      <td>...</td>\n",
       "      <td>...</td>\n",
       "      <td>...</td>\n",
       "      <td>...</td>\n",
       "      <td>...</td>\n",
       "      <td>...</td>\n",
       "      <td>...</td>\n",
       "    </tr>\n",
       "    <tr>\n",
       "      <th>12119</th>\n",
       "      <td>0.0</td>\n",
       "      <td>0.0</td>\n",
       "      <td>0.0</td>\n",
       "      <td>0.0</td>\n",
       "      <td>1.0</td>\n",
       "      <td>0.0</td>\n",
       "      <td>0.0</td>\n",
       "      <td>0.0</td>\n",
       "      <td>0.0</td>\n",
       "    </tr>\n",
       "    <tr>\n",
       "      <th>24545</th>\n",
       "      <td>0.0</td>\n",
       "      <td>0.0</td>\n",
       "      <td>1.0</td>\n",
       "      <td>0.0</td>\n",
       "      <td>0.0</td>\n",
       "      <td>0.0</td>\n",
       "      <td>1.0</td>\n",
       "      <td>0.0</td>\n",
       "      <td>0.0</td>\n",
       "    </tr>\n",
       "    <tr>\n",
       "      <th>14147</th>\n",
       "      <td>0.0</td>\n",
       "      <td>0.0</td>\n",
       "      <td>0.0</td>\n",
       "      <td>0.0</td>\n",
       "      <td>0.0</td>\n",
       "      <td>0.0</td>\n",
       "      <td>1.0</td>\n",
       "      <td>0.0</td>\n",
       "      <td>0.0</td>\n",
       "    </tr>\n",
       "    <tr>\n",
       "      <th>23442</th>\n",
       "      <td>0.0</td>\n",
       "      <td>1.0</td>\n",
       "      <td>0.0</td>\n",
       "      <td>0.0</td>\n",
       "      <td>0.0</td>\n",
       "      <td>0.0</td>\n",
       "      <td>0.0</td>\n",
       "      <td>1.0</td>\n",
       "      <td>1.0</td>\n",
       "    </tr>\n",
       "    <tr>\n",
       "      <th>5640</th>\n",
       "      <td>0.0</td>\n",
       "      <td>0.0</td>\n",
       "      <td>1.0</td>\n",
       "      <td>0.0</td>\n",
       "      <td>0.0</td>\n",
       "      <td>0.0</td>\n",
       "      <td>0.0</td>\n",
       "      <td>1.0</td>\n",
       "      <td>0.0</td>\n",
       "    </tr>\n",
       "  </tbody>\n",
       "</table>\n",
       "<p>25932 rows × 9 columns</p>\n",
       "</div>"
      ],
      "text/plain": [
       "       person_home_ownership_OTHER  person_home_ownership_OWN  \\\n",
       "533                            0.0                        0.0   \n",
       "5603                           0.0                        0.0   \n",
       "14046                          0.0                        1.0   \n",
       "23911                          0.0                        0.0   \n",
       "1243                           0.0                        0.0   \n",
       "...                            ...                        ...   \n",
       "12119                          0.0                        0.0   \n",
       "24545                          0.0                        0.0   \n",
       "14147                          0.0                        0.0   \n",
       "23442                          0.0                        1.0   \n",
       "5640                           0.0                        0.0   \n",
       "\n",
       "       person_home_ownership_RENT  loan_intent_EDUCATION  \\\n",
       "533                           1.0                    1.0   \n",
       "5603                          0.0                    0.0   \n",
       "14046                         0.0                    0.0   \n",
       "23911                         1.0                    0.0   \n",
       "1243                          1.0                    0.0   \n",
       "...                           ...                    ...   \n",
       "12119                         0.0                    0.0   \n",
       "24545                         1.0                    0.0   \n",
       "14147                         0.0                    0.0   \n",
       "23442                         0.0                    0.0   \n",
       "5640                          1.0                    0.0   \n",
       "\n",
       "       loan_intent_HOMEIMPROVEMENT  loan_intent_MEDICAL  loan_intent_PERSONAL  \\\n",
       "533                            0.0                  0.0                   0.0   \n",
       "5603                           0.0                  0.0                   1.0   \n",
       "14046                          0.0                  0.0                   0.0   \n",
       "23911                          0.0                  1.0                   0.0   \n",
       "1243                           0.0                  0.0                   0.0   \n",
       "...                            ...                  ...                   ...   \n",
       "12119                          1.0                  0.0                   0.0   \n",
       "24545                          0.0                  0.0                   1.0   \n",
       "14147                          0.0                  0.0                   1.0   \n",
       "23442                          0.0                  0.0                   0.0   \n",
       "5640                           0.0                  0.0                   0.0   \n",
       "\n",
       "       loan_intent_VENTURE  cb_person_default_on_file_Y  \n",
       "533                    0.0                          1.0  \n",
       "5603                   0.0                          0.0  \n",
       "14046                  0.0                          1.0  \n",
       "23911                  0.0                          0.0  \n",
       "1243                   1.0                          1.0  \n",
       "...                    ...                          ...  \n",
       "12119                  0.0                          0.0  \n",
       "24545                  0.0                          0.0  \n",
       "14147                  0.0                          0.0  \n",
       "23442                  1.0                          1.0  \n",
       "5640                   1.0                          0.0  \n",
       "\n",
       "[25932 rows x 9 columns]"
      ]
     },
     "execution_count": 130,
     "metadata": {},
     "output_type": "execute_result"
    }
   ],
   "source": [
    "X_train_cat_one_tran"
   ]
  },
  {
   "cell_type": "markdown",
   "id": "71164d23",
   "metadata": {},
   "source": [
    "### label encoding(test data)"
   ]
  },
  {
   "cell_type": "code",
   "execution_count": 131,
   "id": "569e7e73",
   "metadata": {
    "ExecuteTime": {
     "end_time": "2023-02-14T05:44:08.735448Z",
     "start_time": "2023-02-14T05:44:08.701562Z"
    }
   },
   "outputs": [
    {
     "data": {
      "text/html": [
       "<div>\n",
       "<style scoped>\n",
       "    .dataframe tbody tr th:only-of-type {\n",
       "        vertical-align: middle;\n",
       "    }\n",
       "\n",
       "    .dataframe tbody tr th {\n",
       "        vertical-align: top;\n",
       "    }\n",
       "\n",
       "    .dataframe thead th {\n",
       "        text-align: right;\n",
       "    }\n",
       "</style>\n",
       "<table border=\"1\" class=\"dataframe\">\n",
       "  <thead>\n",
       "    <tr style=\"text-align: right;\">\n",
       "      <th></th>\n",
       "    </tr>\n",
       "  </thead>\n",
       "  <tbody>\n",
       "    <tr>\n",
       "      <th>533</th>\n",
       "    </tr>\n",
       "    <tr>\n",
       "      <th>5603</th>\n",
       "    </tr>\n",
       "    <tr>\n",
       "      <th>14046</th>\n",
       "    </tr>\n",
       "    <tr>\n",
       "      <th>23911</th>\n",
       "    </tr>\n",
       "    <tr>\n",
       "      <th>1243</th>\n",
       "    </tr>\n",
       "    <tr>\n",
       "      <th>...</th>\n",
       "    </tr>\n",
       "    <tr>\n",
       "      <th>12119</th>\n",
       "    </tr>\n",
       "    <tr>\n",
       "      <th>24545</th>\n",
       "    </tr>\n",
       "    <tr>\n",
       "      <th>14147</th>\n",
       "    </tr>\n",
       "    <tr>\n",
       "      <th>23442</th>\n",
       "    </tr>\n",
       "    <tr>\n",
       "      <th>5640</th>\n",
       "    </tr>\n",
       "  </tbody>\n",
       "</table>\n",
       "<p>25932 rows × 0 columns</p>\n",
       "</div>"
      ],
      "text/plain": [
       "Empty DataFrame\n",
       "Columns: []\n",
       "Index: [533, 5603, 14046, 23911, 1243, 5746, 28915, 18141, 6353, 4433, 29352, 27046, 10740, 22346, 29140, 21706, 17201, 2555, 19316, 28819, 16037, 31324, 16046, 7023, 10781, 18231, 14836, 31872, 25605, 18096, 4480, 19726, 2007, 28080, 4696, 3053, 21354, 10041, 4770, 6386, 13981, 1990, 15716, 22112, 14755, 2003, 22293, 20671, 6672, 10479, 92, 22573, 6409, 26062, 25193, 20303, 27119, 12072, 12213, 28372, 12409, 8893, 6958, 29102, 15488, 11468, 27424, 5905, 15310, 4896, 30540, 24079, 5702, 7434, 4464, 16154, 11209, 31645, 29799, 9828, 5155, 578, 28309, 11754, 21941, 10877, 19854, 11107, 15276, 16030, 12813, 26091, 7899, 32414, 2644, 172, 29300, 10033, 13514, 4562, ...]\n",
       "\n",
       "[25932 rows x 0 columns]"
      ]
     },
     "execution_count": 131,
     "metadata": {},
     "output_type": "execute_result"
    }
   ],
   "source": [
    "X_train_cat_le=pd.DataFrame(index=X_train_cat.index)\n",
    "X_train_cat_le"
   ]
  },
  {
   "cell_type": "code",
   "execution_count": 132,
   "id": "2d95399a",
   "metadata": {
    "ExecuteTime": {
     "end_time": "2023-02-14T05:44:08.785544Z",
     "start_time": "2023-02-14T05:44:08.735448Z"
    }
   },
   "outputs": [],
   "source": [
    "map_dict={\"A\":1,\"B\":2,\"C\":3,\"D\":4,\"E\":5,\"F\":6,\"G\":7}\n",
    "X_train_cat_le[\"loan_grade\"]=data[\"loan_grade\"].apply(lambda x: map_dict[x])"
   ]
  },
  {
   "cell_type": "code",
   "execution_count": 133,
   "id": "cc560dd7",
   "metadata": {
    "ExecuteTime": {
     "end_time": "2023-02-14T05:44:08.819463Z",
     "start_time": "2023-02-14T05:44:08.785544Z"
    }
   },
   "outputs": [
    {
     "data": {
      "text/html": [
       "<div>\n",
       "<style scoped>\n",
       "    .dataframe tbody tr th:only-of-type {\n",
       "        vertical-align: middle;\n",
       "    }\n",
       "\n",
       "    .dataframe tbody tr th {\n",
       "        vertical-align: top;\n",
       "    }\n",
       "\n",
       "    .dataframe thead th {\n",
       "        text-align: right;\n",
       "    }\n",
       "</style>\n",
       "<table border=\"1\" class=\"dataframe\">\n",
       "  <thead>\n",
       "    <tr style=\"text-align: right;\">\n",
       "      <th></th>\n",
       "      <th>loan_grade</th>\n",
       "    </tr>\n",
       "  </thead>\n",
       "  <tbody>\n",
       "    <tr>\n",
       "      <th>533</th>\n",
       "      <td>4</td>\n",
       "    </tr>\n",
       "    <tr>\n",
       "      <th>5603</th>\n",
       "      <td>2</td>\n",
       "    </tr>\n",
       "    <tr>\n",
       "      <th>14046</th>\n",
       "      <td>4</td>\n",
       "    </tr>\n",
       "    <tr>\n",
       "      <th>23911</th>\n",
       "      <td>1</td>\n",
       "    </tr>\n",
       "    <tr>\n",
       "      <th>1243</th>\n",
       "      <td>3</td>\n",
       "    </tr>\n",
       "    <tr>\n",
       "      <th>...</th>\n",
       "      <td>...</td>\n",
       "    </tr>\n",
       "    <tr>\n",
       "      <th>12119</th>\n",
       "      <td>1</td>\n",
       "    </tr>\n",
       "    <tr>\n",
       "      <th>24545</th>\n",
       "      <td>2</td>\n",
       "    </tr>\n",
       "    <tr>\n",
       "      <th>14147</th>\n",
       "      <td>1</td>\n",
       "    </tr>\n",
       "    <tr>\n",
       "      <th>23442</th>\n",
       "      <td>3</td>\n",
       "    </tr>\n",
       "    <tr>\n",
       "      <th>5640</th>\n",
       "      <td>2</td>\n",
       "    </tr>\n",
       "  </tbody>\n",
       "</table>\n",
       "<p>25932 rows × 1 columns</p>\n",
       "</div>"
      ],
      "text/plain": [
       "       loan_grade\n",
       "533             4\n",
       "5603            2\n",
       "14046           4\n",
       "23911           1\n",
       "1243            3\n",
       "...           ...\n",
       "12119           1\n",
       "24545           2\n",
       "14147           1\n",
       "23442           3\n",
       "5640            2\n",
       "\n",
       "[25932 rows x 1 columns]"
      ]
     },
     "execution_count": 133,
     "metadata": {},
     "output_type": "execute_result"
    }
   ],
   "source": [
    "X_train_cat_le"
   ]
  },
  {
   "cell_type": "code",
   "execution_count": 134,
   "id": "ff2dce5f",
   "metadata": {
    "ExecuteTime": {
     "end_time": "2023-02-14T05:44:08.868916Z",
     "start_time": "2023-02-14T05:44:08.819463Z"
    }
   },
   "outputs": [
    {
     "data": {
      "text/html": [
       "<div>\n",
       "<style scoped>\n",
       "    .dataframe tbody tr th:only-of-type {\n",
       "        vertical-align: middle;\n",
       "    }\n",
       "\n",
       "    .dataframe tbody tr th {\n",
       "        vertical-align: top;\n",
       "    }\n",
       "\n",
       "    .dataframe thead th {\n",
       "        text-align: right;\n",
       "    }\n",
       "</style>\n",
       "<table border=\"1\" class=\"dataframe\">\n",
       "  <thead>\n",
       "    <tr style=\"text-align: right;\">\n",
       "      <th></th>\n",
       "      <th>person_home_ownership_OTHER</th>\n",
       "      <th>person_home_ownership_OWN</th>\n",
       "      <th>person_home_ownership_RENT</th>\n",
       "      <th>loan_intent_EDUCATION</th>\n",
       "      <th>loan_intent_HOMEIMPROVEMENT</th>\n",
       "      <th>loan_intent_MEDICAL</th>\n",
       "      <th>loan_intent_PERSONAL</th>\n",
       "      <th>loan_intent_VENTURE</th>\n",
       "      <th>cb_person_default_on_file_Y</th>\n",
       "      <th>loan_grade</th>\n",
       "    </tr>\n",
       "  </thead>\n",
       "  <tbody>\n",
       "    <tr>\n",
       "      <th>533</th>\n",
       "      <td>0.0</td>\n",
       "      <td>0.0</td>\n",
       "      <td>1.0</td>\n",
       "      <td>1.0</td>\n",
       "      <td>0.0</td>\n",
       "      <td>0.0</td>\n",
       "      <td>0.0</td>\n",
       "      <td>0.0</td>\n",
       "      <td>1.0</td>\n",
       "      <td>4</td>\n",
       "    </tr>\n",
       "    <tr>\n",
       "      <th>5603</th>\n",
       "      <td>0.0</td>\n",
       "      <td>0.0</td>\n",
       "      <td>0.0</td>\n",
       "      <td>0.0</td>\n",
       "      <td>0.0</td>\n",
       "      <td>0.0</td>\n",
       "      <td>1.0</td>\n",
       "      <td>0.0</td>\n",
       "      <td>0.0</td>\n",
       "      <td>2</td>\n",
       "    </tr>\n",
       "    <tr>\n",
       "      <th>14046</th>\n",
       "      <td>0.0</td>\n",
       "      <td>1.0</td>\n",
       "      <td>0.0</td>\n",
       "      <td>0.0</td>\n",
       "      <td>0.0</td>\n",
       "      <td>0.0</td>\n",
       "      <td>0.0</td>\n",
       "      <td>0.0</td>\n",
       "      <td>1.0</td>\n",
       "      <td>4</td>\n",
       "    </tr>\n",
       "    <tr>\n",
       "      <th>23911</th>\n",
       "      <td>0.0</td>\n",
       "      <td>0.0</td>\n",
       "      <td>1.0</td>\n",
       "      <td>0.0</td>\n",
       "      <td>0.0</td>\n",
       "      <td>1.0</td>\n",
       "      <td>0.0</td>\n",
       "      <td>0.0</td>\n",
       "      <td>0.0</td>\n",
       "      <td>1</td>\n",
       "    </tr>\n",
       "    <tr>\n",
       "      <th>1243</th>\n",
       "      <td>0.0</td>\n",
       "      <td>0.0</td>\n",
       "      <td>1.0</td>\n",
       "      <td>0.0</td>\n",
       "      <td>0.0</td>\n",
       "      <td>0.0</td>\n",
       "      <td>0.0</td>\n",
       "      <td>1.0</td>\n",
       "      <td>1.0</td>\n",
       "      <td>3</td>\n",
       "    </tr>\n",
       "    <tr>\n",
       "      <th>...</th>\n",
       "      <td>...</td>\n",
       "      <td>...</td>\n",
       "      <td>...</td>\n",
       "      <td>...</td>\n",
       "      <td>...</td>\n",
       "      <td>...</td>\n",
       "      <td>...</td>\n",
       "      <td>...</td>\n",
       "      <td>...</td>\n",
       "      <td>...</td>\n",
       "    </tr>\n",
       "    <tr>\n",
       "      <th>12119</th>\n",
       "      <td>0.0</td>\n",
       "      <td>0.0</td>\n",
       "      <td>0.0</td>\n",
       "      <td>0.0</td>\n",
       "      <td>1.0</td>\n",
       "      <td>0.0</td>\n",
       "      <td>0.0</td>\n",
       "      <td>0.0</td>\n",
       "      <td>0.0</td>\n",
       "      <td>1</td>\n",
       "    </tr>\n",
       "    <tr>\n",
       "      <th>24545</th>\n",
       "      <td>0.0</td>\n",
       "      <td>0.0</td>\n",
       "      <td>1.0</td>\n",
       "      <td>0.0</td>\n",
       "      <td>0.0</td>\n",
       "      <td>0.0</td>\n",
       "      <td>1.0</td>\n",
       "      <td>0.0</td>\n",
       "      <td>0.0</td>\n",
       "      <td>2</td>\n",
       "    </tr>\n",
       "    <tr>\n",
       "      <th>14147</th>\n",
       "      <td>0.0</td>\n",
       "      <td>0.0</td>\n",
       "      <td>0.0</td>\n",
       "      <td>0.0</td>\n",
       "      <td>0.0</td>\n",
       "      <td>0.0</td>\n",
       "      <td>1.0</td>\n",
       "      <td>0.0</td>\n",
       "      <td>0.0</td>\n",
       "      <td>1</td>\n",
       "    </tr>\n",
       "    <tr>\n",
       "      <th>23442</th>\n",
       "      <td>0.0</td>\n",
       "      <td>1.0</td>\n",
       "      <td>0.0</td>\n",
       "      <td>0.0</td>\n",
       "      <td>0.0</td>\n",
       "      <td>0.0</td>\n",
       "      <td>0.0</td>\n",
       "      <td>1.0</td>\n",
       "      <td>1.0</td>\n",
       "      <td>3</td>\n",
       "    </tr>\n",
       "    <tr>\n",
       "      <th>5640</th>\n",
       "      <td>0.0</td>\n",
       "      <td>0.0</td>\n",
       "      <td>1.0</td>\n",
       "      <td>0.0</td>\n",
       "      <td>0.0</td>\n",
       "      <td>0.0</td>\n",
       "      <td>0.0</td>\n",
       "      <td>1.0</td>\n",
       "      <td>0.0</td>\n",
       "      <td>2</td>\n",
       "    </tr>\n",
       "  </tbody>\n",
       "</table>\n",
       "<p>25932 rows × 10 columns</p>\n",
       "</div>"
      ],
      "text/plain": [
       "       person_home_ownership_OTHER  person_home_ownership_OWN  \\\n",
       "533                            0.0                        0.0   \n",
       "5603                           0.0                        0.0   \n",
       "14046                          0.0                        1.0   \n",
       "23911                          0.0                        0.0   \n",
       "1243                           0.0                        0.0   \n",
       "...                            ...                        ...   \n",
       "12119                          0.0                        0.0   \n",
       "24545                          0.0                        0.0   \n",
       "14147                          0.0                        0.0   \n",
       "23442                          0.0                        1.0   \n",
       "5640                           0.0                        0.0   \n",
       "\n",
       "       person_home_ownership_RENT  loan_intent_EDUCATION  \\\n",
       "533                           1.0                    1.0   \n",
       "5603                          0.0                    0.0   \n",
       "14046                         0.0                    0.0   \n",
       "23911                         1.0                    0.0   \n",
       "1243                          1.0                    0.0   \n",
       "...                           ...                    ...   \n",
       "12119                         0.0                    0.0   \n",
       "24545                         1.0                    0.0   \n",
       "14147                         0.0                    0.0   \n",
       "23442                         0.0                    0.0   \n",
       "5640                          1.0                    0.0   \n",
       "\n",
       "       loan_intent_HOMEIMPROVEMENT  loan_intent_MEDICAL  loan_intent_PERSONAL  \\\n",
       "533                            0.0                  0.0                   0.0   \n",
       "5603                           0.0                  0.0                   1.0   \n",
       "14046                          0.0                  0.0                   0.0   \n",
       "23911                          0.0                  1.0                   0.0   \n",
       "1243                           0.0                  0.0                   0.0   \n",
       "...                            ...                  ...                   ...   \n",
       "12119                          1.0                  0.0                   0.0   \n",
       "24545                          0.0                  0.0                   1.0   \n",
       "14147                          0.0                  0.0                   1.0   \n",
       "23442                          0.0                  0.0                   0.0   \n",
       "5640                           0.0                  0.0                   0.0   \n",
       "\n",
       "       loan_intent_VENTURE  cb_person_default_on_file_Y  loan_grade  \n",
       "533                    0.0                          1.0           4  \n",
       "5603                   0.0                          0.0           2  \n",
       "14046                  0.0                          1.0           4  \n",
       "23911                  0.0                          0.0           1  \n",
       "1243                   1.0                          1.0           3  \n",
       "...                    ...                          ...         ...  \n",
       "12119                  0.0                          0.0           1  \n",
       "24545                  0.0                          0.0           2  \n",
       "14147                  0.0                          0.0           1  \n",
       "23442                  1.0                          1.0           3  \n",
       "5640                   1.0                          0.0           2  \n",
       "\n",
       "[25932 rows x 10 columns]"
      ]
     },
     "execution_count": 134,
     "metadata": {},
     "output_type": "execute_result"
    }
   ],
   "source": [
    "X_train_cat_tran=pd.concat([X_train_cat_one_tran,X_train_cat_le],axis=1)\n",
    "X_train_cat_tran"
   ]
  },
  {
   "cell_type": "code",
   "execution_count": 135,
   "id": "f1e7a59c",
   "metadata": {
    "ExecuteTime": {
     "end_time": "2023-02-14T05:44:08.936246Z",
     "start_time": "2023-02-14T05:44:08.868916Z"
    }
   },
   "outputs": [
    {
     "data": {
      "text/html": [
       "<div>\n",
       "<style scoped>\n",
       "    .dataframe tbody tr th:only-of-type {\n",
       "        vertical-align: middle;\n",
       "    }\n",
       "\n",
       "    .dataframe tbody tr th {\n",
       "        vertical-align: top;\n",
       "    }\n",
       "\n",
       "    .dataframe thead th {\n",
       "        text-align: right;\n",
       "    }\n",
       "</style>\n",
       "<table border=\"1\" class=\"dataframe\">\n",
       "  <thead>\n",
       "    <tr style=\"text-align: right;\">\n",
       "      <th></th>\n",
       "      <th>person_home_ownership_OTHER</th>\n",
       "      <th>person_home_ownership_OWN</th>\n",
       "      <th>person_home_ownership_RENT</th>\n",
       "      <th>loan_intent_EDUCATION</th>\n",
       "      <th>loan_intent_HOMEIMPROVEMENT</th>\n",
       "      <th>loan_intent_MEDICAL</th>\n",
       "      <th>loan_intent_PERSONAL</th>\n",
       "      <th>loan_intent_VENTURE</th>\n",
       "      <th>cb_person_default_on_file_Y</th>\n",
       "      <th>loan_grade</th>\n",
       "      <th>person_age_tran</th>\n",
       "      <th>person_income_tran</th>\n",
       "      <th>person_emp_length</th>\n",
       "      <th>loan_int_tran</th>\n",
       "      <th>loan_amt_tran</th>\n",
       "      <th>loan_percent_tran</th>\n",
       "      <th>cred_hist_tran</th>\n",
       "    </tr>\n",
       "  </thead>\n",
       "  <tbody>\n",
       "    <tr>\n",
       "      <th>533</th>\n",
       "      <td>0.0</td>\n",
       "      <td>0.0</td>\n",
       "      <td>1.0</td>\n",
       "      <td>1.0</td>\n",
       "      <td>0.0</td>\n",
       "      <td>0.0</td>\n",
       "      <td>0.0</td>\n",
       "      <td>0.0</td>\n",
       "      <td>1.0</td>\n",
       "      <td>4</td>\n",
       "      <td>-0.589172</td>\n",
       "      <td>1.284901</td>\n",
       "      <td>0.054592</td>\n",
       "      <td>1.316540</td>\n",
       "      <td>1.600607</td>\n",
       "      <td>0.392800</td>\n",
       "      <td>-0.718479</td>\n",
       "    </tr>\n",
       "    <tr>\n",
       "      <th>5603</th>\n",
       "      <td>0.0</td>\n",
       "      <td>0.0</td>\n",
       "      <td>0.0</td>\n",
       "      <td>0.0</td>\n",
       "      <td>0.0</td>\n",
       "      <td>0.0</td>\n",
       "      <td>1.0</td>\n",
       "      <td>0.0</td>\n",
       "      <td>0.0</td>\n",
       "      <td>2</td>\n",
       "      <td>-1.807254</td>\n",
       "      <td>-0.350797</td>\n",
       "      <td>-1.179233</td>\n",
       "      <td>0.010275</td>\n",
       "      <td>0.562778</td>\n",
       "      <td>0.933175</td>\n",
       "      <td>-1.361317</td>\n",
       "    </tr>\n",
       "    <tr>\n",
       "      <th>14046</th>\n",
       "      <td>0.0</td>\n",
       "      <td>1.0</td>\n",
       "      <td>0.0</td>\n",
       "      <td>0.0</td>\n",
       "      <td>0.0</td>\n",
       "      <td>0.0</td>\n",
       "      <td>0.0</td>\n",
       "      <td>0.0</td>\n",
       "      <td>1.0</td>\n",
       "      <td>4</td>\n",
       "      <td>-1.337804</td>\n",
       "      <td>-1.021627</td>\n",
       "      <td>-1.179233</td>\n",
       "      <td>1.164748</td>\n",
       "      <td>-0.940956</td>\n",
       "      <td>-0.189785</td>\n",
       "      <td>-1.361317</td>\n",
       "    </tr>\n",
       "    <tr>\n",
       "      <th>23911</th>\n",
       "      <td>0.0</td>\n",
       "      <td>0.0</td>\n",
       "      <td>1.0</td>\n",
       "      <td>0.0</td>\n",
       "      <td>0.0</td>\n",
       "      <td>1.0</td>\n",
       "      <td>0.0</td>\n",
       "      <td>0.0</td>\n",
       "      <td>0.0</td>\n",
       "      <td>1</td>\n",
       "      <td>1.234256</td>\n",
       "      <td>-1.429764</td>\n",
       "      <td>-1.179233</td>\n",
       "      <td>-1.246522</td>\n",
       "      <td>0.318319</td>\n",
       "      <td>1.773713</td>\n",
       "      <td>1.023298</td>\n",
       "    </tr>\n",
       "    <tr>\n",
       "      <th>1243</th>\n",
       "      <td>0.0</td>\n",
       "      <td>0.0</td>\n",
       "      <td>1.0</td>\n",
       "      <td>0.0</td>\n",
       "      <td>0.0</td>\n",
       "      <td>0.0</td>\n",
       "      <td>0.0</td>\n",
       "      <td>1.0</td>\n",
       "      <td>1.0</td>\n",
       "      <td>3</td>\n",
       "      <td>-1.337804</td>\n",
       "      <td>-0.643536</td>\n",
       "      <td>-0.192173</td>\n",
       "      <td>0.261679</td>\n",
       "      <td>1.078020</td>\n",
       "      <td>1.876746</td>\n",
       "      <td>-0.718479</td>\n",
       "    </tr>\n",
       "    <tr>\n",
       "      <th>...</th>\n",
       "      <td>...</td>\n",
       "      <td>...</td>\n",
       "      <td>...</td>\n",
       "      <td>...</td>\n",
       "      <td>...</td>\n",
       "      <td>...</td>\n",
       "      <td>...</td>\n",
       "      <td>...</td>\n",
       "      <td>...</td>\n",
       "      <td>...</td>\n",
       "      <td>...</td>\n",
       "      <td>...</td>\n",
       "      <td>...</td>\n",
       "      <td>...</td>\n",
       "      <td>...</td>\n",
       "      <td>...</td>\n",
       "      <td>...</td>\n",
       "    </tr>\n",
       "    <tr>\n",
       "      <th>12119</th>\n",
       "      <td>0.0</td>\n",
       "      <td>0.0</td>\n",
       "      <td>0.0</td>\n",
       "      <td>0.0</td>\n",
       "      <td>1.0</td>\n",
       "      <td>0.0</td>\n",
       "      <td>0.0</td>\n",
       "      <td>0.0</td>\n",
       "      <td>0.0</td>\n",
       "      <td>1</td>\n",
       "      <td>-0.589172</td>\n",
       "      <td>0.651942</td>\n",
       "      <td>0.794888</td>\n",
       "      <td>-0.999041</td>\n",
       "      <td>1.281984</td>\n",
       "      <td>0.715204</td>\n",
       "      <td>-1.361317</td>\n",
       "    </tr>\n",
       "    <tr>\n",
       "      <th>24545</th>\n",
       "      <td>0.0</td>\n",
       "      <td>0.0</td>\n",
       "      <td>1.0</td>\n",
       "      <td>0.0</td>\n",
       "      <td>0.0</td>\n",
       "      <td>0.0</td>\n",
       "      <td>1.0</td>\n",
       "      <td>0.0</td>\n",
       "      <td>0.0</td>\n",
       "      <td>2</td>\n",
       "      <td>1.327857</td>\n",
       "      <td>0.151421</td>\n",
       "      <td>0.548123</td>\n",
       "      <td>0.128048</td>\n",
       "      <td>0.318319</td>\n",
       "      <td>0.214350</td>\n",
       "      <td>1.023298</td>\n",
       "    </tr>\n",
       "    <tr>\n",
       "      <th>14147</th>\n",
       "      <td>0.0</td>\n",
       "      <td>0.0</td>\n",
       "      <td>0.0</td>\n",
       "      <td>0.0</td>\n",
       "      <td>0.0</td>\n",
       "      <td>0.0</td>\n",
       "      <td>1.0</td>\n",
       "      <td>0.0</td>\n",
       "      <td>0.0</td>\n",
       "      <td>1</td>\n",
       "      <td>-0.935783</td>\n",
       "      <td>1.033873</td>\n",
       "      <td>-1.179233</td>\n",
       "      <td>-0.734009</td>\n",
       "      <td>-0.204479</td>\n",
       "      <td>-0.995316</td>\n",
       "      <td>-0.718479</td>\n",
       "    </tr>\n",
       "    <tr>\n",
       "      <th>23442</th>\n",
       "      <td>0.0</td>\n",
       "      <td>1.0</td>\n",
       "      <td>0.0</td>\n",
       "      <td>0.0</td>\n",
       "      <td>0.0</td>\n",
       "      <td>0.0</td>\n",
       "      <td>0.0</td>\n",
       "      <td>1.0</td>\n",
       "      <td>1.0</td>\n",
       "      <td>3</td>\n",
       "      <td>0.888408</td>\n",
       "      <td>0.223008</td>\n",
       "      <td>-1.179233</td>\n",
       "      <td>0.946901</td>\n",
       "      <td>-1.283335</td>\n",
       "      <td>-1.368230</td>\n",
       "      <td>0.091401</td>\n",
       "    </tr>\n",
       "    <tr>\n",
       "      <th>5640</th>\n",
       "      <td>0.0</td>\n",
       "      <td>0.0</td>\n",
       "      <td>1.0</td>\n",
       "      <td>0.0</td>\n",
       "      <td>0.0</td>\n",
       "      <td>0.0</td>\n",
       "      <td>0.0</td>\n",
       "      <td>1.0</td>\n",
       "      <td>0.0</td>\n",
       "      <td>2</td>\n",
       "      <td>-0.589172</td>\n",
       "      <td>0.854219</td>\n",
       "      <td>0.054592</td>\n",
       "      <td>-0.237024</td>\n",
       "      <td>-0.658900</td>\n",
       "      <td>-1.171360</td>\n",
       "      <td>-0.718479</td>\n",
       "    </tr>\n",
       "  </tbody>\n",
       "</table>\n",
       "<p>25932 rows × 17 columns</p>\n",
       "</div>"
      ],
      "text/plain": [
       "       person_home_ownership_OTHER  person_home_ownership_OWN  \\\n",
       "533                            0.0                        0.0   \n",
       "5603                           0.0                        0.0   \n",
       "14046                          0.0                        1.0   \n",
       "23911                          0.0                        0.0   \n",
       "1243                           0.0                        0.0   \n",
       "...                            ...                        ...   \n",
       "12119                          0.0                        0.0   \n",
       "24545                          0.0                        0.0   \n",
       "14147                          0.0                        0.0   \n",
       "23442                          0.0                        1.0   \n",
       "5640                           0.0                        0.0   \n",
       "\n",
       "       person_home_ownership_RENT  loan_intent_EDUCATION  \\\n",
       "533                           1.0                    1.0   \n",
       "5603                          0.0                    0.0   \n",
       "14046                         0.0                    0.0   \n",
       "23911                         1.0                    0.0   \n",
       "1243                          1.0                    0.0   \n",
       "...                           ...                    ...   \n",
       "12119                         0.0                    0.0   \n",
       "24545                         1.0                    0.0   \n",
       "14147                         0.0                    0.0   \n",
       "23442                         0.0                    0.0   \n",
       "5640                          1.0                    0.0   \n",
       "\n",
       "       loan_intent_HOMEIMPROVEMENT  loan_intent_MEDICAL  loan_intent_PERSONAL  \\\n",
       "533                            0.0                  0.0                   0.0   \n",
       "5603                           0.0                  0.0                   1.0   \n",
       "14046                          0.0                  0.0                   0.0   \n",
       "23911                          0.0                  1.0                   0.0   \n",
       "1243                           0.0                  0.0                   0.0   \n",
       "...                            ...                  ...                   ...   \n",
       "12119                          1.0                  0.0                   0.0   \n",
       "24545                          0.0                  0.0                   1.0   \n",
       "14147                          0.0                  0.0                   1.0   \n",
       "23442                          0.0                  0.0                   0.0   \n",
       "5640                           0.0                  0.0                   0.0   \n",
       "\n",
       "       loan_intent_VENTURE  cb_person_default_on_file_Y  loan_grade  \\\n",
       "533                    0.0                          1.0           4   \n",
       "5603                   0.0                          0.0           2   \n",
       "14046                  0.0                          1.0           4   \n",
       "23911                  0.0                          0.0           1   \n",
       "1243                   1.0                          1.0           3   \n",
       "...                    ...                          ...         ...   \n",
       "12119                  0.0                          0.0           1   \n",
       "24545                  0.0                          0.0           2   \n",
       "14147                  0.0                          0.0           1   \n",
       "23442                  1.0                          1.0           3   \n",
       "5640                   1.0                          0.0           2   \n",
       "\n",
       "       person_age_tran  person_income_tran  person_emp_length  loan_int_tran  \\\n",
       "533          -0.589172            1.284901           0.054592       1.316540   \n",
       "5603         -1.807254           -0.350797          -1.179233       0.010275   \n",
       "14046        -1.337804           -1.021627          -1.179233       1.164748   \n",
       "23911         1.234256           -1.429764          -1.179233      -1.246522   \n",
       "1243         -1.337804           -0.643536          -0.192173       0.261679   \n",
       "...                ...                 ...                ...            ...   \n",
       "12119        -0.589172            0.651942           0.794888      -0.999041   \n",
       "24545         1.327857            0.151421           0.548123       0.128048   \n",
       "14147        -0.935783            1.033873          -1.179233      -0.734009   \n",
       "23442         0.888408            0.223008          -1.179233       0.946901   \n",
       "5640         -0.589172            0.854219           0.054592      -0.237024   \n",
       "\n",
       "       loan_amt_tran  loan_percent_tran  cred_hist_tran  \n",
       "533         1.600607           0.392800       -0.718479  \n",
       "5603        0.562778           0.933175       -1.361317  \n",
       "14046      -0.940956          -0.189785       -1.361317  \n",
       "23911       0.318319           1.773713        1.023298  \n",
       "1243        1.078020           1.876746       -0.718479  \n",
       "...              ...                ...             ...  \n",
       "12119       1.281984           0.715204       -1.361317  \n",
       "24545       0.318319           0.214350        1.023298  \n",
       "14147      -0.204479          -0.995316       -0.718479  \n",
       "23442      -1.283335          -1.368230        0.091401  \n",
       "5640       -0.658900          -1.171360       -0.718479  \n",
       "\n",
       "[25932 rows x 17 columns]"
      ]
     },
     "execution_count": 135,
     "metadata": {},
     "output_type": "execute_result"
    }
   ],
   "source": [
    "X_train_tran=pd.concat([X_train_cat_tran,X_train_ntran],axis=1)\n",
    "X_train_tran"
   ]
  },
  {
   "cell_type": "markdown",
   "id": "f5a201b0",
   "metadata": {},
   "source": [
    "### TEST DATASET"
   ]
  },
  {
   "cell_type": "code",
   "execution_count": 136,
   "id": "230a023e",
   "metadata": {
    "ExecuteTime": {
     "end_time": "2023-02-14T05:44:08.952911Z",
     "start_time": "2023-02-14T05:44:08.936246Z"
    }
   },
   "outputs": [],
   "source": [
    "X_test_num=X_test.select_dtypes(include=[\"int64\",\"float64\"])\n",
    "X_test_cat=X_test.select_dtypes(include=[\"object\"])"
   ]
  },
  {
   "cell_type": "code",
   "execution_count": 137,
   "id": "27c58644",
   "metadata": {
    "ExecuteTime": {
     "end_time": "2023-02-14T05:44:08.968864Z",
     "start_time": "2023-02-14T05:44:08.952911Z"
    }
   },
   "outputs": [],
   "source": [
    "X_test_ntran=pd.DataFrame(scaler.transform(X_test_num),columns=X_test_num.columns,index=X_test_num.index)"
   ]
  },
  {
   "cell_type": "code",
   "execution_count": 138,
   "id": "fdc6cab6",
   "metadata": {
    "ExecuteTime": {
     "end_time": "2023-02-14T05:44:09.002986Z",
     "start_time": "2023-02-14T05:44:08.968864Z"
    }
   },
   "outputs": [
    {
     "data": {
      "text/html": [
       "<div>\n",
       "<style scoped>\n",
       "    .dataframe tbody tr th:only-of-type {\n",
       "        vertical-align: middle;\n",
       "    }\n",
       "\n",
       "    .dataframe tbody tr th {\n",
       "        vertical-align: top;\n",
       "    }\n",
       "\n",
       "    .dataframe thead th {\n",
       "        text-align: right;\n",
       "    }\n",
       "</style>\n",
       "<table border=\"1\" class=\"dataframe\">\n",
       "  <thead>\n",
       "    <tr style=\"text-align: right;\">\n",
       "      <th></th>\n",
       "      <th>person_age_tran</th>\n",
       "      <th>person_income_tran</th>\n",
       "      <th>person_emp_length</th>\n",
       "      <th>loan_int_tran</th>\n",
       "      <th>loan_amt_tran</th>\n",
       "      <th>loan_percent_tran</th>\n",
       "      <th>cred_hist_tran</th>\n",
       "    </tr>\n",
       "  </thead>\n",
       "  <tbody>\n",
       "    <tr>\n",
       "      <th>25666</th>\n",
       "      <td>1.130781</td>\n",
       "      <td>1.195349</td>\n",
       "      <td>-0.438938</td>\n",
       "      <td>-0.018780</td>\n",
       "      <td>0.603054</td>\n",
       "      <td>-0.423789</td>\n",
       "      <td>0.091401</td>\n",
       "    </tr>\n",
       "    <tr>\n",
       "      <th>18151</th>\n",
       "      <td>0.888408</td>\n",
       "      <td>1.920462</td>\n",
       "      <td>2.522243</td>\n",
       "      <td>0.829230</td>\n",
       "      <td>0.318319</td>\n",
       "      <td>-1.171360</td>\n",
       "      <td>0.836560</td>\n",
       "    </tr>\n",
       "    <tr>\n",
       "      <th>24159</th>\n",
       "      <td>0.888408</td>\n",
       "      <td>0.420766</td>\n",
       "      <td>-0.192173</td>\n",
       "      <td>-1.407749</td>\n",
       "      <td>0.603054</td>\n",
       "      <td>0.214350</td>\n",
       "      <td>0.624855</td>\n",
       "    </tr>\n",
       "    <tr>\n",
       "      <th>57</th>\n",
       "      <td>-0.935783</td>\n",
       "      <td>2.709993</td>\n",
       "      <td>-0.438938</td>\n",
       "      <td>0.090142</td>\n",
       "      <td>2.546259</td>\n",
       "      <td>-0.189785</td>\n",
       "      <td>-0.262378</td>\n",
       "    </tr>\n",
       "    <tr>\n",
       "      <th>9770</th>\n",
       "      <td>-1.337804</td>\n",
       "      <td>-1.362723</td>\n",
       "      <td>-0.932468</td>\n",
       "      <td>-0.038242</td>\n",
       "      <td>0.159278</td>\n",
       "      <td>1.500148</td>\n",
       "      <td>-1.361317</td>\n",
       "    </tr>\n",
       "    <tr>\n",
       "      <th>...</th>\n",
       "      <td>...</td>\n",
       "      <td>...</td>\n",
       "      <td>...</td>\n",
       "      <td>...</td>\n",
       "      <td>...</td>\n",
       "      <td>...</td>\n",
       "      <td>...</td>\n",
       "    </tr>\n",
       "    <tr>\n",
       "      <th>15014</th>\n",
       "      <td>-0.589172</td>\n",
       "      <td>0.888078</td>\n",
       "      <td>0.794888</td>\n",
       "      <td>1.562720</td>\n",
       "      <td>0.968642</td>\n",
       "      <td>-0.081731</td>\n",
       "      <td>-1.361317</td>\n",
       "    </tr>\n",
       "    <tr>\n",
       "      <th>23449</th>\n",
       "      <td>1.016045</td>\n",
       "      <td>-1.943962</td>\n",
       "      <td>-0.932468</td>\n",
       "      <td>-1.534813</td>\n",
       "      <td>0.044117</td>\n",
       "      <td>1.976558</td>\n",
       "      <td>1.023298</td>\n",
       "    </tr>\n",
       "    <tr>\n",
       "      <th>14852</th>\n",
       "      <td>-1.337804</td>\n",
       "      <td>1.299346</td>\n",
       "      <td>0.301358</td>\n",
       "      <td>-1.403431</td>\n",
       "      <td>0.465637</td>\n",
       "      <td>-0.688186</td>\n",
       "      <td>-0.262378</td>\n",
       "    </tr>\n",
       "    <tr>\n",
       "      <th>32509</th>\n",
       "      <td>2.205059</td>\n",
       "      <td>0.946635</td>\n",
       "      <td>0.301358</td>\n",
       "      <td>0.273940</td>\n",
       "      <td>0.603054</td>\n",
       "      <td>-0.189785</td>\n",
       "      <td>2.289278</td>\n",
       "    </tr>\n",
       "    <tr>\n",
       "      <th>21029</th>\n",
       "      <td>0.586305</td>\n",
       "      <td>-0.358411</td>\n",
       "      <td>-0.192173</td>\n",
       "      <td>2.069428</td>\n",
       "      <td>0.968642</td>\n",
       "      <td>1.383413</td>\n",
       "      <td>0.380460</td>\n",
       "    </tr>\n",
       "  </tbody>\n",
       "</table>\n",
       "<p>6484 rows × 7 columns</p>\n",
       "</div>"
      ],
      "text/plain": [
       "       person_age_tran  person_income_tran  person_emp_length  loan_int_tran  \\\n",
       "25666         1.130781            1.195349          -0.438938      -0.018780   \n",
       "18151         0.888408            1.920462           2.522243       0.829230   \n",
       "24159         0.888408            0.420766          -0.192173      -1.407749   \n",
       "57           -0.935783            2.709993          -0.438938       0.090142   \n",
       "9770         -1.337804           -1.362723          -0.932468      -0.038242   \n",
       "...                ...                 ...                ...            ...   \n",
       "15014        -0.589172            0.888078           0.794888       1.562720   \n",
       "23449         1.016045           -1.943962          -0.932468      -1.534813   \n",
       "14852        -1.337804            1.299346           0.301358      -1.403431   \n",
       "32509         2.205059            0.946635           0.301358       0.273940   \n",
       "21029         0.586305           -0.358411          -0.192173       2.069428   \n",
       "\n",
       "       loan_amt_tran  loan_percent_tran  cred_hist_tran  \n",
       "25666       0.603054          -0.423789        0.091401  \n",
       "18151       0.318319          -1.171360        0.836560  \n",
       "24159       0.603054           0.214350        0.624855  \n",
       "57          2.546259          -0.189785       -0.262378  \n",
       "9770        0.159278           1.500148       -1.361317  \n",
       "...              ...                ...             ...  \n",
       "15014       0.968642          -0.081731       -1.361317  \n",
       "23449       0.044117           1.976558        1.023298  \n",
       "14852       0.465637          -0.688186       -0.262378  \n",
       "32509       0.603054          -0.189785        2.289278  \n",
       "21029       0.968642           1.383413        0.380460  \n",
       "\n",
       "[6484 rows x 7 columns]"
      ]
     },
     "execution_count": 138,
     "metadata": {},
     "output_type": "execute_result"
    }
   ],
   "source": [
    "X_test_ntran"
   ]
  },
  {
   "cell_type": "code",
   "execution_count": 139,
   "id": "f4853f29",
   "metadata": {
    "ExecuteTime": {
     "end_time": "2023-02-14T05:44:09.036229Z",
     "start_time": "2023-02-14T05:44:09.002986Z"
    }
   },
   "outputs": [
    {
     "data": {
      "text/html": [
       "<div>\n",
       "<style scoped>\n",
       "    .dataframe tbody tr th:only-of-type {\n",
       "        vertical-align: middle;\n",
       "    }\n",
       "\n",
       "    .dataframe tbody tr th {\n",
       "        vertical-align: top;\n",
       "    }\n",
       "\n",
       "    .dataframe thead th {\n",
       "        text-align: right;\n",
       "    }\n",
       "</style>\n",
       "<table border=\"1\" class=\"dataframe\">\n",
       "  <thead>\n",
       "    <tr style=\"text-align: right;\">\n",
       "      <th></th>\n",
       "      <th>person_home_ownership</th>\n",
       "      <th>loan_intent</th>\n",
       "      <th>loan_grade</th>\n",
       "      <th>cb_person_default_on_file</th>\n",
       "    </tr>\n",
       "  </thead>\n",
       "  <tbody>\n",
       "    <tr>\n",
       "      <th>25666</th>\n",
       "      <td>RENT</td>\n",
       "      <td>HOMEIMPROVEMENT</td>\n",
       "      <td>B</td>\n",
       "      <td>N</td>\n",
       "    </tr>\n",
       "    <tr>\n",
       "      <th>18151</th>\n",
       "      <td>MORTGAGE</td>\n",
       "      <td>PERSONAL</td>\n",
       "      <td>C</td>\n",
       "      <td>Y</td>\n",
       "    </tr>\n",
       "    <tr>\n",
       "      <th>24159</th>\n",
       "      <td>MORTGAGE</td>\n",
       "      <td>MEDICAL</td>\n",
       "      <td>A</td>\n",
       "      <td>N</td>\n",
       "    </tr>\n",
       "    <tr>\n",
       "      <th>57</th>\n",
       "      <td>OWN</td>\n",
       "      <td>PERSONAL</td>\n",
       "      <td>A</td>\n",
       "      <td>N</td>\n",
       "    </tr>\n",
       "    <tr>\n",
       "      <th>9770</th>\n",
       "      <td>RENT</td>\n",
       "      <td>MEDICAL</td>\n",
       "      <td>C</td>\n",
       "      <td>N</td>\n",
       "    </tr>\n",
       "    <tr>\n",
       "      <th>...</th>\n",
       "      <td>...</td>\n",
       "      <td>...</td>\n",
       "      <td>...</td>\n",
       "      <td>...</td>\n",
       "    </tr>\n",
       "    <tr>\n",
       "      <th>15014</th>\n",
       "      <td>MORTGAGE</td>\n",
       "      <td>MEDICAL</td>\n",
       "      <td>D</td>\n",
       "      <td>Y</td>\n",
       "    </tr>\n",
       "    <tr>\n",
       "      <th>23449</th>\n",
       "      <td>RENT</td>\n",
       "      <td>PERSONAL</td>\n",
       "      <td>A</td>\n",
       "      <td>N</td>\n",
       "    </tr>\n",
       "    <tr>\n",
       "      <th>14852</th>\n",
       "      <td>MORTGAGE</td>\n",
       "      <td>EDUCATION</td>\n",
       "      <td>A</td>\n",
       "      <td>N</td>\n",
       "    </tr>\n",
       "    <tr>\n",
       "      <th>32509</th>\n",
       "      <td>MORTGAGE</td>\n",
       "      <td>PERSONAL</td>\n",
       "      <td>B</td>\n",
       "      <td>N</td>\n",
       "    </tr>\n",
       "    <tr>\n",
       "      <th>21029</th>\n",
       "      <td>MORTGAGE</td>\n",
       "      <td>PERSONAL</td>\n",
       "      <td>D</td>\n",
       "      <td>N</td>\n",
       "    </tr>\n",
       "  </tbody>\n",
       "</table>\n",
       "<p>6484 rows × 4 columns</p>\n",
       "</div>"
      ],
      "text/plain": [
       "      person_home_ownership      loan_intent loan_grade  \\\n",
       "25666                  RENT  HOMEIMPROVEMENT          B   \n",
       "18151              MORTGAGE         PERSONAL          C   \n",
       "24159              MORTGAGE          MEDICAL          A   \n",
       "57                      OWN         PERSONAL          A   \n",
       "9770                   RENT          MEDICAL          C   \n",
       "...                     ...              ...        ...   \n",
       "15014              MORTGAGE          MEDICAL          D   \n",
       "23449                  RENT         PERSONAL          A   \n",
       "14852              MORTGAGE        EDUCATION          A   \n",
       "32509              MORTGAGE         PERSONAL          B   \n",
       "21029              MORTGAGE         PERSONAL          D   \n",
       "\n",
       "      cb_person_default_on_file  \n",
       "25666                         N  \n",
       "18151                         Y  \n",
       "24159                         N  \n",
       "57                            N  \n",
       "9770                          N  \n",
       "...                         ...  \n",
       "15014                         Y  \n",
       "23449                         N  \n",
       "14852                         N  \n",
       "32509                         N  \n",
       "21029                         N  \n",
       "\n",
       "[6484 rows x 4 columns]"
      ]
     },
     "execution_count": 139,
     "metadata": {},
     "output_type": "execute_result"
    }
   ],
   "source": [
    "X_test_cat"
   ]
  },
  {
   "cell_type": "markdown",
   "id": "33f2af2e",
   "metadata": {
    "ExecuteTime": {
     "end_time": "2023-02-10T18:39:43.532845Z",
     "start_time": "2023-02-10T18:39:43.524816Z"
    }
   },
   "source": [
    "### One hot encoding (test data)"
   ]
  },
  {
   "cell_type": "code",
   "execution_count": 140,
   "id": "6db4bd07",
   "metadata": {
    "ExecuteTime": {
     "end_time": "2023-02-14T05:44:09.068209Z",
     "start_time": "2023-02-14T05:44:09.036229Z"
    }
   },
   "outputs": [
    {
     "data": {
      "text/html": [
       "<div>\n",
       "<style scoped>\n",
       "    .dataframe tbody tr th:only-of-type {\n",
       "        vertical-align: middle;\n",
       "    }\n",
       "\n",
       "    .dataframe tbody tr th {\n",
       "        vertical-align: top;\n",
       "    }\n",
       "\n",
       "    .dataframe thead th {\n",
       "        text-align: right;\n",
       "    }\n",
       "</style>\n",
       "<table border=\"1\" class=\"dataframe\">\n",
       "  <thead>\n",
       "    <tr style=\"text-align: right;\">\n",
       "      <th></th>\n",
       "    </tr>\n",
       "  </thead>\n",
       "  <tbody>\n",
       "    <tr>\n",
       "      <th>25666</th>\n",
       "    </tr>\n",
       "    <tr>\n",
       "      <th>18151</th>\n",
       "    </tr>\n",
       "    <tr>\n",
       "      <th>24159</th>\n",
       "    </tr>\n",
       "    <tr>\n",
       "      <th>57</th>\n",
       "    </tr>\n",
       "    <tr>\n",
       "      <th>9770</th>\n",
       "    </tr>\n",
       "    <tr>\n",
       "      <th>...</th>\n",
       "    </tr>\n",
       "    <tr>\n",
       "      <th>15014</th>\n",
       "    </tr>\n",
       "    <tr>\n",
       "      <th>23449</th>\n",
       "    </tr>\n",
       "    <tr>\n",
       "      <th>14852</th>\n",
       "    </tr>\n",
       "    <tr>\n",
       "      <th>32509</th>\n",
       "    </tr>\n",
       "    <tr>\n",
       "      <th>21029</th>\n",
       "    </tr>\n",
       "  </tbody>\n",
       "</table>\n",
       "<p>6484 rows × 0 columns</p>\n",
       "</div>"
      ],
      "text/plain": [
       "Empty DataFrame\n",
       "Columns: []\n",
       "Index: [25666, 18151, 24159, 57, 9770, 20299, 15885, 8439, 20781, 10962, 27848, 4120, 6307, 13741, 15393, 2201, 21426, 3277, 15731, 9623, 28832, 23746, 23005, 17543, 22632, 6761, 7289, 5464, 29756, 22997, 15195, 22521, 6120, 12429, 7601, 31677, 32445, 17146, 9344, 24726, 22624, 8971, 12696, 18556, 2662, 3994, 2341, 21597, 1407, 8455, 24731, 650, 8473, 28198, 24222, 24157, 7220, 5154, 29978, 22726, 2123, 29537, 8831, 11047, 22265, 30492, 4116, 21589, 2518, 124, 32138, 860, 14051, 16575, 5815, 7742, 2652, 14993, 32541, 3882, 9368, 15392, 25840, 11739, 13892, 31408, 7398, 17841, 8878, 5980, 11765, 26483, 32246, 12549, 12610, 27123, 11159, 32374, 21175, 11793, ...]\n",
       "\n",
       "[6484 rows x 0 columns]"
      ]
     },
     "execution_count": 140,
     "metadata": {},
     "output_type": "execute_result"
    }
   ],
   "source": [
    "X_test_cat_one=pd.DataFrame(index=X_test_cat.index)\n",
    "X_test_cat_one"
   ]
  },
  {
   "cell_type": "code",
   "execution_count": 141,
   "id": "de805489",
   "metadata": {
    "ExecuteTime": {
     "end_time": "2023-02-14T05:44:09.086233Z",
     "start_time": "2023-02-14T05:44:09.068209Z"
    }
   },
   "outputs": [],
   "source": [
    "X_test_cat_one[\"person_home_ownership\"]=data.person_home_ownership\n",
    "X_test_cat_one[\"loan_intent\"]=data.loan_intent\n",
    "X_test_cat_one[\"cb_person_default_on_file\"]=data.cb_person_default_on_file"
   ]
  },
  {
   "cell_type": "code",
   "execution_count": 142,
   "id": "aeca95da",
   "metadata": {
    "ExecuteTime": {
     "end_time": "2023-02-14T05:44:09.118783Z",
     "start_time": "2023-02-14T05:44:09.086233Z"
    }
   },
   "outputs": [
    {
     "data": {
      "text/html": [
       "<div>\n",
       "<style scoped>\n",
       "    .dataframe tbody tr th:only-of-type {\n",
       "        vertical-align: middle;\n",
       "    }\n",
       "\n",
       "    .dataframe tbody tr th {\n",
       "        vertical-align: top;\n",
       "    }\n",
       "\n",
       "    .dataframe thead th {\n",
       "        text-align: right;\n",
       "    }\n",
       "</style>\n",
       "<table border=\"1\" class=\"dataframe\">\n",
       "  <thead>\n",
       "    <tr style=\"text-align: right;\">\n",
       "      <th></th>\n",
       "      <th>person_home_ownership</th>\n",
       "      <th>loan_intent</th>\n",
       "      <th>cb_person_default_on_file</th>\n",
       "    </tr>\n",
       "  </thead>\n",
       "  <tbody>\n",
       "    <tr>\n",
       "      <th>25666</th>\n",
       "      <td>RENT</td>\n",
       "      <td>HOMEIMPROVEMENT</td>\n",
       "      <td>N</td>\n",
       "    </tr>\n",
       "    <tr>\n",
       "      <th>18151</th>\n",
       "      <td>MORTGAGE</td>\n",
       "      <td>PERSONAL</td>\n",
       "      <td>Y</td>\n",
       "    </tr>\n",
       "    <tr>\n",
       "      <th>24159</th>\n",
       "      <td>MORTGAGE</td>\n",
       "      <td>MEDICAL</td>\n",
       "      <td>N</td>\n",
       "    </tr>\n",
       "    <tr>\n",
       "      <th>57</th>\n",
       "      <td>OWN</td>\n",
       "      <td>PERSONAL</td>\n",
       "      <td>N</td>\n",
       "    </tr>\n",
       "    <tr>\n",
       "      <th>9770</th>\n",
       "      <td>RENT</td>\n",
       "      <td>MEDICAL</td>\n",
       "      <td>N</td>\n",
       "    </tr>\n",
       "    <tr>\n",
       "      <th>...</th>\n",
       "      <td>...</td>\n",
       "      <td>...</td>\n",
       "      <td>...</td>\n",
       "    </tr>\n",
       "    <tr>\n",
       "      <th>15014</th>\n",
       "      <td>MORTGAGE</td>\n",
       "      <td>MEDICAL</td>\n",
       "      <td>Y</td>\n",
       "    </tr>\n",
       "    <tr>\n",
       "      <th>23449</th>\n",
       "      <td>RENT</td>\n",
       "      <td>PERSONAL</td>\n",
       "      <td>N</td>\n",
       "    </tr>\n",
       "    <tr>\n",
       "      <th>14852</th>\n",
       "      <td>MORTGAGE</td>\n",
       "      <td>EDUCATION</td>\n",
       "      <td>N</td>\n",
       "    </tr>\n",
       "    <tr>\n",
       "      <th>32509</th>\n",
       "      <td>MORTGAGE</td>\n",
       "      <td>PERSONAL</td>\n",
       "      <td>N</td>\n",
       "    </tr>\n",
       "    <tr>\n",
       "      <th>21029</th>\n",
       "      <td>MORTGAGE</td>\n",
       "      <td>PERSONAL</td>\n",
       "      <td>N</td>\n",
       "    </tr>\n",
       "  </tbody>\n",
       "</table>\n",
       "<p>6484 rows × 3 columns</p>\n",
       "</div>"
      ],
      "text/plain": [
       "      person_home_ownership      loan_intent cb_person_default_on_file\n",
       "25666                  RENT  HOMEIMPROVEMENT                         N\n",
       "18151              MORTGAGE         PERSONAL                         Y\n",
       "24159              MORTGAGE          MEDICAL                         N\n",
       "57                      OWN         PERSONAL                         N\n",
       "9770                   RENT          MEDICAL                         N\n",
       "...                     ...              ...                       ...\n",
       "15014              MORTGAGE          MEDICAL                         Y\n",
       "23449                  RENT         PERSONAL                         N\n",
       "14852              MORTGAGE        EDUCATION                         N\n",
       "32509              MORTGAGE         PERSONAL                         N\n",
       "21029              MORTGAGE         PERSONAL                         N\n",
       "\n",
       "[6484 rows x 3 columns]"
      ]
     },
     "execution_count": 142,
     "metadata": {},
     "output_type": "execute_result"
    }
   ],
   "source": [
    "X_test_cat_one"
   ]
  },
  {
   "cell_type": "code",
   "execution_count": 143,
   "id": "9914b033",
   "metadata": {
    "ExecuteTime": {
     "end_time": "2023-02-14T05:44:09.150765Z",
     "start_time": "2023-02-14T05:44:09.118783Z"
    }
   },
   "outputs": [],
   "source": [
    "X_test_cat_one_tran=pd.DataFrame(encoder.transform(X_test_cat_one),columns=encoder.get_feature_names_out(X_test_cat_one.columns),\n",
    "                                  index=X_test_cat.index)\n"
   ]
  },
  {
   "cell_type": "code",
   "execution_count": 144,
   "id": "d7c60710",
   "metadata": {
    "ExecuteTime": {
     "end_time": "2023-02-14T05:44:09.198732Z",
     "start_time": "2023-02-14T05:44:09.150765Z"
    }
   },
   "outputs": [
    {
     "data": {
      "text/html": [
       "<div>\n",
       "<style scoped>\n",
       "    .dataframe tbody tr th:only-of-type {\n",
       "        vertical-align: middle;\n",
       "    }\n",
       "\n",
       "    .dataframe tbody tr th {\n",
       "        vertical-align: top;\n",
       "    }\n",
       "\n",
       "    .dataframe thead th {\n",
       "        text-align: right;\n",
       "    }\n",
       "</style>\n",
       "<table border=\"1\" class=\"dataframe\">\n",
       "  <thead>\n",
       "    <tr style=\"text-align: right;\">\n",
       "      <th></th>\n",
       "      <th>person_home_ownership_OTHER</th>\n",
       "      <th>person_home_ownership_OWN</th>\n",
       "      <th>person_home_ownership_RENT</th>\n",
       "      <th>loan_intent_EDUCATION</th>\n",
       "      <th>loan_intent_HOMEIMPROVEMENT</th>\n",
       "      <th>loan_intent_MEDICAL</th>\n",
       "      <th>loan_intent_PERSONAL</th>\n",
       "      <th>loan_intent_VENTURE</th>\n",
       "      <th>cb_person_default_on_file_Y</th>\n",
       "    </tr>\n",
       "  </thead>\n",
       "  <tbody>\n",
       "    <tr>\n",
       "      <th>25666</th>\n",
       "      <td>0.0</td>\n",
       "      <td>0.0</td>\n",
       "      <td>1.0</td>\n",
       "      <td>0.0</td>\n",
       "      <td>1.0</td>\n",
       "      <td>0.0</td>\n",
       "      <td>0.0</td>\n",
       "      <td>0.0</td>\n",
       "      <td>0.0</td>\n",
       "    </tr>\n",
       "    <tr>\n",
       "      <th>18151</th>\n",
       "      <td>0.0</td>\n",
       "      <td>0.0</td>\n",
       "      <td>0.0</td>\n",
       "      <td>0.0</td>\n",
       "      <td>0.0</td>\n",
       "      <td>0.0</td>\n",
       "      <td>1.0</td>\n",
       "      <td>0.0</td>\n",
       "      <td>1.0</td>\n",
       "    </tr>\n",
       "    <tr>\n",
       "      <th>24159</th>\n",
       "      <td>0.0</td>\n",
       "      <td>0.0</td>\n",
       "      <td>0.0</td>\n",
       "      <td>0.0</td>\n",
       "      <td>0.0</td>\n",
       "      <td>1.0</td>\n",
       "      <td>0.0</td>\n",
       "      <td>0.0</td>\n",
       "      <td>0.0</td>\n",
       "    </tr>\n",
       "    <tr>\n",
       "      <th>57</th>\n",
       "      <td>0.0</td>\n",
       "      <td>1.0</td>\n",
       "      <td>0.0</td>\n",
       "      <td>0.0</td>\n",
       "      <td>0.0</td>\n",
       "      <td>0.0</td>\n",
       "      <td>1.0</td>\n",
       "      <td>0.0</td>\n",
       "      <td>0.0</td>\n",
       "    </tr>\n",
       "    <tr>\n",
       "      <th>9770</th>\n",
       "      <td>0.0</td>\n",
       "      <td>0.0</td>\n",
       "      <td>1.0</td>\n",
       "      <td>0.0</td>\n",
       "      <td>0.0</td>\n",
       "      <td>1.0</td>\n",
       "      <td>0.0</td>\n",
       "      <td>0.0</td>\n",
       "      <td>0.0</td>\n",
       "    </tr>\n",
       "    <tr>\n",
       "      <th>...</th>\n",
       "      <td>...</td>\n",
       "      <td>...</td>\n",
       "      <td>...</td>\n",
       "      <td>...</td>\n",
       "      <td>...</td>\n",
       "      <td>...</td>\n",
       "      <td>...</td>\n",
       "      <td>...</td>\n",
       "      <td>...</td>\n",
       "    </tr>\n",
       "    <tr>\n",
       "      <th>15014</th>\n",
       "      <td>0.0</td>\n",
       "      <td>0.0</td>\n",
       "      <td>0.0</td>\n",
       "      <td>0.0</td>\n",
       "      <td>0.0</td>\n",
       "      <td>1.0</td>\n",
       "      <td>0.0</td>\n",
       "      <td>0.0</td>\n",
       "      <td>1.0</td>\n",
       "    </tr>\n",
       "    <tr>\n",
       "      <th>23449</th>\n",
       "      <td>0.0</td>\n",
       "      <td>0.0</td>\n",
       "      <td>1.0</td>\n",
       "      <td>0.0</td>\n",
       "      <td>0.0</td>\n",
       "      <td>0.0</td>\n",
       "      <td>1.0</td>\n",
       "      <td>0.0</td>\n",
       "      <td>0.0</td>\n",
       "    </tr>\n",
       "    <tr>\n",
       "      <th>14852</th>\n",
       "      <td>0.0</td>\n",
       "      <td>0.0</td>\n",
       "      <td>0.0</td>\n",
       "      <td>1.0</td>\n",
       "      <td>0.0</td>\n",
       "      <td>0.0</td>\n",
       "      <td>0.0</td>\n",
       "      <td>0.0</td>\n",
       "      <td>0.0</td>\n",
       "    </tr>\n",
       "    <tr>\n",
       "      <th>32509</th>\n",
       "      <td>0.0</td>\n",
       "      <td>0.0</td>\n",
       "      <td>0.0</td>\n",
       "      <td>0.0</td>\n",
       "      <td>0.0</td>\n",
       "      <td>0.0</td>\n",
       "      <td>1.0</td>\n",
       "      <td>0.0</td>\n",
       "      <td>0.0</td>\n",
       "    </tr>\n",
       "    <tr>\n",
       "      <th>21029</th>\n",
       "      <td>0.0</td>\n",
       "      <td>0.0</td>\n",
       "      <td>0.0</td>\n",
       "      <td>0.0</td>\n",
       "      <td>0.0</td>\n",
       "      <td>0.0</td>\n",
       "      <td>1.0</td>\n",
       "      <td>0.0</td>\n",
       "      <td>0.0</td>\n",
       "    </tr>\n",
       "  </tbody>\n",
       "</table>\n",
       "<p>6484 rows × 9 columns</p>\n",
       "</div>"
      ],
      "text/plain": [
       "       person_home_ownership_OTHER  person_home_ownership_OWN  \\\n",
       "25666                          0.0                        0.0   \n",
       "18151                          0.0                        0.0   \n",
       "24159                          0.0                        0.0   \n",
       "57                             0.0                        1.0   \n",
       "9770                           0.0                        0.0   \n",
       "...                            ...                        ...   \n",
       "15014                          0.0                        0.0   \n",
       "23449                          0.0                        0.0   \n",
       "14852                          0.0                        0.0   \n",
       "32509                          0.0                        0.0   \n",
       "21029                          0.0                        0.0   \n",
       "\n",
       "       person_home_ownership_RENT  loan_intent_EDUCATION  \\\n",
       "25666                         1.0                    0.0   \n",
       "18151                         0.0                    0.0   \n",
       "24159                         0.0                    0.0   \n",
       "57                            0.0                    0.0   \n",
       "9770                          1.0                    0.0   \n",
       "...                           ...                    ...   \n",
       "15014                         0.0                    0.0   \n",
       "23449                         1.0                    0.0   \n",
       "14852                         0.0                    1.0   \n",
       "32509                         0.0                    0.0   \n",
       "21029                         0.0                    0.0   \n",
       "\n",
       "       loan_intent_HOMEIMPROVEMENT  loan_intent_MEDICAL  loan_intent_PERSONAL  \\\n",
       "25666                          1.0                  0.0                   0.0   \n",
       "18151                          0.0                  0.0                   1.0   \n",
       "24159                          0.0                  1.0                   0.0   \n",
       "57                             0.0                  0.0                   1.0   \n",
       "9770                           0.0                  1.0                   0.0   \n",
       "...                            ...                  ...                   ...   \n",
       "15014                          0.0                  1.0                   0.0   \n",
       "23449                          0.0                  0.0                   1.0   \n",
       "14852                          0.0                  0.0                   0.0   \n",
       "32509                          0.0                  0.0                   1.0   \n",
       "21029                          0.0                  0.0                   1.0   \n",
       "\n",
       "       loan_intent_VENTURE  cb_person_default_on_file_Y  \n",
       "25666                  0.0                          0.0  \n",
       "18151                  0.0                          1.0  \n",
       "24159                  0.0                          0.0  \n",
       "57                     0.0                          0.0  \n",
       "9770                   0.0                          0.0  \n",
       "...                    ...                          ...  \n",
       "15014                  0.0                          1.0  \n",
       "23449                  0.0                          0.0  \n",
       "14852                  0.0                          0.0  \n",
       "32509                  0.0                          0.0  \n",
       "21029                  0.0                          0.0  \n",
       "\n",
       "[6484 rows x 9 columns]"
      ]
     },
     "execution_count": 144,
     "metadata": {},
     "output_type": "execute_result"
    }
   ],
   "source": [
    "X_test_cat_one_tran"
   ]
  },
  {
   "cell_type": "markdown",
   "id": "8f3e3503",
   "metadata": {},
   "source": [
    "### Labelencoding (testdata)"
   ]
  },
  {
   "cell_type": "code",
   "execution_count": 145,
   "id": "1c667077",
   "metadata": {
    "ExecuteTime": {
     "end_time": "2023-02-14T05:44:09.230668Z",
     "start_time": "2023-02-14T05:44:09.198732Z"
    }
   },
   "outputs": [
    {
     "data": {
      "text/html": [
       "<div>\n",
       "<style scoped>\n",
       "    .dataframe tbody tr th:only-of-type {\n",
       "        vertical-align: middle;\n",
       "    }\n",
       "\n",
       "    .dataframe tbody tr th {\n",
       "        vertical-align: top;\n",
       "    }\n",
       "\n",
       "    .dataframe thead th {\n",
       "        text-align: right;\n",
       "    }\n",
       "</style>\n",
       "<table border=\"1\" class=\"dataframe\">\n",
       "  <thead>\n",
       "    <tr style=\"text-align: right;\">\n",
       "      <th></th>\n",
       "    </tr>\n",
       "  </thead>\n",
       "  <tbody>\n",
       "    <tr>\n",
       "      <th>25666</th>\n",
       "    </tr>\n",
       "    <tr>\n",
       "      <th>18151</th>\n",
       "    </tr>\n",
       "    <tr>\n",
       "      <th>24159</th>\n",
       "    </tr>\n",
       "    <tr>\n",
       "      <th>57</th>\n",
       "    </tr>\n",
       "    <tr>\n",
       "      <th>9770</th>\n",
       "    </tr>\n",
       "    <tr>\n",
       "      <th>...</th>\n",
       "    </tr>\n",
       "    <tr>\n",
       "      <th>15014</th>\n",
       "    </tr>\n",
       "    <tr>\n",
       "      <th>23449</th>\n",
       "    </tr>\n",
       "    <tr>\n",
       "      <th>14852</th>\n",
       "    </tr>\n",
       "    <tr>\n",
       "      <th>32509</th>\n",
       "    </tr>\n",
       "    <tr>\n",
       "      <th>21029</th>\n",
       "    </tr>\n",
       "  </tbody>\n",
       "</table>\n",
       "<p>6484 rows × 0 columns</p>\n",
       "</div>"
      ],
      "text/plain": [
       "Empty DataFrame\n",
       "Columns: []\n",
       "Index: [25666, 18151, 24159, 57, 9770, 20299, 15885, 8439, 20781, 10962, 27848, 4120, 6307, 13741, 15393, 2201, 21426, 3277, 15731, 9623, 28832, 23746, 23005, 17543, 22632, 6761, 7289, 5464, 29756, 22997, 15195, 22521, 6120, 12429, 7601, 31677, 32445, 17146, 9344, 24726, 22624, 8971, 12696, 18556, 2662, 3994, 2341, 21597, 1407, 8455, 24731, 650, 8473, 28198, 24222, 24157, 7220, 5154, 29978, 22726, 2123, 29537, 8831, 11047, 22265, 30492, 4116, 21589, 2518, 124, 32138, 860, 14051, 16575, 5815, 7742, 2652, 14993, 32541, 3882, 9368, 15392, 25840, 11739, 13892, 31408, 7398, 17841, 8878, 5980, 11765, 26483, 32246, 12549, 12610, 27123, 11159, 32374, 21175, 11793, ...]\n",
       "\n",
       "[6484 rows x 0 columns]"
      ]
     },
     "execution_count": 145,
     "metadata": {},
     "output_type": "execute_result"
    }
   ],
   "source": [
    "X_test_cat_le=pd.DataFrame(index=X_test_cat.index)\n",
    "X_test_cat_le"
   ]
  },
  {
   "cell_type": "code",
   "execution_count": 146,
   "id": "ae422f71",
   "metadata": {
    "ExecuteTime": {
     "end_time": "2023-02-14T05:44:09.270680Z",
     "start_time": "2023-02-14T05:44:09.230668Z"
    }
   },
   "outputs": [],
   "source": [
    "map_dict={\"A\":1,\"B\":2,\"C\":3,\"D\":4,\"E\":5,\"F\":6,\"G\":7}\n",
    "X_test_cat_le[\"loan_grade\"]=data[\"loan_grade\"].apply(lambda x: map_dict[x])"
   ]
  },
  {
   "cell_type": "code",
   "execution_count": 147,
   "id": "80659c5c",
   "metadata": {
    "ExecuteTime": {
     "end_time": "2023-02-14T05:44:09.302843Z",
     "start_time": "2023-02-14T05:44:09.270680Z"
    }
   },
   "outputs": [
    {
     "data": {
      "text/html": [
       "<div>\n",
       "<style scoped>\n",
       "    .dataframe tbody tr th:only-of-type {\n",
       "        vertical-align: middle;\n",
       "    }\n",
       "\n",
       "    .dataframe tbody tr th {\n",
       "        vertical-align: top;\n",
       "    }\n",
       "\n",
       "    .dataframe thead th {\n",
       "        text-align: right;\n",
       "    }\n",
       "</style>\n",
       "<table border=\"1\" class=\"dataframe\">\n",
       "  <thead>\n",
       "    <tr style=\"text-align: right;\">\n",
       "      <th></th>\n",
       "      <th>loan_grade</th>\n",
       "    </tr>\n",
       "  </thead>\n",
       "  <tbody>\n",
       "    <tr>\n",
       "      <th>25666</th>\n",
       "      <td>2</td>\n",
       "    </tr>\n",
       "    <tr>\n",
       "      <th>18151</th>\n",
       "      <td>3</td>\n",
       "    </tr>\n",
       "    <tr>\n",
       "      <th>24159</th>\n",
       "      <td>1</td>\n",
       "    </tr>\n",
       "    <tr>\n",
       "      <th>57</th>\n",
       "      <td>1</td>\n",
       "    </tr>\n",
       "    <tr>\n",
       "      <th>9770</th>\n",
       "      <td>3</td>\n",
       "    </tr>\n",
       "    <tr>\n",
       "      <th>...</th>\n",
       "      <td>...</td>\n",
       "    </tr>\n",
       "    <tr>\n",
       "      <th>15014</th>\n",
       "      <td>4</td>\n",
       "    </tr>\n",
       "    <tr>\n",
       "      <th>23449</th>\n",
       "      <td>1</td>\n",
       "    </tr>\n",
       "    <tr>\n",
       "      <th>14852</th>\n",
       "      <td>1</td>\n",
       "    </tr>\n",
       "    <tr>\n",
       "      <th>32509</th>\n",
       "      <td>2</td>\n",
       "    </tr>\n",
       "    <tr>\n",
       "      <th>21029</th>\n",
       "      <td>4</td>\n",
       "    </tr>\n",
       "  </tbody>\n",
       "</table>\n",
       "<p>6484 rows × 1 columns</p>\n",
       "</div>"
      ],
      "text/plain": [
       "       loan_grade\n",
       "25666           2\n",
       "18151           3\n",
       "24159           1\n",
       "57              1\n",
       "9770            3\n",
       "...           ...\n",
       "15014           4\n",
       "23449           1\n",
       "14852           1\n",
       "32509           2\n",
       "21029           4\n",
       "\n",
       "[6484 rows x 1 columns]"
      ]
     },
     "execution_count": 147,
     "metadata": {},
     "output_type": "execute_result"
    }
   ],
   "source": [
    "X_test_cat_le"
   ]
  },
  {
   "cell_type": "code",
   "execution_count": 148,
   "id": "843ef06a",
   "metadata": {
    "ExecuteTime": {
     "end_time": "2023-02-14T05:44:09.351412Z",
     "start_time": "2023-02-14T05:44:09.302843Z"
    }
   },
   "outputs": [
    {
     "data": {
      "text/html": [
       "<div>\n",
       "<style scoped>\n",
       "    .dataframe tbody tr th:only-of-type {\n",
       "        vertical-align: middle;\n",
       "    }\n",
       "\n",
       "    .dataframe tbody tr th {\n",
       "        vertical-align: top;\n",
       "    }\n",
       "\n",
       "    .dataframe thead th {\n",
       "        text-align: right;\n",
       "    }\n",
       "</style>\n",
       "<table border=\"1\" class=\"dataframe\">\n",
       "  <thead>\n",
       "    <tr style=\"text-align: right;\">\n",
       "      <th></th>\n",
       "      <th>person_home_ownership_OTHER</th>\n",
       "      <th>person_home_ownership_OWN</th>\n",
       "      <th>person_home_ownership_RENT</th>\n",
       "      <th>loan_intent_EDUCATION</th>\n",
       "      <th>loan_intent_HOMEIMPROVEMENT</th>\n",
       "      <th>loan_intent_MEDICAL</th>\n",
       "      <th>loan_intent_PERSONAL</th>\n",
       "      <th>loan_intent_VENTURE</th>\n",
       "      <th>cb_person_default_on_file_Y</th>\n",
       "      <th>loan_grade</th>\n",
       "    </tr>\n",
       "  </thead>\n",
       "  <tbody>\n",
       "    <tr>\n",
       "      <th>25666</th>\n",
       "      <td>0.0</td>\n",
       "      <td>0.0</td>\n",
       "      <td>1.0</td>\n",
       "      <td>0.0</td>\n",
       "      <td>1.0</td>\n",
       "      <td>0.0</td>\n",
       "      <td>0.0</td>\n",
       "      <td>0.0</td>\n",
       "      <td>0.0</td>\n",
       "      <td>2</td>\n",
       "    </tr>\n",
       "    <tr>\n",
       "      <th>18151</th>\n",
       "      <td>0.0</td>\n",
       "      <td>0.0</td>\n",
       "      <td>0.0</td>\n",
       "      <td>0.0</td>\n",
       "      <td>0.0</td>\n",
       "      <td>0.0</td>\n",
       "      <td>1.0</td>\n",
       "      <td>0.0</td>\n",
       "      <td>1.0</td>\n",
       "      <td>3</td>\n",
       "    </tr>\n",
       "    <tr>\n",
       "      <th>24159</th>\n",
       "      <td>0.0</td>\n",
       "      <td>0.0</td>\n",
       "      <td>0.0</td>\n",
       "      <td>0.0</td>\n",
       "      <td>0.0</td>\n",
       "      <td>1.0</td>\n",
       "      <td>0.0</td>\n",
       "      <td>0.0</td>\n",
       "      <td>0.0</td>\n",
       "      <td>1</td>\n",
       "    </tr>\n",
       "    <tr>\n",
       "      <th>57</th>\n",
       "      <td>0.0</td>\n",
       "      <td>1.0</td>\n",
       "      <td>0.0</td>\n",
       "      <td>0.0</td>\n",
       "      <td>0.0</td>\n",
       "      <td>0.0</td>\n",
       "      <td>1.0</td>\n",
       "      <td>0.0</td>\n",
       "      <td>0.0</td>\n",
       "      <td>1</td>\n",
       "    </tr>\n",
       "    <tr>\n",
       "      <th>9770</th>\n",
       "      <td>0.0</td>\n",
       "      <td>0.0</td>\n",
       "      <td>1.0</td>\n",
       "      <td>0.0</td>\n",
       "      <td>0.0</td>\n",
       "      <td>1.0</td>\n",
       "      <td>0.0</td>\n",
       "      <td>0.0</td>\n",
       "      <td>0.0</td>\n",
       "      <td>3</td>\n",
       "    </tr>\n",
       "    <tr>\n",
       "      <th>...</th>\n",
       "      <td>...</td>\n",
       "      <td>...</td>\n",
       "      <td>...</td>\n",
       "      <td>...</td>\n",
       "      <td>...</td>\n",
       "      <td>...</td>\n",
       "      <td>...</td>\n",
       "      <td>...</td>\n",
       "      <td>...</td>\n",
       "      <td>...</td>\n",
       "    </tr>\n",
       "    <tr>\n",
       "      <th>15014</th>\n",
       "      <td>0.0</td>\n",
       "      <td>0.0</td>\n",
       "      <td>0.0</td>\n",
       "      <td>0.0</td>\n",
       "      <td>0.0</td>\n",
       "      <td>1.0</td>\n",
       "      <td>0.0</td>\n",
       "      <td>0.0</td>\n",
       "      <td>1.0</td>\n",
       "      <td>4</td>\n",
       "    </tr>\n",
       "    <tr>\n",
       "      <th>23449</th>\n",
       "      <td>0.0</td>\n",
       "      <td>0.0</td>\n",
       "      <td>1.0</td>\n",
       "      <td>0.0</td>\n",
       "      <td>0.0</td>\n",
       "      <td>0.0</td>\n",
       "      <td>1.0</td>\n",
       "      <td>0.0</td>\n",
       "      <td>0.0</td>\n",
       "      <td>1</td>\n",
       "    </tr>\n",
       "    <tr>\n",
       "      <th>14852</th>\n",
       "      <td>0.0</td>\n",
       "      <td>0.0</td>\n",
       "      <td>0.0</td>\n",
       "      <td>1.0</td>\n",
       "      <td>0.0</td>\n",
       "      <td>0.0</td>\n",
       "      <td>0.0</td>\n",
       "      <td>0.0</td>\n",
       "      <td>0.0</td>\n",
       "      <td>1</td>\n",
       "    </tr>\n",
       "    <tr>\n",
       "      <th>32509</th>\n",
       "      <td>0.0</td>\n",
       "      <td>0.0</td>\n",
       "      <td>0.0</td>\n",
       "      <td>0.0</td>\n",
       "      <td>0.0</td>\n",
       "      <td>0.0</td>\n",
       "      <td>1.0</td>\n",
       "      <td>0.0</td>\n",
       "      <td>0.0</td>\n",
       "      <td>2</td>\n",
       "    </tr>\n",
       "    <tr>\n",
       "      <th>21029</th>\n",
       "      <td>0.0</td>\n",
       "      <td>0.0</td>\n",
       "      <td>0.0</td>\n",
       "      <td>0.0</td>\n",
       "      <td>0.0</td>\n",
       "      <td>0.0</td>\n",
       "      <td>1.0</td>\n",
       "      <td>0.0</td>\n",
       "      <td>0.0</td>\n",
       "      <td>4</td>\n",
       "    </tr>\n",
       "  </tbody>\n",
       "</table>\n",
       "<p>6484 rows × 10 columns</p>\n",
       "</div>"
      ],
      "text/plain": [
       "       person_home_ownership_OTHER  person_home_ownership_OWN  \\\n",
       "25666                          0.0                        0.0   \n",
       "18151                          0.0                        0.0   \n",
       "24159                          0.0                        0.0   \n",
       "57                             0.0                        1.0   \n",
       "9770                           0.0                        0.0   \n",
       "...                            ...                        ...   \n",
       "15014                          0.0                        0.0   \n",
       "23449                          0.0                        0.0   \n",
       "14852                          0.0                        0.0   \n",
       "32509                          0.0                        0.0   \n",
       "21029                          0.0                        0.0   \n",
       "\n",
       "       person_home_ownership_RENT  loan_intent_EDUCATION  \\\n",
       "25666                         1.0                    0.0   \n",
       "18151                         0.0                    0.0   \n",
       "24159                         0.0                    0.0   \n",
       "57                            0.0                    0.0   \n",
       "9770                          1.0                    0.0   \n",
       "...                           ...                    ...   \n",
       "15014                         0.0                    0.0   \n",
       "23449                         1.0                    0.0   \n",
       "14852                         0.0                    1.0   \n",
       "32509                         0.0                    0.0   \n",
       "21029                         0.0                    0.0   \n",
       "\n",
       "       loan_intent_HOMEIMPROVEMENT  loan_intent_MEDICAL  loan_intent_PERSONAL  \\\n",
       "25666                          1.0                  0.0                   0.0   \n",
       "18151                          0.0                  0.0                   1.0   \n",
       "24159                          0.0                  1.0                   0.0   \n",
       "57                             0.0                  0.0                   1.0   \n",
       "9770                           0.0                  1.0                   0.0   \n",
       "...                            ...                  ...                   ...   \n",
       "15014                          0.0                  1.0                   0.0   \n",
       "23449                          0.0                  0.0                   1.0   \n",
       "14852                          0.0                  0.0                   0.0   \n",
       "32509                          0.0                  0.0                   1.0   \n",
       "21029                          0.0                  0.0                   1.0   \n",
       "\n",
       "       loan_intent_VENTURE  cb_person_default_on_file_Y  loan_grade  \n",
       "25666                  0.0                          0.0           2  \n",
       "18151                  0.0                          1.0           3  \n",
       "24159                  0.0                          0.0           1  \n",
       "57                     0.0                          0.0           1  \n",
       "9770                   0.0                          0.0           3  \n",
       "...                    ...                          ...         ...  \n",
       "15014                  0.0                          1.0           4  \n",
       "23449                  0.0                          0.0           1  \n",
       "14852                  0.0                          0.0           1  \n",
       "32509                  0.0                          0.0           2  \n",
       "21029                  0.0                          0.0           4  \n",
       "\n",
       "[6484 rows x 10 columns]"
      ]
     },
     "execution_count": 148,
     "metadata": {},
     "output_type": "execute_result"
    }
   ],
   "source": [
    "X_test_cat_tran=pd.concat([X_test_cat_one_tran,X_test_cat_le],axis=1)\n",
    "X_test_cat_tran"
   ]
  },
  {
   "cell_type": "code",
   "execution_count": 149,
   "id": "de854c31",
   "metadata": {
    "ExecuteTime": {
     "end_time": "2023-02-14T05:44:09.418216Z",
     "start_time": "2023-02-14T05:44:09.351412Z"
    }
   },
   "outputs": [
    {
     "data": {
      "text/html": [
       "<div>\n",
       "<style scoped>\n",
       "    .dataframe tbody tr th:only-of-type {\n",
       "        vertical-align: middle;\n",
       "    }\n",
       "\n",
       "    .dataframe tbody tr th {\n",
       "        vertical-align: top;\n",
       "    }\n",
       "\n",
       "    .dataframe thead th {\n",
       "        text-align: right;\n",
       "    }\n",
       "</style>\n",
       "<table border=\"1\" class=\"dataframe\">\n",
       "  <thead>\n",
       "    <tr style=\"text-align: right;\">\n",
       "      <th></th>\n",
       "      <th>person_home_ownership_OTHER</th>\n",
       "      <th>person_home_ownership_OWN</th>\n",
       "      <th>person_home_ownership_RENT</th>\n",
       "      <th>loan_intent_EDUCATION</th>\n",
       "      <th>loan_intent_HOMEIMPROVEMENT</th>\n",
       "      <th>loan_intent_MEDICAL</th>\n",
       "      <th>loan_intent_PERSONAL</th>\n",
       "      <th>loan_intent_VENTURE</th>\n",
       "      <th>cb_person_default_on_file_Y</th>\n",
       "      <th>loan_grade</th>\n",
       "      <th>person_age_tran</th>\n",
       "      <th>person_income_tran</th>\n",
       "      <th>person_emp_length</th>\n",
       "      <th>loan_int_tran</th>\n",
       "      <th>loan_amt_tran</th>\n",
       "      <th>loan_percent_tran</th>\n",
       "      <th>cred_hist_tran</th>\n",
       "    </tr>\n",
       "  </thead>\n",
       "  <tbody>\n",
       "    <tr>\n",
       "      <th>25666</th>\n",
       "      <td>0.0</td>\n",
       "      <td>0.0</td>\n",
       "      <td>1.0</td>\n",
       "      <td>0.0</td>\n",
       "      <td>1.0</td>\n",
       "      <td>0.0</td>\n",
       "      <td>0.0</td>\n",
       "      <td>0.0</td>\n",
       "      <td>0.0</td>\n",
       "      <td>2</td>\n",
       "      <td>1.130781</td>\n",
       "      <td>1.195349</td>\n",
       "      <td>-0.438938</td>\n",
       "      <td>-0.018780</td>\n",
       "      <td>0.603054</td>\n",
       "      <td>-0.423789</td>\n",
       "      <td>0.091401</td>\n",
       "    </tr>\n",
       "    <tr>\n",
       "      <th>18151</th>\n",
       "      <td>0.0</td>\n",
       "      <td>0.0</td>\n",
       "      <td>0.0</td>\n",
       "      <td>0.0</td>\n",
       "      <td>0.0</td>\n",
       "      <td>0.0</td>\n",
       "      <td>1.0</td>\n",
       "      <td>0.0</td>\n",
       "      <td>1.0</td>\n",
       "      <td>3</td>\n",
       "      <td>0.888408</td>\n",
       "      <td>1.920462</td>\n",
       "      <td>2.522243</td>\n",
       "      <td>0.829230</td>\n",
       "      <td>0.318319</td>\n",
       "      <td>-1.171360</td>\n",
       "      <td>0.836560</td>\n",
       "    </tr>\n",
       "    <tr>\n",
       "      <th>24159</th>\n",
       "      <td>0.0</td>\n",
       "      <td>0.0</td>\n",
       "      <td>0.0</td>\n",
       "      <td>0.0</td>\n",
       "      <td>0.0</td>\n",
       "      <td>1.0</td>\n",
       "      <td>0.0</td>\n",
       "      <td>0.0</td>\n",
       "      <td>0.0</td>\n",
       "      <td>1</td>\n",
       "      <td>0.888408</td>\n",
       "      <td>0.420766</td>\n",
       "      <td>-0.192173</td>\n",
       "      <td>-1.407749</td>\n",
       "      <td>0.603054</td>\n",
       "      <td>0.214350</td>\n",
       "      <td>0.624855</td>\n",
       "    </tr>\n",
       "    <tr>\n",
       "      <th>57</th>\n",
       "      <td>0.0</td>\n",
       "      <td>1.0</td>\n",
       "      <td>0.0</td>\n",
       "      <td>0.0</td>\n",
       "      <td>0.0</td>\n",
       "      <td>0.0</td>\n",
       "      <td>1.0</td>\n",
       "      <td>0.0</td>\n",
       "      <td>0.0</td>\n",
       "      <td>1</td>\n",
       "      <td>-0.935783</td>\n",
       "      <td>2.709993</td>\n",
       "      <td>-0.438938</td>\n",
       "      <td>0.090142</td>\n",
       "      <td>2.546259</td>\n",
       "      <td>-0.189785</td>\n",
       "      <td>-0.262378</td>\n",
       "    </tr>\n",
       "    <tr>\n",
       "      <th>9770</th>\n",
       "      <td>0.0</td>\n",
       "      <td>0.0</td>\n",
       "      <td>1.0</td>\n",
       "      <td>0.0</td>\n",
       "      <td>0.0</td>\n",
       "      <td>1.0</td>\n",
       "      <td>0.0</td>\n",
       "      <td>0.0</td>\n",
       "      <td>0.0</td>\n",
       "      <td>3</td>\n",
       "      <td>-1.337804</td>\n",
       "      <td>-1.362723</td>\n",
       "      <td>-0.932468</td>\n",
       "      <td>-0.038242</td>\n",
       "      <td>0.159278</td>\n",
       "      <td>1.500148</td>\n",
       "      <td>-1.361317</td>\n",
       "    </tr>\n",
       "    <tr>\n",
       "      <th>...</th>\n",
       "      <td>...</td>\n",
       "      <td>...</td>\n",
       "      <td>...</td>\n",
       "      <td>...</td>\n",
       "      <td>...</td>\n",
       "      <td>...</td>\n",
       "      <td>...</td>\n",
       "      <td>...</td>\n",
       "      <td>...</td>\n",
       "      <td>...</td>\n",
       "      <td>...</td>\n",
       "      <td>...</td>\n",
       "      <td>...</td>\n",
       "      <td>...</td>\n",
       "      <td>...</td>\n",
       "      <td>...</td>\n",
       "      <td>...</td>\n",
       "    </tr>\n",
       "    <tr>\n",
       "      <th>15014</th>\n",
       "      <td>0.0</td>\n",
       "      <td>0.0</td>\n",
       "      <td>0.0</td>\n",
       "      <td>0.0</td>\n",
       "      <td>0.0</td>\n",
       "      <td>1.0</td>\n",
       "      <td>0.0</td>\n",
       "      <td>0.0</td>\n",
       "      <td>1.0</td>\n",
       "      <td>4</td>\n",
       "      <td>-0.589172</td>\n",
       "      <td>0.888078</td>\n",
       "      <td>0.794888</td>\n",
       "      <td>1.562720</td>\n",
       "      <td>0.968642</td>\n",
       "      <td>-0.081731</td>\n",
       "      <td>-1.361317</td>\n",
       "    </tr>\n",
       "    <tr>\n",
       "      <th>23449</th>\n",
       "      <td>0.0</td>\n",
       "      <td>0.0</td>\n",
       "      <td>1.0</td>\n",
       "      <td>0.0</td>\n",
       "      <td>0.0</td>\n",
       "      <td>0.0</td>\n",
       "      <td>1.0</td>\n",
       "      <td>0.0</td>\n",
       "      <td>0.0</td>\n",
       "      <td>1</td>\n",
       "      <td>1.016045</td>\n",
       "      <td>-1.943962</td>\n",
       "      <td>-0.932468</td>\n",
       "      <td>-1.534813</td>\n",
       "      <td>0.044117</td>\n",
       "      <td>1.976558</td>\n",
       "      <td>1.023298</td>\n",
       "    </tr>\n",
       "    <tr>\n",
       "      <th>14852</th>\n",
       "      <td>0.0</td>\n",
       "      <td>0.0</td>\n",
       "      <td>0.0</td>\n",
       "      <td>1.0</td>\n",
       "      <td>0.0</td>\n",
       "      <td>0.0</td>\n",
       "      <td>0.0</td>\n",
       "      <td>0.0</td>\n",
       "      <td>0.0</td>\n",
       "      <td>1</td>\n",
       "      <td>-1.337804</td>\n",
       "      <td>1.299346</td>\n",
       "      <td>0.301358</td>\n",
       "      <td>-1.403431</td>\n",
       "      <td>0.465637</td>\n",
       "      <td>-0.688186</td>\n",
       "      <td>-0.262378</td>\n",
       "    </tr>\n",
       "    <tr>\n",
       "      <th>32509</th>\n",
       "      <td>0.0</td>\n",
       "      <td>0.0</td>\n",
       "      <td>0.0</td>\n",
       "      <td>0.0</td>\n",
       "      <td>0.0</td>\n",
       "      <td>0.0</td>\n",
       "      <td>1.0</td>\n",
       "      <td>0.0</td>\n",
       "      <td>0.0</td>\n",
       "      <td>2</td>\n",
       "      <td>2.205059</td>\n",
       "      <td>0.946635</td>\n",
       "      <td>0.301358</td>\n",
       "      <td>0.273940</td>\n",
       "      <td>0.603054</td>\n",
       "      <td>-0.189785</td>\n",
       "      <td>2.289278</td>\n",
       "    </tr>\n",
       "    <tr>\n",
       "      <th>21029</th>\n",
       "      <td>0.0</td>\n",
       "      <td>0.0</td>\n",
       "      <td>0.0</td>\n",
       "      <td>0.0</td>\n",
       "      <td>0.0</td>\n",
       "      <td>0.0</td>\n",
       "      <td>1.0</td>\n",
       "      <td>0.0</td>\n",
       "      <td>0.0</td>\n",
       "      <td>4</td>\n",
       "      <td>0.586305</td>\n",
       "      <td>-0.358411</td>\n",
       "      <td>-0.192173</td>\n",
       "      <td>2.069428</td>\n",
       "      <td>0.968642</td>\n",
       "      <td>1.383413</td>\n",
       "      <td>0.380460</td>\n",
       "    </tr>\n",
       "  </tbody>\n",
       "</table>\n",
       "<p>6484 rows × 17 columns</p>\n",
       "</div>"
      ],
      "text/plain": [
       "       person_home_ownership_OTHER  person_home_ownership_OWN  \\\n",
       "25666                          0.0                        0.0   \n",
       "18151                          0.0                        0.0   \n",
       "24159                          0.0                        0.0   \n",
       "57                             0.0                        1.0   \n",
       "9770                           0.0                        0.0   \n",
       "...                            ...                        ...   \n",
       "15014                          0.0                        0.0   \n",
       "23449                          0.0                        0.0   \n",
       "14852                          0.0                        0.0   \n",
       "32509                          0.0                        0.0   \n",
       "21029                          0.0                        0.0   \n",
       "\n",
       "       person_home_ownership_RENT  loan_intent_EDUCATION  \\\n",
       "25666                         1.0                    0.0   \n",
       "18151                         0.0                    0.0   \n",
       "24159                         0.0                    0.0   \n",
       "57                            0.0                    0.0   \n",
       "9770                          1.0                    0.0   \n",
       "...                           ...                    ...   \n",
       "15014                         0.0                    0.0   \n",
       "23449                         1.0                    0.0   \n",
       "14852                         0.0                    1.0   \n",
       "32509                         0.0                    0.0   \n",
       "21029                         0.0                    0.0   \n",
       "\n",
       "       loan_intent_HOMEIMPROVEMENT  loan_intent_MEDICAL  loan_intent_PERSONAL  \\\n",
       "25666                          1.0                  0.0                   0.0   \n",
       "18151                          0.0                  0.0                   1.0   \n",
       "24159                          0.0                  1.0                   0.0   \n",
       "57                             0.0                  0.0                   1.0   \n",
       "9770                           0.0                  1.0                   0.0   \n",
       "...                            ...                  ...                   ...   \n",
       "15014                          0.0                  1.0                   0.0   \n",
       "23449                          0.0                  0.0                   1.0   \n",
       "14852                          0.0                  0.0                   0.0   \n",
       "32509                          0.0                  0.0                   1.0   \n",
       "21029                          0.0                  0.0                   1.0   \n",
       "\n",
       "       loan_intent_VENTURE  cb_person_default_on_file_Y  loan_grade  \\\n",
       "25666                  0.0                          0.0           2   \n",
       "18151                  0.0                          1.0           3   \n",
       "24159                  0.0                          0.0           1   \n",
       "57                     0.0                          0.0           1   \n",
       "9770                   0.0                          0.0           3   \n",
       "...                    ...                          ...         ...   \n",
       "15014                  0.0                          1.0           4   \n",
       "23449                  0.0                          0.0           1   \n",
       "14852                  0.0                          0.0           1   \n",
       "32509                  0.0                          0.0           2   \n",
       "21029                  0.0                          0.0           4   \n",
       "\n",
       "       person_age_tran  person_income_tran  person_emp_length  loan_int_tran  \\\n",
       "25666         1.130781            1.195349          -0.438938      -0.018780   \n",
       "18151         0.888408            1.920462           2.522243       0.829230   \n",
       "24159         0.888408            0.420766          -0.192173      -1.407749   \n",
       "57           -0.935783            2.709993          -0.438938       0.090142   \n",
       "9770         -1.337804           -1.362723          -0.932468      -0.038242   \n",
       "...                ...                 ...                ...            ...   \n",
       "15014        -0.589172            0.888078           0.794888       1.562720   \n",
       "23449         1.016045           -1.943962          -0.932468      -1.534813   \n",
       "14852        -1.337804            1.299346           0.301358      -1.403431   \n",
       "32509         2.205059            0.946635           0.301358       0.273940   \n",
       "21029         0.586305           -0.358411          -0.192173       2.069428   \n",
       "\n",
       "       loan_amt_tran  loan_percent_tran  cred_hist_tran  \n",
       "25666       0.603054          -0.423789        0.091401  \n",
       "18151       0.318319          -1.171360        0.836560  \n",
       "24159       0.603054           0.214350        0.624855  \n",
       "57          2.546259          -0.189785       -0.262378  \n",
       "9770        0.159278           1.500148       -1.361317  \n",
       "...              ...                ...             ...  \n",
       "15014       0.968642          -0.081731       -1.361317  \n",
       "23449       0.044117           1.976558        1.023298  \n",
       "14852       0.465637          -0.688186       -0.262378  \n",
       "32509       0.603054          -0.189785        2.289278  \n",
       "21029       0.968642           1.383413        0.380460  \n",
       "\n",
       "[6484 rows x 17 columns]"
      ]
     },
     "execution_count": 149,
     "metadata": {},
     "output_type": "execute_result"
    }
   ],
   "source": [
    "X_test_tran=pd.concat([X_test_cat_tran,X_test_ntran],axis=1)\n",
    "X_test_tran"
   ]
  },
  {
   "cell_type": "markdown",
   "id": "2329617c",
   "metadata": {},
   "source": [
    "## LogisticRegression"
   ]
  },
  {
   "cell_type": "code",
   "execution_count": 150,
   "id": "ff1e4838",
   "metadata": {
    "ExecuteTime": {
     "end_time": "2023-02-14T05:44:09.994146Z",
     "start_time": "2023-02-14T05:44:09.418216Z"
    }
   },
   "outputs": [
    {
     "data": {
      "text/plain": [
       "LogisticRegression()"
      ]
     },
     "execution_count": 150,
     "metadata": {},
     "output_type": "execute_result"
    }
   ],
   "source": [
    "from sklearn.linear_model import LogisticRegression\n",
    "linear=LogisticRegression()\n",
    "linear.fit(X_train_tran,y_train)"
   ]
  },
  {
   "cell_type": "code",
   "execution_count": 151,
   "id": "6efb31e5",
   "metadata": {
    "ExecuteTime": {
     "end_time": "2023-02-14T05:44:10.018127Z",
     "start_time": "2023-02-14T05:44:09.994146Z"
    }
   },
   "outputs": [],
   "source": [
    "y_test_pred=linear.predict(X_test_tran)"
   ]
  },
  {
   "cell_type": "code",
   "execution_count": 152,
   "id": "dd8fc4e7",
   "metadata": {
    "ExecuteTime": {
     "end_time": "2023-02-14T05:44:10.036248Z",
     "start_time": "2023-02-14T05:44:10.018127Z"
    }
   },
   "outputs": [
    {
     "data": {
      "text/plain": [
       "0.8470080197409007"
      ]
     },
     "execution_count": 152,
     "metadata": {},
     "output_type": "execute_result"
    }
   ],
   "source": [
    "from sklearn import metrics\n",
    "linear_acc=metrics.accuracy_score(y_test,y_test_pred)\n",
    "linear_acc"
   ]
  },
  {
   "cell_type": "markdown",
   "id": "9d22877f",
   "metadata": {},
   "source": [
    "\n",
    "### KNN"
   ]
  },
  {
   "cell_type": "code",
   "execution_count": 153,
   "id": "2e89e670",
   "metadata": {
    "ExecuteTime": {
     "end_time": "2023-02-14T05:44:10.118723Z",
     "start_time": "2023-02-14T05:44:10.036248Z"
    }
   },
   "outputs": [
    {
     "data": {
      "text/plain": [
       "KNeighborsClassifier()"
      ]
     },
     "execution_count": 153,
     "metadata": {},
     "output_type": "execute_result"
    }
   ],
   "source": [
    "from sklearn.neighbors import KNeighborsClassifier\n",
    "neighbour=KNeighborsClassifier()\n",
    "neighbour.fit(X_train_tran,y_train)"
   ]
  },
  {
   "cell_type": "code",
   "execution_count": 154,
   "id": "03690851",
   "metadata": {
    "ExecuteTime": {
     "end_time": "2023-02-14T05:44:15.254126Z",
     "start_time": "2023-02-14T05:44:10.118723Z"
    }
   },
   "outputs": [],
   "source": [
    "y_test_pred=neighbour.predict(X_test_tran)"
   ]
  },
  {
   "cell_type": "code",
   "execution_count": 155,
   "id": "bd08d35c",
   "metadata": {
    "ExecuteTime": {
     "end_time": "2023-02-14T05:44:15.269464Z",
     "start_time": "2023-02-14T05:44:15.254126Z"
    }
   },
   "outputs": [
    {
     "data": {
      "text/plain": [
       "0.8891116594694632"
      ]
     },
     "execution_count": 155,
     "metadata": {},
     "output_type": "execute_result"
    }
   ],
   "source": [
    "neighbour_acc=metrics.accuracy_score(y_test,y_test_pred)\n",
    "neighbour_acc"
   ]
  },
  {
   "cell_type": "markdown",
   "id": "4533207f",
   "metadata": {},
   "source": [
    "### Decision tree"
   ]
  },
  {
   "cell_type": "code",
   "execution_count": 156,
   "id": "eaf3d8e8",
   "metadata": {
    "ExecuteTime": {
     "end_time": "2023-02-14T05:44:15.457151Z",
     "start_time": "2023-02-14T05:44:15.269464Z"
    }
   },
   "outputs": [
    {
     "data": {
      "text/plain": [
       "DecisionTreeClassifier()"
      ]
     },
     "execution_count": 156,
     "metadata": {},
     "output_type": "execute_result"
    }
   ],
   "source": [
    "from sklearn.tree import DecisionTreeClassifier\n",
    "tree=DecisionTreeClassifier()\n",
    "tree.fit(X_train_tran,y_train)"
   ]
  },
  {
   "cell_type": "code",
   "execution_count": 157,
   "id": "01146195",
   "metadata": {
    "ExecuteTime": {
     "end_time": "2023-02-14T05:44:15.472629Z",
     "start_time": "2023-02-14T05:44:15.457151Z"
    }
   },
   "outputs": [],
   "source": [
    "y_test_pred=tree.predict(X_test_tran)"
   ]
  },
  {
   "cell_type": "code",
   "execution_count": 158,
   "id": "01fb22ca",
   "metadata": {
    "ExecuteTime": {
     "end_time": "2023-02-14T05:44:15.488582Z",
     "start_time": "2023-02-14T05:44:15.472629Z"
    }
   },
   "outputs": [
    {
     "data": {
      "text/plain": [
       "0.8895743368291178"
      ]
     },
     "execution_count": 158,
     "metadata": {},
     "output_type": "execute_result"
    }
   ],
   "source": [
    "tree_Acc=metrics.accuracy_score(y_test,y_test_pred)\n",
    "tree_Acc"
   ]
  },
  {
   "cell_type": "markdown",
   "id": "db9819f9",
   "metadata": {},
   "source": [
    "### Random forest"
   ]
  },
  {
   "cell_type": "code",
   "execution_count": 159,
   "id": "f344023a",
   "metadata": {
    "ExecuteTime": {
     "end_time": "2023-02-14T05:44:20.252482Z",
     "start_time": "2023-02-14T05:44:15.488582Z"
    }
   },
   "outputs": [
    {
     "data": {
      "text/plain": [
       "RandomForestClassifier()"
      ]
     },
     "execution_count": 159,
     "metadata": {},
     "output_type": "execute_result"
    }
   ],
   "source": [
    "from sklearn.ensemble import RandomForestClassifier\n",
    "ensemble=RandomForestClassifier()\n",
    "ensemble.fit(X_train_tran,y_train)"
   ]
  },
  {
   "cell_type": "code",
   "execution_count": 160,
   "id": "b2f253bd",
   "metadata": {
    "ExecuteTime": {
     "end_time": "2023-02-14T05:44:20.542917Z",
     "start_time": "2023-02-14T05:44:20.252482Z"
    }
   },
   "outputs": [],
   "source": [
    "y_test_pred=ensemble.predict(X_test_tran)"
   ]
  },
  {
   "cell_type": "code",
   "execution_count": 161,
   "id": "2be6f9b6",
   "metadata": {
    "ExecuteTime": {
     "end_time": "2023-02-14T05:44:20.558445Z",
     "start_time": "2023-02-14T05:44:20.542917Z"
    }
   },
   "outputs": [
    {
     "data": {
      "text/plain": [
       "0.9304441702652684"
      ]
     },
     "execution_count": 161,
     "metadata": {},
     "output_type": "execute_result"
    }
   ],
   "source": [
    "ensemble_acc=metrics.accuracy_score(y_test,y_test_pred)\n",
    "ensemble_acc"
   ]
  },
  {
   "cell_type": "markdown",
   "id": "a1f6b25e",
   "metadata": {},
   "source": [
    "### Support vector machine"
   ]
  },
  {
   "cell_type": "code",
   "execution_count": 162,
   "id": "cdb6499a",
   "metadata": {
    "ExecuteTime": {
     "end_time": "2023-02-14T05:44:40.810032Z",
     "start_time": "2023-02-14T05:44:20.558445Z"
    }
   },
   "outputs": [
    {
     "data": {
      "text/plain": [
       "SVC()"
      ]
     },
     "execution_count": 162,
     "metadata": {},
     "output_type": "execute_result"
    }
   ],
   "source": [
    "from sklearn.svm import SVC\n",
    "svm=SVC()\n",
    "svm.fit(X_train_tran,y_train)"
   ]
  },
  {
   "cell_type": "code",
   "execution_count": 163,
   "id": "6cf526d3",
   "metadata": {
    "ExecuteTime": {
     "end_time": "2023-02-14T05:44:49.976333Z",
     "start_time": "2023-02-14T05:44:40.810032Z"
    }
   },
   "outputs": [],
   "source": [
    "y_test_pred=svm.predict(X_test_tran)"
   ]
  },
  {
   "cell_type": "code",
   "execution_count": 164,
   "id": "e544d05b",
   "metadata": {
    "ExecuteTime": {
     "end_time": "2023-02-14T05:44:49.992506Z",
     "start_time": "2023-02-14T05:44:49.976333Z"
    }
   },
   "outputs": [
    {
     "data": {
      "text/plain": [
       "0.9090067859346083"
      ]
     },
     "execution_count": 164,
     "metadata": {},
     "output_type": "execute_result"
    }
   ],
   "source": [
    "svm_acc=metrics.accuracy_score(y_test,y_test_pred)\n",
    "svm_acc"
   ]
  },
  {
   "cell_type": "code",
   "execution_count": 165,
   "id": "e2e2cacf",
   "metadata": {
    "ExecuteTime": {
     "end_time": "2023-02-14T05:44:50.009123Z",
     "start_time": "2023-02-14T05:44:49.993001Z"
    }
   },
   "outputs": [],
   "source": [
    "data_df=pd.DataFrame({\"Algorithms\":[\"Logisticregression\",\"KNN\",\"Decisontree\",\"Randomforest\",\"Supportvectormachine\"],\n",
    "                     \"Accuracy_score\":[linear_acc,neighbour_acc,tree_Acc,ensemble_acc,svm_acc]})"
   ]
  },
  {
   "cell_type": "code",
   "execution_count": 166,
   "id": "7371c355",
   "metadata": {
    "ExecuteTime": {
     "end_time": "2023-02-14T05:44:50.042336Z",
     "start_time": "2023-02-14T05:44:50.009568Z"
    }
   },
   "outputs": [
    {
     "data": {
      "text/html": [
       "<div>\n",
       "<style scoped>\n",
       "    .dataframe tbody tr th:only-of-type {\n",
       "        vertical-align: middle;\n",
       "    }\n",
       "\n",
       "    .dataframe tbody tr th {\n",
       "        vertical-align: top;\n",
       "    }\n",
       "\n",
       "    .dataframe thead th {\n",
       "        text-align: right;\n",
       "    }\n",
       "</style>\n",
       "<table border=\"1\" class=\"dataframe\">\n",
       "  <thead>\n",
       "    <tr style=\"text-align: right;\">\n",
       "      <th></th>\n",
       "      <th>Algorithms</th>\n",
       "      <th>Accuracy_score</th>\n",
       "    </tr>\n",
       "  </thead>\n",
       "  <tbody>\n",
       "    <tr>\n",
       "      <th>0</th>\n",
       "      <td>Logisticregression</td>\n",
       "      <td>0.847008</td>\n",
       "    </tr>\n",
       "    <tr>\n",
       "      <th>1</th>\n",
       "      <td>KNN</td>\n",
       "      <td>0.889112</td>\n",
       "    </tr>\n",
       "    <tr>\n",
       "      <th>2</th>\n",
       "      <td>Decisontree</td>\n",
       "      <td>0.889574</td>\n",
       "    </tr>\n",
       "    <tr>\n",
       "      <th>3</th>\n",
       "      <td>Randomforest</td>\n",
       "      <td>0.930444</td>\n",
       "    </tr>\n",
       "    <tr>\n",
       "      <th>4</th>\n",
       "      <td>Supportvectormachine</td>\n",
       "      <td>0.909007</td>\n",
       "    </tr>\n",
       "  </tbody>\n",
       "</table>\n",
       "</div>"
      ],
      "text/plain": [
       "             Algorithms  Accuracy_score\n",
       "0    Logisticregression        0.847008\n",
       "1                   KNN        0.889112\n",
       "2           Decisontree        0.889574\n",
       "3          Randomforest        0.930444\n",
       "4  Supportvectormachine        0.909007"
      ]
     },
     "execution_count": 166,
     "metadata": {},
     "output_type": "execute_result"
    }
   ],
   "source": [
    "data_df"
   ]
  },
  {
   "cell_type": "code",
   "execution_count": null,
   "id": "c3bf13a4",
   "metadata": {},
   "outputs": [],
   "source": []
  }
 ],
 "metadata": {
  "kernelspec": {
   "display_name": "Python 3 (ipykernel)",
   "language": "python",
   "name": "python3"
  },
  "language_info": {
   "codemirror_mode": {
    "name": "ipython",
    "version": 3
   },
   "file_extension": ".py",
   "mimetype": "text/x-python",
   "name": "python",
   "nbconvert_exporter": "python",
   "pygments_lexer": "ipython3",
   "version": "3.9.12"
  }
 },
 "nbformat": 4,
 "nbformat_minor": 5
}
